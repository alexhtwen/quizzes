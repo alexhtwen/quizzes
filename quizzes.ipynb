{
 "cells": [
  {
   "cell_type": "markdown",
   "metadata": {},
   "source": [
    "<div style=\"font-family: 'Gen Jyuu Gothic Monospace Medium', 'Noto Sans TC', 'Inconsolata'; font-size: 260%; font-weight: 700; text-align: left; color: #BFD8AF;\">\n",
    "<br>\n",
    "「不識廬山真面目，只緣身在此山中」\n",
    "<br>\n",
    "</div>\n",
    "<div style=\"font-family: 'Ubuntu Mono', 'Noto Sans TC', 'Inconsolata'; font-size: 130%; font-weight: 900; text-align: right; color: gray;\">\n",
    "中國最偉大文人--蘇東坡　\n",
    "</div>\n",
    "<br><br><br>\n",
    "<div style=\"font-family: 'Ubuntu Mono', 'Noto Sans TC', 'Inconsolata'; font-size: 250%; font-weight: 900; text-align: center; color: #FFFDCB;\">\n",
    "Python Quiz-2\n",
    "</div>\n",
    "<br><br>"
   ]
  },
  {
   "cell_type": "code",
   "execution_count": null,
   "metadata": {},
   "outputs": [],
   "source": [
    "%%javascript\n",
    "// 設定output文字顏色\n",
    "document.styleSheets[0].addRule('body', 'color: #BFD8AF !important;')"
   ]
  },
  {
   "cell_type": "code",
   "execution_count": null,
   "metadata": {},
   "outputs": [],
   "source": [
    "print('Hello, world!')"
   ]
  },
  {
   "cell_type": "code",
   "execution_count": 37,
   "metadata": {},
   "outputs": [
    {
     "name": "stdout",
     "output_type": "stream",
     "text": [
      "1\n",
      "get_ans(1) = 'A'\n"
     ]
    }
   ],
   "source": [
    "# Q01. indexing-1\n",
    "nums = (1, 3, 5, 7, 9)   # 注意型別\n",
    "print(nums[0])\n",
    "\n",
    "# A) 1\n",
    "# B) 3\n",
    "# C) 5\n",
    "# D) 7\n",
    "# E) 9\n",
    "# F) Exception\n",
    "print(f'{get_ans(1) = }')"
   ]
  },
  {
   "cell_type": "code",
   "execution_count": null,
   "metadata": {},
   "outputs": [],
   "source": [
    "# Q02. indexing-2\n",
    "nums = [1, 3, 5, 7, 9]   # 注意型別\n",
    "print(nums[2])\n",
    "\n",
    "# A) 1\n",
    "# B) 3\n",
    "# C) 5\n",
    "# D) 7\n",
    "# E) 9\n",
    "# F) Exception"
   ]
  },
  {
   "cell_type": "code",
   "execution_count": null,
   "metadata": {},
   "outputs": [],
   "source": [
    "# Q03. indexing-3\n",
    "chars = 'Pythonista'\n",
    "chars[7]\n",
    "\n",
    "# A) 'P'\n",
    "# B) 'y'\n",
    "# C) 'h'\n",
    "# D) 'n'\n",
    "# E) 's'\n",
    "# F) Exception"
   ]
  },
  {
   "cell_type": "code",
   "execution_count": null,
   "metadata": {},
   "outputs": [],
   "source": [
    "# Q04. indexing-4\n",
    "nums = (1, 3, 5, 7, 9)\n",
    "print(nums[5])\n",
    "\n",
    "# A) 1\n",
    "# B) 3\n",
    "# C) 5\n",
    "# D) 7\n",
    "# E) 9\n",
    "# F) Exception"
   ]
  },
  {
   "cell_type": "code",
   "execution_count": null,
   "metadata": {},
   "outputs": [],
   "source": [
    "# Q05. indexing-5\n",
    "nums = [1, 3, 5, 7, 9]\n",
    "print(nums[-0])\n",
    "\n",
    "# A) 1\n",
    "# B) 3\n",
    "# C) 5\n",
    "# D) 7\n",
    "# E) 9\n",
    "# F) Exception"
   ]
  },
  {
   "cell_type": "code",
   "execution_count": null,
   "metadata": {},
   "outputs": [],
   "source": [
    "# Q06. indexing-6\n",
    "chars = 'Pythonista'\n",
    "chars[-1]\n",
    "\n",
    "# A) 'P'\n",
    "# B) 'h'\n",
    "# C) 'i'\n",
    "# D) 'a'\n",
    "# E) ''\n",
    "# F) Exception"
   ]
  },
  {
   "cell_type": "code",
   "execution_count": null,
   "metadata": {},
   "outputs": [],
   "source": [
    "# Q07. indexing-7\n",
    "nums = (1, 3, 5, 7, 9)\n",
    "print(nums[-3])\n",
    "# A) 1\n",
    "# B) 3\n",
    "# C) 5\n",
    "# D) 7\n",
    "# E) 9\n",
    "# F) Exception"
   ]
  },
  {
   "cell_type": "code",
   "execution_count": null,
   "metadata": {},
   "outputs": [],
   "source": [
    "# Q08. indexing-8\n",
    "nums = [1, 3, 5, 7, 9]\n",
    "print(nums[-6])\n",
    "\n",
    "# A) 1\n",
    "# B) -6\n",
    "# C) 9\n",
    "# D) None\n",
    "# E) Exception\n",
    "# F) 以上皆非"
   ]
  },
  {
   "cell_type": "code",
   "execution_count": null,
   "metadata": {},
   "outputs": [],
   "source": [
    "# Q09. indexing-9\n",
    "chars = 'Pythonista'\n",
    "chars[len(chars)]\n",
    "\n",
    "# A) 'P'\n",
    "# B) 't'\n",
    "# C) 'a'\n",
    "# D) ''\n",
    "# E) Exception\n",
    "# F) 以上皆非"
   ]
  },
  {
   "cell_type": "code",
   "execution_count": null,
   "metadata": {},
   "outputs": [],
   "source": [
    "# Q10. indexing-10\n",
    "nums = {1, 3, 5, 7, 9}\n",
    "print(nums[3])\n",
    "\n",
    "# A) 1\n",
    "# B) 3\n",
    "# C) 5\n",
    "# D) 7\n",
    "# E) 9\n",
    "# F) 以上皆非"
   ]
  },
  {
   "cell_type": "code",
   "execution_count": null,
   "metadata": {},
   "outputs": [],
   "source": [
    "# Q11. indexing-11\n",
    "nums = {0: 1, 1: 3, 2: 5, -3: 7, 4: 0}   # dict\n",
    "print(nums[-3])\n",
    "\n",
    "# A) 3\n",
    "# B) 5\n",
    "# C) 7\n",
    "# D) 9\n",
    "# E) Exception\n",
    "# F) 以上皆非"
   ]
  },
  {
   "cell_type": "code",
   "execution_count": null,
   "metadata": {},
   "outputs": [],
   "source": [
    "# Q12. indexing-12\n",
    "s_id = 12_3_4567_89   # int  12,345,678\n",
    "print(s_id[3])\n",
    "\n",
    "# A) 4\n",
    "# B) 2\n",
    "# C) 3\n",
    "# D) _\n",
    "# E) 789\n",
    "# F) 以上皆非"
   ]
  },
  {
   "cell_type": "code",
   "execution_count": null,
   "metadata": {},
   "outputs": [],
   "source": [
    "# Q13. slicing-1\n",
    "nums = (1, 2, 3, 4, 5, 6)\n",
    "print(nums[0::1])\n",
    "\n",
    "# A) ()\n",
    "# B) (1, 2, 3)\n",
    "# C) (4, 5, 6)\n",
    "# D) (1, 2, 3, 4, 5, 6)\n",
    "# E) Exception\n",
    "# F) 以上皆非"
   ]
  },
  {
   "cell_type": "code",
   "execution_count": null,
   "metadata": {},
   "outputs": [],
   "source": [
    "# Q14. slicing-2\n",
    "nums = [1, 2, 3, 4, 5, 6]\n",
    "print(nums[0::])\n",
    "\n",
    "# A) []\n",
    "# B) [1, 2, 3]\n",
    "# C) [4, 5, 6]\n",
    "# D) [1, 2, 3, 4, 5, 6]\n",
    "# E) Exception\n",
    "# F) 以上皆非"
   ]
  },
  {
   "cell_type": "code",
   "execution_count": null,
   "metadata": {},
   "outputs": [],
   "source": [
    "# Q15. slicing-3\n",
    "chars = 'Pythonista'\n",
    "chars[::1]\n",
    "\n",
    "# A) 'Pythonista'\n",
    "# B) 'Pyt'\n",
    "# C) 'sta'\n",
    "# D) ''\n",
    "# E) Exception\n",
    "# F) 以上皆非"
   ]
  },
  {
   "cell_type": "code",
   "execution_count": null,
   "metadata": {},
   "outputs": [],
   "source": [
    "# Q16. slicing-4\n",
    "nums = (1, 2, 3, 4, 5, 6)\n",
    "print(nums[::])\n",
    "\n",
    "# A) ()\n",
    "# B) (1, 2, 3)\n",
    "# C) (4, 5, 6)\n",
    "# D) (1, 2, 3, 4, 5, 6)\n",
    "# E) Exception\n",
    "# F) 以上皆非"
   ]
  },
  {
   "cell_type": "code",
   "execution_count": null,
   "metadata": {},
   "outputs": [],
   "source": [
    "# Q17. slicing-5\n",
    "nums = [1, 2, 3, 4, 5, 6]\n",
    "# print(nums[0:len(nums):1])  # 最完整\n",
    "print(nums[:])              # 最精簡\n",
    "\n",
    "# A) []\n",
    "# B) [1, 2, 3]\n",
    "# C) [4, 5, 6]\n",
    "# D) [1, 2, 3, 4, 5, 6]\n",
    "# E) Exception\n",
    "# F) 以上皆非"
   ]
  },
  {
   "cell_type": "code",
   "execution_count": null,
   "metadata": {},
   "outputs": [],
   "source": [
    "# Q18. slicing-6\n",
    "chars = 'Pythonista'\n",
    "chars[1:4]\n",
    "\n",
    "# A) 'Pyth'\n",
    "# B) 'Pyt'\n",
    "# C) 'ytho'\n",
    "# D) 'yth'\n",
    "# E) Exception\n",
    "# F) 以上皆非"
   ]
  },
  {
   "cell_type": "code",
   "execution_count": null,
   "metadata": {},
   "outputs": [],
   "source": [
    "# Q19. slicing-7\n",
    "nums = (1, 3, 5, 7, 9)\n",
    "print(nums[1:4:2])   # start:stop:step\n",
    "\n",
    "# A) (1, 5, 9)\n",
    "# B) (3, 5, 7)\n",
    "# C) (1, 5)\n",
    "# D) (3, 7)\n",
    "# E) Exception\n",
    "# F) 以上皆非"
   ]
  },
  {
   "cell_type": "code",
   "execution_count": null,
   "metadata": {},
   "outputs": [],
   "source": [
    "# Q20. slicing-8\n",
    "nums = [1, 3, 5, 7, 9]   # list\n",
    "print(nums[-2::-2])\n",
    "\n",
    "# A) (7, 3)\n",
    "# B) [3, 7]\n",
    "# C) [7, 3]\n",
    "# D) (3, 7)\n",
    "# E) Exception\n",
    "# F) 以上皆非"
   ]
  },
  {
   "cell_type": "code",
   "execution_count": null,
   "metadata": {},
   "outputs": [],
   "source": [
    "# Q21. slicing-9\n",
    "nums = (1, 2, 3, 4, 5, 6)\n",
    "print(nums[-2:-7:-2])\n",
    "\n",
    "# A) (5, 3)\n",
    "# B) (5, 2)\n",
    "# C) (5, 4, 3, 2, 1)\n",
    "# D) (1, 3, 5)\n",
    "# E) Exception\n",
    "# F) 以上皆非"
   ]
  },
  {
   "cell_type": "code",
   "execution_count": null,
   "metadata": {},
   "outputs": [],
   "source": [
    "# Q22. slicing-10\n",
    "nums = [1, 2, 3, 4, 5, 6]\n",
    "print(nums[-2:-100:-2])   # slice 切片\n",
    "# print(nums[-100])         # index 索引\n",
    "\n",
    "# A) [5, 3]\n",
    "# B) [5, 4, 3, 2]\n",
    "# C) [5, 4, 3, 2, 1]\n",
    "# D) [1, 3, 5]\n",
    "# E) Exception\n",
    "# F) 以上皆非"
   ]
  },
  {
   "cell_type": "code",
   "execution_count": null,
   "metadata": {},
   "outputs": [],
   "source": [
    "# Q23. slicing-11\n",
    "nums = [10, 20, 30, 40, 50]\n",
    "nums[1:4] = [15, 25, 35]\n",
    "print(nums)\n",
    "\n",
    "# A) [10, 20, 30, 40, 50]\n",
    "# B) [15, 25, 35, 40, 50]\n",
    "# C) [10, 15, 25, 35, 50]\n",
    "# D) [10, 20, 15, 25, 35]\n",
    "# E) Exception\n",
    "# F) 以上皆非"
   ]
  },
  {
   "cell_type": "code",
   "execution_count": null,
   "metadata": {},
   "outputs": [],
   "source": [
    "# Q24. slicing-12\n",
    "nums = [10, 20, 30, 40, 50]\n",
    "nums[1:4] = []\n",
    "print(nums)\n",
    "\n",
    "# A) [10, 20, 30, 40, 50]\n",
    "# B) [10, [], 50]\n",
    "# C) [10, []]\n",
    "# D) []\n",
    "# E) Exception\n",
    "# F) 以上皆非"
   ]
  },
  {
   "cell_type": "code",
   "execution_count": null,
   "metadata": {},
   "outputs": [],
   "source": [
    "# Q25. slicing-13\n",
    "nums = [1, 3, 5, 7, 9]\n",
    "nums[1:4] = 0\n",
    "print(nums)\n",
    "\n",
    "# A) [1, 3, 5, 7, 9]\n",
    "# B) [0, 1, 3, 5, 7, 9]\n",
    "# C) [1, 0, 3, 5, 7, 9]\n",
    "# D) [1, 0, 5, 7, 9]\n",
    "# E) Exception\n",
    "# F) 以上皆非"
   ]
  },
  {
   "cell_type": "code",
   "execution_count": null,
   "metadata": {},
   "outputs": [],
   "source": [
    "# Q26. slice assignment-14\n",
    "nums = [1, 3, 5, 7, 9]\n",
    "nums[1:2] = [0, 2]\n",
    "print(nums)\n",
    "\n",
    "# A) [1, 3, 5, 7, 9]\n",
    "# B) [0, 2, 1, 3, 5, 7, 9]\n",
    "# C) [1, 0, 2, 3, 5, 7, 9]\n",
    "# D) [1, 0, 2, 5, 7, 9]\n",
    "# E) Exception\n",
    "# F) 以上皆非"
   ]
  },
  {
   "cell_type": "code",
   "execution_count": null,
   "metadata": {},
   "outputs": [],
   "source": [
    "# Q27. slice assignment-15\n",
    "nums = [1, 3, 5, 7, 9]\n",
    "nums[1:4] = []\n",
    "print(nums)\n",
    "\n",
    "# A) [0, 1, 3, 5, 7, 9]\n",
    "# B) [1, 0, 5, 7, 9]\n",
    "# C) [1, 3, 0, 7, 9]\n",
    "# D) [1, 3, 5, 7, 9]\n",
    "# E) Exception\n",
    "# F) 以上皆非"
   ]
  },
  {
   "cell_type": "code",
   "execution_count": null,
   "metadata": {},
   "outputs": [],
   "source": [
    "# Q28. slice assignment-16\n",
    "nums = [1, 3, 5, 7, 9]\n",
    "nums[:100] = []\n",
    "print(nums)\n",
    "\n",
    "# A) [1, 3, 5, 7, 9]\n",
    "# B) [[1], [3], [5], [7], [9]]\n",
    "# C) [[100]]\n",
    "# D) [[]]\n",
    "# E) Exception\n",
    "# F) 以上皆非"
   ]
  },
  {
   "cell_type": "code",
   "execution_count": null,
   "metadata": {},
   "outputs": [],
   "source": [
    "# Q29. indexing and slicing\n",
    "nums = [1, 2, 3, 4, 5, 6]\n",
    "print(f'{nums[3]}\\t\\t{nums[3:4]}')\n",
    "# print(f'{type(nums[3])}\\t{type(nums[3:4])}')\n",
    "\n",
    "# A) 4    4\n",
    "# B) 4    [4]\n",
    "# C) [4]    4\n",
    "# D) [4]    [4]\n",
    "# E) Exception\n",
    "# F) 以上皆非"
   ]
  },
  {
   "cell_type": "code",
   "execution_count": null,
   "metadata": {},
   "outputs": [],
   "source": [
    "# Q30. element assignment-1\n",
    "nums = [1, 2, 3, 4, 5, 6]\n",
    "nums[-2] = 99\n",
    "print(nums)\n",
    "\n",
    "# A) [1, 2, 3, 4, 99, 6]\n",
    "# B) [1, 2, 3, 99, 5, 6]\n",
    "# C) [1, 2, 99, 4, 5, 6]\n",
    "# D) [1, 99, 3, 4, 5, 6]\n",
    "# E) Exception\n",
    "# F) 以上皆非"
   ]
  },
  {
   "cell_type": "code",
   "execution_count": null,
   "metadata": {},
   "outputs": [],
   "source": [
    "# Q31. element assignment-2\n",
    "nums = (1, 2, 3, 4, 5, 6)\n",
    "nums[2] = 99\n",
    "print(nums)\n",
    "\n",
    "# A) (1, 2, 3, 4, 99, 6)\n",
    "# B) (1, 2, 3, 99, 5, 6)\n",
    "# C) (1, 2, 99, 4, 5, 6)\n",
    "# D) (1, 99, 3, 4, 5, 6)\n",
    "# E) Exception\n",
    "# F) 以上皆非"
   ]
  },
  {
   "cell_type": "code",
   "execution_count": null,
   "metadata": {},
   "outputs": [],
   "source": [
    "# Q32. list comparison-1\n",
    "scores1 = [68, 71, 53, 98, 85]\n",
    "scores2 = [68, 71, 53, 98, 85]\n",
    "print(scores1 == scores2, scores1 is scores2)\n",
    "\n",
    "# A) True True\n",
    "# B) True False\n",
    "# C) False True\n",
    "# D) False False\n",
    "# E) Exception\n",
    "# F) 以上皆非"
   ]
  },
  {
   "cell_type": "code",
   "execution_count": null,
   "metadata": {},
   "outputs": [],
   "source": [
    "# Q33. list comparison-2\n",
    "scores1 = [68, 71, 53, 98, 85]\n",
    "scores2 = scores1   # assignment operator\n",
    "print(scores1 == scores2, scores1 is scores2)\n",
    "\n",
    "# A) True True\n",
    "# B) True False\n",
    "# C) False True\n",
    "# D) False False\n",
    "# E) Exception\n",
    "# F) 以上皆非"
   ]
  },
  {
   "cell_type": "code",
   "execution_count": null,
   "metadata": {},
   "outputs": [],
   "source": [
    "# Q34. list assignment\n",
    "i = j = [3, 5]\n",
    "i += j\n",
    "print(i)\n",
    "\n",
    "# A) [[3, 5], [3, 5]]\n",
    "# B) [3, 5, 3, 5]\n",
    "# C) [[3, 5, 3, 5]]\n",
    "# D) [3, 5, [3, 5]]\n",
    "# E) Exception\n",
    "# F) 以上皆非"
   ]
  },
  {
   "cell_type": "code",
   "execution_count": null,
   "metadata": {},
   "outputs": [],
   "source": [
    "# Q35. boolean arithmetics\n",
    "print(True * 3, False + 2)\n",
    "\n",
    "# A) [True, True, True], [False, False]\n",
    "# B) (True, True, True), (False, False)\n",
    "# C) True, True, True, False, False\n",
    "# D) [True, True, True, False, False]\n",
    "# E) Exception\n",
    "# F) 以上皆非"
   ]
  },
  {
   "cell_type": "code",
   "execution_count": null,
   "metadata": {},
   "outputs": [],
   "source": [
    "# Q36. list append\n",
    "nums = [1, 2, 3]\n",
    "nums.append([4, 5])\n",
    "print(len(nums))\n",
    "\n",
    "# A) 2\n",
    "# B) 3\n",
    "# C) 4\n",
    "# D) 5\n",
    "# E) Exception\n",
    "# F) 以上皆非"
   ]
  },
  {
   "cell_type": "code",
   "execution_count": null,
   "metadata": {},
   "outputs": [],
   "source": [
    "# Q37. str.find()\n",
    "chars = 'Pythonista'\n",
    "index = chars.find('t', -1)\n",
    "print(index)\n",
    "\n",
    "# A) -2\n",
    "# B) -1\n",
    "# C) 2\n",
    "# D) 3\n",
    "# E) 8\n",
    "# F) Exception"
   ]
  },
  {
   "cell_type": "code",
   "execution_count": null,
   "metadata": {},
   "outputs": [],
   "source": [
    "# Q38. logical `and/or` and walrus operator-1\n",
    "score = 59\n",
    "if True and (score = score + 1):    # expression and statement\n",
    "# if False and (score = score + 1):\n",
    "# if True or (score = score + 1):\n",
    "# if False or (score = score + 1):\n",
    "    score += 1\n",
    "print(score)\n",
    "\n",
    "# A) 59\n",
    "# B) 60\n",
    "# C) 61\n",
    "# D) 0\n",
    "# E) 1\n",
    "# F) Exception"
   ]
  },
  {
   "cell_type": "code",
   "execution_count": null,
   "metadata": {},
   "outputs": [],
   "source": [
    "# Q39. logical `and/or` and walrus operator-2\n",
    "score = 59\n",
    "if True and (score += 1):   # score = score + 1\n",
    "# if False and (score += 1):\n",
    "# if True or (score += 1):\n",
    "# if False or (score += 1):\n",
    "    score += 1\n",
    "print(score)\n",
    "\n",
    "# A) 59\n",
    "# B) 60\n",
    "# C) 61\n",
    "# D) 0\n",
    "# E) 1\n",
    "# F) Exception"
   ]
  },
  {
   "cell_type": "code",
   "execution_count": null,
   "metadata": {},
   "outputs": [],
   "source": [
    "# Q40. logical `and/or` and walrus operator-3\n",
    "score = 59\n",
    "if True and (score = 0):   # expression 運算式\n",
    "# if False and (score = 0):\n",
    "# if True or (score = 0):\n",
    "# if False or (score = 0):\n",
    "    score += 1\n",
    "print(score)\n",
    "\n",
    "# A) 59\n",
    "# B) 60\n",
    "# C) 61\n",
    "# D) 0\n",
    "# E) 1\n",
    "# F) Exception"
   ]
  },
  {
   "cell_type": "code",
   "execution_count": null,
   "metadata": {},
   "outputs": [],
   "source": [
    "# Q41. logical `and/or` and walrus operator-4\n",
    "score = 59\n",
    "if True and (score := score + 1):\n",
    "# if False and (score := score + 1):\n",
    "# if True or (score := score + 1):   # short circuit\n",
    "# if False or (score := score + 1):\n",
    "    score += 1\n",
    "print(score)\n",
    "\n",
    "# A) 59\n",
    "# B) 60\n",
    "# C) 61\n",
    "# D) 0\n",
    "# E) 1\n",
    "# F) Exception"
   ]
  },
  {
   "cell_type": "code",
   "execution_count": null,
   "metadata": {},
   "outputs": [],
   "source": [
    "# Q42. logical `and/or` and walrus operator-5\n",
    "score = 59\n",
    "if True and (score := 0):\n",
    "# if False and (score := 0):\n",
    "# if True or (score := 0):\n",
    "# if False or (score := 0):\n",
    "    score += 1\n",
    "print(score)\n",
    "\n",
    "# A) 59\n",
    "# B) 60\n",
    "# C) 61\n",
    "# D) 0\n",
    "# E) 1\n",
    "# F) Exception"
   ]
  },
  {
   "cell_type": "code",
   "execution_count": null,
   "metadata": {},
   "outputs": [],
   "source": [
    "# Q43. logical `and/or` and walrus operator-6\n",
    "score = 59\n",
    "if (score := score + 1) and True:\n",
    "# if (score := score + 1) and False:\n",
    "# if (score := score + 1) or True:\n",
    "# if (score := score + 1) or False:\n",
    "    score += 1\n",
    "print(score)\n",
    "\n",
    "# A) 59\n",
    "# B) 60\n",
    "# C) 61\n",
    "# D) 0\n",
    "# E) 1\n",
    "# F) Exception"
   ]
  },
  {
   "cell_type": "code",
   "execution_count": null,
   "metadata": {},
   "outputs": [],
   "source": [
    "# Q44. logical `and/or` and walrus operator-7\n",
    "score = 59\n",
    "if (score := 0) and True:\n",
    "# if (score := 0) and False:\n",
    "# if (score := 0) or True:\n",
    "# if (score := 0) or False:\n",
    "    score += 1\n",
    "print(score)\n",
    "\n",
    "# A) 59\n",
    "# B) 60\n",
    "# C) 61\n",
    "# D) 0\n",
    "# E) 1\n",
    "# F) Exception"
   ]
  },
  {
   "cell_type": "code",
   "execution_count": null,
   "metadata": {},
   "outputs": [],
   "source": [
    "# Q45. bool arithmetics\n",
    "print(True / False)\n",
    "\n",
    "# A) 1\n",
    "# B) 2\n",
    "# C) True\n",
    "# D) False\n",
    "# E) Exception\n",
    "# F) 以上皆非"
   ]
  },
  {
   "cell_type": "code",
   "execution_count": null,
   "metadata": {},
   "outputs": [],
   "source": [
    "# Q46.\n",
    "# multiply an empty tuple\n",
    "print(()*3)\n",
    "\n",
    "# A) ()()()\n",
    "# B) (()()())\n",
    "# C) (()())\n",
    "# D) ()\n",
    "# E) ((()))\n",
    "# F) Exception"
   ]
  },
  {
   "cell_type": "code",
   "execution_count": null,
   "metadata": {},
   "outputs": [],
   "source": [
    "# Q47. an empty list as default parameter\n",
    "def foo(x, y=[]):\n",
    "    y.append(x)\n",
    "    return y\n",
    "\n",
    "print(f'{foo('Alex')}   {foo('Van')}')\n",
    "\n",
    "# A) ['Alex', 'Van']\n",
    "# B) 'Alex   Van'\n",
    "# C) ['Alex']   ['Alex', 'Van']\n",
    "# D) 'Alex'   'AlexVan'\n",
    "# E) ['Alex']   ['Van']\n",
    "# F) 'Alex'   'Van'"
   ]
  },
  {
   "cell_type": "code",
   "execution_count": null,
   "metadata": {},
   "outputs": [],
   "source": [
    "# Q48. string interning\n",
    "a = 'Alex'\n",
    "b = 'Alex'\n",
    "print(f'{(a == b) = }\\t\\t{(a is b) = }')\n",
    "\n",
    "# A) (a == b) = True        (a is b) = True\n",
    "# B) (a == b) = True        (a is b) = False\n",
    "# C) (a == b) = False       (a is b) = True\n",
    "# D) (a == b) = False       (a is b) = False\n",
    "# E) Exception\n",
    "# F) 以上皆非\n",
    "print(ans(48))"
   ]
  },
  {
   "cell_type": "code",
   "execution_count": null,
   "metadata": {},
   "outputs": [],
   "source": [
    "def ans(qid: int) -> str:\n",
    "    anses = '*ACDEBAFCCDBADCEFACCBDDEDEDAFBBCAACEDBCBCAEDBDDBFADDEACBCDCDADECDFCFDAEFBBC'\n",
    "    return anses[qid]"
   ]
  },
  {
   "cell_type": "code",
   "execution_count": null,
   "metadata": {},
   "outputs": [],
   "source": [
    "# Q49. tuple interning?\n",
    "a = ('Alex', )\n",
    "b = ('Alex', )\n",
    "print(f'{(a == b) = }\\t\\t{(a is b) = }')\n",
    "\n",
    "# A) (a == b) = True        (a is b) = True\n",
    "# B) (a == b) = True        (a is b) = False\n",
    "# C) (a == b) = False       (a is b) = True\n",
    "# D) (a == b) = False       (a is b) = False\n",
    "# E) Exception\n",
    "# F) 以上皆非"
   ]
  },
  {
   "cell_type": "code",
   "execution_count": null,
   "metadata": {},
   "outputs": [],
   "source": [
    "# Q50. ceil and floor\n",
    "import math\n",
    "a = -3.75\n",
    "print(f'{math.ceil(a)}\\t{math.floor(a)}')\n",
    "\n",
    "# A) -3     -4\n",
    "# B) -3     -3\n",
    "# C) -4     -4\n",
    "# D) -4     -3\n",
    "# E) Exception\n",
    "# F) 以上皆非"
   ]
  },
  {
   "cell_type": "code",
   "execution_count": null,
   "metadata": {},
   "outputs": [],
   "source": [
    "# Q51. logical and/or + comparison\n",
    "a = -1 and 0\n",
    "b = -1 or 0\n",
    "if a > b:\n",
    "    print('a > b')\n",
    "else:\n",
    "    print('a <= b')\n",
    "\n",
    "# A) a > b\n",
    "# B) a >= b\n",
    "# C) a < b\n",
    "# D) a <= b\n",
    "# E) a == b\n",
    "# F) a != b"
   ]
  },
  {
   "cell_type": "code",
   "execution_count": null,
   "metadata": {},
   "outputs": [],
   "source": [
    "# Q52: * operator\n",
    "nums = (1, 2, 3)\n",
    "x, y, z, *rest = nums\n",
    "print(x, y, z, rest)\n",
    "\n",
    "# A) 1 2 3\n",
    "# B) 1 2 3 None\n",
    "# C) 1 2 3 []\n",
    "# D) []\n",
    "# E) Exception\n",
    "# F) 以上皆非"
   ]
  },
  {
   "cell_type": "code",
   "execution_count": null,
   "metadata": {},
   "outputs": [],
   "source": [
    "# Q53. comparison of tuples-1\n",
    "tuple1 = (1, 2, 3, 4)\n",
    "tuple2 = (1, 2, 4)\n",
    "print(tuple2 > tuple1)\n",
    "\n",
    "# A) True\n",
    "# B) False\n",
    "# C) 4\n",
    "# D) None\n",
    "# E) Exception\n",
    "# F) 以上皆非"
   ]
  },
  {
   "cell_type": "code",
   "execution_count": null,
   "metadata": {},
   "outputs": [],
   "source": [
    "# Q54. comparison of tuples-2\n",
    "tuple1 = (1, 4, 3, 2)\n",
    "tuple2 = (1, 2)\n",
    "print(tuple2 > tuple1)\n",
    "\n",
    "# A) True\n",
    "# B) False\n",
    "# C) 3\n",
    "# D) None\n",
    "# E) Exception\n",
    "# F) 以上皆非"
   ]
  },
  {
   "cell_type": "code",
   "execution_count": null,
   "metadata": {},
   "outputs": [],
   "source": [
    "# Q55. comparison of tuples-3\n",
    "tuple1 = (3, 2, 1)\n",
    "tuple2 = (1)\n",
    "print(tuple2 > tuple1)\n",
    "\n",
    "# A) True\n",
    "# B) False\n",
    "# C) 3\n",
    "# D) None\n",
    "# E) Exception\n",
    "# F) 以上皆非"
   ]
  },
  {
   "cell_type": "code",
   "execution_count": null,
   "metadata": {},
   "outputs": [],
   "source": [
    "# Q56. access of dict element-1\n",
    "d = {'name': 'Alex', 'gender': 'M', 'age': 39}\n",
    "print(d['height'])\n",
    "\n",
    "# A) 169\n",
    "# B) False\n",
    "# C) True\n",
    "# D) None\n",
    "# E) Exception\n",
    "# F) 以上皆非"
   ]
  },
  {
   "cell_type": "code",
   "execution_count": null,
   "metadata": {},
   "outputs": [],
   "source": [
    "# Q57. access of dict element-2\n",
    "d = {'name': 'Alex', 'gender': 'M', 'age': 39}\n",
    "print(d.get('height'))\n",
    "\n",
    "# A) 169\n",
    "# B) False\n",
    "# C) True\n",
    "# D) None\n",
    "# E) Exception\n",
    "# F) 以上皆非"
   ]
  },
  {
   "cell_type": "code",
   "execution_count": null,
   "metadata": {},
   "outputs": [],
   "source": [
    "# Q58. del and slice\n",
    "signs = ['鼠', '牛', '虎', '兔', '龍', '蛇', '馬', '羊', '猴', '雞', '狗', '豬']\n",
    "del(signs[4:8])\n",
    "print(signs)\n",
    "\n",
    "# A) ['兔', '龍', '蛇', '馬', '羊']\n",
    "# B) [龍', '蛇', '馬', '羊', '猴']\n",
    "# C) ['龍', '蛇', '馬', '羊']\n",
    "# D) ['兔', '龍', '蛇', '馬']\n",
    "# E) Exception\n",
    "# F) 以上皆非"
   ]
  },
  {
   "cell_type": "code",
   "execution_count": null,
   "metadata": {},
   "outputs": [],
   "source": [
    "# Q59. escape sequence\n",
    "x = '2\\\\t4'\n",
    "print(x)\n",
    "\n",
    "# A) 2    4\n",
    "# B) 2\\t4\n",
    "# C) 2\\\\t4\n",
    "# D) 2    t    4\n",
    "# E) 2t4\n",
    "# F) 2\\    4"
   ]
  },
  {
   "cell_type": "code",
   "execution_count": null,
   "metadata": {},
   "outputs": [],
   "source": [
    "# Q60. list assignment\n",
    "a = [1, 2, 3, 4]\n",
    "b = a\n",
    "a[-1] = 0\n",
    "print(f'{a}    {b}')\n",
    "\n",
    "# A) [1, 2, 3, 4]    [1, 2, 3, 4]\n",
    "# B) [1, 2, 3, 0]    [1, 2, 3, 4]\n",
    "# C) [1, 2, 3, 4]    [1, 2, 3, 0]\n",
    "# D) [1, 2, 3, 0]    [1, 2, 3, 0]\n",
    "# E) Exception\n",
    "# F) 以上皆非"
   ]
  },
  {
   "cell_type": "code",
   "execution_count": null,
   "metadata": {},
   "outputs": [],
   "source": [
    "# Q61. list.copy()-1\n",
    "a = [1, 2, 3, 4]\n",
    "b = a.copy()\n",
    "a[-1] = 0\n",
    "print(f'{a}    {b}')\n",
    "\n",
    "# A) [1, 2, 3, 4]    [1, 2, 3, 4]\n",
    "# B) [1, 2, 3, 0]    [1, 2, 3, 4]\n",
    "# C) [1, 2, 3, 4]    [1, 2, 3, 0]\n",
    "# D) [1, 2, 3, 0]    [1, 2, 3, 0]\n",
    "# E) Exception\n",
    "# F) 以上皆非"
   ]
  },
  {
   "cell_type": "code",
   "execution_count": null,
   "metadata": {},
   "outputs": [],
   "source": [
    "# Q62. list.copy()-2\n",
    "a = [1, 2, 3, [4]]\n",
    "b = a.copy()\n",
    "a[-1] = [0]\n",
    "print(f'{a}    {b}')\n",
    "\n",
    "# A) [1, 2, 3, 4]    [1, 2, 3, 4]\n",
    "# B) [1, 2, 3, 0]    [1, 2, 3, 4]\n",
    "# C) [1, 2, 3, 4]    [1, 2, 3, 0]\n",
    "# D) [1, 2, 3, 0]    [1, 2, 3, 0]\n",
    "# E) Exception\n",
    "# F) 以上皆非"
   ]
  },
  {
   "cell_type": "code",
   "execution_count": null,
   "metadata": {},
   "outputs": [],
   "source": [
    "# Q63. list.copy()-3\n",
    "a = [1, 2, {'a': [3, 4]}]\n",
    "b = a.copy()   # shallow copy\n",
    "a[-1]['a'][-1] = 0\n",
    "print(f'{a}    {b}')\n",
    "\n",
    "# A) [1, 2, {'a': [3, 4]}]    [1, 2, {'a': [3, 4]}]\n",
    "# B) [1, 2, {'a': [3, 0]}]    [1, 2, {'a': [3, 4]}]\n",
    "# C) [1, 2, {'a': [3, 4]}]    [1, 2, {'a': [3, 0]}]\n",
    "# D) [1, 2, {'a': [3, 0]}]    [1, 2, {'a': [3, 0]}]\n",
    "# E) Exception\n",
    "# F) 以上皆非"
   ]
  },
  {
   "cell_type": "code",
   "execution_count": null,
   "metadata": {},
   "outputs": [],
   "source": [
    "# Q64. shallow copy\n",
    "import copy\n",
    "\n",
    "a = [1, 2, {'a': [3, 4]}]\n",
    "b = copy.copy(a)    # shallow copy\n",
    "a[-1]['a'][-1] = 0\n",
    "print(f'{a}    {b}')\n",
    "\n",
    "# A) [1, 2, {'a': [3, 4]}]    [1, 2, {'a': [3, 4]}]\n",
    "# B) [1, 2, {'a': [3, 0]}]    [1, 2, {'a': [3, 4]}]\n",
    "# C) [1, 2, {'a': [3, 4]}]    [1, 2, {'a': [3, 0]}]\n",
    "# D) [1, 2, {'a': [3, 0]}]    [1, 2, {'a': [3, 0]}]\n",
    "# E) Exception\n",
    "# F) 以上皆非"
   ]
  },
  {
   "cell_type": "code",
   "execution_count": null,
   "metadata": {},
   "outputs": [],
   "source": [
    "# Q65. deep copy\n",
    "import copy\n",
    "\n",
    "a = [1, 2, {'a': [3, 4]}]\n",
    "b = copy.deepcopy(a)\n",
    "a[-1]['a'][-1] = 0\n",
    "print(f'{a}    {b}')\n",
    "\n",
    "# A) [1, 2, {'a': [3, 4]}]    [1, 2, {'a': [3, 4]}]\n",
    "# B) [1, 2, {'a': [3, 0]}]    [1, 2, {'a': [3, 4]}]\n",
    "# C) [1, 2, {'a': [3, 4]}]    [1, 2, {'a': [3, 0]}]\n",
    "# D) [1, 2, {'a': [3, 0]}]    [1, 2, {'a': [3, 0]}]\n",
    "# E) Exception\n",
    "# F) 以上皆非"
   ]
  },
  {
   "cell_type": "code",
   "execution_count": null,
   "metadata": {},
   "outputs": [],
   "source": [
    "# Q66. `in` operator\n",
    "day = 'Friday'\n",
    "print('Fri' in day)\n",
    "\n",
    "# A) 'Fri' in day\n",
    "# B) 'Friday' in day\n",
    "# C) 'Fri'\n",
    "# D) True\n",
    "# E) False\n",
    "# F) 以上皆非"
   ]
  },
  {
   "cell_type": "code",
   "execution_count": null,
   "metadata": {},
   "outputs": [],
   "source": [
    "# Q67. list comprehension-1\n",
    "nums = [num**2 for num in [-4, 1, -3, 2]]\n",
    "print(nums)\n",
    "\n",
    "# A) [-4, 1, -3, 2]\n",
    "# B) [-8, 2, -6, 4]\n",
    "# C) [16, 1, 9, 4]\n",
    "# D) [-16, 1, -9, 4]\n",
    "# E) Exception\n",
    "# F) 以上皆非"
   ]
  },
  {
   "cell_type": "code",
   "execution_count": null,
   "metadata": {},
   "outputs": [],
   "source": [
    "# Q68. list comprehension-2\n",
    "nums = [num*2 if num % 2 == 0 else num*3 for num in [-4, 1, -3, 2]]\n",
    "print(nums)\n",
    "\n",
    "# A) [-8, 3, -9, 4]\n",
    "# B) [-12, 2, -6, 6]\n",
    "# C) [16, 1, -27, 4]\n",
    "# D) [-64, 1, 9, 8]\n",
    "# E) Exception\n",
    "# F) 以上皆非"
   ]
  },
  {
   "cell_type": "code",
   "execution_count": null,
   "metadata": {},
   "outputs": [],
   "source": [
    "# Q69. list comprehension-3\n",
    "nums = [num for num in [-4, 1, -3, 2] if num > 1]\n",
    "print(nums)\n",
    "\n",
    "# A) [-4, 1, -3, 2]\n",
    "# B) [1, 2]\n",
    "# C) [-4, -3]\n",
    "# D) [1]\n",
    "# E) Exception\n",
    "# F) 以上皆非"
   ]
  },
  {
   "cell_type": "code",
   "execution_count": null,
   "metadata": {},
   "outputs": [],
   "source": [
    "# Q70. list comprehension-4\n",
    "nums = [n for num in [-4, 1, -3, 2] if (n = num > 0)]\n",
    "print(nums)\n",
    "\n",
    "# A) [-4, 1, -3, 2]\n",
    "# B) [1, 2]\n",
    "# C) [False, True, False, True]\n",
    "# D) [True, True]\n",
    "# E) Exception\n",
    "# F) 以上皆非"
   ]
  },
  {
   "cell_type": "code",
   "execution_count": null,
   "metadata": {},
   "outputs": [],
   "source": [
    "# Q71. list comprehension-5\n",
    "nums = [n for num in [-4, 1, -3, 2] if (n := num > 0)]\n",
    "print(nums)\n",
    "\n",
    "# A) [-4, 1, -3, 2]\n",
    "# B) [1, 2]\n",
    "# C) [False, True, False, True]\n",
    "# D) [True, True]\n",
    "# E) Exception\n",
    "# F) 以上皆非"
   ]
  },
  {
   "cell_type": "code",
   "execution_count": null,
   "metadata": {},
   "outputs": [],
   "source": [
    "# Q72. list comprehension-6\n",
    "nums = [(m := n + num) for num in [-4, 1, -3, 2] if (n := num > 0)]\n",
    "print(f'{nums=}\\t{m=}')\n",
    "\n",
    "# A) nums=[True, True]    m=True\n",
    "# B) nums=[False, True, False, True]    m=False\n",
    "# C) nums=[2, 3]    m=3\n",
    "# D) nums=[-4, 1, -3, 2]    m=-4\n",
    "# E) Exception\n",
    "# F) 以上皆非"
   ]
  },
  {
   "cell_type": "code",
   "execution_count": null,
   "metadata": {},
   "outputs": [],
   "source": [
    "# Q73. mutable objects as default parameter values-1\n",
    "def foo(x, d={}):\n",
    "    d[x + 1] = x - 1\n",
    "    return d\n",
    "\n",
    "print(foo(5))\n",
    "\n",
    "# A) {6: 4}\n",
    "# B) {4: 6}\n",
    "# C) {5: 5}\n",
    "# D) {x + 1: x - 1}\n",
    "# E) Exception\n",
    "# F) 以上皆非"
   ]
  },
  {
   "cell_type": "code",
   "execution_count": null,
   "metadata": {},
   "outputs": [],
   "source": [
    "# Q74. mutable objects as default parameter values-2\n",
    "def foo(x, d={}):\n",
    "    d[x] = d\n",
    "    return d\n",
    "\n",
    "print(foo('id'))\n",
    "\n",
    "# A) {'x': {d}}\n",
    "# B) {'d': {x}}\n",
    "# C) {'id': {}}\n",
    "# D) {}\n",
    "# E) Exception\n",
    "# F) 以上皆非"
   ]
  },
  {
   "cell_type": "code",
   "execution_count": null,
   "metadata": {},
   "outputs": [],
   "source": [
    "# Q75. logical and/or and arithmetic operations\n",
    "a = 5 and 0\n",
    "b = 5 or 0\n",
    "c = 2*a + b\n",
    "print(2*c + a)\n",
    "\n",
    "# A) 0\n",
    "# B) 15\n",
    "# C) 25\n",
    "# D) 35\n",
    "# E) Exception\n",
    "# F) 以上皆非"
   ]
  },
  {
   "cell_type": "code",
   "execution_count": 32,
   "metadata": {},
   "outputs": [
    {
     "ename": "SyntaxError",
     "evalue": "invalid syntax. Maybe you meant '==' or ':=' instead of '='? (995527925.py, line 4)",
     "output_type": "error",
     "traceback": [
      "\u001b[0;36m  Cell \u001b[0;32mIn[32], line 4\u001b[0;36m\u001b[0m\n\u001b[0;31m    while ((s = x + y) < 10):\u001b[0m\n\u001b[0m            ^\u001b[0m\n\u001b[0;31mSyntaxError\u001b[0m\u001b[0;31m:\u001b[0m invalid syntax. Maybe you meant '==' or ':=' instead of '='?\n"
     ]
    }
   ],
   "source": [
    "# Q76. accumulation-1\n",
    "x = 1\n",
    "y = 5\n",
    "while ((s = x + y) < 10):\n",
    "    x += 1\n",
    "    print((x, y, s), end=' ')\n",
    "\n",
    "# A) (1, 5, 6) (2, 5, 7) (3, 5, 8) (4, 5, 9)\n",
    "# B) (1, 5, 5) (2, 5, 6) (3, 5, 7) (4, 5, 8) (5, 5, 9)\n",
    "# C) (2, 5, 6) (3, 5, 7) (4, 5, 8) (5, 5, 9)\n",
    "# D) (2, 5, 5) (3, 5, 6) (4, 5, 7) (5, 5, 8) (6, 5, 9)\n",
    "# E) Exception\n",
    "# F) 以上皆非"
   ]
  },
  {
   "cell_type": "code",
   "execution_count": 33,
   "metadata": {},
   "outputs": [
    {
     "name": "stdout",
     "output_type": "stream",
     "text": [
      "(2, 5, 6) (3, 5, 7) (4, 5, 8) (5, 5, 9) "
     ]
    }
   ],
   "source": [
    "# Q77. accumulation-2\n",
    "x = 1\n",
    "y = 5\n",
    "while ((s := x + y) < 10):\n",
    "    x += 1\n",
    "    print((x, y, s), end=' ')\n",
    "\n",
    "# A) (1, 5, 6) (2, 5, 7) (3, 5, 8) (4, 5, 9)\n",
    "# B) (1, 5, 5) (2, 5, 6) (3, 5, 7) (4, 5, 8) (5, 5, 9)\n",
    "# C) (2, 5, 6) (3, 5, 7) (4, 5, 8) (5, 5, 9)\n",
    "# D) (2, 5, 5) (3, 5, 6) (4, 5, 7) (5, 5, 8) (6, 5, 9)\n",
    "# E) Exception\n",
    "# F) 以上皆非"
   ]
  },
  {
   "cell_type": "code",
   "execution_count": 34,
   "metadata": {},
   "outputs": [
    {
     "name": "stdout",
     "output_type": "stream",
     "text": [
      "3\t7\t"
     ]
    }
   ],
   "source": [
    "# Q78. two-dimensional list-1\n",
    "l = [[1, 2], [3, 4]]\n",
    "for a, b in l:\n",
    "    print(a + b, end='\\t')\n",
    "\n",
    "# A) 1  2\n",
    "# B) 3  4\n",
    "# C) 1  3\n",
    "# D) 2  4\n",
    "# E) Exception\n",
    "# F) 以上皆非"
   ]
  },
  {
   "cell_type": "code",
   "execution_count": 35,
   "metadata": {},
   "outputs": [
    {
     "name": "stdout",
     "output_type": "stream",
     "text": [
      "t\n"
     ]
    }
   ],
   "source": [
    "# Q79. two-dimensional list-2\n",
    "a = ['Alex', 'Van', 'Pythonista']\n",
    "print(a[2][-2])\n",
    "\n",
    "# A) Alex\n",
    "# B) Van\n",
    "# C) Pythonista\n",
    "# D) e\n",
    "# E) a\n",
    "# F) 以上皆非"
   ]
  },
  {
   "cell_type": "code",
   "execution_count": 36,
   "metadata": {},
   "outputs": [
    {
     "name": "stdout",
     "output_type": "stream",
     "text": [
      "False\n"
     ]
    }
   ],
   "source": [
    "# Q80. min() and max()\n",
    "print(min(max(False, -2, -4), 3, 5))\n",
    "\n",
    "# A) False\n",
    "# B) -2\n",
    "# C) -4\n",
    "# D) 3\n",
    "# E) 5\n",
    "# F) Exception"
   ]
  },
  {
   "cell_type": "code",
   "execution_count": 37,
   "metadata": {},
   "outputs": [
    {
     "name": "stdout",
     "output_type": "stream",
     "text": [
      "5 $  "
     ]
    }
   ],
   "source": [
    "# Q81. *args\n",
    "def foo(a, *args, s='$'):\n",
    "    print(a, s, end='  ')\n",
    "    for i in args:\n",
    "        print(i, end=' ')\n",
    "\n",
    "foo(5)\n",
    "\n",
    "# A) 5 $  0 1 2 3 4\n",
    "# B) 5 $  5\n",
    "# C) 5 5\n",
    "# D) 5 $\n",
    "# E) Exception\n",
    "# F) 以上皆非"
   ]
  },
  {
   "cell_type": "code",
   "execution_count": 3,
   "metadata": {},
   "outputs": [
    {
     "name": "stdout",
     "output_type": "stream",
     "text": [
      "3 4 4 4 4 5\n"
     ]
    }
   ],
   "source": [
    "# Q82. round()\n",
    "print(round(3.49), round(3.50), round(3.51), round(4.49), round(4.50), round(4.51))\n",
    "\n",
    "# A) 3 3 4 4 4 5\n",
    "# B) 3 4 4 4 4 5\n",
    "# C) 3 3 4 4 5 5\n",
    "# D) 3 4 4 4 5 5\n",
    "# E) Exception\n",
    "# F) 以上皆非"
   ]
  },
  {
   "cell_type": "code",
   "execution_count": null,
   "metadata": {},
   "outputs": [],
   "source": [
    "# Q83.\n",
    "\n",
    "# A)\n",
    "# B)\n",
    "# C)\n",
    "# D)\n",
    "# E) Exception\n",
    "# F) 以上皆非"
   ]
  },
  {
   "cell_type": "code",
   "execution_count": null,
   "metadata": {},
   "outputs": [],
   "source": [
    "# Q84.\n",
    "\n",
    "# A)\n",
    "# B)\n",
    "# C)\n",
    "# D)\n",
    "# E) Exception\n",
    "# F) 以上皆非"
   ]
  },
  {
   "cell_type": "code",
   "execution_count": 5,
   "metadata": {},
   "outputs": [
    {
     "ename": "KeyError",
     "evalue": "'weight'",
     "output_type": "error",
     "traceback": [
      "\u001b[0;31m---------------------------------------------------------------------------\u001b[0m",
      "\u001b[0;31mKeyError\u001b[0m                                  Traceback (most recent call last)",
      "Cell \u001b[0;32mIn[5], line 3\u001b[0m\n\u001b[1;32m      1\u001b[0m \u001b[38;5;66;03m# Q85. dict[...]\u001b[39;00m\n\u001b[1;32m      2\u001b[0m d \u001b[38;5;241m=\u001b[39m {\u001b[38;5;124m'\u001b[39m\u001b[38;5;124mname\u001b[39m\u001b[38;5;124m'\u001b[39m: \u001b[38;5;124m'\u001b[39m\u001b[38;5;124mAlex\u001b[39m\u001b[38;5;124m'\u001b[39m, \u001b[38;5;124m'\u001b[39m\u001b[38;5;124mage\u001b[39m\u001b[38;5;124m'\u001b[39m: \u001b[38;5;241m39\u001b[39m, \u001b[38;5;124m'\u001b[39m\u001b[38;5;124mgender\u001b[39m\u001b[38;5;124m'\u001b[39m: \u001b[38;5;124m'\u001b[39m\u001b[38;5;124mM\u001b[39m\u001b[38;5;124m'\u001b[39m}\n\u001b[0;32m----> 3\u001b[0m \u001b[38;5;28mprint\u001b[39m(\u001b[43md\u001b[49m\u001b[43m[\u001b[49m\u001b[38;5;124;43m'\u001b[39;49m\u001b[38;5;124;43mweight\u001b[39;49m\u001b[38;5;124;43m'\u001b[39;49m\u001b[43m]\u001b[49m)\n\u001b[1;32m      5\u001b[0m \u001b[38;5;66;03m# A) Alex\u001b[39;00m\n\u001b[1;32m      6\u001b[0m \u001b[38;5;66;03m# B) 39\u001b[39;00m\n\u001b[1;32m      7\u001b[0m \u001b[38;5;66;03m# C) M\u001b[39;00m\n\u001b[1;32m      8\u001b[0m \u001b[38;5;66;03m# D) None\u001b[39;00m\n\u001b[1;32m      9\u001b[0m \u001b[38;5;66;03m# E) Exception\u001b[39;00m\n\u001b[1;32m     10\u001b[0m \u001b[38;5;66;03m# F) 以上皆非\u001b[39;00m\n",
      "\u001b[0;31mKeyError\u001b[0m: 'weight'"
     ]
    }
   ],
   "source": [
    "# Q85. dict[...]\n",
    "d = {'name': 'Alex', 'age': 39, 'gender': 'M'}\n",
    "print(d['weight'])\n",
    "\n",
    "# A) Alex\n",
    "# B) 39\n",
    "# C) M\n",
    "# D) None\n",
    "# E) Exception\n",
    "# F) 以上皆非"
   ]
  },
  {
   "cell_type": "code",
   "execution_count": 6,
   "metadata": {},
   "outputs": [
    {
     "name": "stdout",
     "output_type": "stream",
     "text": [
      "None\n"
     ]
    }
   ],
   "source": [
    "# Q86. dict.get()-1\n",
    "d = {'name': 'Alex', 'age': 39, 'gender': 'M'}\n",
    "print(d.get('weight'))\n",
    "\n",
    "# A) Alex\n",
    "# B) 39\n",
    "# C) M\n",
    "# D) None\n",
    "# E) Exception\n",
    "# F) 以上皆非"
   ]
  },
  {
   "cell_type": "code",
   "execution_count": 15,
   "metadata": {},
   "outputs": [
    {
     "name": "stdout",
     "output_type": "stream",
     "text": [
      "20\n"
     ]
    }
   ],
   "source": [
    "# Q87. dict.get()-2\n",
    "d = {'name': 'Alex', 'weight': 68.3, 'gender': 'M'}\n",
    "d['age'] = d.get('age', 20)\n",
    "d['age'] = d.get('age', 30)\n",
    "print(d['age'])\n",
    "\n",
    "# A) weight\n",
    "# B) 20\n",
    "# C) 30\n",
    "# D) 50\n",
    "# E) None\n",
    "# F) Exception"
   ]
  },
  {
   "cell_type": "code",
   "execution_count": 16,
   "metadata": {},
   "outputs": [
    {
     "ename": "AttributeError",
     "evalue": "'tuple' object has no attribute 'append'",
     "output_type": "error",
     "traceback": [
      "\u001b[0;31m---------------------------------------------------------------------------\u001b[0m",
      "\u001b[0;31mAttributeError\u001b[0m                            Traceback (most recent call last)",
      "Cell \u001b[0;32mIn[16], line 3\u001b[0m\n\u001b[1;32m      1\u001b[0m \u001b[38;5;66;03m# Q88. append()-1\u001b[39;00m\n\u001b[1;32m      2\u001b[0m x \u001b[38;5;241m=\u001b[39m (\u001b[38;5;241m1\u001b[39m, \u001b[38;5;241m3\u001b[39m, \u001b[38;5;241m5\u001b[39m)\n\u001b[0;32m----> 3\u001b[0m \u001b[43mx\u001b[49m\u001b[38;5;241;43m.\u001b[39;49m\u001b[43mappend\u001b[49m([\u001b[38;5;241m2\u001b[39m, \u001b[38;5;241m4\u001b[39m])\n\u001b[1;32m      4\u001b[0m \u001b[38;5;28mprint\u001b[39m(x)\n\u001b[1;32m      6\u001b[0m \u001b[38;5;66;03m# A) (1, 3, 5, 2, 4)\u001b[39;00m\n\u001b[1;32m      7\u001b[0m \u001b[38;5;66;03m# B) (1, 3, 5, (2, 4))\u001b[39;00m\n\u001b[1;32m      8\u001b[0m \u001b[38;5;66;03m# C) (1, 3, 5, (2), (4))\u001b[39;00m\n\u001b[1;32m      9\u001b[0m \u001b[38;5;66;03m# D) (1, 3, 5)(2, 4)\u001b[39;00m\n\u001b[1;32m     10\u001b[0m \u001b[38;5;66;03m# E) Exception\u001b[39;00m\n\u001b[1;32m     11\u001b[0m \u001b[38;5;66;03m# F) 以上皆非\u001b[39;00m\n",
      "\u001b[0;31mAttributeError\u001b[0m: 'tuple' object has no attribute 'append'"
     ]
    }
   ],
   "source": [
    "# Q88. append()-1\n",
    "x = (1, 3, 5)\n",
    "x.append([2, 4])\n",
    "print(x)\n",
    "\n",
    "# A) (1, 3, 5, 2, 4)\n",
    "# B) (1, 3, 5, (2, 4))\n",
    "# C) (1, 3, 5, (2), (4))\n",
    "# D) (1, 3, 5)(2, 4)\n",
    "# E) Exception\n",
    "# F) 以上皆非"
   ]
  },
  {
   "cell_type": "code",
   "execution_count": 17,
   "metadata": {},
   "outputs": [
    {
     "name": "stdout",
     "output_type": "stream",
     "text": [
      "[1, 3, 5, [2, 4]]\n"
     ]
    }
   ],
   "source": [
    "# Q89. append()-2\n",
    "x = [1, 3, 5]\n",
    "x.append([2, 4])\n",
    "print(x)\n",
    "\n",
    "# A) [1, 3, 5, 2, 4]\n",
    "# B) [1, 3, 5, [2, 4]]\n",
    "# C) [1, 3, 5, [2], [4]]\n",
    "# D) [1, 3, 5][2, 4]\n",
    "# E) Exception\n",
    "# F) 以上皆非"
   ]
  },
  {
   "cell_type": "code",
   "execution_count": 18,
   "metadata": {},
   "outputs": [
    {
     "name": "stdout",
     "output_type": "stream",
     "text": [
      "[1, 3, 5, 2, 4]\n"
     ]
    }
   ],
   "source": [
    "# Q90. list.extend()\n",
    "x = [1, 3, 5]\n",
    "x.extend([2, 4])\n",
    "print(x)\n",
    "\n",
    "# A) [1, 3, 5, 2, 4]\n",
    "# B) [1, 3, 5, [2, 4]]\n",
    "# C) [1, 3, 5, [2], [4]]\n",
    "# D) [1, 3, 5][2, 4]\n",
    "# E) Exception\n",
    "# F) 以上皆非"
   ]
  },
  {
   "cell_type": "code",
   "execution_count": 19,
   "metadata": {},
   "outputs": [
    {
     "name": "stdout",
     "output_type": "stream",
     "text": [
      "(1, 2, 3, 4, 5, 6)\n"
     ]
    }
   ],
   "source": [
    "# Q91. tuple + tuple-1\n",
    "t = (1, 2, 3) + (4, 5, 6)\n",
    "print(t)\n",
    "\n",
    "# A) (1, 2, 3, 4, 5, 6)\n",
    "# B) ((1, 2, 3), (4, 5, 6))\n",
    "# C) (1, 2, 3, (4, 5, 6))\n",
    "# D) ((1, 2, 3), 4, 5, 6)\n",
    "# E) Exception\n",
    "# F) 以上皆非"
   ]
  },
  {
   "cell_type": "code",
   "execution_count": 20,
   "metadata": {},
   "outputs": [
    {
     "name": "stdout",
     "output_type": "stream",
     "text": [
      "5\n"
     ]
    }
   ],
   "source": [
    "# Q92. tuple + tuple-2\n",
    "t = (1) + (4)\n",
    "print(t)\n",
    "\n",
    "# A) (1, 4)\n",
    "# B) ((1), (4))\n",
    "# C) (1, (4))\n",
    "# D) ((1), 4)\n",
    "# E) Exception\n",
    "# F) 以上皆非"
   ]
  },
  {
   "cell_type": "code",
   "execution_count": 21,
   "metadata": {},
   "outputs": [
    {
     "name": "stdout",
     "output_type": "stream",
     "text": [
      "hos\n"
     ]
    }
   ],
   "source": [
    "# Q93. chanining-1\n",
    "print('localhost/proj/1/'[4:-6][-6:4])\n",
    "\n",
    "# A) cal\n",
    "# B) hos\n",
    "# C) alh\n",
    "# D) lho\n",
    "# E) Exception\n",
    "# F) 以上皆非"
   ]
  },
  {
   "cell_type": "code",
   "execution_count": 22,
   "metadata": {},
   "outputs": [
    {
     "name": "stdout",
     "output_type": "stream",
     "text": [
      "donor\n"
     ]
    }
   ],
   "source": [
    "# Q94. chanining-2\n",
    "p = [{'name': 'Alex', 'expertise': ['Programming', 'Database']},\n",
    "     {'name': 'Jing', 'expertise': ['poetry', 'History', '紅樓夢']}]\n",
    "print(p[1]['expertise'][1][2:-1][::-1][-3].join('dnr'))\n",
    "\n",
    "# A) dsnsr\n",
    "# B) rrnrd\n",
    "# C) dtntr\n",
    "# D) ronod\n",
    "# E) Exception\n",
    "# F) 以上皆非"
   ]
  },
  {
   "cell_type": "code",
   "execution_count": 29,
   "metadata": {},
   "outputs": [
    {
     "name": "stdout",
     "output_type": "stream",
     "text": [
      "False \t False\n"
     ]
    }
   ],
   "source": [
    "# Q95. any() and all()\n",
    "d = {():1, 0:[], False:True, None:'', '':None, (0):{}}\n",
    "print(any(d), '\\t', all(d))\n",
    "\n",
    "# A) True   True\n",
    "# B) True   False\n",
    "# C) False  True\n",
    "# D) False  False\n",
    "# E) Exception\n",
    "# F) 以上皆非"
   ]
  },
  {
   "cell_type": "code",
   "execution_count": 23,
   "metadata": {},
   "outputs": [
    {
     "ename": "ValueError",
     "evalue": "slice step cannot be zero",
     "output_type": "error",
     "traceback": [
      "\u001b[0;31m---------------------------------------------------------------------------\u001b[0m",
      "\u001b[0;31mValueError\u001b[0m                                Traceback (most recent call last)",
      "Cell \u001b[0;32mIn[23], line 3\u001b[0m\n\u001b[1;32m      1\u001b[0m \u001b[38;5;66;03m# Q96. slice: zero step\u001b[39;00m\n\u001b[1;32m      2\u001b[0m chars \u001b[38;5;241m=\u001b[39m \u001b[38;5;124m'\u001b[39m\u001b[38;5;124mPythonista\u001b[39m\u001b[38;5;124m'\u001b[39m\n\u001b[0;32m----> 3\u001b[0m \u001b[38;5;28mprint\u001b[39m(\u001b[43mchars\u001b[49m\u001b[43m[\u001b[49m\u001b[43m:\u001b[49m\u001b[43m:\u001b[49m\u001b[38;5;241;43m0\u001b[39;49m\u001b[43m]\u001b[49m)\n\u001b[1;32m      5\u001b[0m \u001b[38;5;66;03m# A) Pythonista\u001b[39;00m\n\u001b[1;32m      6\u001b[0m \u001b[38;5;66;03m# B) P\u001b[39;00m\n\u001b[1;32m      7\u001b[0m \u001b[38;5;66;03m# C) a\u001b[39;00m\n\u001b[1;32m      8\u001b[0m \u001b[38;5;66;03m# D) PPPPPPPPPP\u001b[39;00m\n\u001b[1;32m      9\u001b[0m \u001b[38;5;66;03m# E) Exception\u001b[39;00m\n\u001b[1;32m     10\u001b[0m \u001b[38;5;66;03m# F) 以上皆非\u001b[39;00m\n",
      "\u001b[0;31mValueError\u001b[0m: slice step cannot be zero"
     ]
    }
   ],
   "source": [
    "# Q96. slice: zero step\n",
    "chars = 'Pythonista'\n",
    "print(chars[::0])\n",
    "\n",
    "# A) Pythonista\n",
    "# B) P\n",
    "# C) a\n",
    "# D) PPPPPPPPPP\n",
    "# E) Exception\n",
    "# F) 以上皆非"
   ]
  },
  {
   "cell_type": "code",
   "execution_count": 24,
   "metadata": {},
   "outputs": [
    {
     "name": "stdout",
     "output_type": "stream",
     "text": [
      "s1=CatiMeta            s2=Cati                \n"
     ]
    }
   ],
   "source": [
    "# Q97. assignment then addition assignment-1\n",
    "s1 = 'Cati'\n",
    "s2 = s1\n",
    "s1 += 'Meta'\n",
    "print(f'{s1=:20}{s2=:20}')\n",
    "\n",
    "# A) s1=Cati                s2=Cati\n",
    "# B) s1=CatiMeta            s2=Cati\n",
    "# C) s1=Cati                s2=CatiMeta\n",
    "# D) s1=CatiMeta            s2=CatiMeta\n",
    "# E) Exception\n",
    "# F) 以上皆非"
   ]
  },
  {
   "cell_type": "code",
   "execution_count": 26,
   "metadata": {},
   "outputs": [
    {
     "name": "stdout",
     "output_type": "stream",
     "text": [
      "[3, 7, 3, 7] \t\t [3, 7, 3, 7]\n"
     ]
    }
   ],
   "source": [
    "# Q98. assignment then addition assignment-2\n",
    "a = b = [3, 7]\n",
    "a += b\n",
    "print(a, '\\t\\t', b)\n",
    "\n",
    "# A) [3, 7]          [3, 7]\n",
    "# B) [3, 7, 3, 7]    [3, 7]\n",
    "# C) [3, 7]          [3, 7, 3, 7]\n",
    "# D) [3, 7, 3, 7]    [3, 7, 3, 7]\n",
    "# E) Exception\n",
    "# F) 以上皆非"
   ]
  },
  {
   "cell_type": "code",
   "execution_count": 27,
   "metadata": {},
   "outputs": [
    {
     "name": "stdout",
     "output_type": "stream",
     "text": [
      "6 \t 3\n"
     ]
    }
   ],
   "source": [
    "# Q99. assignment then addition assignment-3\n",
    "a = b = (3)\n",
    "a += b\n",
    "print(a, '\\t', b)\n",
    "\n",
    "# A) (3)       (3)\n",
    "# B) (3, 3)    (3)\n",
    "# C) (3)       (3, 3)\n",
    "# D) (3, 3)    (3, 3)\n",
    "# E) Exception\n",
    "# F) 以上皆非"
   ]
  },
  {
   "cell_type": "code",
   "execution_count": 28,
   "metadata": {},
   "outputs": [
    {
     "name": "stdout",
     "output_type": "stream",
     "text": [
      "{'a': 1, 'b': 3, 'c': 4}  {'b': 2, 'c': 4, 'a': 1}\n"
     ]
    }
   ],
   "source": [
    "# Q100. merging two dicts\n",
    "x = {'a': 1, 'b': 2}\n",
    "y = {'b': 3, 'c': 4}\n",
    "z1, z2 = {**x, **y}, {**y, **x}\n",
    "print(f'{z1}  {z2}')\n",
    "\n",
    "# A) {'a': 1, 'b': 2, 'c': 4}  {'b': 2, 'c': 4, 'a': 1}\n",
    "# B) {'a': 1, 'b': 2, 'c': 4}  {'b': 3, 'c': 4, 'a': 1}\n",
    "# C) {'a': 1, 'b': 3, 'c': 4}  {'b': 2, 'c': 4, 'a': 1}\n",
    "# D) {'a': 1, 'b': 3, 'c': 4}  {'b': 3, 'c': 4, 'a': 1}\n",
    "# E) Exception\n",
    "# F) 以上皆非"
   ]
  },
  {
   "cell_type": "code",
   "execution_count": null,
   "metadata": {},
   "outputs": [],
   "source": []
  },
  {
   "cell_type": "code",
   "execution_count": null,
   "metadata": {},
   "outputs": [],
   "source": []
  },
  {
   "cell_type": "code",
   "execution_count": null,
   "metadata": {},
   "outputs": [],
   "source": []
  },
  {
   "cell_type": "code",
   "execution_count": null,
   "metadata": {},
   "outputs": [],
   "source": []
  },
  {
   "cell_type": "code",
   "execution_count": null,
   "metadata": {},
   "outputs": [],
   "source": []
  },
  {
   "cell_type": "code",
   "execution_count": null,
   "metadata": {},
   "outputs": [],
   "source": []
  },
  {
   "cell_type": "code",
   "execution_count": null,
   "metadata": {},
   "outputs": [],
   "source": []
  },
  {
   "cell_type": "code",
   "execution_count": null,
   "metadata": {},
   "outputs": [],
   "source": []
  },
  {
   "cell_type": "code",
   "execution_count": null,
   "metadata": {},
   "outputs": [],
   "source": []
  },
  {
   "cell_type": "code",
   "execution_count": null,
   "metadata": {},
   "outputs": [],
   "source": []
  },
  {
   "cell_type": "code",
   "execution_count": null,
   "metadata": {},
   "outputs": [],
   "source": []
  },
  {
   "cell_type": "code",
   "execution_count": null,
   "metadata": {},
   "outputs": [],
   "source": []
  },
  {
   "cell_type": "code",
   "execution_count": null,
   "metadata": {},
   "outputs": [],
   "source": []
  },
  {
   "cell_type": "code",
   "execution_count": null,
   "metadata": {},
   "outputs": [],
   "source": []
  },
  {
   "cell_type": "code",
   "execution_count": 32,
   "metadata": {},
   "outputs": [],
   "source": [
    "def get_ans(qid: int) -> str:\n",
    "    anses = '.ACEFADCEEECFDDADDDDAFFCFEDFFBAEBABFCBFFFCDCDEDCABAACABEEDFBDBFDDBDDAFEDCAFFECFFADB  EDBEBAAFBFDFBDFC'\n",
    "    return anses[qid]"
   ]
  }
 ],
 "metadata": {
  "kernelspec": {
   "display_name": "Python 3",
   "language": "python",
   "name": "python3"
  },
  "language_info": {
   "codemirror_mode": {
    "name": "ipython",
    "version": 3
   },
   "file_extension": ".py",
   "mimetype": "text/x-python",
   "name": "python",
   "nbconvert_exporter": "python",
   "pygments_lexer": "ipython3",
   "version": "3.12.3"
  }
 },
 "nbformat": 4,
 "nbformat_minor": 2
}
