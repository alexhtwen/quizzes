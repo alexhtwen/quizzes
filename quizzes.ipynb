{
 "cells": [
  {
   "cell_type": "markdown",
   "metadata": {},
   "source": [
    "<div style=\"font-family: 'Gen Jyuu Gothic Monospace Medium', 'Noto Sans TC', 'Inconsolata'; font-size: 300%; font-weight: 700; text-align: center; color: #BFD8AF;\">\n",
    "<br>\n",
    "莫愁前路無知己，天下誰人不識君--Python Quiz\n",
    "</div>\n",
    "<br><br><br>\n",
    "<div style=\"font-family: 'Ubuntu Mono', 'Noto Sans TC', 'Inconsolata'; font-size: 250%; font-weight: 900; text-align: center; color: #FFFDCB;\">\n",
    "Solving Syntax Puzzles\n",
    "</div>\n",
    "<br><br>"
   ]
  },
  {
   "cell_type": "code",
   "execution_count": null,
   "metadata": {},
   "outputs": [],
   "source": [
    "%%javascript\n",
    "// 設定output文字顏色\n",
    "document.styleSheets[0].addRule('body', 'color: #BFD8AF !important;')"
   ]
  },
  {
   "cell_type": "code",
   "execution_count": null,
   "metadata": {},
   "outputs": [],
   "source": [
    "print('Hello, world!')"
   ]
  },
  {
   "cell_type": "code",
   "execution_count": null,
   "metadata": {},
   "outputs": [],
   "source": [
    "# Q01. indexing-1\n",
    "nums = (1, 3, 5, 7, 9)   # 注意型別\n",
    "print(nums[0])\n",
    "\n",
    "# 1) 1\n",
    "# 2) 3\n",
    "# 3) 5\n",
    "# 4) 7\n",
    "# 5) 9\n",
    "# 6) Exception"
   ]
  },
  {
   "cell_type": "code",
   "execution_count": null,
   "metadata": {},
   "outputs": [],
   "source": [
    "# Q02. indexing-2\n",
    "nums = [1, 3, 5, 7, 9]   # 注意型別\n",
    "print(nums[2])\n",
    "\n",
    "# 1) 1\n",
    "# 2) 3\n",
    "# 3) 5\n",
    "# 4) 7\n",
    "# 5) 9\n",
    "# 6) Exception"
   ]
  },
  {
   "cell_type": "code",
   "execution_count": null,
   "metadata": {},
   "outputs": [],
   "source": [
    "# Q03. indexing-3\n",
    "chars = 'Pythonista'\n",
    "chars[7]\n",
    "\n",
    "# 1) 'P'\n",
    "# 2) 'y'\n",
    "# 3) 'h'\n",
    "# 4) 'n'\n",
    "# 5) 's'\n",
    "# 6) Exception"
   ]
  },
  {
   "cell_type": "code",
   "execution_count": null,
   "metadata": {},
   "outputs": [],
   "source": [
    "# Q04. indexing-4\n",
    "nums = (1, 3, 5, 7, 9)\n",
    "print(nums[5])\n",
    "\n",
    "# 1) 1\n",
    "# 2) 3\n",
    "# 3) 5\n",
    "# 4) 7\n",
    "# 5) 9\n",
    "# 6) Exception"
   ]
  },
  {
   "cell_type": "code",
   "execution_count": null,
   "metadata": {},
   "outputs": [],
   "source": [
    "# Q05. indexing-5\n",
    "nums = [1, 3, 5, 7, 9]\n",
    "print(nums[-0])\n",
    "\n",
    "# 1) 1\n",
    "# 2) 3\n",
    "# 3) 5\n",
    "# 4) 7\n",
    "# 5) 9\n",
    "# 6) Exception"
   ]
  },
  {
   "cell_type": "code",
   "execution_count": null,
   "metadata": {},
   "outputs": [],
   "source": [
    "# Q06. indexing-6\n",
    "chars = 'Pythonista'\n",
    "chars[-1]\n",
    "\n",
    "# 1) 'P'\n",
    "# 2) 'h'\n",
    "# 3) 'i'\n",
    "# 4) 'a'\n",
    "# 5) ''\n",
    "# 6) Exception"
   ]
  },
  {
   "cell_type": "code",
   "execution_count": null,
   "metadata": {},
   "outputs": [],
   "source": [
    "# Q07. indexing-7\n",
    "nums = (1, 3, 5, 7, 9)\n",
    "print(nums[-3])\n",
    "# 1) 1\n",
    "# 2) 3\n",
    "# 3) 5\n",
    "# 4) 7\n",
    "# 5) 9\n",
    "# 6) Exception"
   ]
  },
  {
   "cell_type": "code",
   "execution_count": null,
   "metadata": {},
   "outputs": [],
   "source": [
    "# Q08. indexing-8\n",
    "nums = [1, 3, 5, 7, 9]\n",
    "print(nums[-6])\n",
    "\n",
    "# 1) 1\n",
    "# 2) -6\n",
    "# 3) 9\n",
    "# 4) None\n",
    "# 5) Exception\n",
    "# 6) 以上皆非"
   ]
  },
  {
   "cell_type": "code",
   "execution_count": null,
   "metadata": {},
   "outputs": [],
   "source": [
    "# Q09. indexing-9\n",
    "chars = 'Pythonista'\n",
    "chars[len(chars)]\n",
    "\n",
    "# 1) 'P'\n",
    "# 2) 't'\n",
    "# 3) 'a'\n",
    "# 4) ''\n",
    "# 5) Exception\n",
    "# 6) 以上皆非"
   ]
  },
  {
   "cell_type": "code",
   "execution_count": null,
   "metadata": {},
   "outputs": [],
   "source": [
    "# Q10. indexing-10\n",
    "nums = {1, 3, 5, 7, 9}\n",
    "print(nums[3])\n",
    "\n",
    "# 1) 1\n",
    "# 2) 3\n",
    "# 3) 5\n",
    "# 4) 7\n",
    "# 5) 9\n",
    "# 6) 以上皆非"
   ]
  },
  {
   "cell_type": "code",
   "execution_count": null,
   "metadata": {},
   "outputs": [],
   "source": [
    "# Q11. indexing-11\n",
    "nums = {0: 1, 1: 3, 2: 5, -3: 7, 4: 0}   # dict\n",
    "print(nums[-3])\n",
    "\n",
    "# 1) 3\n",
    "# 2) 5\n",
    "# 3) 7\n",
    "# 4) 9\n",
    "# 5) Exception\n",
    "# 6) 以上皆非"
   ]
  },
  {
   "cell_type": "code",
   "execution_count": null,
   "metadata": {},
   "outputs": [],
   "source": [
    "# Q12. indexing-12\n",
    "id = 12_3_4567_89   # int  12,345,678\n",
    "print(id[3])\n",
    "\n",
    "# 1) 4\n",
    "# 2) 2\n",
    "# 3) 3\n",
    "# 4) _\n",
    "# 5) 789\n",
    "# 6) 以上皆非"
   ]
  },
  {
   "cell_type": "code",
   "execution_count": null,
   "metadata": {},
   "outputs": [],
   "source": [
    "# Q13. slicing-1\n",
    "nums = (1, 2, 3, 4, 5, 6)\n",
    "print(nums[0::1])\n",
    "\n",
    "# 1) ()\n",
    "# 2) (1, 2, 3)\n",
    "# 3) (4, 5, 6)\n",
    "# 4) (1, 2, 3, 4, 5, 6)\n",
    "# 5) Exception\n",
    "# 6) 以上皆非"
   ]
  },
  {
   "cell_type": "code",
   "execution_count": null,
   "metadata": {},
   "outputs": [],
   "source": [
    "# Q14. slicing-2\n",
    "nums = [1, 2, 3, 4, 5, 6]\n",
    "print(nums[0::])\n",
    "\n",
    "# 1) []\n",
    "# 2) [1, 2, 3]\n",
    "# 3) [4, 5, 6]\n",
    "# 4) [1, 2, 3, 4, 5, 6]\n",
    "# 5) Exception\n",
    "# 6) 以上皆非"
   ]
  },
  {
   "cell_type": "code",
   "execution_count": null,
   "metadata": {},
   "outputs": [],
   "source": [
    "# Q15. slicing-3\n",
    "chars = 'Pythonista'\n",
    "chars[::1]\n",
    "\n",
    "# 1) 'Pythonista'\n",
    "# 2) 'Pyt'\n",
    "# 3) 'sta'\n",
    "# 4) ''\n",
    "# 5) Exception\n",
    "# 6) 以上皆非"
   ]
  },
  {
   "cell_type": "code",
   "execution_count": null,
   "metadata": {},
   "outputs": [],
   "source": [
    "# Q16. slicing-4\n",
    "nums = (1, 2, 3, 4, 5, 6)\n",
    "print(nums[::])\n",
    "\n",
    "# 1) ()\n",
    "# 2) (1, 2, 3)\n",
    "# 3) (4, 5, 6)\n",
    "# 4) (1, 2, 3, 4, 5, 6)\n",
    "# 5) Exception\n",
    "# 6) 以上皆非"
   ]
  },
  {
   "cell_type": "code",
   "execution_count": null,
   "metadata": {},
   "outputs": [],
   "source": [
    "# Q17. slicing-5\n",
    "nums = [1, 2, 3, 4, 5, 6]\n",
    "print(nums[0:len(nums):1])  # 最完整\n",
    "print(nums[:])              # 最精簡\n",
    "\n",
    "# 1) []\n",
    "# 2) [1, 2, 3]\n",
    "# 3) [4, 5, 6]\n",
    "# 4) [1, 2, 3, 4, 5, 6]\n",
    "# 5) Exception\n",
    "# 6) 以上皆非"
   ]
  },
  {
   "cell_type": "code",
   "execution_count": null,
   "metadata": {},
   "outputs": [],
   "source": [
    "# Q18. slicing-6\n",
    "chars = 'Pythonista'\n",
    "chars[1:4]\n",
    "\n",
    "# 1) 'Pyth'\n",
    "# 2) 'Pyt'\n",
    "# 3) 'ytho'\n",
    "# 4) 'yth'\n",
    "# 5) Exception\n",
    "# 6) 以上皆非"
   ]
  },
  {
   "cell_type": "code",
   "execution_count": null,
   "metadata": {},
   "outputs": [],
   "source": [
    "# Q19. slicing-7\n",
    "nums = (1, 3, 5, 7, 9)\n",
    "print(nums[1:4:2])   # start:stop:step\n",
    "\n",
    "# 1) (1, 5, 9)\n",
    "# 2) (3, 5, 7)\n",
    "# 3) (1, 5)\n",
    "# 4) (3, 7)\n",
    "# 5) Exception\n",
    "# 6) 以上皆非"
   ]
  },
  {
   "cell_type": "code",
   "execution_count": null,
   "metadata": {},
   "outputs": [],
   "source": [
    "# Q20. slicing-8\n",
    "nums = [1, 3, 5, 7, 9]   # list\n",
    "print(nums[-2::-2])\n",
    "\n",
    "# 1) (7, 3)\n",
    "# 2) [3, 7]\n",
    "# 3) [7, 3]\n",
    "# 4) (3, 7)\n",
    "# 5) Exception\n",
    "# 6) 以上皆非"
   ]
  },
  {
   "cell_type": "code",
   "execution_count": null,
   "metadata": {},
   "outputs": [],
   "source": [
    "# Q21. slicing-9\n",
    "nums = (1, 2, 3, 4, 5, 6)\n",
    "print(nums[-2:-7:-2])\n",
    "\n",
    "# 1) (5, 3)\n",
    "# 2) (5, 2)\n",
    "# 3) (5, 4, 3, 2, 1)\n",
    "# 4) (1, 3, 5)\n",
    "# 5) Exception\n",
    "# 6) 以上皆非"
   ]
  },
  {
   "cell_type": "code",
   "execution_count": null,
   "metadata": {},
   "outputs": [],
   "source": [
    "# Q22. slicing-10\n",
    "nums = [1, 2, 3, 4, 5, 6]\n",
    "print(nums[-2:-100:-2])   # slice 切片\n",
    "# print(nums[-100])         # index 索引\n",
    "\n",
    "# 1) [5, 3]\n",
    "# 2) [5, 4, 3, 2]\n",
    "# 3) [5, 4, 3, 2, 1]\n",
    "# 4) [1, 3, 5]\n",
    "# 5) Exception\n",
    "# 6) 以上皆非"
   ]
  },
  {
   "cell_type": "code",
   "execution_count": null,
   "metadata": {},
   "outputs": [],
   "source": [
    "# Q23. slicing-11\n",
    "nums = [10, 20, 30, 40, 50]\n",
    "nums[1:4] = [15, 25, 35]\n",
    "print(nums)\n",
    "\n",
    "# 1) [10, 20, 30, 40, 50]\n",
    "# 2) [15, 25, 35, 40, 50]\n",
    "# 3) [10, 15, 25, 35, 50]\n",
    "# 4) [10, 20, 15, 25, 35]\n",
    "# 5) Exception\n",
    "# 6) 以上皆非"
   ]
  },
  {
   "cell_type": "code",
   "execution_count": null,
   "metadata": {},
   "outputs": [],
   "source": [
    "# Q24. slicing-12\n",
    "nums = [10, 20, 30, 40, 50]\n",
    "nums[1:4] = []\n",
    "print(nums)\n",
    "\n",
    "# 1) [10, 20, 30, 40, 50]\n",
    "# 2) [10, [], 50]\n",
    "# 3) [10, []]\n",
    "# 4) []\n",
    "# 5) Exception\n",
    "# 6) 以上皆非"
   ]
  },
  {
   "cell_type": "code",
   "execution_count": null,
   "metadata": {},
   "outputs": [],
   "source": [
    "# Q25. slicing-13\n",
    "nums = [1, 3, 5, 7, 9]\n",
    "nums[1:4] = 0\n",
    "print(nums)\n",
    "\n",
    "# 1) [1, 3, 5, 7, 9]\n",
    "# 2) [0, 1, 3, 5, 7, 9]\n",
    "# 3) [1, 0, 3, 5, 7, 9]\n",
    "# 4) [1, 0, 5, 7, 9]\n",
    "# 5) Exception\n",
    "# 6) 以上皆非"
   ]
  },
  {
   "cell_type": "code",
   "execution_count": null,
   "metadata": {},
   "outputs": [],
   "source": [
    "# Q26. slice assignment-14\n",
    "nums = [1, 3, 5, 7, 9]\n",
    "nums[1:2] = [0, 2]\n",
    "print(nums)\n",
    "\n",
    "# 1) [1, 3, 5, 7, 9]\n",
    "# 2) [0, 2, 1, 3, 5, 7, 9]\n",
    "# 3) [1, 0, 2, 3, 5, 7, 9]\n",
    "# 4) [1, 0, 2, 5, 7, 9]\n",
    "# 5) Exception\n",
    "# 6) 以上皆非"
   ]
  },
  {
   "cell_type": "code",
   "execution_count": null,
   "metadata": {},
   "outputs": [],
   "source": [
    "# Q27. slice assignment-15\n",
    "nums = [1, 3, 5, 7, 9]\n",
    "nums[1:4] = []\n",
    "print(nums)\n",
    "\n",
    "# 1) [0, 1, 3, 5, 7, 9]\n",
    "# 2) [1, 0, 5, 7, 9]\n",
    "# 3) [1, 3, 0, 7, 9]\n",
    "# 4) [1, 3, 5, 7, 9]\n",
    "# 5) Exception\n",
    "# 6) 以上皆非"
   ]
  },
  {
   "cell_type": "code",
   "execution_count": null,
   "metadata": {},
   "outputs": [],
   "source": [
    "# Q28. slice assignment-16\n",
    "nums = [1, 3, 5, 7, 9]\n",
    "nums[:100] = []\n",
    "print(nums)\n",
    "\n",
    "# 1) [1, 3, 5, 7, 9]\n",
    "# 2) [[1], [3], [5], [7], [9]]\n",
    "# 3) [[100]]\n",
    "# 4) [[]]\n",
    "# 5) Exception\n",
    "# 6) 以上皆非"
   ]
  },
  {
   "cell_type": "code",
   "execution_count": null,
   "metadata": {},
   "outputs": [],
   "source": [
    "# Q29. indexing and slicing\n",
    "nums = [1, 2, 3, 4, 5, 6]\n",
    "print(f'{nums[3]}\\t\\t{nums[3:4]}')\n",
    "# print(f'{type(nums[3])}\\t{type(nums[3:4])}')\n",
    "\n",
    "# 1) 4    4\n",
    "# 2) 4    [4]\n",
    "# 3) [4]    4\n",
    "# 4) [4]    [4]\n",
    "# 5) Exception\n",
    "# 6) 以上皆非"
   ]
  },
  {
   "cell_type": "code",
   "execution_count": null,
   "metadata": {},
   "outputs": [],
   "source": [
    "# Q30. element assignment-1\n",
    "nums = [1, 2, 3, 4, 5, 6]\n",
    "nums[-2] = 99\n",
    "print(nums)\n",
    "\n",
    "# 1) [1, 2, 3, 4, 99, 6]\n",
    "# 2) [1, 2, 3, 99, 5, 6]\n",
    "# 3) [1, 2, 99, 4, 5, 6]\n",
    "# 4) [1, 99, 3, 4, 5, 6]\n",
    "# 5) Exception\n",
    "# 6) 以上皆非"
   ]
  },
  {
   "cell_type": "code",
   "execution_count": null,
   "metadata": {},
   "outputs": [],
   "source": [
    "# Q31. element assignment-2\n",
    "nums = (1, 2, 3, 4, 5, 6)\n",
    "nums[2] = 99\n",
    "print(nums)\n",
    "\n",
    "# 1) (1, 2, 3, 4, 99, 6)\n",
    "# 2) (1, 2, 3, 99, 5, 6)\n",
    "# 3) (1, 2, 99, 4, 5, 6)\n",
    "# 4) (1, 99, 3, 4, 5, 6)\n",
    "# 5) Exception\n",
    "# 6) 以上皆非"
   ]
  },
  {
   "cell_type": "code",
   "execution_count": null,
   "metadata": {},
   "outputs": [],
   "source": [
    "# Q32. list comparison-1\n",
    "scores1 = [68, 71, 53, 98, 85]   # string interning\n",
    "scores2 = [68, 71, 53, 98, 85]\n",
    "print(scores1 == scores2, scores1 is scores2)\n",
    "\n",
    "# 1) True True\n",
    "# 2) True False\n",
    "# 3) False True\n",
    "# 4) False False\n",
    "# 5) Exception\n",
    "# 6) 以上皆非"
   ]
  },
  {
   "cell_type": "code",
   "execution_count": null,
   "metadata": {},
   "outputs": [],
   "source": [
    "# Q33. list comparison-2\n",
    "scores1 = [68, 71, 53, 98, 85]\n",
    "scores2 = scores1   # assignment operator\n",
    "print(scores1 == scores2, scores1 is scores2)\n",
    "\n",
    "# 1) True True\n",
    "# 2) True False\n",
    "# 3) False True\n",
    "# 4) False False\n",
    "# 5) Exception\n",
    "# 6) 以上皆非"
   ]
  },
  {
   "cell_type": "code",
   "execution_count": null,
   "metadata": {},
   "outputs": [],
   "source": [
    "# Q34. list assignment\n",
    "i = j = [3, 5]\n",
    "i += j\n",
    "print(i)\n",
    "\n",
    "# 1) [[3, 5], [3, 5]]\n",
    "# 2) [3, 5, 3, 5]\n",
    "# 3) [[3, 5, 3, 5]]\n",
    "# 4) [3, 5, [3, 5]]\n",
    "# 5) Exception\n",
    "# 6) 以上皆非"
   ]
  },
  {
   "cell_type": "code",
   "execution_count": null,
   "metadata": {},
   "outputs": [],
   "source": [
    "# Q35. boolean arithmetics\n",
    "print(True * 3, False + 2)\n",
    "\n",
    "# 1) [True, True, True], [False, False]\n",
    "# 2) (True, True, True), (False, False)\n",
    "# 3) True, True, True, False, False\n",
    "# 4) [True, True, True, False, False]\n",
    "# 5) Exception\n",
    "# 6) 以上皆非"
   ]
  },
  {
   "cell_type": "code",
   "execution_count": null,
   "metadata": {},
   "outputs": [],
   "source": [
    "# Q36. list append\n",
    "nums = [1, 2, 3]\n",
    "nums.append([4, 5])\n",
    "print(len(nums))\n",
    "\n",
    "# 1) 2\n",
    "# 2) 3\n",
    "# 3) 4\n",
    "# 4) 5\n",
    "# 5) Exception\n",
    "# 6) 以上皆非"
   ]
  },
  {
   "cell_type": "code",
   "execution_count": null,
   "metadata": {},
   "outputs": [],
   "source": [
    "# Q37. str.find()\n",
    "chars = 'Pythonista'\n",
    "index = chars.find('t', -1)\n",
    "print(index)\n",
    "\n",
    "# 1) -2\n",
    "# 2) -1\n",
    "# 3) 2\n",
    "# 4) 3\n",
    "# 5) 8\n",
    "# 6) Exception"
   ]
  },
  {
   "cell_type": "code",
   "execution_count": null,
   "metadata": {},
   "outputs": [],
   "source": [
    "# Q38. logical `and/or` and walrus operator-1\n",
    "score = 59\n",
    "if True and (score = score + 1):    # expression and statement\n",
    "# if False and (score = score + 1):\n",
    "# if True or (score = score + 1):\n",
    "# if False or (score = score + 1):\n",
    "    score += 1\n",
    "print(score)\n",
    "\n",
    "# 1) 59\n",
    "# 2) 60\n",
    "# 3) 61\n",
    "# 4) 0\n",
    "# 5) 1\n",
    "# 6) Exception"
   ]
  },
  {
   "cell_type": "code",
   "execution_count": null,
   "metadata": {},
   "outputs": [],
   "source": [
    "# Q39. logical `and/or` and walrus operator-2\n",
    "score = 59\n",
    "if True and (score += 1):   # score = score + 1\n",
    "# if False and (score += 1):\n",
    "# if True or (score += 1):\n",
    "# if False or (score += 1):\n",
    "    score += 1\n",
    "print(score)\n",
    "\n",
    "# 1) 59\n",
    "# 2) 60\n",
    "# 3) 61\n",
    "# 4) 0\n",
    "# 5) 1\n",
    "# 6) Exception"
   ]
  },
  {
   "cell_type": "code",
   "execution_count": null,
   "metadata": {},
   "outputs": [],
   "source": [
    "# Q40. logical `and/or` and walrus operator-3\n",
    "score = 59\n",
    "if True and (score = 0):   # expression 運算式\n",
    "# if False and (score = 0):\n",
    "# if True or (score = 0):\n",
    "# if False or (score = 0):\n",
    "    score += 1\n",
    "print(score)\n",
    "\n",
    "# 1) 59\n",
    "# 2) 60\n",
    "# 3) 61\n",
    "# 4) 0\n",
    "# 5) 1\n",
    "# 6) Exception"
   ]
  },
  {
   "cell_type": "code",
   "execution_count": null,
   "metadata": {},
   "outputs": [],
   "source": [
    "# Q41. logical `and/or` and walrus operator-4\n",
    "score = 59\n",
    "if True and (score := score + 1):\n",
    "# if False and (score := score + 1):\n",
    "# if True or (score := score + 1):   # short circuit\n",
    "# if False or (score := score + 1):\n",
    "    score += 1\n",
    "print(score)\n",
    "\n",
    "# 1) 59\n",
    "# 2) 60\n",
    "# 3) 61\n",
    "# 4) 0\n",
    "# 5) 1\n",
    "# 6) Exception"
   ]
  },
  {
   "cell_type": "code",
   "execution_count": null,
   "metadata": {},
   "outputs": [],
   "source": [
    "# Q42. logical `and/or` and walrus operator-5\n",
    "score = 59\n",
    "if True and (score := 0):\n",
    "# if False and (score := 0):\n",
    "# if True or (score := 0):\n",
    "# if False or (score := 0):\n",
    "    score += 1\n",
    "print(score)\n",
    "\n",
    "# 1) 59\n",
    "# 2) 60\n",
    "# 3) 61\n",
    "# 4) 0\n",
    "# 5) 1\n",
    "# 6) Exception"
   ]
  },
  {
   "cell_type": "code",
   "execution_count": null,
   "metadata": {},
   "outputs": [],
   "source": [
    "# Q43. logical `and/or` and walrus operator-6\n",
    "score = 59\n",
    "if (score := score + 1) and True:\n",
    "# if (score := score + 1) and False:\n",
    "# if (score := score + 1) or True:\n",
    "# if (score := score + 1) or False:\n",
    "    score += 1\n",
    "print(score)\n",
    "\n",
    "# 1) 59\n",
    "# 2) 60\n",
    "# 3) 61\n",
    "# 4) 0\n",
    "# 5) 1\n",
    "# 6) Exception"
   ]
  },
  {
   "cell_type": "code",
   "execution_count": null,
   "metadata": {},
   "outputs": [],
   "source": [
    "# Q44. logical `and/or` and walrus operator-7\n",
    "score = 59\n",
    "if (score := 0) and True:\n",
    "# if (score := 0) and False:\n",
    "# if (score := 0) or True:\n",
    "# if (score := 0) or False:\n",
    "    score += 1\n",
    "print(score)\n",
    "\n",
    "# 1) 59\n",
    "# 2) 60\n",
    "# 3) 61\n",
    "# 4) 0\n",
    "# 5) 1\n",
    "# 6) Exception"
   ]
  },
  {
   "cell_type": "code",
   "execution_count": null,
   "metadata": {},
   "outputs": [],
   "source": [
    "# Q45. bool arithmetics\n",
    "print(True / False)\n",
    "\n",
    "# 1) 1\n",
    "# 2) 2\n",
    "# 3) True\n",
    "# 4) False\n",
    "# 5) Exception\n",
    "# 6) 以上皆非"
   ]
  },
  {
   "cell_type": "code",
   "execution_count": null,
   "metadata": {},
   "outputs": [],
   "source": [
    "# Q46. multiply an empty tuple\n",
    "print(()*3)\n",
    "\n",
    "# 1) ()()()\n",
    "# 2) (()()())\n",
    "# 3) (()())\n",
    "# 4) ()\n",
    "# 5) ((()))\n",
    "# 6) Exception"
   ]
  },
  {
   "cell_type": "code",
   "execution_count": null,
   "metadata": {},
   "outputs": [],
   "source": [
    "# Q47. an empty list as default parameter\n",
    "def foo(x, y=[]):\n",
    "    y.append(x)\n",
    "    return y\n",
    "\n",
    "print(f'{foo('Alex')}   {foo('Van')}')\n",
    "\n",
    "# 1) ['Alex', 'Van']\n",
    "# 2) 'Alex   Van'\n",
    "# 3) ['Alex']   ['Alex', 'Van']\n",
    "# 4) 'Alex'   'AlexVan'\n",
    "# 5) ['Alex']   ['Van']\n",
    "# 6) 'Alex'   'Van'"
   ]
  },
  {
   "cell_type": "code",
   "execution_count": null,
   "metadata": {},
   "outputs": [],
   "source": [
    "# Q48. string interning\n",
    "a = 'Alex'\n",
    "b = 'Alex'\n",
    "print(f'{(a == b) = }\\t\\t{(a is b) = }')\n",
    "\n",
    "# 1) (a == b) = True        (a is b) = True\n",
    "# 2) (a == b) = True        (a is b) = False\n",
    "# 3) (a == b) = False       (a is b) = True\n",
    "# 4) (a == b) = False       (a is b) = False\n",
    "# 5) Exception\n",
    "# 6) 以上皆非"
   ]
  },
  {
   "cell_type": "code",
   "execution_count": null,
   "metadata": {},
   "outputs": [],
   "source": [
    "# Q49. tuple interning?\n",
    "a = ('Alex', )\n",
    "b = ('Alex', )\n",
    "print(f'{(a == b) = }\\t\\t{(a is b) = }')\n",
    "\n",
    "# 1) (a == b) = True        (a is b) = True\n",
    "# 2) (a == b) = True        (a is b) = False\n",
    "# 3) (a == b) = False       (a is b) = True\n",
    "# 4) (a == b) = False       (a is b) = False\n",
    "# 5) Exception\n",
    "# 6) 以上皆非"
   ]
  },
  {
   "cell_type": "code",
   "execution_count": null,
   "metadata": {},
   "outputs": [],
   "source": [
    "# Q50. ceil and floor\n",
    "import math\n",
    "a = -3.75\n",
    "print(f'{math.ceil(a)}\\t{math.floor(a)}')\n",
    "\n",
    "# 1) -3     -4\n",
    "# 2) -3     -3\n",
    "# 3) -4     -4\n",
    "# 4) -4     -3\n",
    "# 5) Exception\n",
    "# 6) 以上皆非"
   ]
  },
  {
   "cell_type": "code",
   "execution_count": 166,
   "metadata": {},
   "outputs": [
    {
     "name": "stdout",
     "output_type": "stream",
     "text": [
      "a > b\n"
     ]
    }
   ],
   "source": [
    "# Q51. logical and/or + comparison\n",
    "a = -1 and 0\n",
    "b = -1 or 0\n",
    "if a > b:\n",
    "    print('a > b')\n",
    "else:\n",
    "    print('a <= b')\n",
    "# 1) a > b\n",
    "# 2) a >= b\n",
    "# 3) a < b\n",
    "# 4) a <= b\n",
    "# 5) a == b\n",
    "# 6) a != b"
   ]
  },
  {
   "cell_type": "code",
   "execution_count": 170,
   "metadata": {},
   "outputs": [
    {
     "name": "stdout",
     "output_type": "stream",
     "text": [
      "1 2 3 []\n"
     ]
    }
   ],
   "source": [
    "# Q52: * operator\n",
    "nums = (1, 2, 3)\n",
    "x, y, z, *rest = nums\n",
    "print(x, y, z, rest)\n",
    "\n",
    "# 1) 1 2 3\n",
    "# 2) 1 2 3 None\n",
    "# 3) 1 2 3 []\n",
    "# 4) []\n",
    "# 5) Exception\n",
    "# 6) 以上皆非"
   ]
  },
  {
   "cell_type": "code",
   "execution_count": 174,
   "metadata": {},
   "outputs": [
    {
     "name": "stdout",
     "output_type": "stream",
     "text": [
      "True\n"
     ]
    }
   ],
   "source": [
    "# Q53. comparison of tuples-1\n",
    "tuple1 = (1, 2, 3, 4)\n",
    "tuple2 = (1, 2, 4)\n",
    "print(tuple2 > tuple1)\n",
    "\n",
    "# 1) True\n",
    "# 2) False\n",
    "# 3) 4\n",
    "# 4) None\n",
    "# 5) Exception\n",
    "# 6) 以上皆非"
   ]
  },
  {
   "cell_type": "code",
   "execution_count": 175,
   "metadata": {},
   "outputs": [
    {
     "name": "stdout",
     "output_type": "stream",
     "text": [
      "False\n"
     ]
    }
   ],
   "source": [
    "# Q54. comparison of tuples-2\n",
    "tuple1 = (1, 4, 3, 2)\n",
    "tuple2 = (1, 2)\n",
    "print(tuple2 > tuple1)\n",
    "\n",
    "# 1) True\n",
    "# 2) False\n",
    "# 3) 3\n",
    "# 4) None\n",
    "# 5) Exception\n",
    "# 6) 以上皆非"
   ]
  },
  {
   "cell_type": "code",
   "execution_count": 179,
   "metadata": {},
   "outputs": [
    {
     "ename": "TypeError",
     "evalue": "'>' not supported between instances of 'int' and 'tuple'",
     "output_type": "error",
     "traceback": [
      "\u001b[0;31m---------------------------------------------------------------------------\u001b[0m",
      "\u001b[0;31mTypeError\u001b[0m                                 Traceback (most recent call last)",
      "Cell \u001b[0;32mIn[179], line 4\u001b[0m\n\u001b[1;32m      2\u001b[0m tuple1 \u001b[38;5;241m=\u001b[39m (\u001b[38;5;241m3\u001b[39m, \u001b[38;5;241m2\u001b[39m, \u001b[38;5;241m1\u001b[39m)\n\u001b[1;32m      3\u001b[0m tuple2 \u001b[38;5;241m=\u001b[39m (\u001b[38;5;241m1\u001b[39m)\n\u001b[0;32m----> 4\u001b[0m \u001b[38;5;28mprint\u001b[39m(\u001b[43mtuple2\u001b[49m\u001b[43m \u001b[49m\u001b[38;5;241;43m>\u001b[39;49m\u001b[43m \u001b[49m\u001b[43mtuple1\u001b[49m)\n\u001b[1;32m      6\u001b[0m \u001b[38;5;66;03m# 1) True\u001b[39;00m\n\u001b[1;32m      7\u001b[0m \u001b[38;5;66;03m# 2) False\u001b[39;00m\n\u001b[1;32m      8\u001b[0m \u001b[38;5;66;03m# 3) 3\u001b[39;00m\n\u001b[1;32m      9\u001b[0m \u001b[38;5;66;03m# 4) None\u001b[39;00m\n\u001b[1;32m     10\u001b[0m \u001b[38;5;66;03m# 5) Exception\u001b[39;00m\n\u001b[1;32m     11\u001b[0m \u001b[38;5;66;03m# 6) 以上皆非\u001b[39;00m\n",
      "\u001b[0;31mTypeError\u001b[0m: '>' not supported between instances of 'int' and 'tuple'"
     ]
    }
   ],
   "source": [
    "# Q55. comparison of tuples-3\n",
    "tuple1 = (3, 2, 1)\n",
    "tuple2 = (1)\n",
    "print(tuple2 > tuple1)\n",
    "\n",
    "# 1) True\n",
    "# 2) False\n",
    "# 3) 3\n",
    "# 4) None\n",
    "# 5) Exception\n",
    "# 6) 以上皆非"
   ]
  },
  {
   "cell_type": "code",
   "execution_count": 180,
   "metadata": {},
   "outputs": [
    {
     "ename": "KeyError",
     "evalue": "'height'",
     "output_type": "error",
     "traceback": [
      "\u001b[0;31m---------------------------------------------------------------------------\u001b[0m",
      "\u001b[0;31mKeyError\u001b[0m                                  Traceback (most recent call last)",
      "Cell \u001b[0;32mIn[180], line 3\u001b[0m\n\u001b[1;32m      1\u001b[0m \u001b[38;5;66;03m# Q56. access of dict element-1\u001b[39;00m\n\u001b[1;32m      2\u001b[0m d \u001b[38;5;241m=\u001b[39m {\u001b[38;5;124m'\u001b[39m\u001b[38;5;124mname\u001b[39m\u001b[38;5;124m'\u001b[39m: \u001b[38;5;124m'\u001b[39m\u001b[38;5;124mAlex\u001b[39m\u001b[38;5;124m'\u001b[39m, \u001b[38;5;124m'\u001b[39m\u001b[38;5;124mgender\u001b[39m\u001b[38;5;124m'\u001b[39m: \u001b[38;5;124m'\u001b[39m\u001b[38;5;124mM\u001b[39m\u001b[38;5;124m'\u001b[39m, \u001b[38;5;124m'\u001b[39m\u001b[38;5;124mage\u001b[39m\u001b[38;5;124m'\u001b[39m: \u001b[38;5;241m39\u001b[39m}\n\u001b[0;32m----> 3\u001b[0m \u001b[38;5;28mprint\u001b[39m(\u001b[43md\u001b[49m\u001b[43m[\u001b[49m\u001b[38;5;124;43m'\u001b[39;49m\u001b[38;5;124;43mheight\u001b[39;49m\u001b[38;5;124;43m'\u001b[39;49m\u001b[43m]\u001b[49m)\n\u001b[1;32m      5\u001b[0m \u001b[38;5;66;03m# 1) 169\u001b[39;00m\n\u001b[1;32m      6\u001b[0m \u001b[38;5;66;03m# 2) False\u001b[39;00m\n\u001b[1;32m      7\u001b[0m \u001b[38;5;66;03m# 3) True\u001b[39;00m\n\u001b[1;32m      8\u001b[0m \u001b[38;5;66;03m# 4) None\u001b[39;00m\n\u001b[1;32m      9\u001b[0m \u001b[38;5;66;03m# 5) Exception\u001b[39;00m\n\u001b[1;32m     10\u001b[0m \u001b[38;5;66;03m# 6) 以上皆非\u001b[39;00m\n",
      "\u001b[0;31mKeyError\u001b[0m: 'height'"
     ]
    }
   ],
   "source": [
    "# Q56. access of dict element-1\n",
    "d = {'name': 'Alex', 'gender': 'M', 'age': 39}\n",
    "print(d['height'])\n",
    "\n",
    "# 1) 169\n",
    "# 2) False\n",
    "# 3) True\n",
    "# 4) None\n",
    "# 5) Exception\n",
    "# 6) 以上皆非"
   ]
  },
  {
   "cell_type": "code",
   "execution_count": 184,
   "metadata": {},
   "outputs": [
    {
     "name": "stdout",
     "output_type": "stream",
     "text": [
      "\n"
     ]
    }
   ],
   "source": [
    "# Q57. access of dict element-2\n",
    "d = {'name': 'Alex', 'gender': 'M', 'age': 39}\n",
    "print(d.get('height', ''))\n",
    "\n",
    "# 1) 169\n",
    "# 2) False\n",
    "# 3) True\n",
    "# 4) None\n",
    "# 5) Exception\n",
    "# 6) 以上皆非"
   ]
  },
  {
   "cell_type": "code",
   "execution_count": 185,
   "metadata": {},
   "outputs": [
    {
     "name": "stdout",
     "output_type": "stream",
     "text": [
      "['鼠', '牛', '虎', '兔', '猴', '雞', '狗', '豬']\n"
     ]
    }
   ],
   "source": [
    "# Q58. del and slice\n",
    "signs = ['鼠', '牛', '虎', '兔', '龍', '蛇', '馬', '羊', '猴', '雞', '狗', '豬']\n",
    "del(signs[4:8])\n",
    "print(signs)\n",
    "\n",
    "# 1) ['兔', '龍', '蛇', '馬', '羊']\n",
    "# 2) [龍', '蛇', '馬', '羊', '猴']\n",
    "# 3) ['龍', '蛇', '馬', '羊']\n",
    "# 4) ['兔', '龍', '蛇', '馬']\n",
    "# 5) Exception\n",
    "# 6) 以上皆非"
   ]
  },
  {
   "cell_type": "code",
   "execution_count": 191,
   "metadata": {},
   "outputs": [
    {
     "name": "stdout",
     "output_type": "stream",
     "text": [
      "2\\t4\n"
     ]
    }
   ],
   "source": [
    "# Q59. escape sequence\n",
    "x = '2\\\\t4'\n",
    "print(x)\n",
    "\n",
    "# 1) 2    4\n",
    "# 2) 2\\t4\n",
    "# 3) 2\\\\t4\n",
    "# 4) 2    t    4\n",
    "# 5) 2t4\n",
    "# 6) 2\\    4"
   ]
  },
  {
   "cell_type": "code",
   "execution_count": 193,
   "metadata": {},
   "outputs": [
    {
     "name": "stdout",
     "output_type": "stream",
     "text": [
      "[1, 2, 3, 0]    [1, 2, 3, 0]\n"
     ]
    }
   ],
   "source": [
    "# Q60. list assignment\n",
    "a = [1, 2, 3, 4]\n",
    "b = a\n",
    "a[-1] = 0\n",
    "print(f'{a}    {b}')\n",
    "\n",
    "# 1) [1, 2, 3, 4]    [1, 2, 3, 4]\n",
    "# 2) [1, 2, 3, 0]    [1, 2, 3, 4]\n",
    "# 3) [1, 2, 3, 4]    [1, 2, 3, 0]\n",
    "# 4) [1, 2, 3, 0]    [1, 2, 3, 0]\n",
    "# 5) Exception\n",
    "# 6) 以上皆非"
   ]
  },
  {
   "cell_type": "code",
   "execution_count": 195,
   "metadata": {},
   "outputs": [
    {
     "name": "stdout",
     "output_type": "stream",
     "text": [
      "[1, 2, 3, 0]    [1, 2, 3, 4]\n"
     ]
    }
   ],
   "source": [
    "# Q61. list.copy()-1\n",
    "a = [1, 2, 3, 4]\n",
    "b = a.copy()\n",
    "a[-1] = 0\n",
    "print(f'{a}    {b}')\n",
    "\n",
    "# 1) [1, 2, 3, 4]    [1, 2, 3, 4]\n",
    "# 2) [1, 2, 3, 0]    [1, 2, 3, 4]\n",
    "# 3) [1, 2, 3, 4]    [1, 2, 3, 0]\n",
    "# 4) [1, 2, 3, 0]    [1, 2, 3, 0]\n",
    "# 5) Exception\n",
    "# 6) 以上皆非"
   ]
  },
  {
   "cell_type": "code",
   "execution_count": 196,
   "metadata": {},
   "outputs": [
    {
     "name": "stdout",
     "output_type": "stream",
     "text": [
      "[1, 2, 3, [0]]    [1, 2, 3, [4]]\n"
     ]
    }
   ],
   "source": [
    "# Q62. list.copy()-2\n",
    "a = [1, 2, 3, [4]]\n",
    "b = a.copy()\n",
    "a[-1] = [0]\n",
    "print(f'{a}    {b}')\n",
    "\n",
    "# 1) [1, 2, 3, 4]    [1, 2, 3, 4]\n",
    "# 2) [1, 2, 3, 0]    [1, 2, 3, 4]\n",
    "# 3) [1, 2, 3, 4]    [1, 2, 3, 0]\n",
    "# 4) [1, 2, 3, 0]    [1, 2, 3, 0]\n",
    "# 5) Exception\n",
    "# 6) 以上皆非"
   ]
  },
  {
   "cell_type": "code",
   "execution_count": 197,
   "metadata": {},
   "outputs": [
    {
     "name": "stdout",
     "output_type": "stream",
     "text": [
      "[1, 2, {'a': [3, 0]}]    [1, 2, {'a': [3, 0]}]\n"
     ]
    }
   ],
   "source": [
    "# Q63. list.copy()-3\n",
    "a = [1, 2, {'a': [3, 4]}]\n",
    "b = a.copy()   # shallow copy??\n",
    "a[-1]['a'][-1] = 0\n",
    "print(f'{a}    {b}')\n",
    "\n",
    "# 1) [1, 2, {'a': [3, 4]}]    [1, 2, {'a': [3, 4]}]\n",
    "# 2) [1, 2, {'a': [3, 0]}]    [1, 2, {'a': [3, 4]}]\n",
    "# 3) [1, 2, {'a': [3, 4]}]    [1, 2, {'a': [3, 0]}]\n",
    "# 4) [1, 2, {'a': [3, 0]}]    [1, 2, {'a': [3, 0]}]\n",
    "# 5) Exception\n",
    "# 6) 以上皆非"
   ]
  },
  {
   "cell_type": "code",
   "execution_count": 198,
   "metadata": {},
   "outputs": [
    {
     "name": "stdout",
     "output_type": "stream",
     "text": [
      "[1, 2, {'a': [3, 0]}]    [1, 2, {'a': [3, 0]}]\n"
     ]
    }
   ],
   "source": [
    "# Q64. shallow copy\n",
    "import copy\n",
    "\n",
    "a = [1, 2, {'a': [3, 4]}]\n",
    "b = copy.copy(a)    # shallow copy\n",
    "a[-1]['a'][-1] = 0\n",
    "print(f'{a}    {b}')\n",
    "\n",
    "# 1) [1, 2, {'a': [3, 4]}]    [1, 2, {'a': [3, 4]}]\n",
    "# 2) [1, 2, {'a': [3, 0]}]    [1, 2, {'a': [3, 4]}]\n",
    "# 3) [1, 2, {'a': [3, 4]}]    [1, 2, {'a': [3, 0]}]\n",
    "# 4) [1, 2, {'a': [3, 0]}]    [1, 2, {'a': [3, 0]}]\n",
    "# 5) Exception\n",
    "# 6) 以上皆非"
   ]
  },
  {
   "cell_type": "code",
   "execution_count": 199,
   "metadata": {},
   "outputs": [
    {
     "name": "stdout",
     "output_type": "stream",
     "text": [
      "[1, 2, {'a': [3, 0]}]    [1, 2, {'a': [3, 4]}]\n"
     ]
    }
   ],
   "source": [
    "# Q65. deep copy\n",
    "import copy\n",
    "\n",
    "a = [1, 2, {'a': [3, 4]}]\n",
    "b = copy.deepcopy(a)\n",
    "a[-1]['a'][-1] = 0\n",
    "print(f'{a}    {b}')\n",
    "\n",
    "# 1) [1, 2, {'a': [3, 4]}]    [1, 2, {'a': [3, 4]}]\n",
    "# 2) [1, 2, {'a': [3, 0]}]    [1, 2, {'a': [3, 4]}]\n",
    "# 3) [1, 2, {'a': [3, 4]}]    [1, 2, {'a': [3, 0]}]\n",
    "# 4) [1, 2, {'a': [3, 0]}]    [1, 2, {'a': [3, 0]}]\n",
    "# 5) Exception\n",
    "# 6) 以上皆非"
   ]
  },
  {
   "cell_type": "code",
   "execution_count": null,
   "metadata": {},
   "outputs": [],
   "source": [
    "# Q66. `in` operator\n",
    "day = 'Friday'\n",
    "print('Fri' in day)\n",
    "\n",
    "# 1) 'Fri' in day\n",
    "# 2) 'Friday' in day\n",
    "# 3) 'Fri'\n",
    "# 4) True\n",
    "# 5) False\n",
    "# 6) 以上皆非"
   ]
  },
  {
   "cell_type": "code",
   "execution_count": null,
   "metadata": {},
   "outputs": [],
   "source": [
    "# Q67. list comprehension-1\n",
    "nums = [num**2 for num in [-4, 1, -3, 2]]\n",
    "print(nums)\n",
    "\n",
    "# 1) [-4, 1, -3, 2]\n",
    "# 2) [-8, 2, -6, 4]\n",
    "# 3) [16, 1, 9, 4]\n",
    "# 4) [-16, 1, -9, 4]\n",
    "# 5) Exception\n",
    "# 6) 以上皆非"
   ]
  },
  {
   "cell_type": "code",
   "execution_count": null,
   "metadata": {},
   "outputs": [],
   "source": [
    "# Q68. list comprehension-2\n",
    "nums = [num*2 if num % 2 == 0 else num*3 for num in [-4, 1, -3, 2]]\n",
    "print(nums)\n",
    "\n",
    "# 1) [-8, 3, -9, 4]\n",
    "# 2) [-12, 2, -6, 6]\n",
    "# 3) [16, 1, -27, 4]\n",
    "# 4) [-64, 1, 9, 8]\n",
    "# 5) Exception\n",
    "# 6) 以上皆非"
   ]
  },
  {
   "cell_type": "code",
   "execution_count": null,
   "metadata": {},
   "outputs": [],
   "source": [
    "# Q69. list comprehension-3\n",
    "nums = [num for num in [-4, 1, -3, 2] if num > 1]\n",
    "print(nums)\n",
    "\n",
    "# 1) [-4, 1, -3, 2]\n",
    "# 2) [1, 2]\n",
    "# 3) [-4, -3]\n",
    "# 4) [1]\n",
    "# 5) Exception\n",
    "# 6) 以上皆非"
   ]
  },
  {
   "cell_type": "code",
   "execution_count": null,
   "metadata": {},
   "outputs": [],
   "source": [
    "# Q70. list comprehension-4\n",
    "nums = [n for num in [-4, 1, -3, 2] if (n = num > 0)]\n",
    "print(nums)\n",
    "\n",
    "# 1) [-4, 1, -3, 2]\n",
    "# 2) [1, 2]\n",
    "# 3) [False, True, False, True]\n",
    "# 4) [True, True]\n",
    "# 5) []\n",
    "# 6) Exception"
   ]
  },
  {
   "cell_type": "code",
   "execution_count": null,
   "metadata": {},
   "outputs": [],
   "source": [
    "# Q71. list comprehension-5\n",
    "nums = [n for num in [-4, 1, -3, 2] if (n := num > 0)]\n",
    "print(nums)\n",
    "\n",
    "# 1) [-4, 1, -3, 2]\n",
    "# 2) [1, 2]\n",
    "# 3) [False, True, False, True]\n",
    "# 4) [True, True]\n",
    "# 5) []\n",
    "# 6) Exception"
   ]
  },
  {
   "cell_type": "code",
   "execution_count": null,
   "metadata": {},
   "outputs": [],
   "source": [
    "# Q72. list comprehension-6\n",
    "nums = [(m := n + num) for num in [-4, 1, -3, 2] if (n := num > 0)]\n",
    "print(f'{nums=}\\t{m=}')\n",
    "\n",
    "# 1) nums=[True, True]    m=True\n",
    "# 2) nums=[False, True, False, True]    m=True\n",
    "# 3) nums=[2, 3]    m=3\n",
    "# 4) nums=[-4, 1, -3, 2]    m=2\n",
    "# 5) nums=[1, 2]    m=2\n",
    "# 6) Exception"
   ]
  },
  {
   "cell_type": "code",
   "execution_count": null,
   "metadata": {},
   "outputs": [],
   "source": [
    "# Q73. mutable objects as default parameter values-1\n",
    "def foo(x, d={}):\n",
    "    d[x + 1] = x - 1\n",
    "    return d\n",
    "\n",
    "print(foo(5))\n",
    "\n",
    "# 1) {6: 4}\n",
    "# 2) {4: 6}\n",
    "# 3) {5: 5}\n",
    "# 4) {x + 1: x - 1}\n",
    "# 5) Exception\n",
    "# 6) 以上皆非"
   ]
  },
  {
   "cell_type": "code",
   "execution_count": null,
   "metadata": {},
   "outputs": [],
   "source": [
    "# Q74. mutable objects as default parameter values-2\n",
    "def foo(x, d={}):\n",
    "    d[x] = d\n",
    "    return d\n",
    "\n",
    "print(foo('id'))\n",
    "\n",
    "# 1) {'x': {d}}\n",
    "# 2) {'d': {x}}\n",
    "# 3) {'id': {}}\n",
    "# 4) {}\n",
    "# 5) Exception\n",
    "# 6) 以上皆非"
   ]
  },
  {
   "cell_type": "code",
   "execution_count": null,
   "metadata": {},
   "outputs": [],
   "source": [
    "# Q75. logical and/or and arithmetic operations\n",
    "a = 5 and 0\n",
    "b = 5 or 0\n",
    "c = 2*a + b\n",
    "print(2*c + a)\n",
    "\n",
    "# 1) 0\n",
    "# 2) 15\n",
    "# 3) 25\n",
    "# 4) 35\n",
    "# 5) Exception\n",
    "# 6) 以上皆非"
   ]
  },
  {
   "cell_type": "code",
   "execution_count": null,
   "metadata": {},
   "outputs": [],
   "source": [
    "# Q76. accumulation-1\n",
    "x = 1\n",
    "y = 5\n",
    "while ((sum = x + y) < 10):\n",
    "    x += 1\n",
    "    print((x, y, sum), end=' ')\n",
    "\n",
    "# 1) (1, 5, 6) (2, 5, 7) (3, 5, 8) (4, 5, 9)\n",
    "# 2) (1, 5, 5) (2, 5, 6) (3, 5, 7) (4, 5, 8) (5, 5, 9)\n",
    "# 3) (2, 5, 6) (3, 5, 7) (4, 5, 8) (5, 5, 9)\n",
    "# 4) (2, 5, 5) (3, 5, 6) (4, 5, 7) (5, 5, 8) (6, 5, 9)\n",
    "# 5) Exception\n",
    "# 6) 以上皆非"
   ]
  },
  {
   "cell_type": "code",
   "execution_count": null,
   "metadata": {},
   "outputs": [],
   "source": [
    "# Q77. accumulation-2\n",
    "x = 1\n",
    "y = 5\n",
    "while ((sum := x + y) < 10):\n",
    "    x += 1\n",
    "    print((x, y, sum), end=' ')\n",
    "\n",
    "# 1) (1, 5, 6) (2, 5, 7) (3, 5, 8) (4, 5, 9)\n",
    "# 2) (1, 5, 5) (2, 5, 6) (3, 5, 7) (4, 5, 8) (5, 5, 9)\n",
    "# 3) (2, 5, 6) (3, 5, 7) (4, 5, 8) (5, 5, 9)\n",
    "# 4) (2, 5, 5) (3, 5, 6) (4, 5, 7) (5, 5, 8) (6, 5, 9)\n",
    "# 5) Exception\n",
    "# 6) 以上皆非"
   ]
  },
  {
   "cell_type": "code",
   "execution_count": null,
   "metadata": {},
   "outputs": [],
   "source": [
    "# Q78. two-dimensional list-1\n",
    "l = [[1, 2], [3, 4]]\n",
    "for a, b in l:\n",
    "    print(a + b, end='\\t')\n",
    "\n",
    "# 1) 1  2\n",
    "# 2) 3  4\n",
    "# 3) 1  3\n",
    "# 4) 2  4\n",
    "# 5) 4  6\n",
    "# 6) 3  7"
   ]
  },
  {
   "cell_type": "code",
   "execution_count": null,
   "metadata": {},
   "outputs": [],
   "source": [
    "# Q79. two-dimensional list-2\n",
    "a = ['Alex', 'Van', 'Pythonista']\n",
    "print(a[2][-2])\n",
    "\n",
    "# 1) Alex\n",
    "# 2) Van\n",
    "# 3) Pythonista\n",
    "# 4) e\n",
    "# 5) a\n",
    "# 6) 以上皆非"
   ]
  },
  {
   "cell_type": "code",
   "execution_count": null,
   "metadata": {},
   "outputs": [],
   "source": [
    "# Q80. min() and max()\n",
    "print(min(max(False, -2, -4), 3, 5))\n",
    "\n",
    "# 1) False\n",
    "# 2) -2\n",
    "# 3) -4\n",
    "# 4) 3\n",
    "# 5) 5\n",
    "# 6) Exception"
   ]
  },
  {
   "cell_type": "code",
   "execution_count": null,
   "metadata": {},
   "outputs": [],
   "source": [
    "# Q81. *args\n",
    "def foo(a, *args, s='$'):\n",
    "    print(a, s, end='  ')\n",
    "    for i in args:\n",
    "        print(i, end=' ')\n",
    "\n",
    "foo(5)\n",
    "\n",
    "# 1) 5 $  0 1 2 3 4\n",
    "# 2) 5 $  5\n",
    "# 3) 5 5\n",
    "# 4) 5 $\n",
    "# 5) Exception\n",
    "# 6) 以上皆非"
   ]
  },
  {
   "cell_type": "code",
   "execution_count": null,
   "metadata": {},
   "outputs": [],
   "source": [
    "# Q82. round()-1\n",
    "print(round(3.5))\n",
    "\n",
    "# 1) 3\n",
    "# 2) 3.5\n",
    "# 3) 4\n",
    "# 4) 4.0\n",
    "# 5) Exception\n",
    "# 6) 以上皆非"
   ]
  },
  {
   "cell_type": "code",
   "execution_count": null,
   "metadata": {},
   "outputs": [],
   "source": [
    "# Q83. round()-2\n",
    "print(round(2.5))\n",
    "\n",
    "# 1) 2\n",
    "# 2) 2.5\n",
    "# 3) 3\n",
    "# 4) 3.0\n",
    "# 5) Exception\n",
    "# 6) 以上皆非"
   ]
  },
  {
   "cell_type": "code",
   "execution_count": null,
   "metadata": {},
   "outputs": [],
   "source": [
    "# Q85. dict[...]\n",
    "d = {'name': 'Alex', 'age': 39, 'gender': 'M'}\n",
    "print(d['weight'])\n",
    "\n",
    "# 1) Alex\n",
    "# 2) 39\n",
    "# 3) M\n",
    "# 4) None\n",
    "# 5) Exception\n",
    "# 6) 以上皆非"
   ]
  },
  {
   "cell_type": "code",
   "execution_count": null,
   "metadata": {},
   "outputs": [],
   "source": [
    "# Q86. dict.get()-1\n",
    "d = {'name': 'Alex', 'age': 39, 'gender': 'M'}\n",
    "print(d.get('weight'))\n",
    "\n",
    "# 1) Alex\n",
    "# 2) 39\n",
    "# 3) M\n",
    "# 4) None\n",
    "# 5) Exception\n",
    "# 6) 以上皆非"
   ]
  },
  {
   "cell_type": "code",
   "execution_count": null,
   "metadata": {},
   "outputs": [],
   "source": [
    "# Q87. dict.get()-2\n",
    "d = {'name': 'Alex', 'age': 39, 'gender': 'M'}\n",
    "d.get('weight', 67.5)\n",
    "print(d.get('weight', 59.3))\n",
    "\n",
    "# 1) Alex\n",
    "# 2) 67.5\n",
    "# 3) M\n",
    "# 4) 59.3\n",
    "# 5) None\n",
    "# 6) Exception"
   ]
  },
  {
   "cell_type": "code",
   "execution_count": null,
   "metadata": {},
   "outputs": [],
   "source": [
    "# Q88. append()-1\n",
    "x = (1, 3, 5)\n",
    "x.append([2, 4])\n",
    "print(x)\n",
    "\n",
    "# 1) (1, 3, 5, 2, 4)\n",
    "# 2) (1, 3, 5, (2, 4))\n",
    "# 3) (1, 3, 5, (2), (4))\n",
    "# 4) (1, 3, 5)(2, 4)\n",
    "# 5) Exception\n",
    "# 6) 以上皆非"
   ]
  },
  {
   "cell_type": "code",
   "execution_count": null,
   "metadata": {},
   "outputs": [],
   "source": [
    "# Q89. append()-2\n",
    "x = [1, 3, 5]\n",
    "x.append([2, 4])\n",
    "print(x)\n",
    "\n",
    "# 1) [1, 3, 5, 2, 4]\n",
    "# 2) [1, 3, 5, [2, 4]]\n",
    "# 3) [1, 3, 5, [2], [4]]\n",
    "# 4) [1, 3, 5][2, 4]\n",
    "# 5) Exception\n",
    "# 6) 以上皆非"
   ]
  },
  {
   "cell_type": "code",
   "execution_count": null,
   "metadata": {},
   "outputs": [],
   "source": [
    "# Q90. list.extend()\n",
    "x = [1, 3, 5]\n",
    "x.extend([2, 4])\n",
    "print(x)\n",
    "\n",
    "# 1) [1, 3, 5, 2, 4]\n",
    "# 2) [1, 3, 5, [2, 4]]\n",
    "# 3) [1, 3, 5, [2], [4]]\n",
    "# 4) [1, 3, 5][2, 4]\n",
    "# 5) Exception\n",
    "# 6) 以上皆非"
   ]
  },
  {
   "cell_type": "code",
   "execution_count": null,
   "metadata": {},
   "outputs": [],
   "source": [
    "# Q91. tuple + tuple-1\n",
    "t = (1, 2, 3) + (4, 5, 6)\n",
    "print(t)\n",
    "\n",
    "# 1) (1, 2, 3, 4, 5, 6)\n",
    "# 2) ((1, 2, 3), (4, 5, 6))\n",
    "# 3) (1, 2, 3, (4, 5, 6))\n",
    "# 4) ((1, 2, 3), 4, 5, 6)\n",
    "# 5) Exception\n",
    "# 6) 以上皆非"
   ]
  },
  {
   "cell_type": "code",
   "execution_count": null,
   "metadata": {},
   "outputs": [],
   "source": [
    "# Q92. tuple + tuple-2\n",
    "t = (1) + (4)\n",
    "print(t)\n",
    "\n",
    "# 1) (1, 4)\n",
    "# 2) ((1), (4))\n",
    "# 3) (1, (4))\n",
    "# 4) ((1), 4)\n",
    "# 5) Exception\n",
    "# 6) 以上皆非"
   ]
  },
  {
   "cell_type": "code",
   "execution_count": null,
   "metadata": {},
   "outputs": [],
   "source": [
    "# Q93. chanining-1\n",
    "print('localhost/proj/1/'[4:-6][-6:4])\n",
    "\n",
    "# 1) cal\n",
    "# 2) hos\n",
    "# 3) alh\n",
    "# 4) lho\n",
    "# 5) Exception\n",
    "# 6) 以上皆非"
   ]
  },
  {
   "cell_type": "code",
   "execution_count": null,
   "metadata": {},
   "outputs": [],
   "source": [
    "# Q94. chanining-2\n",
    "p = [{'name': 'Alex', 'expertise': ['Programming', 'Database']},\n",
    "     {'name': 'Jing', 'expertise': ['poetry', 'History', '紅樓夢']}]\n",
    "print(p[1]['expertise'][1][2:-1][::-1][-3].join('dnr'))\n",
    "\n",
    "# 1) dsnsr\n",
    "# 2) rrnrd\n",
    "# 3) dtntr\n",
    "# 4) ronod\n",
    "# 5) Exception\n",
    "# 6) 以上皆非"
   ]
  },
  {
   "cell_type": "code",
   "execution_count": null,
   "metadata": {},
   "outputs": [],
   "source": [
    "# Q95. any() and all()\n",
    "d = {():1, 0:[], False:True, None:'', '':None, (0):{}}\n",
    "print(any(d), '\\t', all(d))\n",
    "\n",
    "# 1) True   True\n",
    "# 2) True   False\n",
    "# 3) False  True\n",
    "# 4) False  False\n",
    "# 5) Exception\n",
    "# 6) 以上皆非"
   ]
  },
  {
   "cell_type": "code",
   "execution_count": null,
   "metadata": {},
   "outputs": [],
   "source": [
    "# Q96. slice: zero step\n",
    "chars = 'Pythonista'\n",
    "print(chars[::0])\n",
    "\n",
    "# 1) Pythonista\n",
    "# 2) P\n",
    "# 3) a\n",
    "# 4) PPPPPPPPPP\n",
    "# 5) Exception\n",
    "# 6) 以上皆非"
   ]
  },
  {
   "cell_type": "code",
   "execution_count": null,
   "metadata": {},
   "outputs": [],
   "source": [
    "# Q97. assignment then addition assignment-1\n",
    "s1 = 'Cati'\n",
    "s2 = s1\n",
    "s1 += 'Meta'\n",
    "print(f'{s1=:20}{s2=:20}')\n",
    "\n",
    "# 1) s1=Cati                s2=Cati\n",
    "# 2) s1=CatiMeta            s2=Cati\n",
    "# 3) s1=Cati                s2=CatiMeta\n",
    "# 4) s1=CatiMeta            s2=CatiMeta\n",
    "# 5) Exception\n",
    "# 6) 以上皆非"
   ]
  },
  {
   "cell_type": "code",
   "execution_count": null,
   "metadata": {},
   "outputs": [],
   "source": [
    "# Q98. assignment then addition assignment-2\n",
    "a = b = [3, 7]\n",
    "a += b\n",
    "print(a, '\\t\\t', b)\n",
    "\n",
    "# 1) [3, 7] \t\t [3, 7]\n",
    "# 2) [3, 7, 3, 7]\t [3, 7, 3, 7]\n",
    "# 3) [3, 7, 3, 7]    [3, 7]\n",
    "# 4) [3, 7] \t\t [3, 7, 3, 7]\n",
    "# 5) Exception\n",
    "# 6) 以上皆非"
   ]
  },
  {
   "cell_type": "code",
   "execution_count": null,
   "metadata": {},
   "outputs": [],
   "source": [
    "# Q99. assignment then addition assignment-3\n",
    "a = b = (3, 7)\n",
    "a += b\n",
    "print(a, '\\t', b)\n",
    "\n",
    "# 1) (3, 7)    (3, 7)\n",
    "# 2) (3, 7, 3, 7)    (3, 7, 3, 7)\n",
    "# 3) (3, 7, 3, 7)    (3, 7)\n",
    "# 4) (3, 7)    (3, 7, 3, 7)\n",
    "# 5) Exception\n",
    "# 6) 以上皆非"
   ]
  },
  {
   "cell_type": "code",
   "execution_count": null,
   "metadata": {},
   "outputs": [],
   "source": [
    "# Q100. merging two dicts\n",
    "x = {'a': 1, 'b': 2}\n",
    "y = {'b': 3, 'c': 4}\n",
    "z1, z2 = {**x, **y}, {**y, **x}\n",
    "print(f'{z1}  {z2}')\n",
    "\n",
    "# 1) {'a': 1, 'b': 2, 'c': 4}  {'b': 2, 'c': 4, 'a': 1}\n",
    "# 2) {'a': 1, 'b': 2, 'c': 4}  {'b': 3, 'c': 4, 'a': 1}\n",
    "# 3) {'a': 1, 'b': 3, 'c': 4}  {'b': 2, 'c': 4, 'a': 1}\n",
    "# 4) {'a': 1, 'b': 3, 'c': 4}  {'b': 3, 'c': 4, 'a': 1}\n",
    "# 5) Exception\n",
    "# 6) 以上皆非"
   ]
  },
  {
   "cell_type": "code",
   "execution_count": null,
   "metadata": {},
   "outputs": [],
   "source": [
    "l1 = l2 = ['a', 'b']\n",
    "print(f'{l1 is l2 = }')\n",
    "l1 += l2\n",
    "print(l1, l2)\n",
    "print(f'{l1 is l2 = }')\n",
    "\n",
    "t1 = t2 = ('a', 'b')\n",
    "print(f'{t1 is t2 = }')\n",
    "t1 += t2\n",
    "print(t1, t2)\n",
    "print(f'{t1 is t2 = }')"
   ]
  }
 ],
 "metadata": {
  "kernelspec": {
   "display_name": "Python 3",
   "language": "python",
   "name": "python3"
  },
  "language_info": {
   "codemirror_mode": {
    "name": "ipython",
    "version": 3
   },
   "file_extension": ".py",
   "mimetype": "text/x-python",
   "name": "python",
   "nbconvert_exporter": "python",
   "pygments_lexer": "ipython3",
   "version": "3.12.3"
  }
 },
 "nbformat": 4,
 "nbformat_minor": 2
}
