{
 "cells": [
  {
   "cell_type": "markdown",
   "metadata": {},
   "source": [
    "<div style=\"font-family: 'Gen Jyuu Gothic Monospace Medium', 'Noto Sans TC', 'Inconsolata'; font-size: 600%; font-weight: 700; text-align: center; color: #BFD8AF;\">\n",
    "Quizzes\n",
    "</div>\n",
    "<br><br><br>\n",
    "<div style=\"font-family: 'Ubuntu Mono', 'Noto Sans TC', 'Inconsolata'; font-size: 300%; font-weight: 900; text-align: center; color: #FFFDCB;\">\n",
    "Solving Syntax Puzzles\n",
    "</div>\n",
    "<br><br>"
   ]
  },
  {
   "cell_type": "code",
   "execution_count": null,
   "metadata": {},
   "outputs": [],
   "source": [
    "%%javascript\n",
    "// 設定output文字顏色\n",
    "document.styleSheets[0].addRule('body', 'color: #BFD8AF !important;')"
   ]
  },
  {
   "cell_type": "code",
   "execution_count": null,
   "metadata": {},
   "outputs": [],
   "source": [
    "print('Hello, world!')"
   ]
  },
  {
   "cell_type": "code",
   "execution_count": null,
   "metadata": {},
   "outputs": [],
   "source": [
    "# Q: * operator\n",
    "my_tuple = (1, 2, 3)\n",
    "x, y, z, *rest = my_tuple\n",
    "print(x, y, z, rest)\n",
    "\n",
    "# 1) 1 2 3\n",
    "# 2) 1 2 3 None\n",
    "# 3) 1 2 3 []\n",
    "# 4) []\n",
    "# 5) Exception\n",
    "# 6) 以上皆非"
   ]
  },
  {
   "cell_type": "code",
   "execution_count": null,
   "metadata": {},
   "outputs": [],
   "source": [
    "# Q. str.find()\n",
    "sentence = 'Pythonista.'\n",
    "index = sentence.find('t', -1)\n",
    "print(index)\n",
    "\n",
    "# 1) -3\n",
    "# 2) -1\n",
    "# 3) 2\n",
    "# 4) 3\n",
    "# 5) 8\n",
    "# 6) Exception"
   ]
  },
  {
   "cell_type": "code",
   "execution_count": null,
   "metadata": {},
   "outputs": [],
   "source": [
    "# Q. inner function and nonlocal-1\n",
    "def outer():\n",
    "    x = 10\n",
    "    def inner():\n",
    "        nonlocal x\n",
    "        x += 5\n",
    "        print(f'inner: {x=}', end='\\t')\n",
    "    inner()\n",
    "    print(f'outer: {x=}')\n",
    "\n",
    "outer()\n",
    "\n",
    "# 1) inner: x=10    outer: x=10\n",
    "# 2) inner: x=15    outer: x=15\n",
    "# 3) inner: x=10    outer: x=15\n",
    "# 4) inner: x=15    outer: x=10\n",
    "# 5) Exception\n",
    "# 6) 以上皆非"
   ]
  },
  {
   "cell_type": "code",
   "execution_count": null,
   "metadata": {},
   "outputs": [],
   "source": [
    "# Q. inner function and nonlocal-2\n",
    "def outer(x: int) -> int:\n",
    "    def inner():\n",
    "        nonlocal x\n",
    "        x -= 5\n",
    "        return x\n",
    "    print(f'{inner()=}', end='\\t')\n",
    "    return x\n",
    "\n",
    "print(f'{outer(15)=}')\n",
    "\n",
    "# 1) inner()=10     outer(10)=10\n",
    "# 2) inner()=15     outer(10)=15\n",
    "# 3) inner()=10     outer(10)=15\n",
    "# 4) inner()=15     outer(10)=10\n",
    "# 5) Exception\n",
    "# 6) 以上皆非"
   ]
  },
  {
   "cell_type": "code",
   "execution_count": null,
   "metadata": {},
   "outputs": [],
   "source": [
    "# Q. logical `and/or` and walrus operator-1\n",
    "score = 59\n",
    "if True and (score = score + 1):\n",
    "# if False and (score = score + 1):\n",
    "# if True or (score = score + 1):\n",
    "# if False or (score = score + 1):\n",
    "    score += 1\n",
    "print(score)\n",
    "\n",
    "# 1) 59\n",
    "# 2) 60\n",
    "# 3) 61\n",
    "# 4) 0\n",
    "# 5) 1\n",
    "# 6) Exception"
   ]
  },
  {
   "cell_type": "code",
   "execution_count": null,
   "metadata": {},
   "outputs": [],
   "source": [
    "# Q. logical `and/or` and walrus operator-2\n",
    "score = 59\n",
    "if True and (score += 1):\n",
    "# if False and (score += 1):\n",
    "# if True or (score += 1):\n",
    "# if False or (score += 1):\n",
    "    score += 1\n",
    "print(score)\n",
    "\n",
    "# 1) 59\n",
    "# 2) 60\n",
    "# 3) 61\n",
    "# 4) 0\n",
    "# 5) 1\n",
    "# 6) Exception"
   ]
  },
  {
   "cell_type": "code",
   "execution_count": null,
   "metadata": {},
   "outputs": [],
   "source": [
    "# Q. logical `and/or` and walrus operator-3\n",
    "score = 59\n",
    "if True and (score = 0):\n",
    "# if False and (score = 0):\n",
    "# if True or (score = 0):\n",
    "# if False or (score = 0):\n",
    "    score += 1\n",
    "print(score)\n",
    "\n",
    "# 1) 59\n",
    "# 2) 60\n",
    "# 3) 61\n",
    "# 4) 0\n",
    "# 5) 1\n",
    "# 6) Exception"
   ]
  },
  {
   "cell_type": "code",
   "execution_count": null,
   "metadata": {},
   "outputs": [],
   "source": [
    "# Q. logical `and/or` and walrus operator-4\n",
    "score = 59\n",
    "if True and (score := score + 1):\n",
    "# if False and (score := score + 1):\n",
    "# if True or (score := score + 1):\n",
    "# if False or (score := score + 1):\n",
    "    score += 1\n",
    "print(score)\n",
    "\n",
    "# 1) 59\n",
    "# 2) 60\n",
    "# 3) 61\n",
    "# 4) 0\n",
    "# 5) 1\n",
    "# 6) Exception"
   ]
  },
  {
   "cell_type": "code",
   "execution_count": null,
   "metadata": {},
   "outputs": [],
   "source": [
    "# Q. logical `and/or` and walrus operator-5\n",
    "score = 59\n",
    "if True and (score := 0):\n",
    "# if False and (score := 0):\n",
    "# if True or (score := 0):\n",
    "# if False or (score := 0):\n",
    "    score += 1\n",
    "print(score)\n",
    "\n",
    "# 1) 59\n",
    "# 2) 60\n",
    "# 3) 61\n",
    "# 4) 0\n",
    "# 5) 1\n",
    "# 6) Exception"
   ]
  },
  {
   "cell_type": "code",
   "execution_count": null,
   "metadata": {},
   "outputs": [],
   "source": [
    "# Q. logical `and/or` and walrus operator-6\n",
    "score = 59\n",
    "if (score := score + 1) and True:\n",
    "# if (score := score + 1) and False:\n",
    "# if (score := score + 1) or True:\n",
    "# if (score := score + 1) or False:\n",
    "    score += 1\n",
    "print(score)\n",
    "\n",
    "# 1) 59\n",
    "# 2) 60\n",
    "# 3) 61\n",
    "# 4) 0\n",
    "# 5) 1\n",
    "# 6) Exception"
   ]
  },
  {
   "cell_type": "code",
   "execution_count": null,
   "metadata": {},
   "outputs": [],
   "source": [
    "# Q. logical `and/or` and walrus operator-7\n",
    "score = 59\n",
    "if (score := 0) and True:\n",
    "# if (score := 0) and False:\n",
    "# if (score := 0) or True:\n",
    "# if (score := 0) or False:\n",
    "    score += 1\n",
    "print(score)\n",
    "\n",
    "# 1) 59\n",
    "# 2) 60\n",
    "# 3) 61\n",
    "# 4) 0\n",
    "# 5) 1\n",
    "# 6) Exception"
   ]
  },
  {
   "cell_type": "code",
   "execution_count": null,
   "metadata": {},
   "outputs": [],
   "source": [
    "# Q. multiply an empty tuple.\n",
    "print(()*3)\n",
    "\n",
    "# 1) ()()()\n",
    "# 2) (()()())\n",
    "# 3) (()())\n",
    "# 4) ()\n",
    "# 5) ((()))\n",
    "# 6) Exception"
   ]
  },
  {
   "cell_type": "code",
   "execution_count": null,
   "metadata": {},
   "outputs": [],
   "source": [
    "# Q. an empty list as default parameter.\n",
    "def foo(x, y=[]):\n",
    "    y.append(x)\n",
    "    return y\n",
    "\n",
    "print(f'{foo('Alex')}   {foo('Van')}')\n",
    "\n",
    "# 1) ['Alex'   'Van']\n",
    "# 2) 'Alex   Van'\n",
    "# 3) ['Alex']   ['Alex', 'Van']\n",
    "# 4) 'Alex'   'AlexVan'\n",
    "# 5) ['Alex']   ['Van']\n",
    "# 6) 'Alex'   'Van'"
   ]
  },
  {
   "cell_type": "code",
   "execution_count": null,
   "metadata": {},
   "outputs": [],
   "source": [
    "# Q. string interning\n",
    "a = 'Alex'\n",
    "b = 'Alex'\n",
    "print(f'{(a == b) = }\\t\\t{(a is b) = }')\n",
    "\n",
    "# 1) (a == b) = True        (a is b) = True\n",
    "# 2) (a == b) = True        (a is b) = False\n",
    "# 3) (a == b) = False       (a is b) = True\n",
    "# 4) (a == b) = False       (a is b) = False\n",
    "# 5) Exception\n",
    "# 6) 以上皆非"
   ]
  },
  {
   "cell_type": "code",
   "execution_count": null,
   "metadata": {},
   "outputs": [],
   "source": [
    "# Q. tuple interning?\n",
    "a = ('Alex', )\n",
    "b = ('Alex', )\n",
    "print(f'{(a == b) = }\\t\\t{(a is b) = }')\n",
    "\n",
    "# 1) (a == b) = True        (a is b) = True\n",
    "# 2) (a == b) = True        (a is b) = False\n",
    "# 3) (a == b) = False       (a is b) = True\n",
    "# 4) (a == b) = False       (a is b) = False\n",
    "# 5) Exception\n",
    "# 6) 以上皆非"
   ]
  },
  {
   "cell_type": "code",
   "execution_count": 134,
   "metadata": {},
   "outputs": [
    {
     "name": "stdout",
     "output_type": "stream",
     "text": [
      "a > b\n"
     ]
    }
   ],
   "source": [
    "# Q. comparison\n",
    "a = -1 and 0\n",
    "b = -1 or 0\n",
    "if a > b:\n",
    "    print('a > b')\n",
    "else:\n",
    "    print('a <= b')\n",
    "\n",
    "# 1) a > b\n",
    "# 2) a >= b\n",
    "# 3) a < b\n",
    "# 4) a <= b\n",
    "# 5) a == b\n",
    "# 6) a != b\n"
   ]
  },
  {
   "cell_type": "code",
   "execution_count": null,
   "metadata": {},
   "outputs": [],
   "source": [
    "# Q.\n",
    "\n",
    "# 1)\n",
    "# 2)\n",
    "# 3)\n",
    "# 4)\n",
    "# 5) Exception\n",
    "# 6) 以上皆非"
   ]
  },
  {
   "cell_type": "code",
   "execution_count": null,
   "metadata": {},
   "outputs": [],
   "source": [
    "# Q.\n",
    "\n",
    "# 1)\n",
    "# 2)\n",
    "# 3)\n",
    "# 4)\n",
    "# 5) Exception\n",
    "# 6) 以上皆非"
   ]
  },
  {
   "cell_type": "code",
   "execution_count": null,
   "metadata": {},
   "outputs": [],
   "source": [
    "# Q.\n",
    "\n",
    "# 1)\n",
    "# 2)\n",
    "# 3)\n",
    "# 4)\n",
    "# 5) Exception\n",
    "# 6) 以上皆非"
   ]
  },
  {
   "cell_type": "code",
   "execution_count": null,
   "metadata": {},
   "outputs": [],
   "source": [
    "# Q.\n",
    "\n",
    "# 1)\n",
    "# 2)\n",
    "# 3)\n",
    "# 4)\n",
    "# 5) Exception\n",
    "# 6) 以上皆非"
   ]
  },
  {
   "cell_type": "code",
   "execution_count": null,
   "metadata": {},
   "outputs": [],
   "source": [
    "# Q.\n",
    "\n",
    "# 1)\n",
    "# 2)\n",
    "# 3)\n",
    "# 4)\n",
    "# 5) Exception\n",
    "# 6) 以上皆非"
   ]
  },
  {
   "cell_type": "code",
   "execution_count": null,
   "metadata": {},
   "outputs": [],
   "source": [
    "# Q.\n",
    "\n",
    "# 1)\n",
    "# 2)\n",
    "# 3)\n",
    "# 4)\n",
    "# 5) Exception\n",
    "# 6) 以上皆非"
   ]
  },
  {
   "cell_type": "code",
   "execution_count": null,
   "metadata": {},
   "outputs": [],
   "source": [
    "# Q.\n",
    "\n",
    "# 1)\n",
    "# 2)\n",
    "# 3)\n",
    "# 4)\n",
    "# 5) Exception\n",
    "# 6) 以上皆非"
   ]
  },
  {
   "cell_type": "code",
   "execution_count": null,
   "metadata": {},
   "outputs": [],
   "source": [
    "# Q.\n",
    "\n",
    "# 1)\n",
    "# 2)\n",
    "# 3)\n",
    "# 4)\n",
    "# 5) Exception\n",
    "# 6) 以上皆非"
   ]
  },
  {
   "cell_type": "code",
   "execution_count": null,
   "metadata": {},
   "outputs": [],
   "source": [
    "# Q.\n",
    "\n",
    "# 1)\n",
    "# 2)\n",
    "# 3)\n",
    "# 4)\n",
    "# 5) Exception\n",
    "# 6) 以上皆非"
   ]
  },
  {
   "cell_type": "code",
   "execution_count": null,
   "metadata": {},
   "outputs": [],
   "source": [
    "# Q.\n",
    "\n",
    "# 1)\n",
    "# 2)\n",
    "# 3)\n",
    "# 4)\n",
    "# 5) Exception\n",
    "# 6) 以上皆非"
   ]
  },
  {
   "cell_type": "code",
   "execution_count": null,
   "metadata": {},
   "outputs": [],
   "source": [
    "# Q.\n",
    "\n",
    "# 1)\n",
    "# 2)\n",
    "# 3)\n",
    "# 4)\n",
    "# 5) Exception\n",
    "# 6) 以上皆非"
   ]
  },
  {
   "cell_type": "code",
   "execution_count": null,
   "metadata": {},
   "outputs": [],
   "source": [
    "# Q.\n",
    "\n",
    "# 1)\n",
    "# 2)\n",
    "# 3)\n",
    "# 4)\n",
    "# 5) Exception\n",
    "# 6) 以上皆非"
   ]
  },
  {
   "cell_type": "code",
   "execution_count": null,
   "metadata": {},
   "outputs": [],
   "source": [
    "# Q.\n",
    "\n",
    "# 1)\n",
    "# 2)\n",
    "# 3)\n",
    "# 4)\n",
    "# 5) Exception\n",
    "# 6) 以上皆非"
   ]
  },
  {
   "cell_type": "code",
   "execution_count": null,
   "metadata": {},
   "outputs": [],
   "source": [
    "# Q.\n",
    "\n",
    "# 1)\n",
    "# 2)\n",
    "# 3)\n",
    "# 4)\n",
    "# 5) Exception\n",
    "# 6) 以上皆非"
   ]
  },
  {
   "cell_type": "code",
   "execution_count": null,
   "metadata": {},
   "outputs": [],
   "source": [
    "# Q.\n",
    "\n",
    "# 1)\n",
    "# 2)\n",
    "# 3)\n",
    "# 4)\n",
    "# 5) Exception\n",
    "# 6) 以上皆非"
   ]
  },
  {
   "cell_type": "code",
   "execution_count": null,
   "metadata": {},
   "outputs": [],
   "source": [
    "# Q.\n",
    "\n",
    "# 1)\n",
    "# 2)\n",
    "# 3)\n",
    "# 4)\n",
    "# 5) Exception\n",
    "# 6) 以上皆非"
   ]
  },
  {
   "cell_type": "code",
   "execution_count": null,
   "metadata": {},
   "outputs": [],
   "source": [
    "# Q.\n",
    "\n",
    "# 1)\n",
    "# 2)\n",
    "# 3)\n",
    "# 4)\n",
    "# 5) Exception\n",
    "# 6) 以上皆非"
   ]
  },
  {
   "cell_type": "code",
   "execution_count": null,
   "metadata": {},
   "outputs": [],
   "source": [
    "# Q.\n",
    "\n",
    "# 1)\n",
    "# 2)\n",
    "# 3)\n",
    "# 4)\n",
    "# 5) Exception\n",
    "# 6) 以上皆非"
   ]
  },
  {
   "cell_type": "code",
   "execution_count": null,
   "metadata": {},
   "outputs": [],
   "source": [
    "# Q.\n",
    "\n",
    "# 1)\n",
    "# 2)\n",
    "# 3)\n",
    "# 4)\n",
    "# 5) Exception\n",
    "# 6) 以上皆非"
   ]
  },
  {
   "cell_type": "code",
   "execution_count": null,
   "metadata": {},
   "outputs": [],
   "source": [
    "# Q.\n",
    "\n",
    "# 1)\n",
    "# 2)\n",
    "# 3)\n",
    "# 4)\n",
    "# 5) Exception\n",
    "# 6) 以上皆非"
   ]
  },
  {
   "cell_type": "code",
   "execution_count": null,
   "metadata": {},
   "outputs": [],
   "source": [
    "# Q.\n",
    "\n",
    "# 1)\n",
    "# 2)\n",
    "# 3)\n",
    "# 4)\n",
    "# 5) Exception\n",
    "# 6) 以上皆非"
   ]
  },
  {
   "cell_type": "code",
   "execution_count": null,
   "metadata": {},
   "outputs": [],
   "source": [
    "# Q.\n",
    "\n",
    "# 1)\n",
    "# 2)\n",
    "# 3)\n",
    "# 4)\n",
    "# 5) Exception\n",
    "# 6) 以上皆非"
   ]
  },
  {
   "cell_type": "code",
   "execution_count": null,
   "metadata": {},
   "outputs": [],
   "source": [
    "# Q.\n",
    "\n",
    "# 1)\n",
    "# 2)\n",
    "# 3)\n",
    "# 4)\n",
    "# 5) Exception\n",
    "# 6) 以上皆非"
   ]
  },
  {
   "cell_type": "code",
   "execution_count": null,
   "metadata": {},
   "outputs": [],
   "source": [
    "# Q.\n",
    "\n",
    "# 1)\n",
    "# 2)\n",
    "# 3)\n",
    "# 4)\n",
    "# 5) Exception\n",
    "# 6) 以上皆非"
   ]
  },
  {
   "cell_type": "code",
   "execution_count": null,
   "metadata": {},
   "outputs": [],
   "source": [
    "# Q.\n",
    "\n",
    "# 1)\n",
    "# 2)\n",
    "# 3)\n",
    "# 4)\n",
    "# 5) Exception\n",
    "# 6) 以上皆非"
   ]
  },
  {
   "cell_type": "code",
   "execution_count": null,
   "metadata": {},
   "outputs": [],
   "source": [
    "# Q.\n",
    "\n",
    "# 1)\n",
    "# 2)\n",
    "# 3)\n",
    "# 4)\n",
    "# 5) Exception\n",
    "# 6) 以上皆非"
   ]
  },
  {
   "cell_type": "code",
   "execution_count": null,
   "metadata": {},
   "outputs": [],
   "source": [
    "# Q.\n",
    "\n",
    "# 1)\n",
    "# 2)\n",
    "# 3)\n",
    "# 4)\n",
    "# 5) Exception\n",
    "# 6) 以上皆非"
   ]
  },
  {
   "cell_type": "code",
   "execution_count": null,
   "metadata": {},
   "outputs": [],
   "source": [
    "# Q.\n",
    "\n",
    "# 1)\n",
    "# 2)\n",
    "# 3)\n",
    "# 4)\n",
    "# 5) Exception\n",
    "# 6) 以上皆非"
   ]
  },
  {
   "cell_type": "code",
   "execution_count": null,
   "metadata": {},
   "outputs": [],
   "source": [
    "# Q.\n",
    "\n",
    "# 1)\n",
    "# 2)\n",
    "# 3)\n",
    "# 4)\n",
    "# 5) Exception\n",
    "# 6) 以上皆非"
   ]
  },
  {
   "cell_type": "code",
   "execution_count": null,
   "metadata": {},
   "outputs": [],
   "source": [
    "# Q.\n",
    "\n",
    "# 1)\n",
    "# 2)\n",
    "# 3)\n",
    "# 4)\n",
    "# 5) Exception\n",
    "# 6) 以上皆非"
   ]
  },
  {
   "cell_type": "code",
   "execution_count": null,
   "metadata": {},
   "outputs": [],
   "source": [
    "# Q.\n",
    "\n",
    "# 1)\n",
    "# 2)\n",
    "# 3)\n",
    "# 4)\n",
    "# 5) Exception\n",
    "# 6) 以上皆非"
   ]
  },
  {
   "cell_type": "code",
   "execution_count": null,
   "metadata": {},
   "outputs": [],
   "source": [
    "# Q.\n",
    "\n",
    "# 1)\n",
    "# 2)\n",
    "# 3)\n",
    "# 4)\n",
    "# 5) Exception\n",
    "# 6) 以上皆非"
   ]
  },
  {
   "cell_type": "code",
   "execution_count": null,
   "metadata": {},
   "outputs": [],
   "source": [
    "# Q.\n",
    "\n",
    "# 1)\n",
    "# 2)\n",
    "# 3)\n",
    "# 4)\n",
    "# 5) Exception\n",
    "# 6) 以上皆非"
   ]
  },
  {
   "cell_type": "code",
   "execution_count": null,
   "metadata": {},
   "outputs": [],
   "source": [
    "# Q.\n",
    "\n",
    "# 1)\n",
    "# 2)\n",
    "# 3)\n",
    "# 4)\n",
    "# 5) Exception\n",
    "# 6) 以上皆非"
   ]
  },
  {
   "cell_type": "code",
   "execution_count": null,
   "metadata": {},
   "outputs": [],
   "source": [
    "# Q.\n",
    "\n",
    "# 1)\n",
    "# 2)\n",
    "# 3)\n",
    "# 4)\n",
    "# 5) Exception\n",
    "# 6) 以上皆非"
   ]
  },
  {
   "cell_type": "code",
   "execution_count": null,
   "metadata": {},
   "outputs": [],
   "source": [
    "# Q.\n",
    "\n",
    "# 1)\n",
    "# 2)\n",
    "# 3)\n",
    "# 4)\n",
    "# 5) Exception\n",
    "# 6) 以上皆非"
   ]
  },
  {
   "cell_type": "code",
   "execution_count": null,
   "metadata": {},
   "outputs": [],
   "source": [
    "# Q.\n",
    "\n",
    "# 1)\n",
    "# 2)\n",
    "# 3)\n",
    "# 4)\n",
    "# 5) Exception\n",
    "# 6) 以上皆非"
   ]
  },
  {
   "cell_type": "code",
   "execution_count": null,
   "metadata": {},
   "outputs": [],
   "source": [
    "# Q.\n",
    "\n",
    "# 1)\n",
    "# 2)\n",
    "# 3)\n",
    "# 4)\n",
    "# 5) Exception\n",
    "# 6) 以上皆非"
   ]
  },
  {
   "cell_type": "code",
   "execution_count": null,
   "metadata": {},
   "outputs": [],
   "source": [
    "# Q.\n",
    "\n",
    "# 1)\n",
    "# 2)\n",
    "# 3)\n",
    "# 4)\n",
    "# 5) Exception\n",
    "# 6) 以上皆非"
   ]
  },
  {
   "cell_type": "code",
   "execution_count": null,
   "metadata": {},
   "outputs": [],
   "source": [
    "# Q.\n",
    "\n",
    "# 1)\n",
    "# 2)\n",
    "# 3)\n",
    "# 4)\n",
    "# 5) Exception\n",
    "# 6) 以上皆非"
   ]
  },
  {
   "cell_type": "code",
   "execution_count": null,
   "metadata": {},
   "outputs": [],
   "source": [
    "# Q.\n",
    "\n",
    "# 1)\n",
    "# 2)\n",
    "# 3)\n",
    "# 4)\n",
    "# 5) Exception\n",
    "# 6) 以上皆非"
   ]
  },
  {
   "cell_type": "code",
   "execution_count": null,
   "metadata": {},
   "outputs": [],
   "source": [
    "# Q.\n",
    "\n",
    "# 1)\n",
    "# 2)\n",
    "# 3)\n",
    "# 4)\n",
    "# 5) Exception\n",
    "# 6) 以上皆非"
   ]
  },
  {
   "cell_type": "code",
   "execution_count": null,
   "metadata": {},
   "outputs": [],
   "source": [
    "# Q.\n",
    "\n",
    "# 1)\n",
    "# 2)\n",
    "# 3)\n",
    "# 4)\n",
    "# 5) Exception\n",
    "# 6) 以上皆非"
   ]
  },
  {
   "cell_type": "code",
   "execution_count": null,
   "metadata": {},
   "outputs": [],
   "source": [
    "# Q.\n",
    "\n",
    "# 1)\n",
    "# 2)\n",
    "# 3)\n",
    "# 4)\n",
    "# 5) Exception\n",
    "# 6) 以上皆非"
   ]
  },
  {
   "cell_type": "code",
   "execution_count": null,
   "metadata": {},
   "outputs": [],
   "source": [
    "# Q.\n",
    "\n",
    "# 1)\n",
    "# 2)\n",
    "# 3)\n",
    "# 4)\n",
    "# 5) Exception\n",
    "# 6) 以上皆非"
   ]
  },
  {
   "cell_type": "code",
   "execution_count": null,
   "metadata": {},
   "outputs": [],
   "source": [
    "# Q.\n",
    "\n",
    "# 1)\n",
    "# 2)\n",
    "# 3)\n",
    "# 4)\n",
    "# 5) Exception\n",
    "# 6) 以上皆非"
   ]
  },
  {
   "cell_type": "code",
   "execution_count": null,
   "metadata": {},
   "outputs": [],
   "source": [
    "# Q.\n",
    "\n",
    "# 1)\n",
    "# 2)\n",
    "# 3)\n",
    "# 4)\n",
    "# 5) Exception\n",
    "# 6) 以上皆非"
   ]
  },
  {
   "cell_type": "code",
   "execution_count": null,
   "metadata": {},
   "outputs": [],
   "source": [
    "# Q.\n",
    "\n",
    "# 1)\n",
    "# 2)\n",
    "# 3)\n",
    "# 4)\n",
    "# 5) Exception\n",
    "# 6) 以上皆非"
   ]
  },
  {
   "cell_type": "code",
   "execution_count": null,
   "metadata": {},
   "outputs": [],
   "source": [
    "# Q.\n",
    "\n",
    "# 1)\n",
    "# 2)\n",
    "# 3)\n",
    "# 4)\n",
    "# 5) Exception\n",
    "# 6) 以上皆非"
   ]
  },
  {
   "cell_type": "code",
   "execution_count": null,
   "metadata": {},
   "outputs": [],
   "source": [
    "# Q.\n",
    "\n",
    "# 1)\n",
    "# 2)\n",
    "# 3)\n",
    "# 4)\n",
    "# 5) Exception\n",
    "# 6) 以上皆非"
   ]
  },
  {
   "cell_type": "code",
   "execution_count": null,
   "metadata": {},
   "outputs": [],
   "source": [
    "# Q.\n",
    "\n",
    "# 1)\n",
    "# 2)\n",
    "# 3)\n",
    "# 4)\n",
    "# 5) Exception\n",
    "# 6) 以上皆非"
   ]
  },
  {
   "cell_type": "code",
   "execution_count": null,
   "metadata": {},
   "outputs": [],
   "source": [
    "# Q.\n",
    "\n",
    "# 1)\n",
    "# 2)\n",
    "# 3)\n",
    "# 4)\n",
    "# 5) Exception\n",
    "# 6) 以上皆非"
   ]
  }
 ],
 "metadata": {
  "kernelspec": {
   "display_name": "Python 3",
   "language": "python",
   "name": "python3"
  },
  "language_info": {
   "codemirror_mode": {
    "name": "ipython",
    "version": 3
   },
   "file_extension": ".py",
   "mimetype": "text/x-python",
   "name": "python",
   "nbconvert_exporter": "python",
   "pygments_lexer": "ipython3",
   "version": "3.12.2"
  }
 },
 "nbformat": 4,
 "nbformat_minor": 2
}
