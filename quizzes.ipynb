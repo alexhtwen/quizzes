{
 "cells": [
  {
   "cell_type": "markdown",
   "metadata": {},
   "source": [
    "<div style=\"font-family: 'Gen Jyuu Gothic Monospace Medium', 'Noto Sans TC', 'Inconsolata'; font-size: 260%; font-weight: 700; text-align: left; color: #BFD8AF;\">\n",
    "<br>\n",
    "「不識廬山真面目，只緣身在此山中」\n",
    "<br>\n",
    "</div>\n",
    "<div style=\"font-family: 'Ubuntu Mono', 'Noto Sans TC', 'Inconsolata'; font-size: 130%; font-weight: 900; text-align: right; color: gray;\">\n",
    "中國最偉大文人--蘇東坡　\n",
    "</div>\n",
    "<br><br><br>\n",
    "<div style=\"font-family: 'Ubuntu Mono', 'Noto Sans TC', 'Inconsolata'; font-size: 250%; font-weight: 900; text-align: center; color: #FFFDCB;\">\n",
    "Python Quiz-2\n",
    "</div>\n",
    "<br><br>"
   ]
  },
  {
   "cell_type": "code",
   "execution_count": 45,
   "metadata": {},
   "outputs": [
    {
     "data": {
      "application/javascript": "// 設定output文字顏色\ndocument.styleSheets[0].addRule('body', 'color: #BFD8AF !important;')\n",
      "text/plain": [
       "<IPython.core.display.Javascript object>"
      ]
     },
     "metadata": {},
     "output_type": "display_data"
    }
   ],
   "source": [
    "%%javascript\n",
    "// 設定output文字顏色\n",
    "document.styleSheets[0].addRule('body', 'color: #BFD8AF !important;')"
   ]
  },
  {
   "cell_type": "code",
   "execution_count": 2,
   "metadata": {},
   "outputs": [
    {
     "name": "stdout",
     "output_type": "stream",
     "text": [
      "Scribo, ergo sum.\n",
      "Sum, ergo scribo.\n"
     ]
    }
   ],
   "source": [
    "print('Scribo, ergo sum.')   # 我code故我在\n",
    "print('Sum, ergo scribo.')   # 我在故我code"
   ]
  },
  {
   "cell_type": "code",
   "execution_count": 3,
   "metadata": {},
   "outputs": [],
   "source": [
    "from answers import get_ans"
   ]
  },
  {
   "cell_type": "code",
   "execution_count": 43,
   "metadata": {},
   "outputs": [
    {
     "name": "stdout",
     "output_type": "stream",
     "text": [
      "1\n",
      "正確選項：A\n"
     ]
    }
   ],
   "source": [
    "qid = 1   # indexing-1\n",
    "nums = (1, 3, 5, 7, 9)   # 注意型別\n",
    "print(nums[0])\n",
    "\n",
    "# A) 1\n",
    "# B) 3\n",
    "# C) 5\n",
    "# D) 7\n",
    "# E) 9\n",
    "# F) Exception\n",
    "print(f'正確選項：{get_ans(qid)}')"
   ]
  },
  {
   "cell_type": "code",
   "execution_count": 46,
   "metadata": {},
   "outputs": [
    {
     "name": "stdout",
     "output_type": "stream",
     "text": [
      "5\n",
      "正確選項：C\n"
     ]
    }
   ],
   "source": [
    "qid = 2   # indexing-2\n",
    "nums = [1, 3, 5, 7, 9]   # 注意型別\n",
    "print(nums[2])\n",
    "\n",
    "# A) 1\n",
    "# B) 3\n",
    "# C) 5\n",
    "# D) 7\n",
    "# E) 9\n",
    "# F) Exception\n",
    "print(f'正確選項：{get_ans(qid)}')"
   ]
  },
  {
   "cell_type": "code",
   "execution_count": 47,
   "metadata": {},
   "outputs": [
    {
     "data": {
      "text/plain": [
       "'s'"
      ]
     },
     "execution_count": 47,
     "metadata": {},
     "output_type": "execute_result"
    },
    {
     "name": "stdout",
     "output_type": "stream",
     "text": [
      "正確選項：E\n"
     ]
    }
   ],
   "source": [
    "qid = 3   # indexing-3\n",
    "chars = 'Pythonista'\n",
    "chars[7]\n",
    "\n",
    "# A) 'P'\n",
    "# B) 'y'\n",
    "# C) 'h'\n",
    "# D) 'n'\n",
    "# E) 's'\n",
    "# F) Exception\n",
    "print(f'正確選項：{get_ans(qid)}')"
   ]
  },
  {
   "cell_type": "code",
   "execution_count": 48,
   "metadata": {},
   "outputs": [
    {
     "ename": "IndexError",
     "evalue": "tuple index out of range",
     "output_type": "error",
     "traceback": [
      "\u001b[0;31m---------------------------------------------------------------------------\u001b[0m",
      "\u001b[0;31mIndexError\u001b[0m                                Traceback (most recent call last)",
      "Cell \u001b[0;32mIn[48], line 3\u001b[0m\n\u001b[1;32m      1\u001b[0m qid \u001b[38;5;241m=\u001b[39m \u001b[38;5;241m4\u001b[39m   \u001b[38;5;66;03m# indexing-4\u001b[39;00m\n\u001b[1;32m      2\u001b[0m nums \u001b[38;5;241m=\u001b[39m (\u001b[38;5;241m1\u001b[39m, \u001b[38;5;241m3\u001b[39m, \u001b[38;5;241m5\u001b[39m, \u001b[38;5;241m7\u001b[39m, \u001b[38;5;241m9\u001b[39m)\n\u001b[0;32m----> 3\u001b[0m \u001b[38;5;28mprint\u001b[39m(\u001b[43mnums\u001b[49m\u001b[43m[\u001b[49m\u001b[38;5;241;43m5\u001b[39;49m\u001b[43m]\u001b[49m)\n\u001b[1;32m      5\u001b[0m \u001b[38;5;66;03m# A) 1\u001b[39;00m\n\u001b[1;32m      6\u001b[0m \u001b[38;5;66;03m# B) 3\u001b[39;00m\n\u001b[1;32m      7\u001b[0m \u001b[38;5;66;03m# C) 5\u001b[39;00m\n\u001b[1;32m      8\u001b[0m \u001b[38;5;66;03m# D) 7\u001b[39;00m\n\u001b[1;32m      9\u001b[0m \u001b[38;5;66;03m# E) 9\u001b[39;00m\n\u001b[1;32m     10\u001b[0m \u001b[38;5;66;03m# F) Exception\u001b[39;00m\n\u001b[1;32m     11\u001b[0m \u001b[38;5;28mprint\u001b[39m(\u001b[38;5;124mf\u001b[39m\u001b[38;5;124m'\u001b[39m\u001b[38;5;124m正確選項：\u001b[39m\u001b[38;5;132;01m{\u001b[39;00mget_ans(qid)\u001b[38;5;132;01m}\u001b[39;00m\u001b[38;5;124m'\u001b[39m)\n",
      "\u001b[0;31mIndexError\u001b[0m: tuple index out of range"
     ]
    }
   ],
   "source": [
    "qid = 4   # indexing-4\n",
    "nums = (1, 3, 5, 7, 9)\n",
    "print(nums[5])\n",
    "\n",
    "# A) 1\n",
    "# B) 3\n",
    "# C) 5\n",
    "# D) 7\n",
    "# E) 9\n",
    "# F) Exception\n",
    "print(f'正確選項：{get_ans(qid)}')"
   ]
  },
  {
   "cell_type": "code",
   "execution_count": 49,
   "metadata": {},
   "outputs": [
    {
     "name": "stdout",
     "output_type": "stream",
     "text": [
      "1\n",
      "正確選項：A\n"
     ]
    }
   ],
   "source": [
    "qid = 5   # indexing-5\n",
    "nums = [1, 3, 5, 7, 9]\n",
    "print(nums[-0])\n",
    "\n",
    "# A) 1\n",
    "# B) 3\n",
    "# C) 5\n",
    "# D) 7\n",
    "# E) 9\n",
    "# F) Exception\n",
    "print(f'正確選項：{get_ans(qid)}')"
   ]
  },
  {
   "cell_type": "code",
   "execution_count": 50,
   "metadata": {},
   "outputs": [
    {
     "data": {
      "text/plain": [
       "'a'"
      ]
     },
     "execution_count": 50,
     "metadata": {},
     "output_type": "execute_result"
    },
    {
     "name": "stdout",
     "output_type": "stream",
     "text": [
      "正確選項：D\n"
     ]
    }
   ],
   "source": [
    "qid = 6   # indexing-6\n",
    "chars = 'Pythonista'\n",
    "chars[-1]\n",
    "\n",
    "# A) 'P'\n",
    "# B) 'h'\n",
    "# C) 'i'\n",
    "# D) 'a'\n",
    "# E) ''\n",
    "# F) Exception\n",
    "print(f'正確選項：{get_ans(qid)}')"
   ]
  },
  {
   "cell_type": "code",
   "execution_count": 51,
   "metadata": {},
   "outputs": [
    {
     "name": "stdout",
     "output_type": "stream",
     "text": [
      "5\n",
      "正確選項：C\n"
     ]
    }
   ],
   "source": [
    "qid = 7   # indexing-7\n",
    "nums = (1, 3, 5, 7, 9)\n",
    "print(nums[-3])\n",
    "# A) 1\n",
    "# B) 3\n",
    "# C) 5\n",
    "# D) 7\n",
    "# E) 9\n",
    "# F) Exception\n",
    "print(f'正確選項：{get_ans(qid)}')"
   ]
  },
  {
   "cell_type": "code",
   "execution_count": 52,
   "metadata": {},
   "outputs": [
    {
     "ename": "IndexError",
     "evalue": "list index out of range",
     "output_type": "error",
     "traceback": [
      "\u001b[0;31m---------------------------------------------------------------------------\u001b[0m",
      "\u001b[0;31mIndexError\u001b[0m                                Traceback (most recent call last)",
      "Cell \u001b[0;32mIn[52], line 3\u001b[0m\n\u001b[1;32m      1\u001b[0m qid \u001b[38;5;241m=\u001b[39m \u001b[38;5;241m8\u001b[39m   \u001b[38;5;66;03m# indexing-8\u001b[39;00m\n\u001b[1;32m      2\u001b[0m nums \u001b[38;5;241m=\u001b[39m [\u001b[38;5;241m1\u001b[39m, \u001b[38;5;241m3\u001b[39m, \u001b[38;5;241m5\u001b[39m, \u001b[38;5;241m7\u001b[39m, \u001b[38;5;241m9\u001b[39m]\n\u001b[0;32m----> 3\u001b[0m \u001b[38;5;28mprint\u001b[39m(\u001b[43mnums\u001b[49m\u001b[43m[\u001b[49m\u001b[38;5;241;43m-\u001b[39;49m\u001b[38;5;241;43m6\u001b[39;49m\u001b[43m]\u001b[49m)\n\u001b[1;32m      5\u001b[0m \u001b[38;5;66;03m# A) 1\u001b[39;00m\n\u001b[1;32m      6\u001b[0m \u001b[38;5;66;03m# B) -6\u001b[39;00m\n\u001b[1;32m      7\u001b[0m \u001b[38;5;66;03m# C) 9\u001b[39;00m\n\u001b[1;32m      8\u001b[0m \u001b[38;5;66;03m# D) None\u001b[39;00m\n\u001b[1;32m      9\u001b[0m \u001b[38;5;66;03m# E) Exception\u001b[39;00m\n\u001b[1;32m     10\u001b[0m \u001b[38;5;66;03m# F) 以上皆非\u001b[39;00m\n\u001b[1;32m     11\u001b[0m \u001b[38;5;28mprint\u001b[39m(\u001b[38;5;124mf\u001b[39m\u001b[38;5;124m'\u001b[39m\u001b[38;5;124m正確選項：\u001b[39m\u001b[38;5;132;01m{\u001b[39;00mget_ans(qid)\u001b[38;5;132;01m}\u001b[39;00m\u001b[38;5;124m'\u001b[39m)\n",
      "\u001b[0;31mIndexError\u001b[0m: list index out of range"
     ]
    }
   ],
   "source": [
    "qid = 8   # indexing-8\n",
    "nums = [1, 3, 5, 7, 9]\n",
    "print(nums[-6])\n",
    "\n",
    "# A) 1\n",
    "# B) -6\n",
    "# C) 9\n",
    "# D) None\n",
    "# E) Exception\n",
    "# F) 以上皆非\n",
    "print(f'正確選項：{get_ans(qid)}')"
   ]
  },
  {
   "cell_type": "code",
   "execution_count": 53,
   "metadata": {},
   "outputs": [
    {
     "ename": "IndexError",
     "evalue": "string index out of range",
     "output_type": "error",
     "traceback": [
      "\u001b[0;31m---------------------------------------------------------------------------\u001b[0m",
      "\u001b[0;31mIndexError\u001b[0m                                Traceback (most recent call last)",
      "Cell \u001b[0;32mIn[53], line 3\u001b[0m\n\u001b[1;32m      1\u001b[0m qid \u001b[38;5;241m=\u001b[39m \u001b[38;5;241m9\u001b[39m   \u001b[38;5;66;03m# indexing-9\u001b[39;00m\n\u001b[1;32m      2\u001b[0m chars \u001b[38;5;241m=\u001b[39m \u001b[38;5;124m'\u001b[39m\u001b[38;5;124mPythonista\u001b[39m\u001b[38;5;124m'\u001b[39m\n\u001b[0;32m----> 3\u001b[0m \u001b[43mchars\u001b[49m\u001b[43m[\u001b[49m\u001b[38;5;28;43mlen\u001b[39;49m\u001b[43m(\u001b[49m\u001b[43mchars\u001b[49m\u001b[43m)\u001b[49m\u001b[43m]\u001b[49m\n\u001b[1;32m      5\u001b[0m \u001b[38;5;66;03m# A) 'P'\u001b[39;00m\n\u001b[1;32m      6\u001b[0m \u001b[38;5;66;03m# B) 't'\u001b[39;00m\n\u001b[1;32m      7\u001b[0m \u001b[38;5;66;03m# C) 'a'\u001b[39;00m\n\u001b[1;32m      8\u001b[0m \u001b[38;5;66;03m# D) ''\u001b[39;00m\n\u001b[1;32m      9\u001b[0m \u001b[38;5;66;03m# E) Exception\u001b[39;00m\n\u001b[1;32m     10\u001b[0m \u001b[38;5;66;03m# F) 以上皆非\u001b[39;00m\n\u001b[1;32m     11\u001b[0m \u001b[38;5;28mprint\u001b[39m(\u001b[38;5;124mf\u001b[39m\u001b[38;5;124m'\u001b[39m\u001b[38;5;124m正確選項：\u001b[39m\u001b[38;5;132;01m{\u001b[39;00mget_ans(qid)\u001b[38;5;132;01m}\u001b[39;00m\u001b[38;5;124m'\u001b[39m)\n",
      "\u001b[0;31mIndexError\u001b[0m: string index out of range"
     ]
    }
   ],
   "source": [
    "qid = 9   # indexing-9\n",
    "chars = 'Pythonista'\n",
    "chars[len(chars)]\n",
    "\n",
    "# A) 'P'\n",
    "# B) 't'\n",
    "# C) 'a'\n",
    "# D) ''\n",
    "# E) Exception\n",
    "# F) 以上皆非\n",
    "print(f'正確選項：{get_ans(qid)}')"
   ]
  },
  {
   "cell_type": "code",
   "execution_count": 54,
   "metadata": {},
   "outputs": [
    {
     "ename": "TypeError",
     "evalue": "'set' object is not subscriptable",
     "output_type": "error",
     "traceback": [
      "\u001b[0;31m---------------------------------------------------------------------------\u001b[0m",
      "\u001b[0;31mTypeError\u001b[0m                                 Traceback (most recent call last)",
      "Cell \u001b[0;32mIn[54], line 3\u001b[0m\n\u001b[1;32m      1\u001b[0m qid \u001b[38;5;241m=\u001b[39m \u001b[38;5;241m10\u001b[39m   \u001b[38;5;66;03m# indexing-10\u001b[39;00m\n\u001b[1;32m      2\u001b[0m nums \u001b[38;5;241m=\u001b[39m {\u001b[38;5;241m1\u001b[39m, \u001b[38;5;241m3\u001b[39m, \u001b[38;5;241m5\u001b[39m, \u001b[38;5;241m7\u001b[39m, \u001b[38;5;241m9\u001b[39m}\n\u001b[0;32m----> 3\u001b[0m \u001b[38;5;28mprint\u001b[39m(\u001b[43mnums\u001b[49m\u001b[43m[\u001b[49m\u001b[38;5;241;43m3\u001b[39;49m\u001b[43m]\u001b[49m)\n\u001b[1;32m      5\u001b[0m \u001b[38;5;66;03m# A) 1\u001b[39;00m\n\u001b[1;32m      6\u001b[0m \u001b[38;5;66;03m# B) 3\u001b[39;00m\n\u001b[1;32m      7\u001b[0m \u001b[38;5;66;03m# C) 5\u001b[39;00m\n\u001b[1;32m      8\u001b[0m \u001b[38;5;66;03m# D) 7\u001b[39;00m\n\u001b[1;32m      9\u001b[0m \u001b[38;5;66;03m# E) 9\u001b[39;00m\n\u001b[1;32m     10\u001b[0m \u001b[38;5;66;03m# F) 以上皆非\u001b[39;00m\n\u001b[1;32m     11\u001b[0m \u001b[38;5;28mprint\u001b[39m(\u001b[38;5;124mf\u001b[39m\u001b[38;5;124m'\u001b[39m\u001b[38;5;124m正確選項：\u001b[39m\u001b[38;5;132;01m{\u001b[39;00mget_ans(qid)\u001b[38;5;132;01m}\u001b[39;00m\u001b[38;5;124m'\u001b[39m)\n",
      "\u001b[0;31mTypeError\u001b[0m: 'set' object is not subscriptable"
     ]
    }
   ],
   "source": [
    "qid = 10   # indexing-10\n",
    "nums = {1, 3, 5, 7, 9}\n",
    "print(nums[3])\n",
    "\n",
    "# A) 1\n",
    "# B) 3\n",
    "# C) 5\n",
    "# D) 7\n",
    "# E) 9\n",
    "# F) 以上皆非\n",
    "print(f'正確選項：{get_ans(qid)}')"
   ]
  },
  {
   "cell_type": "code",
   "execution_count": 55,
   "metadata": {},
   "outputs": [
    {
     "name": "stdout",
     "output_type": "stream",
     "text": [
      "7\n",
      "正確選項：C\n"
     ]
    }
   ],
   "source": [
    "qid = 11   # indexing-11\n",
    "nums = {0: 1, 1: 3, 2: 5, -3: 7, 4: 0}   # dict\n",
    "print(nums[-3])\n",
    "\n",
    "# A) 3\n",
    "# B) 5\n",
    "# C) 7\n",
    "# D) 9\n",
    "# E) Exception\n",
    "# F) 以上皆非\n",
    "print(f'正確選項：{get_ans(qid)}')"
   ]
  },
  {
   "cell_type": "code",
   "execution_count": 56,
   "metadata": {},
   "outputs": [
    {
     "ename": "TypeError",
     "evalue": "'int' object is not subscriptable",
     "output_type": "error",
     "traceback": [
      "\u001b[0;31m---------------------------------------------------------------------------\u001b[0m",
      "\u001b[0;31mTypeError\u001b[0m                                 Traceback (most recent call last)",
      "Cell \u001b[0;32mIn[56], line 3\u001b[0m\n\u001b[1;32m      1\u001b[0m qid \u001b[38;5;241m=\u001b[39m \u001b[38;5;241m12\u001b[39m   \u001b[38;5;66;03m# indexing-12\u001b[39;00m\n\u001b[1;32m      2\u001b[0m s_id \u001b[38;5;241m=\u001b[39m \u001b[38;5;241m12_3_4567_89\u001b[39m   \u001b[38;5;66;03m# int  12,345,678\u001b[39;00m\n\u001b[0;32m----> 3\u001b[0m \u001b[38;5;28mprint\u001b[39m(\u001b[43ms_id\u001b[49m\u001b[43m[\u001b[49m\u001b[38;5;241;43m3\u001b[39;49m\u001b[43m]\u001b[49m)\n\u001b[1;32m      5\u001b[0m \u001b[38;5;66;03m# A) 4\u001b[39;00m\n\u001b[1;32m      6\u001b[0m \u001b[38;5;66;03m# B) 2\u001b[39;00m\n\u001b[1;32m      7\u001b[0m \u001b[38;5;66;03m# C) 3\u001b[39;00m\n\u001b[1;32m      8\u001b[0m \u001b[38;5;66;03m# D) _\u001b[39;00m\n\u001b[1;32m      9\u001b[0m \u001b[38;5;66;03m# E) 789\u001b[39;00m\n\u001b[1;32m     10\u001b[0m \u001b[38;5;66;03m# F) 以上皆非\u001b[39;00m\n\u001b[1;32m     11\u001b[0m \u001b[38;5;28mprint\u001b[39m(\u001b[38;5;124mf\u001b[39m\u001b[38;5;124m'\u001b[39m\u001b[38;5;124m正確選項：\u001b[39m\u001b[38;5;132;01m{\u001b[39;00mget_ans(qid)\u001b[38;5;132;01m}\u001b[39;00m\u001b[38;5;124m'\u001b[39m)\n",
      "\u001b[0;31mTypeError\u001b[0m: 'int' object is not subscriptable"
     ]
    }
   ],
   "source": [
    "qid = 12   # indexing-12\n",
    "s_id = 12_3_4567_89   # int  12,345,678\n",
    "print(s_id[3])\n",
    "\n",
    "# A) 4\n",
    "# B) 2\n",
    "# C) 3\n",
    "# D) _\n",
    "# E) 789\n",
    "# F) 以上皆非\n",
    "print(f'正確選項：{get_ans(qid)}')"
   ]
  },
  {
   "cell_type": "code",
   "execution_count": 57,
   "metadata": {},
   "outputs": [
    {
     "name": "stdout",
     "output_type": "stream",
     "text": [
      "(1, 2, 3, 4, 5, 6)\n",
      "正確選項：D\n"
     ]
    }
   ],
   "source": [
    "qid = 13   # slicing-1\n",
    "nums = (1, 2, 3, 4, 5, 6)\n",
    "print(nums[0::1])\n",
    "\n",
    "# A) ()\n",
    "# B) (1, 2, 3)\n",
    "# C) (4, 5, 6)\n",
    "# D) (1, 2, 3, 4, 5, 6)\n",
    "# E) Exception\n",
    "# F) 以上皆非\n",
    "print(f'正確選項：{get_ans(qid)}')"
   ]
  },
  {
   "cell_type": "code",
   "execution_count": 58,
   "metadata": {},
   "outputs": [
    {
     "name": "stdout",
     "output_type": "stream",
     "text": [
      "[1, 2, 3, 4, 5, 6]\n",
      "正確選項：D\n"
     ]
    }
   ],
   "source": [
    "qid = 14   # slicing-2\n",
    "nums = [1, 2, 3, 4, 5, 6]\n",
    "print(nums[0::])\n",
    "\n",
    "# A) []\n",
    "# B) [1, 2, 3]\n",
    "# C) [4, 5, 6]\n",
    "# D) [1, 2, 3, 4, 5, 6]\n",
    "# E) Exception\n",
    "# F) 以上皆非\n",
    "print(f'正確選項：{get_ans(qid)}')"
   ]
  },
  {
   "cell_type": "code",
   "execution_count": 59,
   "metadata": {},
   "outputs": [
    {
     "data": {
      "text/plain": [
       "'Pythonista'"
      ]
     },
     "execution_count": 59,
     "metadata": {},
     "output_type": "execute_result"
    },
    {
     "name": "stdout",
     "output_type": "stream",
     "text": [
      "正確選項：A\n"
     ]
    }
   ],
   "source": [
    "qid = 15   # slicing-3\n",
    "chars = 'Pythonista'\n",
    "chars[::1]\n",
    "\n",
    "# A) 'Pythonista'\n",
    "# B) 'Pyt'\n",
    "# C) 'sta'\n",
    "# D) ''\n",
    "# E) Exception\n",
    "# F) 以上皆非\n",
    "print(f'正確選項：{get_ans(qid)}')"
   ]
  },
  {
   "cell_type": "code",
   "execution_count": 60,
   "metadata": {},
   "outputs": [
    {
     "name": "stdout",
     "output_type": "stream",
     "text": [
      "(1, 2, 3, 4, 5, 6)\n",
      "正確選項：D\n"
     ]
    }
   ],
   "source": [
    "qid = 16   # slicing-4\n",
    "nums = (1, 2, 3, 4, 5, 6)\n",
    "print(nums[::])\n",
    "\n",
    "# A) ()\n",
    "# B) (1, 2, 3)\n",
    "# C) (4, 5, 6)\n",
    "# D) (1, 2, 3, 4, 5, 6)\n",
    "# E) Exception\n",
    "# F) 以上皆非\n",
    "print(f'正確選項：{get_ans(qid)}')"
   ]
  },
  {
   "cell_type": "code",
   "execution_count": 61,
   "metadata": {},
   "outputs": [
    {
     "name": "stdout",
     "output_type": "stream",
     "text": [
      "[1, 2, 3, 4, 5, 6]\n",
      "正確選項：D\n"
     ]
    }
   ],
   "source": [
    "qid = 17   # slicing-5\n",
    "nums = [1, 2, 3, 4, 5, 6]\n",
    "# print(nums[0:len(nums):1])  # 最完整\n",
    "print(nums[:])              # 最精簡\n",
    "\n",
    "# A) []\n",
    "# B) [1, 2, 3]\n",
    "# C) [4, 5, 6]\n",
    "# D) [1, 2, 3, 4, 5, 6]\n",
    "# E) Exception\n",
    "# F) 以上皆非\n",
    "print(f'正確選項：{get_ans(qid)}')"
   ]
  },
  {
   "cell_type": "code",
   "execution_count": 62,
   "metadata": {},
   "outputs": [
    {
     "data": {
      "text/plain": [
       "'yth'"
      ]
     },
     "execution_count": 62,
     "metadata": {},
     "output_type": "execute_result"
    },
    {
     "name": "stdout",
     "output_type": "stream",
     "text": [
      "正確選項：D\n"
     ]
    }
   ],
   "source": [
    "qid = 18   # slicing-6\n",
    "chars = 'Pythonista'\n",
    "chars[1:4]\n",
    "\n",
    "# A) 'Pyth'\n",
    "# B) 'Pyt'\n",
    "# C) 'ytho'\n",
    "# D) 'yth'\n",
    "# E) Exception\n",
    "# F) 以上皆非\n",
    "print(f'正確選項：{get_ans(qid)}')"
   ]
  },
  {
   "cell_type": "code",
   "execution_count": 63,
   "metadata": {},
   "outputs": [
    {
     "name": "stdout",
     "output_type": "stream",
     "text": [
      "(3, 7)\n",
      "正確選項：D\n"
     ]
    }
   ],
   "source": [
    "qid = 19   # slicing-7\n",
    "nums = (1, 3, 5, 7, 9)\n",
    "print(nums[1:4:2])   # start:stop:step\n",
    "\n",
    "# A) (1, 5, 9)\n",
    "# B) (3, 5, 7)\n",
    "# C) (1, 5)\n",
    "# D) (3, 7)\n",
    "# E) Exception\n",
    "# F) 以上皆非\n",
    "print(f'正確選項：{get_ans(qid)}')"
   ]
  },
  {
   "cell_type": "code",
   "execution_count": 68,
   "metadata": {},
   "outputs": [
    {
     "name": "stdout",
     "output_type": "stream",
     "text": [
      "[7, 3]\n",
      "正確選項：C\n"
     ]
    }
   ],
   "source": [
    "qid = 20   # slicing-8\n",
    "nums = [1, 3, 5, 7, 9]   # list\n",
    "print(nums[-2::-2])\n",
    "\n",
    "# A) (7, 3)\n",
    "# B) [3, 7]\n",
    "# C) [7, 3]\n",
    "# D) (3, 7)\n",
    "# E) Exception\n",
    "# F) 以上皆非\n",
    "print(f'正確選項：{get_ans(qid)}')"
   ]
  },
  {
   "cell_type": "code",
   "execution_count": 69,
   "metadata": {},
   "outputs": [
    {
     "name": "stdout",
     "output_type": "stream",
     "text": [
      "(5, 3, 1)\n",
      "正確選項：F\n"
     ]
    }
   ],
   "source": [
    "qid = 21   # slicing-9\n",
    "nums = (1, 2, 3, 4, 5, 6)\n",
    "print(nums[-2:-7:-2])\n",
    "\n",
    "# A) (5, 3)\n",
    "# B) (5, 2)\n",
    "# C) (5, 4, 3, 2, 1)\n",
    "# D) (1, 3, 5)\n",
    "# E) Exception\n",
    "# F) 以上皆非\n",
    "print(f'正確選項：{get_ans(qid)}')"
   ]
  },
  {
   "cell_type": "code",
   "execution_count": 70,
   "metadata": {},
   "outputs": [
    {
     "name": "stdout",
     "output_type": "stream",
     "text": [
      "[5, 3, 1]\n",
      "正確選項：F\n"
     ]
    }
   ],
   "source": [
    "qid = 22   # slicing-10\n",
    "nums = [1, 2, 3, 4, 5, 6]\n",
    "print(nums[-2:-100:-2])   # slice 切片\n",
    "# print(nums[-100])         # index 索引\n",
    "\n",
    "# A) [5, 3]\n",
    "# B) [5, 4, 3, 2]\n",
    "# C) [5, 4, 3, 2, 1]\n",
    "# D) [1, 3, 5]\n",
    "# E) Exception\n",
    "# F) 以上皆非\n",
    "print(f'正確選項：{get_ans(qid)}')"
   ]
  },
  {
   "cell_type": "code",
   "execution_count": 71,
   "metadata": {},
   "outputs": [
    {
     "name": "stdout",
     "output_type": "stream",
     "text": [
      "[10, 15, 25, 35, 50]\n",
      "正確選項：C\n"
     ]
    }
   ],
   "source": [
    "qid = 23   # slicing-11\n",
    "nums = [10, 20, 30, 40, 50]\n",
    "nums[1:4] = [15, 25, 35]\n",
    "print(nums)\n",
    "\n",
    "# A) [10, 20, 30, 40, 50]\n",
    "# B) [15, 25, 35, 40, 50]\n",
    "# C) [10, 15, 25, 35, 50]\n",
    "# D) [10, 20, 15, 25, 35]\n",
    "# E) Exception\n",
    "# F) 以上皆非\n",
    "print(f'正確選項：{get_ans(qid)}')"
   ]
  },
  {
   "cell_type": "code",
   "execution_count": 72,
   "metadata": {},
   "outputs": [
    {
     "name": "stdout",
     "output_type": "stream",
     "text": [
      "[10, 50]\n",
      "正確選項：F\n"
     ]
    }
   ],
   "source": [
    "qid = 24   # slicing-12\n",
    "nums = [10, 20, 30, 40, 50]\n",
    "nums[1:4] = []\n",
    "print(nums)\n",
    "\n",
    "# A) [10, 20, 30, 40, 50]\n",
    "# B) [10, [], 50]\n",
    "# C) [10, []]\n",
    "# D) []\n",
    "# E) Exception\n",
    "# F) 以上皆非\n",
    "print(f'正確選項：{get_ans(qid)}')"
   ]
  },
  {
   "cell_type": "code",
   "execution_count": 73,
   "metadata": {},
   "outputs": [
    {
     "ename": "TypeError",
     "evalue": "can only assign an iterable",
     "output_type": "error",
     "traceback": [
      "\u001b[0;31m---------------------------------------------------------------------------\u001b[0m",
      "\u001b[0;31mTypeError\u001b[0m                                 Traceback (most recent call last)",
      "Cell \u001b[0;32mIn[73], line 3\u001b[0m\n\u001b[1;32m      1\u001b[0m qid \u001b[38;5;241m=\u001b[39m \u001b[38;5;241m25\u001b[39m   \u001b[38;5;66;03m# slicing-13\u001b[39;00m\n\u001b[1;32m      2\u001b[0m nums \u001b[38;5;241m=\u001b[39m [\u001b[38;5;241m1\u001b[39m, \u001b[38;5;241m3\u001b[39m, \u001b[38;5;241m5\u001b[39m, \u001b[38;5;241m7\u001b[39m, \u001b[38;5;241m9\u001b[39m]\n\u001b[0;32m----> 3\u001b[0m \u001b[43mnums\u001b[49m\u001b[43m[\u001b[49m\u001b[38;5;241;43m1\u001b[39;49m\u001b[43m:\u001b[49m\u001b[38;5;241;43m4\u001b[39;49m\u001b[43m]\u001b[49m \u001b[38;5;241m=\u001b[39m \u001b[38;5;241m0\u001b[39m\n\u001b[1;32m      4\u001b[0m \u001b[38;5;28mprint\u001b[39m(nums)\n\u001b[1;32m      6\u001b[0m \u001b[38;5;66;03m# A) [1, 3, 5, 7, 9]\u001b[39;00m\n\u001b[1;32m      7\u001b[0m \u001b[38;5;66;03m# B) [0, 1, 3, 5, 7, 9]\u001b[39;00m\n\u001b[1;32m      8\u001b[0m \u001b[38;5;66;03m# C) [1, 0, 3, 5, 7, 9]\u001b[39;00m\n\u001b[1;32m      9\u001b[0m \u001b[38;5;66;03m# D) [1, 0, 5, 7, 9]\u001b[39;00m\n\u001b[1;32m     10\u001b[0m \u001b[38;5;66;03m# E) Exception\u001b[39;00m\n\u001b[1;32m     11\u001b[0m \u001b[38;5;66;03m# F) 以上皆非\u001b[39;00m\n",
      "\u001b[0;31mTypeError\u001b[0m: can only assign an iterable"
     ]
    }
   ],
   "source": [
    "qid = 25   # slicing-13\n",
    "nums = [1, 3, 5, 7, 9]\n",
    "nums[1:4] = 0\n",
    "print(nums)\n",
    "\n",
    "# A) [1, 3, 5, 7, 9]\n",
    "# B) [0, 1, 3, 5, 7, 9]\n",
    "# C) [1, 0, 3, 5, 7, 9]\n",
    "# D) [1, 0, 5, 7, 9]\n",
    "# E) Exception\n",
    "# F) 以上皆非\n",
    "print(f'正確選項：{get_ans(qid)}')"
   ]
  },
  {
   "cell_type": "code",
   "execution_count": 74,
   "metadata": {},
   "outputs": [
    {
     "name": "stdout",
     "output_type": "stream",
     "text": [
      "[1, 0, 2, 5, 7, 9]\n",
      "正確選項：D\n"
     ]
    }
   ],
   "source": [
    "qid = 26   # slice assignment-14\n",
    "nums = [1, 3, 5, 7, 9]\n",
    "nums[1:2] = [0, 2]\n",
    "print(nums)\n",
    "\n",
    "# A) [1, 3, 5, 7, 9]\n",
    "# B) [0, 2, 1, 3, 5, 7, 9]\n",
    "# C) [1, 0, 2, 3, 5, 7, 9]\n",
    "# D) [1, 0, 2, 5, 7, 9]\n",
    "# E) Exception\n",
    "# F) 以上皆非\n",
    "print(f'正確選項：{get_ans(qid)}')"
   ]
  },
  {
   "cell_type": "code",
   "execution_count": 75,
   "metadata": {},
   "outputs": [
    {
     "name": "stdout",
     "output_type": "stream",
     "text": [
      "[1, 9]\n",
      "正確選項：F\n"
     ]
    }
   ],
   "source": [
    "qid = 27   # slice assignment-15\n",
    "nums = [1, 3, 5, 7, 9]\n",
    "nums[1:4] = []\n",
    "print(nums)\n",
    "\n",
    "# A) [0, 1, 3, 5, 7, 9]\n",
    "# B) [1, 0, 5, 7, 9]\n",
    "# C) [1, 3, 0, 7, 9]\n",
    "# D) [1, 3, 5, 7, 9]\n",
    "# E) Exception\n",
    "# F) 以上皆非\n",
    "print(f'正確選項：{get_ans(qid)}')"
   ]
  },
  {
   "cell_type": "code",
   "execution_count": 76,
   "metadata": {},
   "outputs": [
    {
     "name": "stdout",
     "output_type": "stream",
     "text": [
      "[]\n",
      "正確選項：F\n"
     ]
    }
   ],
   "source": [
    "qid = 28   # slice assignment-16\n",
    "nums = [1, 3, 5, 7, 9]\n",
    "nums[:100] = []\n",
    "print(nums)\n",
    "\n",
    "# A) [1, 3, 5, 7, 9]\n",
    "# B) [[1], [3], [5], [7], [9]]\n",
    "# C) [[100]]\n",
    "# D) [[]]\n",
    "# E) Exception\n",
    "# F) 以上皆非\n",
    "print(f'正確選項：{get_ans(qid)}')"
   ]
  },
  {
   "cell_type": "code",
   "execution_count": 77,
   "metadata": {},
   "outputs": [
    {
     "name": "stdout",
     "output_type": "stream",
     "text": [
      "4\t\t[4]\n",
      "正確選項：B\n"
     ]
    }
   ],
   "source": [
    "qid = 29   # indexing and slicing\n",
    "nums = [1, 2, 3, 4, 5, 6]\n",
    "print(f'{nums[3]}\\t\\t{nums[3:4]}')\n",
    "# print(f'{type(nums[3])}\\t{type(nums[3:4])}')\n",
    "\n",
    "# A) 4    4\n",
    "# B) 4    [4]\n",
    "# C) [4]    4\n",
    "# D) [4]    [4]\n",
    "# E) Exception\n",
    "# F) 以上皆非\n",
    "print(f'正確選項：{get_ans(qid)}')"
   ]
  },
  {
   "cell_type": "code",
   "execution_count": 78,
   "metadata": {},
   "outputs": [
    {
     "name": "stdout",
     "output_type": "stream",
     "text": [
      "[1, 2, 3, 4, 99, 6]\n",
      "正確選項：A\n"
     ]
    }
   ],
   "source": [
    "qid = 30   # element assignment-1\n",
    "nums = [1, 2, 3, 4, 5, 6]\n",
    "nums[-2] = 99\n",
    "print(nums)\n",
    "\n",
    "# A) [1, 2, 3, 4, 99, 6]\n",
    "# B) [1, 2, 3, 99, 5, 6]\n",
    "# C) [1, 2, 99, 4, 5, 6]\n",
    "# D) [1, 99, 3, 4, 5, 6]\n",
    "# E) Exception\n",
    "# F) 以上皆非\n",
    "print(f'正確選項：{get_ans(qid)}')"
   ]
  },
  {
   "cell_type": "code",
   "execution_count": 79,
   "metadata": {},
   "outputs": [
    {
     "ename": "TypeError",
     "evalue": "'tuple' object does not support item assignment",
     "output_type": "error",
     "traceback": [
      "\u001b[0;31m---------------------------------------------------------------------------\u001b[0m",
      "\u001b[0;31mTypeError\u001b[0m                                 Traceback (most recent call last)",
      "Cell \u001b[0;32mIn[79], line 3\u001b[0m\n\u001b[1;32m      1\u001b[0m qid \u001b[38;5;241m=\u001b[39m \u001b[38;5;241m31\u001b[39m   \u001b[38;5;66;03m# element assignment-2\u001b[39;00m\n\u001b[1;32m      2\u001b[0m nums \u001b[38;5;241m=\u001b[39m (\u001b[38;5;241m1\u001b[39m, \u001b[38;5;241m2\u001b[39m, \u001b[38;5;241m3\u001b[39m, \u001b[38;5;241m4\u001b[39m, \u001b[38;5;241m5\u001b[39m, \u001b[38;5;241m6\u001b[39m)\n\u001b[0;32m----> 3\u001b[0m \u001b[43mnums\u001b[49m\u001b[43m[\u001b[49m\u001b[38;5;241;43m2\u001b[39;49m\u001b[43m]\u001b[49m \u001b[38;5;241m=\u001b[39m \u001b[38;5;241m99\u001b[39m\n\u001b[1;32m      4\u001b[0m \u001b[38;5;28mprint\u001b[39m(nums)\n\u001b[1;32m      6\u001b[0m \u001b[38;5;66;03m# A) (1, 2, 3, 4, 99, 6)\u001b[39;00m\n\u001b[1;32m      7\u001b[0m \u001b[38;5;66;03m# B) (1, 2, 3, 99, 5, 6)\u001b[39;00m\n\u001b[1;32m      8\u001b[0m \u001b[38;5;66;03m# C) (1, 2, 99, 4, 5, 6)\u001b[39;00m\n\u001b[1;32m      9\u001b[0m \u001b[38;5;66;03m# D) (1, 99, 3, 4, 5, 6)\u001b[39;00m\n\u001b[1;32m     10\u001b[0m \u001b[38;5;66;03m# E) Exception\u001b[39;00m\n\u001b[1;32m     11\u001b[0m \u001b[38;5;66;03m# F) 以上皆非\u001b[39;00m\n",
      "\u001b[0;31mTypeError\u001b[0m: 'tuple' object does not support item assignment"
     ]
    }
   ],
   "source": [
    "qid = 31   # element assignment-2\n",
    "nums = (1, 2, 3, 4, 5, 6)\n",
    "nums[2] = 99\n",
    "print(nums)\n",
    "\n",
    "# A) (1, 2, 3, 4, 99, 6)\n",
    "# B) (1, 2, 3, 99, 5, 6)\n",
    "# C) (1, 2, 99, 4, 5, 6)\n",
    "# D) (1, 99, 3, 4, 5, 6)\n",
    "# E) Exception\n",
    "# F) 以上皆非\n",
    "print(f'正確選項：{get_ans(qid)}')"
   ]
  },
  {
   "cell_type": "code",
   "execution_count": 80,
   "metadata": {},
   "outputs": [
    {
     "name": "stdout",
     "output_type": "stream",
     "text": [
      "True False\n",
      "正確選項：B\n"
     ]
    }
   ],
   "source": [
    "qid = 32   # list comparison-1\n",
    "scores1 = [68, 71, 53, 98, 85]\n",
    "scores2 = [68, 71, 53, 98, 85]\n",
    "print(scores1 == scores2, scores1 is scores2)\n",
    "\n",
    "# A) True True\n",
    "# B) True False\n",
    "# C) False True\n",
    "# D) False False\n",
    "# E) Exception\n",
    "# F) 以上皆非\n",
    "print(f'正確選項：{get_ans(qid)}')"
   ]
  },
  {
   "cell_type": "code",
   "execution_count": 81,
   "metadata": {},
   "outputs": [
    {
     "name": "stdout",
     "output_type": "stream",
     "text": [
      "True True\n",
      "正確選項：A\n"
     ]
    }
   ],
   "source": [
    "qid = 33   # list comparison-2\n",
    "scores1 = [68, 71, 53, 98, 85]\n",
    "scores2 = scores1   # assignment operator\n",
    "print(scores1 == scores2, scores1 is scores2)\n",
    "\n",
    "# A) True True\n",
    "# B) True False\n",
    "# C) False True\n",
    "# D) False False\n",
    "# E) Exception\n",
    "# F) 以上皆非\n",
    "print(f'正確選項：{get_ans(qid)}')"
   ]
  },
  {
   "cell_type": "code",
   "execution_count": 82,
   "metadata": {},
   "outputs": [
    {
     "name": "stdout",
     "output_type": "stream",
     "text": [
      "[3, 5, 3, 5]\n",
      "正確選項：B\n"
     ]
    }
   ],
   "source": [
    "qid = 34   # list assignment\n",
    "i = j = [3, 5]\n",
    "i += j\n",
    "print(i)\n",
    "\n",
    "# A) [[3, 5], [3, 5]]\n",
    "# B) [3, 5, 3, 5]\n",
    "# C) [[3, 5, 3, 5]]\n",
    "# D) [3, 5, [3, 5]]\n",
    "# E) Exception\n",
    "# F) 以上皆非\n",
    "print(f'正確選項：{get_ans(qid)}')"
   ]
  },
  {
   "cell_type": "code",
   "execution_count": 83,
   "metadata": {},
   "outputs": [
    {
     "name": "stdout",
     "output_type": "stream",
     "text": [
      "3 2\n",
      "正確選項：F\n"
     ]
    }
   ],
   "source": [
    "qid = 35   # boolean arithmetics\n",
    "print(True * 3, False + 2)\n",
    "\n",
    "# A) [True, True, True], [False, False]\n",
    "# B) (True, True, True), (False, False)\n",
    "# C) True, True, True, False, False\n",
    "# D) [True, True, True, False, False]\n",
    "# E) Exception\n",
    "# F) 以上皆非\n",
    "print(f'正確選項：{get_ans(qid)}')"
   ]
  },
  {
   "cell_type": "code",
   "execution_count": 84,
   "metadata": {},
   "outputs": [
    {
     "name": "stdout",
     "output_type": "stream",
     "text": [
      "4\n",
      "正確選項：C\n"
     ]
    }
   ],
   "source": [
    "qid = 36   # list append\n",
    "nums = [1, 2, 3]\n",
    "nums.append([4, 5])\n",
    "print(len(nums))\n",
    "\n",
    "# A) 2\n",
    "# B) 3\n",
    "# C) 4\n",
    "# D) 5\n",
    "# E) Exception\n",
    "# F) 以上皆非\n",
    "print(f'正確選項：{get_ans(qid)}')"
   ]
  },
  {
   "cell_type": "code",
   "execution_count": 85,
   "metadata": {},
   "outputs": [
    {
     "name": "stdout",
     "output_type": "stream",
     "text": [
      "-1\n",
      "正確選項：B\n"
     ]
    }
   ],
   "source": [
    "qid = 37   # str.find()\n",
    "chars = 'Pythonista'\n",
    "index = chars.find('t', -1)\n",
    "print(index)\n",
    "\n",
    "# A) -2\n",
    "# B) -1\n",
    "# C) 2\n",
    "# D) 3\n",
    "# E) 8\n",
    "# F) Exception\n",
    "print(f'正確選項：{get_ans(qid)}')"
   ]
  },
  {
   "cell_type": "code",
   "execution_count": 86,
   "metadata": {},
   "outputs": [
    {
     "ename": "SyntaxError",
     "evalue": "invalid syntax. Maybe you meant '==' or ':=' instead of '='? (875073901.py, line 3)",
     "output_type": "error",
     "traceback": [
      "\u001b[0;36m  Cell \u001b[0;32mIn[86], line 3\u001b[0;36m\u001b[0m\n\u001b[0;31m    if True and (score = score + 1):    # expression and statement\u001b[0m\n\u001b[0m                 ^\u001b[0m\n\u001b[0;31mSyntaxError\u001b[0m\u001b[0;31m:\u001b[0m invalid syntax. Maybe you meant '==' or ':=' instead of '='?\n"
     ]
    }
   ],
   "source": [
    "qid = 38   # logical `and/or` and walrus operator-1\n",
    "score = 59\n",
    "if True and (score = score + 1):    # expression and statement\n",
    "# if False and (score = score + 1):\n",
    "# if True or (score = score + 1):\n",
    "# if False or (score = score + 1):\n",
    "    score += 1\n",
    "print(score)\n",
    "\n",
    "# A) 59\n",
    "# B) 60\n",
    "# C) 61\n",
    "# D) 0\n",
    "# E) 1\n",
    "# F) Exception\n",
    "print(f'正確選項：{get_ans(qid)}')"
   ]
  },
  {
   "cell_type": "code",
   "execution_count": 87,
   "metadata": {},
   "outputs": [
    {
     "ename": "SyntaxError",
     "evalue": "invalid syntax (364463785.py, line 3)",
     "output_type": "error",
     "traceback": [
      "\u001b[0;36m  Cell \u001b[0;32mIn[87], line 3\u001b[0;36m\u001b[0m\n\u001b[0;31m    if True and (score += 1):   # score = score + 1\u001b[0m\n\u001b[0m                       ^\u001b[0m\n\u001b[0;31mSyntaxError\u001b[0m\u001b[0;31m:\u001b[0m invalid syntax\n"
     ]
    }
   ],
   "source": [
    "qid = 39     # logical `and/or` and walrus operator-2\n",
    "score = 59\n",
    "if True and (score += 1):   # score = score + 1\n",
    "# if False and (score += 1):\n",
    "# if True or (score += 1):\n",
    "# if False or (score += 1):\n",
    "    score += 1\n",
    "print(score)\n",
    "\n",
    "# A) 59\n",
    "# B) 60\n",
    "# C) 61\n",
    "# D) 0\n",
    "# E) 1\n",
    "# F) Exception\n",
    "print(f'正確選項：{get_ans(qid)}')"
   ]
  },
  {
   "cell_type": "code",
   "execution_count": 88,
   "metadata": {},
   "outputs": [
    {
     "ename": "SyntaxError",
     "evalue": "invalid syntax. Maybe you meant '==' or ':=' instead of '='? (3224189523.py, line 3)",
     "output_type": "error",
     "traceback": [
      "\u001b[0;36m  Cell \u001b[0;32mIn[88], line 3\u001b[0;36m\u001b[0m\n\u001b[0;31m    if True and (score = 0):   # expression 運算式\u001b[0m\n\u001b[0m                 ^\u001b[0m\n\u001b[0;31mSyntaxError\u001b[0m\u001b[0;31m:\u001b[0m invalid syntax. Maybe you meant '==' or ':=' instead of '='?\n"
     ]
    }
   ],
   "source": [
    "qid = 40   # logical `and/or` and walrus operator-3\n",
    "score = 59\n",
    "if True and (score = 0):   # expression 運算式\n",
    "# if False and (score = 0):\n",
    "# if True or (score = 0):\n",
    "# if False or (score = 0):\n",
    "    score += 1\n",
    "print(score)\n",
    "\n",
    "# A) 59\n",
    "# B) 60\n",
    "# C) 61\n",
    "# D) 0\n",
    "# E) 1\n",
    "# F) Exception\n",
    "print(f'正確選項：{get_ans(qid)}')"
   ]
  },
  {
   "cell_type": "code",
   "execution_count": 89,
   "metadata": {},
   "outputs": [
    {
     "name": "stdout",
     "output_type": "stream",
     "text": [
      "61\n",
      "正確選項：C\n"
     ]
    }
   ],
   "source": [
    "qid = 41   # logical `and/or` and walrus operator-4\n",
    "score = 59\n",
    "if True and (score := score + 1):\n",
    "# if False and (score := score + 1):\n",
    "# if True or (score := score + 1):   # short circuit\n",
    "# if False or (score := score + 1):\n",
    "    score += 1\n",
    "print(score)\n",
    "\n",
    "# A) 59\n",
    "# B) 60\n",
    "# C) 61\n",
    "# D) 0\n",
    "# E) 1\n",
    "# F) Exception\n",
    "print(f'正確選項：{get_ans(qid)}')"
   ]
  },
  {
   "cell_type": "code",
   "execution_count": 90,
   "metadata": {},
   "outputs": [
    {
     "name": "stdout",
     "output_type": "stream",
     "text": [
      "0\n",
      "正確選項：D\n"
     ]
    }
   ],
   "source": [
    "qid = 42   # logical `and/or` and walrus operator-5\n",
    "score = 59\n",
    "if True and (score := 0):\n",
    "# if False and (score := 0):\n",
    "# if True or (score := 0):\n",
    "# if False or (score := 0):\n",
    "    score += 1\n",
    "print(score)\n",
    "\n",
    "# A) 59\n",
    "# B) 60\n",
    "# C) 61\n",
    "# D) 0\n",
    "# E) 1\n",
    "# F) Exception\n",
    "print(f'正確選項：{get_ans(qid)}')"
   ]
  },
  {
   "cell_type": "code",
   "execution_count": 91,
   "metadata": {},
   "outputs": [
    {
     "name": "stdout",
     "output_type": "stream",
     "text": [
      "61\n",
      "正確選項：C\n"
     ]
    }
   ],
   "source": [
    "qid = 43   # logical `and/or` and walrus operator-6\n",
    "score = 59\n",
    "if (score := score + 1) and True:\n",
    "# if (score := score + 1) and False:\n",
    "# if (score := score + 1) or True:\n",
    "# if (score := score + 1) or False:\n",
    "    score += 1\n",
    "print(score)\n",
    "\n",
    "# A) 59\n",
    "# B) 60\n",
    "# C) 61\n",
    "# D) 0\n",
    "# E) 1\n",
    "# F) Exception\n",
    "print(f'正確選項：{get_ans(qid)}')"
   ]
  },
  {
   "cell_type": "code",
   "execution_count": 92,
   "metadata": {},
   "outputs": [
    {
     "name": "stdout",
     "output_type": "stream",
     "text": [
      "0\n",
      "正確選項：D\n"
     ]
    }
   ],
   "source": [
    "qid = 44   # logical `and/or` and walrus operator-7\n",
    "score = 59\n",
    "if (score := 0) and True:\n",
    "# if (score := 0) and False:\n",
    "# if (score := 0) or True:\n",
    "# if (score := 0) or False:\n",
    "    score += 1\n",
    "print(score)\n",
    "\n",
    "# A) 59\n",
    "# B) 60\n",
    "# C) 61\n",
    "# D) 0\n",
    "# E) 1\n",
    "# F) Exception\n",
    "print(f'正確選項：{get_ans(qid)}')"
   ]
  },
  {
   "cell_type": "code",
   "execution_count": 93,
   "metadata": {},
   "outputs": [
    {
     "ename": "ZeroDivisionError",
     "evalue": "division by zero",
     "output_type": "error",
     "traceback": [
      "\u001b[0;31m---------------------------------------------------------------------------\u001b[0m",
      "\u001b[0;31mZeroDivisionError\u001b[0m                         Traceback (most recent call last)",
      "Cell \u001b[0;32mIn[93], line 2\u001b[0m\n\u001b[1;32m      1\u001b[0m qid \u001b[38;5;241m=\u001b[39m \u001b[38;5;241m45\u001b[39m   \u001b[38;5;66;03m# bool arithmetics\u001b[39;00m\n\u001b[0;32m----> 2\u001b[0m \u001b[38;5;28mprint\u001b[39m(\u001b[38;5;28;43;01mTrue\u001b[39;49;00m\u001b[43m \u001b[49m\u001b[38;5;241;43m/\u001b[39;49m\u001b[43m \u001b[49m\u001b[38;5;28;43;01mFalse\u001b[39;49;00m)\n\u001b[1;32m      4\u001b[0m \u001b[38;5;66;03m# A) 1\u001b[39;00m\n\u001b[1;32m      5\u001b[0m \u001b[38;5;66;03m# B) 2\u001b[39;00m\n\u001b[1;32m      6\u001b[0m \u001b[38;5;66;03m# C) True\u001b[39;00m\n\u001b[1;32m      7\u001b[0m \u001b[38;5;66;03m# D) False\u001b[39;00m\n\u001b[1;32m      8\u001b[0m \u001b[38;5;66;03m# E) Exception\u001b[39;00m\n\u001b[1;32m      9\u001b[0m \u001b[38;5;66;03m# F) 以上皆非\u001b[39;00m\n\u001b[1;32m     10\u001b[0m \u001b[38;5;28mprint\u001b[39m(\u001b[38;5;124mf\u001b[39m\u001b[38;5;124m'\u001b[39m\u001b[38;5;124m正確選項：\u001b[39m\u001b[38;5;132;01m{\u001b[39;00mget_ans(qid)\u001b[38;5;132;01m}\u001b[39;00m\u001b[38;5;124m'\u001b[39m)\n",
      "\u001b[0;31mZeroDivisionError\u001b[0m: division by zero"
     ]
    }
   ],
   "source": [
    "qid = 45   # bool arithmetics\n",
    "print(True / False)\n",
    "\n",
    "# A) 1\n",
    "# B) 2\n",
    "# C) True\n",
    "# D) False\n",
    "# E) Exception\n",
    "# F) 以上皆非\n",
    "print(f'正確選項：{get_ans(qid)}')"
   ]
  },
  {
   "cell_type": "code",
   "execution_count": 94,
   "metadata": {},
   "outputs": [
    {
     "name": "stdout",
     "output_type": "stream",
     "text": [
      "()\n",
      "正確選項：D\n"
     ]
    }
   ],
   "source": [
    "qid = 46   # multiply an empty tuple\n",
    "print(()*3)\n",
    "\n",
    "# A) ()()()\n",
    "# B) (()()())\n",
    "# C) (()())\n",
    "# D) ()\n",
    "# E) ((()))\n",
    "# F) Exception\n",
    "print(f'正確選項：{get_ans(qid)}')"
   ]
  },
  {
   "cell_type": "code",
   "execution_count": 95,
   "metadata": {},
   "outputs": [
    {
     "name": "stdout",
     "output_type": "stream",
     "text": [
      "['Alex']   ['Alex', 'Van']\n",
      "正確選項：C\n"
     ]
    }
   ],
   "source": [
    "qid = 47   # an empty list as default parameter\n",
    "def foo(x, y=[]):\n",
    "    y.append(x)\n",
    "    return y\n",
    "\n",
    "print(f'{foo('Alex')}   {foo('Van')}')\n",
    "\n",
    "# A) ['Alex', 'Van']\n",
    "# B) 'Alex   Van'\n",
    "# C) ['Alex']   ['Alex', 'Van']\n",
    "# D) 'Alex'   'AlexVan'\n",
    "# E) ['Alex']   ['Van']\n",
    "# F) 'Alex'   'Van'\n",
    "print(f'正確選項：{get_ans(qid)}')"
   ]
  },
  {
   "cell_type": "code",
   "execution_count": 96,
   "metadata": {},
   "outputs": [
    {
     "name": "stdout",
     "output_type": "stream",
     "text": [
      "(a == b) = True\t\t(a is b) = True\n",
      "正確選項：A\n"
     ]
    }
   ],
   "source": [
    "qid = 48   # string interning\n",
    "a = 'Alex'\n",
    "b = 'Alex'\n",
    "print(f'{(a == b) = }\\t\\t{(a is b) = }')\n",
    "\n",
    "# A) (a == b) = True        (a is b) = True\n",
    "# B) (a == b) = True        (a is b) = False\n",
    "# C) (a == b) = False       (a is b) = True\n",
    "# D) (a == b) = False       (a is b) = False\n",
    "# E) Exception\n",
    "# F) 以上皆非\n",
    "print(f'正確選項：{get_ans(qid)}')"
   ]
  },
  {
   "cell_type": "code",
   "execution_count": 97,
   "metadata": {},
   "outputs": [
    {
     "name": "stdout",
     "output_type": "stream",
     "text": [
      "(a == b) = True\t\t(a is b) = False\n",
      "正確選項：B\n"
     ]
    }
   ],
   "source": [
    "qid = 49   # tuple interning?\n",
    "a = ('Alex', )\n",
    "b = ('Alex', )\n",
    "print(f'{(a == b) = }\\t\\t{(a is b) = }')\n",
    "\n",
    "# A) (a == b) = True        (a is b) = True\n",
    "# B) (a == b) = True        (a is b) = False\n",
    "# C) (a == b) = False       (a is b) = True\n",
    "# D) (a == b) = False       (a is b) = False\n",
    "# E) Exception\n",
    "# F) 以上皆非\n",
    "print(f'正確選項：{get_ans(qid)}')"
   ]
  },
  {
   "cell_type": "code",
   "execution_count": 98,
   "metadata": {},
   "outputs": [
    {
     "name": "stdout",
     "output_type": "stream",
     "text": [
      "-3\t-4\n",
      "正確選項：A\n"
     ]
    }
   ],
   "source": [
    "qid = 50   # ceil and floor\n",
    "import math\n",
    "a = -3.75\n",
    "print(f'{math.ceil(a)}\\t{math.floor(a)}')\n",
    "\n",
    "# A) -3     -4\n",
    "# B) -3     -3\n",
    "# C) -4     -4\n",
    "# D) -4     -3\n",
    "# E) Exception\n",
    "# F) 以上皆非\n",
    "print(f'正確選項：{get_ans(qid)}')"
   ]
  },
  {
   "cell_type": "code",
   "execution_count": 99,
   "metadata": {},
   "outputs": [
    {
     "name": "stdout",
     "output_type": "stream",
     "text": [
      "a > b\n",
      "正確選項：A\n"
     ]
    }
   ],
   "source": [
    "qid = 51   # logical and/or + comparison\n",
    "a = -1 and 0\n",
    "b = -1 or 0\n",
    "if a > b:\n",
    "    print('a > b')\n",
    "else:\n",
    "    print('a <= b')\n",
    "\n",
    "# A) a > b\n",
    "# B) a >= b\n",
    "# C) a < b\n",
    "# D) a <= b\n",
    "# E) a == b\n",
    "# F) a != b\n",
    "print(f'正確選項：{get_ans(qid)}')"
   ]
  },
  {
   "cell_type": "code",
   "execution_count": 101,
   "metadata": {},
   "outputs": [
    {
     "name": "stdout",
     "output_type": "stream",
     "text": [
      "1 2 3 []\n",
      "正確選項：C\n"
     ]
    }
   ],
   "source": [
    "qid = 52   # * operator\n",
    "nums = (1, 2, 3)\n",
    "x, y, z, *rest = nums\n",
    "print(x, y, z, rest)\n",
    "\n",
    "# A) 1 2 3\n",
    "# B) 1 2 3 None\n",
    "# C) 1 2 3 []\n",
    "# D) []\n",
    "# E) Exception\n",
    "# F) 以上皆非\n",
    "print(f'正確選項：{get_ans(qid)}')"
   ]
  },
  {
   "cell_type": "code",
   "execution_count": 102,
   "metadata": {},
   "outputs": [
    {
     "name": "stdout",
     "output_type": "stream",
     "text": [
      "True\n",
      "正確選項：A\n"
     ]
    }
   ],
   "source": [
    "qid = 53   # comparison of tuples-1\n",
    "tuple1 = (1, 2, 3, 4)\n",
    "tuple2 = (1, 2, 4)\n",
    "print(tuple2 > tuple1)\n",
    "\n",
    "# A) True\n",
    "# B) False\n",
    "# C) 4\n",
    "# D) None\n",
    "# E) Exception\n",
    "# F) 以上皆非\n",
    "print(f'正確選項：{get_ans(qid)}')"
   ]
  },
  {
   "cell_type": "code",
   "execution_count": 103,
   "metadata": {},
   "outputs": [
    {
     "name": "stdout",
     "output_type": "stream",
     "text": [
      "False\n",
      "正確選項：B\n"
     ]
    }
   ],
   "source": [
    "qid = 54   # comparison of tuples-2\n",
    "tuple1 = (1, 4, 3, 2)\n",
    "tuple2 = (1, 2)\n",
    "print(tuple2 > tuple1)\n",
    "\n",
    "# A) True\n",
    "# B) False\n",
    "# C) 3\n",
    "# D) None\n",
    "# E) Exception\n",
    "# F) 以上皆非\n",
    "print(f'正確選項：{get_ans(qid)}')"
   ]
  },
  {
   "cell_type": "code",
   "execution_count": 104,
   "metadata": {},
   "outputs": [
    {
     "ename": "TypeError",
     "evalue": "'>' not supported between instances of 'int' and 'tuple'",
     "output_type": "error",
     "traceback": [
      "\u001b[0;31m---------------------------------------------------------------------------\u001b[0m",
      "\u001b[0;31mTypeError\u001b[0m                                 Traceback (most recent call last)",
      "Cell \u001b[0;32mIn[104], line 4\u001b[0m\n\u001b[1;32m      2\u001b[0m tuple1 \u001b[38;5;241m=\u001b[39m (\u001b[38;5;241m3\u001b[39m, \u001b[38;5;241m2\u001b[39m, \u001b[38;5;241m1\u001b[39m)\n\u001b[1;32m      3\u001b[0m tuple2 \u001b[38;5;241m=\u001b[39m (\u001b[38;5;241m1\u001b[39m)\n\u001b[0;32m----> 4\u001b[0m \u001b[38;5;28mprint\u001b[39m(\u001b[43mtuple2\u001b[49m\u001b[43m \u001b[49m\u001b[38;5;241;43m>\u001b[39;49m\u001b[43m \u001b[49m\u001b[43mtuple1\u001b[49m)\n\u001b[1;32m      6\u001b[0m \u001b[38;5;66;03m# A) True\u001b[39;00m\n\u001b[1;32m      7\u001b[0m \u001b[38;5;66;03m# B) False\u001b[39;00m\n\u001b[1;32m      8\u001b[0m \u001b[38;5;66;03m# C) 3\u001b[39;00m\n\u001b[1;32m      9\u001b[0m \u001b[38;5;66;03m# D) None\u001b[39;00m\n\u001b[1;32m     10\u001b[0m \u001b[38;5;66;03m# E) Exception\u001b[39;00m\n\u001b[1;32m     11\u001b[0m \u001b[38;5;66;03m# F) 以上皆非\u001b[39;00m\n\u001b[1;32m     12\u001b[0m \u001b[38;5;28mprint\u001b[39m(\u001b[38;5;124mf\u001b[39m\u001b[38;5;124m'\u001b[39m\u001b[38;5;124m正確選項：\u001b[39m\u001b[38;5;132;01m{\u001b[39;00mget_ans(qid)\u001b[38;5;132;01m}\u001b[39;00m\u001b[38;5;124m'\u001b[39m)\n",
      "\u001b[0;31mTypeError\u001b[0m: '>' not supported between instances of 'int' and 'tuple'"
     ]
    }
   ],
   "source": [
    "qid = 55   # comparison of tuples-3\n",
    "tuple1 = (3, 2, 1)\n",
    "tuple2 = (1)\n",
    "print(tuple2 > tuple1)\n",
    "\n",
    "# A) True\n",
    "# B) False\n",
    "# C) 3\n",
    "# D) None\n",
    "# E) Exception\n",
    "# F) 以上皆非\n",
    "print(f'正確選項：{get_ans(qid)}')"
   ]
  },
  {
   "cell_type": "code",
   "execution_count": 105,
   "metadata": {},
   "outputs": [
    {
     "ename": "KeyError",
     "evalue": "'height'",
     "output_type": "error",
     "traceback": [
      "\u001b[0;31m---------------------------------------------------------------------------\u001b[0m",
      "\u001b[0;31mKeyError\u001b[0m                                  Traceback (most recent call last)",
      "Cell \u001b[0;32mIn[105], line 3\u001b[0m\n\u001b[1;32m      1\u001b[0m qid \u001b[38;5;241m=\u001b[39m \u001b[38;5;241m56\u001b[39m   \u001b[38;5;66;03m# access of dict element-1\u001b[39;00m\n\u001b[1;32m      2\u001b[0m d \u001b[38;5;241m=\u001b[39m {\u001b[38;5;124m'\u001b[39m\u001b[38;5;124mname\u001b[39m\u001b[38;5;124m'\u001b[39m: \u001b[38;5;124m'\u001b[39m\u001b[38;5;124mAlex\u001b[39m\u001b[38;5;124m'\u001b[39m, \u001b[38;5;124m'\u001b[39m\u001b[38;5;124mgender\u001b[39m\u001b[38;5;124m'\u001b[39m: \u001b[38;5;124m'\u001b[39m\u001b[38;5;124mM\u001b[39m\u001b[38;5;124m'\u001b[39m, \u001b[38;5;124m'\u001b[39m\u001b[38;5;124mage\u001b[39m\u001b[38;5;124m'\u001b[39m: \u001b[38;5;241m39\u001b[39m}\n\u001b[0;32m----> 3\u001b[0m \u001b[38;5;28mprint\u001b[39m(\u001b[43md\u001b[49m\u001b[43m[\u001b[49m\u001b[38;5;124;43m'\u001b[39;49m\u001b[38;5;124;43mheight\u001b[39;49m\u001b[38;5;124;43m'\u001b[39;49m\u001b[43m]\u001b[49m)\n\u001b[1;32m      5\u001b[0m \u001b[38;5;66;03m# A) 169\u001b[39;00m\n\u001b[1;32m      6\u001b[0m \u001b[38;5;66;03m# B) False\u001b[39;00m\n\u001b[1;32m      7\u001b[0m \u001b[38;5;66;03m# C) True\u001b[39;00m\n\u001b[1;32m      8\u001b[0m \u001b[38;5;66;03m# D) None\u001b[39;00m\n\u001b[1;32m      9\u001b[0m \u001b[38;5;66;03m# E) Exception\u001b[39;00m\n\u001b[1;32m     10\u001b[0m \u001b[38;5;66;03m# F) 以上皆非\u001b[39;00m\n\u001b[1;32m     11\u001b[0m \u001b[38;5;28mprint\u001b[39m(\u001b[38;5;124mf\u001b[39m\u001b[38;5;124m'\u001b[39m\u001b[38;5;124m正確選項：\u001b[39m\u001b[38;5;132;01m{\u001b[39;00mget_ans(qid)\u001b[38;5;132;01m}\u001b[39;00m\u001b[38;5;124m'\u001b[39m)\n",
      "\u001b[0;31mKeyError\u001b[0m: 'height'"
     ]
    }
   ],
   "source": [
    "qid = 56   # access of dict element-1\n",
    "d = {'name': 'Alex', 'gender': 'M', 'age': 39}\n",
    "print(d['height'])\n",
    "\n",
    "# A) 169\n",
    "# B) False\n",
    "# C) True\n",
    "# D) None\n",
    "# E) Exception\n",
    "# F) 以上皆非\n",
    "print(f'正確選項：{get_ans(qid)}')"
   ]
  },
  {
   "cell_type": "code",
   "execution_count": 106,
   "metadata": {},
   "outputs": [
    {
     "name": "stdout",
     "output_type": "stream",
     "text": [
      "None\n",
      "正確選項：D\n"
     ]
    }
   ],
   "source": [
    "qid = 57   # access of dict element-2\n",
    "d = {'name': 'Alex', 'gender': 'M', 'age': 39}\n",
    "print(d.get('height'))\n",
    "\n",
    "# A) 169\n",
    "# B) False\n",
    "# C) True\n",
    "# D) None\n",
    "# E) Exception\n",
    "# F) 以上皆非\n",
    "print(f'正確選項：{get_ans(qid)}')"
   ]
  },
  {
   "cell_type": "code",
   "execution_count": 108,
   "metadata": {},
   "outputs": [
    {
     "name": "stdout",
     "output_type": "stream",
     "text": [
      "['鼠', '牛', '虎', '兔', '猴', '雞', '狗', '豬']\n",
      "正確選項：F\n"
     ]
    }
   ],
   "source": [
    "qid = 58   # del and slice\n",
    "signs = ['鼠', '牛', '虎', '兔', '龍', '蛇', '馬', '羊', '猴', '雞', '狗', '豬']\n",
    "del(signs[4:8])\n",
    "print(signs)\n",
    "\n",
    "# A) ['兔', '龍', '蛇', '馬', '羊']\n",
    "# B) [龍', '蛇', '馬', '羊', '猴']\n",
    "# C) ['龍', '蛇', '馬', '羊']\n",
    "# D) ['兔', '龍', '蛇', '馬']\n",
    "# E) Exception\n",
    "# F) 以上皆非\n",
    "print(f'正確選項：{get_ans(qid)}')"
   ]
  },
  {
   "cell_type": "code",
   "execution_count": 109,
   "metadata": {},
   "outputs": [
    {
     "name": "stdout",
     "output_type": "stream",
     "text": [
      "2\\t4\n",
      "正確選項：B\n"
     ]
    }
   ],
   "source": [
    "qid = 59   # escape sequence\n",
    "x = '2\\\\t4'\n",
    "print(x)\n",
    "\n",
    "# A) 2    4\n",
    "# B) 2\\t4\n",
    "# C) 2\\\\t4\n",
    "# D) 2    t    4\n",
    "# E) 2t4\n",
    "# F) 2\\    4\n",
    "print(f'正確選項：{get_ans(qid)}')"
   ]
  },
  {
   "cell_type": "code",
   "execution_count": 110,
   "metadata": {},
   "outputs": [
    {
     "name": "stdout",
     "output_type": "stream",
     "text": [
      "[1, 2, 3, 0]    [1, 2, 3, 0]\n",
      "正確選項：D\n"
     ]
    }
   ],
   "source": [
    "qid = 60   # list assignment\n",
    "a = [1, 2, 3, 4]\n",
    "b = a\n",
    "a[-1] = 0\n",
    "print(f'{a}    {b}')\n",
    "\n",
    "# A) [1, 2, 3, 4]    [1, 2, 3, 4]\n",
    "# B) [1, 2, 3, 0]    [1, 2, 3, 4]\n",
    "# C) [1, 2, 3, 4]    [1, 2, 3, 0]\n",
    "# D) [1, 2, 3, 0]    [1, 2, 3, 0]\n",
    "# E) Exception\n",
    "# F) 以上皆非\n",
    "print(f'正確選項：{get_ans(qid)}')"
   ]
  },
  {
   "cell_type": "code",
   "execution_count": 111,
   "metadata": {},
   "outputs": [
    {
     "name": "stdout",
     "output_type": "stream",
     "text": [
      "[1, 2, 3, 0]    [1, 2, 3, 4]\n",
      "正確選項：B\n"
     ]
    }
   ],
   "source": [
    "qid = 61   # list.copy()-1\n",
    "a = [1, 2, 3, 4]\n",
    "b = a.copy()\n",
    "a[-1] = 0\n",
    "print(f'{a}    {b}')\n",
    "\n",
    "# A) [1, 2, 3, 4]    [1, 2, 3, 4]\n",
    "# B) [1, 2, 3, 0]    [1, 2, 3, 4]\n",
    "# C) [1, 2, 3, 4]    [1, 2, 3, 0]\n",
    "# D) [1, 2, 3, 0]    [1, 2, 3, 0]\n",
    "# E) Exception\n",
    "# F) 以上皆非\n",
    "print(f'正確選項：{get_ans(qid)}')"
   ]
  },
  {
   "cell_type": "code",
   "execution_count": 112,
   "metadata": {},
   "outputs": [
    {
     "name": "stdout",
     "output_type": "stream",
     "text": [
      "[1, 2, 3, [0]]    [1, 2, 3, [4]]\n",
      "正確選項：F\n"
     ]
    }
   ],
   "source": [
    "qid = 62   # list.copy()-2\n",
    "a = [1, 2, 3, [4]]\n",
    "b = a.copy()\n",
    "a[-1] = [0]\n",
    "print(f'{a}    {b}')\n",
    "\n",
    "# A) [1, 2, 3, 4]    [1, 2, 3, 4]\n",
    "# B) [1, 2, 3, 0]    [1, 2, 3, 4]\n",
    "# C) [1, 2, 3, 4]    [1, 2, 3, 0]\n",
    "# D) [1, 2, 3, 0]    [1, 2, 3, 0]\n",
    "# E) Exception\n",
    "# F) 以上皆非\n",
    "print(f'正確選項：{get_ans(qid)}')"
   ]
  },
  {
   "cell_type": "code",
   "execution_count": 113,
   "metadata": {},
   "outputs": [
    {
     "name": "stdout",
     "output_type": "stream",
     "text": [
      "[1, 2, {'a': [3, 0]}]    [1, 2, {'a': [3, 0]}]\n",
      "正確選項：D\n"
     ]
    }
   ],
   "source": [
    "qid = 63   # list.copy()-3\n",
    "a = [1, 2, {'a': [3, 4]}]\n",
    "b = a.copy()   # shallow copy\n",
    "a[-1]['a'][-1] = 0\n",
    "print(f'{a}    {b}')\n",
    "\n",
    "# A) [1, 2, {'a': [3, 4]}]    [1, 2, {'a': [3, 4]}]\n",
    "# B) [1, 2, {'a': [3, 0]}]    [1, 2, {'a': [3, 4]}]\n",
    "# C) [1, 2, {'a': [3, 4]}]    [1, 2, {'a': [3, 0]}]\n",
    "# D) [1, 2, {'a': [3, 0]}]    [1, 2, {'a': [3, 0]}]\n",
    "# E) Exception\n",
    "# F) 以上皆非\n",
    "print(f'正確選項：{get_ans(qid)}')"
   ]
  },
  {
   "cell_type": "code",
   "execution_count": 114,
   "metadata": {},
   "outputs": [
    {
     "name": "stdout",
     "output_type": "stream",
     "text": [
      "[1, 2, {'a': [3, 0]}]    [1, 2, {'a': [3, 0]}]\n",
      "正確選項：D\n"
     ]
    }
   ],
   "source": [
    "qid = 64   # shallow copy\n",
    "import copy\n",
    "\n",
    "a = [1, 2, {'a': [3, 4]}]\n",
    "b = copy.copy(a)    # shallow copy\n",
    "a[-1]['a'][-1] = 0\n",
    "print(f'{a}    {b}')\n",
    "\n",
    "# A) [1, 2, {'a': [3, 4]}]    [1, 2, {'a': [3, 4]}]\n",
    "# B) [1, 2, {'a': [3, 0]}]    [1, 2, {'a': [3, 4]}]\n",
    "# C) [1, 2, {'a': [3, 4]}]    [1, 2, {'a': [3, 0]}]\n",
    "# D) [1, 2, {'a': [3, 0]}]    [1, 2, {'a': [3, 0]}]\n",
    "# E) Exception\n",
    "# F) 以上皆非\n",
    "print(f'正確選項：{get_ans(qid)}')"
   ]
  },
  {
   "cell_type": "code",
   "execution_count": 115,
   "metadata": {},
   "outputs": [
    {
     "name": "stdout",
     "output_type": "stream",
     "text": [
      "[1, 2, {'a': [3, 0]}]    [1, 2, {'a': [3, 4]}]\n",
      "正確選項：B\n"
     ]
    }
   ],
   "source": [
    "qid = 65   # deep copy\n",
    "import copy\n",
    "\n",
    "a = [1, 2, {'a': [3, 4]}]\n",
    "b = copy.deepcopy(a)\n",
    "a[-1]['a'][-1] = 0\n",
    "print(f'{a}    {b}')\n",
    "\n",
    "# A) [1, 2, {'a': [3, 4]}]    [1, 2, {'a': [3, 4]}]\n",
    "# B) [1, 2, {'a': [3, 0]}]    [1, 2, {'a': [3, 4]}]\n",
    "# C) [1, 2, {'a': [3, 4]}]    [1, 2, {'a': [3, 0]}]\n",
    "# D) [1, 2, {'a': [3, 0]}]    [1, 2, {'a': [3, 0]}]\n",
    "# E) Exception\n",
    "# F) 以上皆非\n",
    "print(f'正確選項：{get_ans(qid)}')"
   ]
  },
  {
   "cell_type": "code",
   "execution_count": 116,
   "metadata": {},
   "outputs": [
    {
     "name": "stdout",
     "output_type": "stream",
     "text": [
      "True\n",
      "正確選項：D\n"
     ]
    }
   ],
   "source": [
    "qid = 66   # `in` operator\n",
    "day = 'Friday'\n",
    "print('Fri' in day)\n",
    "\n",
    "# A) 'Fri' in day\n",
    "# B) 'Friday' in day\n",
    "# C) 'Fri'\n",
    "# D) True\n",
    "# E) False\n",
    "# F) 以上皆非\n",
    "print(f'正確選項：{get_ans(qid)}')"
   ]
  },
  {
   "cell_type": "code",
   "execution_count": 4,
   "metadata": {},
   "outputs": [
    {
     "name": "stdout",
     "output_type": "stream",
     "text": [
      "[16, 1, 9, 4]\n",
      "正確選項：C\n"
     ]
    }
   ],
   "source": [
    "qid = 67   # list comprehension-1\n",
    "nums = [num**2 for num in [-4, 1, -3, 2]]\n",
    "print(nums)\n",
    "\n",
    "# A) [-4, 1, -3, 2]\n",
    "# B) [-8, 2, -6, 4]\n",
    "# C) [16, 1, 9, 4]\n",
    "# D) [-16, 1, -9, 4]\n",
    "# E) Exception\n",
    "# F) 以上皆非\n",
    "print(f'正確選項：{get_ans(qid)}')"
   ]
  },
  {
   "cell_type": "code",
   "execution_count": 5,
   "metadata": {},
   "outputs": [
    {
     "name": "stdout",
     "output_type": "stream",
     "text": [
      "[-8, 3, -9, 4]\n",
      "正確選項：A\n"
     ]
    }
   ],
   "source": [
    "qid = 68   # list comprehension-2\n",
    "nums = [num*2 if num % 2 == 0 else num*3 for num in [-4, 1, -3, 2]]\n",
    "print(nums)\n",
    "\n",
    "# A) [-8, 3, -9, 4]\n",
    "# B) [-12, 2, -6, 6]\n",
    "# C) [16, 1, -27, 4]\n",
    "# D) [-64, 1, 9, 8]\n",
    "# E) Exception\n",
    "# F) 以上皆非\n",
    "print(f'正確選項：{get_ans(qid)}')"
   ]
  },
  {
   "cell_type": "code",
   "execution_count": 6,
   "metadata": {},
   "outputs": [
    {
     "name": "stdout",
     "output_type": "stream",
     "text": [
      "[2]\n",
      "正確選項：F\n"
     ]
    }
   ],
   "source": [
    "qid = 69   # list comprehension-3\n",
    "nums = [num for num in [-4, 1, -3, 2] if num > 1]\n",
    "print(nums)\n",
    "\n",
    "# A) [-4, 1, -3, 2]\n",
    "# B) [1, 2]\n",
    "# C) [-4, -3]\n",
    "# D) [1]\n",
    "# E) Exception\n",
    "# F) 以上皆非\n",
    "print(f'正確選項：{get_ans(qid)}')"
   ]
  },
  {
   "cell_type": "code",
   "execution_count": 7,
   "metadata": {},
   "outputs": [
    {
     "ename": "SyntaxError",
     "evalue": "invalid syntax. Maybe you meant '==' or ':=' instead of '='? (3232271033.py, line 2)",
     "output_type": "error",
     "traceback": [
      "\u001b[0;36m  Cell \u001b[0;32mIn[7], line 2\u001b[0;36m\u001b[0m\n\u001b[0;31m    nums = [n for num in [-4, 1, -3, 2] if (n = num > 0)]\u001b[0m\n\u001b[0m                                            ^\u001b[0m\n\u001b[0;31mSyntaxError\u001b[0m\u001b[0;31m:\u001b[0m invalid syntax. Maybe you meant '==' or ':=' instead of '='?\n"
     ]
    }
   ],
   "source": [
    "qid = 70   # list comprehension-4\n",
    "nums = [n for num in [-4, 1, -3, 2] if (n = num > 0)]\n",
    "print(nums)\n",
    "\n",
    "# A) [-4, 1, -3, 2]\n",
    "# B) [1, 2]\n",
    "# C) [False, True, False, True]\n",
    "# D) [True, True]\n",
    "# E) Exception\n",
    "# F) 以上皆非\n",
    "print(f'正確選項：{get_ans(qid)}')"
   ]
  },
  {
   "cell_type": "code",
   "execution_count": 8,
   "metadata": {},
   "outputs": [
    {
     "name": "stdout",
     "output_type": "stream",
     "text": [
      "[True, True]\n",
      "正確選項：D\n"
     ]
    }
   ],
   "source": [
    "qid = 71   # list comprehension-5\n",
    "nums = [n for num in [-4, 1, -3, 2] if (n := num > 0)]\n",
    "print(nums)\n",
    "\n",
    "# A) [-4, 1, -3, 2]\n",
    "# B) [1, 2]\n",
    "# C) [False, True, False, True]\n",
    "# D) [True, True]\n",
    "# E) Exception\n",
    "# F) 以上皆非\n",
    "print(f'正確選項：{get_ans(qid)}')"
   ]
  },
  {
   "cell_type": "code",
   "execution_count": 9,
   "metadata": {},
   "outputs": [
    {
     "name": "stdout",
     "output_type": "stream",
     "text": [
      "nums=[2, 3]\tm=3\n",
      "正確選項：C\n"
     ]
    }
   ],
   "source": [
    "qid = 72   # list comprehension-6\n",
    "nums = [(m := n + num) for num in [-4, 1, -3, 2] if (n := num > 0)]\n",
    "print(f'{nums=}\\t{m=}')\n",
    "\n",
    "# A) nums=[True, True]    m=True\n",
    "# B) nums=[False, True, False, True]    m=False\n",
    "# C) nums=[2, 3]    m=3\n",
    "# D) nums=[-4, 1, -3, 2]    m=-4\n",
    "# E) Exception\n",
    "# F) 以上皆非\n",
    "print(f'正確選項：{get_ans(qid)}')"
   ]
  },
  {
   "cell_type": "code",
   "execution_count": 10,
   "metadata": {},
   "outputs": [
    {
     "name": "stdout",
     "output_type": "stream",
     "text": [
      "{6: 4}\n",
      "正確選項：A\n"
     ]
    }
   ],
   "source": [
    "qid = 73   # mutable objects as default parameter values-1\n",
    "def foo(x, d={}):\n",
    "    d[x + 1] = x - 1\n",
    "    return d\n",
    "\n",
    "print(foo(5))\n",
    "\n",
    "# A) {6: 4}\n",
    "# B) {4: 6}\n",
    "# C) {5: 5}\n",
    "# D) {x + 1: x - 1}\n",
    "# E) Exception\n",
    "# F) 以上皆非\n",
    "print(f'正確選項：{get_ans(qid)}')"
   ]
  },
  {
   "cell_type": "code",
   "execution_count": 11,
   "metadata": {},
   "outputs": [
    {
     "name": "stdout",
     "output_type": "stream",
     "text": [
      "{'id': {...}}\n",
      "正確選項：F\n"
     ]
    }
   ],
   "source": [
    "qid = 74   # mutable objects as default parameter values-2\n",
    "def foo(x, d={}):\n",
    "    d[x] = d\n",
    "    return d\n",
    "\n",
    "print(foo('id'))\n",
    "\n",
    "# A) {'x': {d}}\n",
    "# B) {'d': {x}}\n",
    "# C) {'id': {}}\n",
    "# D) {}\n",
    "# E) Exception\n",
    "# F) 以上皆非\n",
    "print(f'正確選項：{get_ans(qid)}')"
   ]
  },
  {
   "cell_type": "code",
   "execution_count": 12,
   "metadata": {},
   "outputs": [
    {
     "name": "stdout",
     "output_type": "stream",
     "text": [
      "10\n",
      "正確選項：F\n"
     ]
    }
   ],
   "source": [
    "qid = 75   # logical and/or and arithmetic operations\n",
    "a = 5 and 0\n",
    "b = 5 or 0\n",
    "c = 2*a + b\n",
    "print(2*c + a)\n",
    "\n",
    "# A) 0\n",
    "# B) 15\n",
    "# C) 25\n",
    "# D) 35\n",
    "# E) Exception\n",
    "# F) 以上皆非\n",
    "print(f'正確選項：{get_ans(qid)}')"
   ]
  },
  {
   "cell_type": "code",
   "execution_count": 13,
   "metadata": {},
   "outputs": [
    {
     "ename": "SyntaxError",
     "evalue": "invalid syntax. Maybe you meant '==' or ':=' instead of '='? (134198627.py, line 4)",
     "output_type": "error",
     "traceback": [
      "\u001b[0;36m  Cell \u001b[0;32mIn[13], line 4\u001b[0;36m\u001b[0m\n\u001b[0;31m    while ((s = x + y) < 10):\u001b[0m\n\u001b[0m            ^\u001b[0m\n\u001b[0;31mSyntaxError\u001b[0m\u001b[0;31m:\u001b[0m invalid syntax. Maybe you meant '==' or ':=' instead of '='?\n"
     ]
    }
   ],
   "source": [
    "qid = 76   # accumulation-1\n",
    "x = 1\n",
    "y = 5\n",
    "while ((s = x + y) < 10):\n",
    "    x += 1\n",
    "    print((x, y, s), end=' ')\n",
    "\n",
    "# A) (1, 5, 6) (2, 5, 7) (3, 5, 8) (4, 5, 9)\n",
    "# B) (1, 5, 5) (2, 5, 6) (3, 5, 7) (4, 5, 8) (5, 5, 9)\n",
    "# C) (2, 5, 6) (3, 5, 7) (4, 5, 8) (5, 5, 9)\n",
    "# D) (2, 5, 5) (3, 5, 6) (4, 5, 7) (5, 5, 8) (6, 5, 9)\n",
    "# E) Exception\n",
    "# F) 以上皆非\n",
    "print(f'正確選項：{get_ans(qid)}')"
   ]
  },
  {
   "cell_type": "code",
   "execution_count": 16,
   "metadata": {},
   "outputs": [
    {
     "name": "stdout",
     "output_type": "stream",
     "text": [
      "(2, 5, 6) (3, 5, 7) (4, 5, 8) (5, 5, 9) \n",
      "正確選項：C\n"
     ]
    }
   ],
   "source": [
    "qid = 77   # accumulation-2\n",
    "x = 1\n",
    "y = 5\n",
    "while ((s := x + y) < 10):\n",
    "    x += 1\n",
    "    print((x, y, s), end=' ')\n",
    "print()\n",
    "\n",
    "# A) (1, 5, 6) (2, 5, 7) (3, 5, 8) (4, 5, 9)\n",
    "# B) (1, 5, 5) (2, 5, 6) (3, 5, 7) (4, 5, 8) (5, 5, 9)\n",
    "# C) (2, 5, 6) (3, 5, 7) (4, 5, 8) (5, 5, 9)\n",
    "# D) (2, 5, 5) (3, 5, 6) (4, 5, 7) (5, 5, 8) (6, 5, 9)\n",
    "# E) Exception\n",
    "# F) 以上皆非\n",
    "print(f'正確選項：{get_ans(qid)}')"
   ]
  },
  {
   "cell_type": "code",
   "execution_count": 19,
   "metadata": {},
   "outputs": [
    {
     "name": "stdout",
     "output_type": "stream",
     "text": [
      "3\t7\t\n",
      "正確選項：F\n"
     ]
    }
   ],
   "source": [
    "qid = 78   # two-dimensional list\n",
    "l = [(1, 2), (3, 4)]\n",
    "for a, b in l:\n",
    "    print(a + b, end='\\t')\n",
    "print()\n",
    "\n",
    "# A) 1  2\n",
    "# B) 3  4\n",
    "# C) 1  3\n",
    "# D) 2  4\n",
    "# E) Exception\n",
    "# F) 以上皆非\n",
    "print(f'正確選項：{get_ans(qid)}')"
   ]
  },
  {
   "cell_type": "code",
   "execution_count": 20,
   "metadata": {},
   "outputs": [
    {
     "name": "stdout",
     "output_type": "stream",
     "text": [
      "t\n",
      "正確選項：F\n"
     ]
    }
   ],
   "source": [
    "qid = 79   # chained index\n",
    "a = ['Alex', 'Van', 'Pythonista']\n",
    "print(a[2][-2])\n",
    "\n",
    "# A) Alex\n",
    "# B) Van\n",
    "# C) Pythonista\n",
    "# D) e\n",
    "# E) a\n",
    "# F) 以上皆非\n",
    "print(f'正確選項：{get_ans(qid)}')"
   ]
  },
  {
   "cell_type": "code",
   "execution_count": 21,
   "metadata": {},
   "outputs": [
    {
     "name": "stdout",
     "output_type": "stream",
     "text": [
      "False\n",
      "正確選項：A\n"
     ]
    }
   ],
   "source": [
    "qid = 80   # min() and max()\n",
    "print(min(max(False, -2, -4), 3, 5))\n",
    "\n",
    "# A) False\n",
    "# B) -2\n",
    "# C) -4\n",
    "# D) 3\n",
    "# E) 5\n",
    "# F) Exception\n",
    "print(f'正確選項：{get_ans(qid)}')"
   ]
  },
  {
   "cell_type": "code",
   "execution_count": 24,
   "metadata": {},
   "outputs": [
    {
     "name": "stdout",
     "output_type": "stream",
     "text": [
      "5 $  \n",
      "正確選項：D\n"
     ]
    }
   ],
   "source": [
    "qid = 81   # *args\n",
    "def foo(a, *args, s='$'):\n",
    "    print(a, s, end='  ')\n",
    "    for i in args:\n",
    "        print(i, end=' ')\n",
    "    print()\n",
    "\n",
    "foo(5)\n",
    "\n",
    "# A) 5 $  0 1 2 3 4\n",
    "# B) 5 $  5\n",
    "# C) 5 5\n",
    "# D) 5 $\n",
    "# E) Exception\n",
    "# F) 以上皆非\n",
    "print(f'正確選項：{get_ans(qid)}')"
   ]
  },
  {
   "cell_type": "code",
   "execution_count": 25,
   "metadata": {},
   "outputs": [
    {
     "name": "stdout",
     "output_type": "stream",
     "text": [
      "3 4 4 4 4 5\n",
      "正確選項：B\n"
     ]
    }
   ],
   "source": [
    "qid = 82   # round()\n",
    "print(round(3.49), round(3.50), round(3.51), round(4.49), round(4.50), round(4.51))\n",
    "\n",
    "# A) 3 3 4 4 4 5\n",
    "# B) 3 4 4 4 4 5\n",
    "# C) 3 3 4 4 5 5\n",
    "# D) 3 4 4 4 5 5\n",
    "# E) Exception\n",
    "# F) 以上皆非\n",
    "print(f'正確選項：{get_ans(qid)}')"
   ]
  },
  {
   "cell_type": "code",
   "execution_count": null,
   "metadata": {},
   "outputs": [],
   "source": [
    "qid = 83   # ...\n",
    "\n",
    "# A)\n",
    "# B)\n",
    "# C)\n",
    "# D)\n",
    "# E) Exception\n",
    "# F) 以上皆非\n",
    "print(f'正確選項：{get_ans(qid)}')"
   ]
  },
  {
   "cell_type": "code",
   "execution_count": null,
   "metadata": {},
   "outputs": [],
   "source": [
    "qid = 84   # ...\n",
    "\n",
    "# A)\n",
    "# B)\n",
    "# C)\n",
    "# D)\n",
    "# E) Exception\n",
    "# F) 以上皆非\n",
    "print(f'正確選項：{get_ans(qid)}')"
   ]
  },
  {
   "cell_type": "code",
   "execution_count": 26,
   "metadata": {},
   "outputs": [
    {
     "ename": "KeyError",
     "evalue": "'weight'",
     "output_type": "error",
     "traceback": [
      "\u001b[0;31m---------------------------------------------------------------------------\u001b[0m",
      "\u001b[0;31mKeyError\u001b[0m                                  Traceback (most recent call last)",
      "Cell \u001b[0;32mIn[26], line 3\u001b[0m\n\u001b[1;32m      1\u001b[0m qid \u001b[38;5;241m=\u001b[39m \u001b[38;5;241m85\u001b[39m   \u001b[38;5;66;03m# dict[...]\u001b[39;00m\n\u001b[1;32m      2\u001b[0m d \u001b[38;5;241m=\u001b[39m {\u001b[38;5;124m'\u001b[39m\u001b[38;5;124mname\u001b[39m\u001b[38;5;124m'\u001b[39m: \u001b[38;5;124m'\u001b[39m\u001b[38;5;124mAlex\u001b[39m\u001b[38;5;124m'\u001b[39m, \u001b[38;5;124m'\u001b[39m\u001b[38;5;124mage\u001b[39m\u001b[38;5;124m'\u001b[39m: \u001b[38;5;241m39\u001b[39m, \u001b[38;5;124m'\u001b[39m\u001b[38;5;124mgender\u001b[39m\u001b[38;5;124m'\u001b[39m: \u001b[38;5;124m'\u001b[39m\u001b[38;5;124mM\u001b[39m\u001b[38;5;124m'\u001b[39m}\n\u001b[0;32m----> 3\u001b[0m \u001b[38;5;28mprint\u001b[39m(\u001b[43md\u001b[49m\u001b[43m[\u001b[49m\u001b[38;5;124;43m'\u001b[39;49m\u001b[38;5;124;43mweight\u001b[39;49m\u001b[38;5;124;43m'\u001b[39;49m\u001b[43m]\u001b[49m)\n\u001b[1;32m      5\u001b[0m \u001b[38;5;66;03m# A) Alex\u001b[39;00m\n\u001b[1;32m      6\u001b[0m \u001b[38;5;66;03m# B) 39\u001b[39;00m\n\u001b[1;32m      7\u001b[0m \u001b[38;5;66;03m# C) M\u001b[39;00m\n\u001b[1;32m      8\u001b[0m \u001b[38;5;66;03m# D) None\u001b[39;00m\n\u001b[1;32m      9\u001b[0m \u001b[38;5;66;03m# E) Exception\u001b[39;00m\n\u001b[1;32m     10\u001b[0m \u001b[38;5;66;03m# F) 以上皆非\u001b[39;00m\n\u001b[1;32m     11\u001b[0m \u001b[38;5;28mprint\u001b[39m(\u001b[38;5;124mf\u001b[39m\u001b[38;5;124m'\u001b[39m\u001b[38;5;124m正確選項：\u001b[39m\u001b[38;5;132;01m{\u001b[39;00mget_ans(qid)\u001b[38;5;132;01m}\u001b[39;00m\u001b[38;5;124m'\u001b[39m)\n",
      "\u001b[0;31mKeyError\u001b[0m: 'weight'"
     ]
    }
   ],
   "source": [
    "qid = 85   # dict[...]\n",
    "d = {'name': 'Alex', 'age': 39, 'gender': 'M'}\n",
    "print(d['weight'])\n",
    "\n",
    "# A) Alex\n",
    "# B) 39\n",
    "# C) M\n",
    "# D) None\n",
    "# E) Exception\n",
    "# F) 以上皆非\n",
    "print(f'正確選項：{get_ans(qid)}')"
   ]
  },
  {
   "cell_type": "code",
   "execution_count": 27,
   "metadata": {},
   "outputs": [
    {
     "name": "stdout",
     "output_type": "stream",
     "text": [
      "None\n",
      "正確選項：D\n"
     ]
    }
   ],
   "source": [
    "qid = 86   # dict.get()-1\n",
    "d = {'name': 'Alex', 'age': 39, 'gender': 'M'}\n",
    "print(d.get('weight'))\n",
    "\n",
    "# A) Alex\n",
    "# B) 39\n",
    "# C) M\n",
    "# D) None\n",
    "# E) Exception\n",
    "# F) 以上皆非\n",
    "print(f'正確選項：{get_ans(qid)}')"
   ]
  },
  {
   "cell_type": "code",
   "execution_count": 28,
   "metadata": {},
   "outputs": [
    {
     "name": "stdout",
     "output_type": "stream",
     "text": [
      "20\n",
      "正確選項：B\n"
     ]
    }
   ],
   "source": [
    "qid = 87   # dict.get()-2\n",
    "d = {'name': 'Alex', 'weight': 68.3, 'gender': 'M'}\n",
    "d['age'] = d.get('age', 20)\n",
    "d['age'] = d.get('age', 30)\n",
    "print(d['age'])\n",
    "\n",
    "# A) weight\n",
    "# B) 20\n",
    "# C) 30\n",
    "# D) 50\n",
    "# E) None\n",
    "# F) Exception\n",
    "print(f'正確選項：{get_ans(qid)}')"
   ]
  },
  {
   "cell_type": "code",
   "execution_count": 29,
   "metadata": {},
   "outputs": [
    {
     "ename": "AttributeError",
     "evalue": "'tuple' object has no attribute 'append'",
     "output_type": "error",
     "traceback": [
      "\u001b[0;31m---------------------------------------------------------------------------\u001b[0m",
      "\u001b[0;31mAttributeError\u001b[0m                            Traceback (most recent call last)",
      "Cell \u001b[0;32mIn[29], line 3\u001b[0m\n\u001b[1;32m      1\u001b[0m qid \u001b[38;5;241m=\u001b[39m \u001b[38;5;241m88\u001b[39m   \u001b[38;5;66;03m# append()-1\u001b[39;00m\n\u001b[1;32m      2\u001b[0m x \u001b[38;5;241m=\u001b[39m (\u001b[38;5;241m1\u001b[39m, \u001b[38;5;241m3\u001b[39m, \u001b[38;5;241m5\u001b[39m)\n\u001b[0;32m----> 3\u001b[0m \u001b[43mx\u001b[49m\u001b[38;5;241;43m.\u001b[39;49m\u001b[43mappend\u001b[49m([\u001b[38;5;241m2\u001b[39m, \u001b[38;5;241m4\u001b[39m])\n\u001b[1;32m      4\u001b[0m \u001b[38;5;28mprint\u001b[39m(x)\n\u001b[1;32m      6\u001b[0m \u001b[38;5;66;03m# A) (1, 3, 5, 2, 4)\u001b[39;00m\n\u001b[1;32m      7\u001b[0m \u001b[38;5;66;03m# B) (1, 3, 5, (2, 4))\u001b[39;00m\n\u001b[1;32m      8\u001b[0m \u001b[38;5;66;03m# C) (1, 3, 5, (2), (4))\u001b[39;00m\n\u001b[1;32m      9\u001b[0m \u001b[38;5;66;03m# D) (1, 3, 5)(2, 4)\u001b[39;00m\n\u001b[1;32m     10\u001b[0m \u001b[38;5;66;03m# E) Exception\u001b[39;00m\n\u001b[1;32m     11\u001b[0m \u001b[38;5;66;03m# F) 以上皆非\u001b[39;00m\n",
      "\u001b[0;31mAttributeError\u001b[0m: 'tuple' object has no attribute 'append'"
     ]
    }
   ],
   "source": [
    "qid = 88   # append()-1\n",
    "x = (1, 3, 5)\n",
    "x.append([2, 4])\n",
    "print(x)\n",
    "\n",
    "# A) (1, 3, 5, 2, 4)\n",
    "# B) (1, 3, 5, (2, 4))\n",
    "# C) (1, 3, 5, (2), (4))\n",
    "# D) (1, 3, 5)(2, 4)\n",
    "# E) Exception\n",
    "# F) 以上皆非\n",
    "print(f'正確選項：{get_ans(qid)}')"
   ]
  },
  {
   "cell_type": "code",
   "execution_count": 30,
   "metadata": {},
   "outputs": [
    {
     "name": "stdout",
     "output_type": "stream",
     "text": [
      "[1, 3, 5, [2, 4]]\n",
      "正確選項：B\n"
     ]
    }
   ],
   "source": [
    "qid = 89   # append()-2\n",
    "x = [1, 3, 5]\n",
    "x.append([2, 4])\n",
    "print(x)\n",
    "\n",
    "# A) [1, 3, 5, 2, 4]\n",
    "# B) [1, 3, 5, [2, 4]]\n",
    "# C) [1, 3, 5, [2], [4]]\n",
    "# D) [1, 3, 5][2, 4]\n",
    "# E) Exception\n",
    "# F) 以上皆非\n",
    "print(f'正確選項：{get_ans(qid)}')"
   ]
  },
  {
   "cell_type": "code",
   "execution_count": 31,
   "metadata": {},
   "outputs": [
    {
     "name": "stdout",
     "output_type": "stream",
     "text": [
      "[1, 3, 5, 2, 4]\n",
      "正確選項：A\n"
     ]
    }
   ],
   "source": [
    "qid = 90   # list.extend()\n",
    "x = [1, 3, 5]\n",
    "x.extend([2, 4])\n",
    "print(x)\n",
    "\n",
    "# A) [1, 3, 5, 2, 4]\n",
    "# B) [1, 3, 5, [2, 4]]\n",
    "# C) [1, 3, 5, [2], [4]]\n",
    "# D) [1, 3, 5][2, 4]\n",
    "# E) Exception\n",
    "# F) 以上皆非\n",
    "print(f'正確選項：{get_ans(qid)}')"
   ]
  },
  {
   "cell_type": "code",
   "execution_count": 32,
   "metadata": {},
   "outputs": [
    {
     "name": "stdout",
     "output_type": "stream",
     "text": [
      "(1, 2, 3, 4, 5, 6)\n",
      "正確選項：A\n"
     ]
    }
   ],
   "source": [
    "qid = 91   # tuple + tuple-1\n",
    "t = (1, 2, 3) + (4, 5, 6)\n",
    "print(t)\n",
    "\n",
    "# A) (1, 2, 3, 4, 5, 6)\n",
    "# B) ((1, 2, 3), (4, 5, 6))\n",
    "# C) (1, 2, 3, (4, 5, 6))\n",
    "# D) ((1, 2, 3), 4, 5, 6)\n",
    "# E) Exception\n",
    "# F) 以上皆非\n",
    "print(f'正確選項：{get_ans(qid)}')"
   ]
  },
  {
   "cell_type": "code",
   "execution_count": 33,
   "metadata": {},
   "outputs": [
    {
     "name": "stdout",
     "output_type": "stream",
     "text": [
      "5\n",
      "正確選項：F\n"
     ]
    }
   ],
   "source": [
    "qid = 92   # tuple + tuple-2\n",
    "t = (1) + (4)\n",
    "print(t)\n",
    "\n",
    "# A) (1, 4)\n",
    "# B) ((1), (4))\n",
    "# C) (1, (4))\n",
    "# D) ((1), 4)\n",
    "# E) Exception\n",
    "# F) 以上皆非\n",
    "print(f'正確選項：{get_ans(qid)}')"
   ]
  },
  {
   "cell_type": "code",
   "execution_count": 34,
   "metadata": {},
   "outputs": [
    {
     "name": "stdout",
     "output_type": "stream",
     "text": [
      "hos\n",
      "正確選項：B\n"
     ]
    }
   ],
   "source": [
    "qid = 93   # chanining-1\n",
    "print('localhost/proj/1/'[4:-6][-6:4])\n",
    "\n",
    "# A) cal\n",
    "# B) hos\n",
    "# C) alh\n",
    "# D) lho\n",
    "# E) Exception\n",
    "# F) 以上皆非\n",
    "print(f'正確選項：{get_ans(qid)}')"
   ]
  },
  {
   "cell_type": "code",
   "execution_count": 35,
   "metadata": {},
   "outputs": [
    {
     "name": "stdout",
     "output_type": "stream",
     "text": [
      "donor\n",
      "正確選項：F\n"
     ]
    }
   ],
   "source": [
    "qid = 94   # chanining-2\n",
    "p = [{'name': 'Alex', 'expertise': ['Programming', 'Database']},\n",
    "     {'name': 'Jing', 'expertise': ['poetry', 'History', '紅樓夢']}]\n",
    "print(p[1]['expertise'][1][2:-1][::-1][-3].join('dnr'))\n",
    "\n",
    "# A) dsnsr\n",
    "# B) rrnrd\n",
    "# C) dtntr\n",
    "# D) ronod\n",
    "# E) Exception\n",
    "# F) 以上皆非\n",
    "print(f'正確選項：{get_ans(qid)}')"
   ]
  },
  {
   "cell_type": "code",
   "execution_count": 36,
   "metadata": {},
   "outputs": [
    {
     "name": "stdout",
     "output_type": "stream",
     "text": [
      "False \t False\n",
      "正確選項：D\n"
     ]
    }
   ],
   "source": [
    "qid = 95   # any() and all()\n",
    "d = {():1, 0:[], False:True, None:'', '':None, (0):{}}\n",
    "print(any(d), '\\t', all(d))\n",
    "\n",
    "# A) True   True\n",
    "# B) True   False\n",
    "# C) False  True\n",
    "# D) False  False\n",
    "# E) Exception\n",
    "# F) 以上皆非\n",
    "print(f'正確選項：{get_ans(qid)}')"
   ]
  },
  {
   "cell_type": "code",
   "execution_count": 37,
   "metadata": {},
   "outputs": [
    {
     "ename": "ValueError",
     "evalue": "slice step cannot be zero",
     "output_type": "error",
     "traceback": [
      "\u001b[0;31m---------------------------------------------------------------------------\u001b[0m",
      "\u001b[0;31mValueError\u001b[0m                                Traceback (most recent call last)",
      "Cell \u001b[0;32mIn[37], line 3\u001b[0m\n\u001b[1;32m      1\u001b[0m qid \u001b[38;5;241m=\u001b[39m \u001b[38;5;241m96\u001b[39m   \u001b[38;5;66;03m# slice: zero step\u001b[39;00m\n\u001b[1;32m      2\u001b[0m chars \u001b[38;5;241m=\u001b[39m \u001b[38;5;124m'\u001b[39m\u001b[38;5;124mPythonista\u001b[39m\u001b[38;5;124m'\u001b[39m\n\u001b[0;32m----> 3\u001b[0m \u001b[38;5;28mprint\u001b[39m(\u001b[43mchars\u001b[49m\u001b[43m[\u001b[49m\u001b[43m:\u001b[49m\u001b[43m:\u001b[49m\u001b[38;5;241;43m0\u001b[39;49m\u001b[43m]\u001b[49m)\n\u001b[1;32m      5\u001b[0m \u001b[38;5;66;03m# A) Pythonista\u001b[39;00m\n\u001b[1;32m      6\u001b[0m \u001b[38;5;66;03m# B) P\u001b[39;00m\n\u001b[1;32m      7\u001b[0m \u001b[38;5;66;03m# C) a\u001b[39;00m\n\u001b[1;32m      8\u001b[0m \u001b[38;5;66;03m# D) PPPPPPPPPP\u001b[39;00m\n\u001b[1;32m      9\u001b[0m \u001b[38;5;66;03m# E) Exception\u001b[39;00m\n\u001b[1;32m     10\u001b[0m \u001b[38;5;66;03m# F) 以上皆非\u001b[39;00m\n\u001b[1;32m     11\u001b[0m \u001b[38;5;28mprint\u001b[39m(\u001b[38;5;124mf\u001b[39m\u001b[38;5;124m'\u001b[39m\u001b[38;5;124m正確選項：\u001b[39m\u001b[38;5;132;01m{\u001b[39;00mget_ans(qid)\u001b[38;5;132;01m}\u001b[39;00m\u001b[38;5;124m'\u001b[39m)\n",
      "\u001b[0;31mValueError\u001b[0m: slice step cannot be zero"
     ]
    }
   ],
   "source": [
    "qid = 96   # slice: zero step\n",
    "chars = 'Pythonista'\n",
    "print(chars[::0])\n",
    "\n",
    "# A) Pythonista\n",
    "# B) P\n",
    "# C) a\n",
    "# D) PPPPPPPPPP\n",
    "# E) Exception\n",
    "# F) 以上皆非\n",
    "print(f'正確選項：{get_ans(qid)}')"
   ]
  },
  {
   "cell_type": "code",
   "execution_count": 38,
   "metadata": {},
   "outputs": [
    {
     "name": "stdout",
     "output_type": "stream",
     "text": [
      "s1=CatiMeta            s2=Cati                \n",
      "正確選項：B\n"
     ]
    }
   ],
   "source": [
    "qid = 97   # assignment then addition assignment-1\n",
    "s1 = 'Cati'\n",
    "s2 = s1\n",
    "s1 += 'Meta'\n",
    "print(f'{s1=:20}{s2=:20}')\n",
    "\n",
    "# A) s1=Cati                s2=Cati\n",
    "# B) s1=CatiMeta            s2=Cati\n",
    "# C) s1=Cati                s2=CatiMeta\n",
    "# D) s1=CatiMeta            s2=CatiMeta\n",
    "# E) Exception\n",
    "# F) 以上皆非\n",
    "print(f'正確選項：{get_ans(qid)}')"
   ]
  },
  {
   "cell_type": "code",
   "execution_count": 39,
   "metadata": {},
   "outputs": [
    {
     "name": "stdout",
     "output_type": "stream",
     "text": [
      "[3, 7, 3, 7] \t\t [3, 7, 3, 7]\n",
      "正確選項：D\n"
     ]
    }
   ],
   "source": [
    "qid = 98   # assignment then addition assignment-2\n",
    "a = b = [3, 7]\n",
    "a += b\n",
    "print(a, '\\t\\t', b)\n",
    "\n",
    "# A) [3, 7]          [3, 7]\n",
    "# B) [3, 7, 3, 7]    [3, 7]\n",
    "# C) [3, 7]          [3, 7, 3, 7]\n",
    "# D) [3, 7, 3, 7]    [3, 7, 3, 7]\n",
    "# E) Exception\n",
    "# F) 以上皆非\n",
    "print(f'正確選項：{get_ans(qid)}')"
   ]
  },
  {
   "cell_type": "code",
   "execution_count": 40,
   "metadata": {},
   "outputs": [
    {
     "name": "stdout",
     "output_type": "stream",
     "text": [
      "6 \t 3\n",
      "正確選項：F\n"
     ]
    }
   ],
   "source": [
    "qid = 99   # assignment then addition assignment-3\n",
    "a = b = (3)\n",
    "a += b\n",
    "print(a, '\\t', b)\n",
    "\n",
    "# A) (3)       (3)\n",
    "# B) (3, 3)    (3)\n",
    "# C) (3)       (3, 3)\n",
    "# D) (3, 3)    (3, 3)\n",
    "# E) Exception\n",
    "# F) 以上皆非\n",
    "print(f'正確選項：{get_ans(qid)}')"
   ]
  },
  {
   "cell_type": "code",
   "execution_count": 41,
   "metadata": {},
   "outputs": [
    {
     "name": "stdout",
     "output_type": "stream",
     "text": [
      "{'a': 1, 'b': 3, 'c': 4}  {'b': 2, 'c': 4, 'a': 1}\n",
      "正確選項：C\n"
     ]
    }
   ],
   "source": [
    "qid = 100   # merging two dicts\n",
    "x = {'a': 1, 'b': 2}\n",
    "y = {'b': 3, 'c': 4}\n",
    "z1, z2 = {**x, **y}, {**y, **x}\n",
    "print(f'{z1}  {z2}')\n",
    "\n",
    "# A) {'a': 1, 'b': 2, 'c': 4}  {'b': 2, 'c': 4, 'a': 1}\n",
    "# B) {'a': 1, 'b': 2, 'c': 4}  {'b': 3, 'c': 4, 'a': 1}\n",
    "# C) {'a': 1, 'b': 3, 'c': 4}  {'b': 2, 'c': 4, 'a': 1}\n",
    "# D) {'a': 1, 'b': 3, 'c': 4}  {'b': 3, 'c': 4, 'a': 1}\n",
    "# E) Exception\n",
    "# F) 以上皆非\n",
    "print(f'正確選項：{get_ans(qid)}')"
   ]
  },
  {
   "cell_type": "markdown",
   "metadata": {},
   "source": [
    "<div style=\"font-family: 'Gen Jyuu Gothic Monospace Medium', 'Noto Sans TC', 'Inconsolata'; font-size: 500%; font-weight: 700; text-align: center; color: #BFD8AF;\">\n",
    "<br>\n",
    "The End\n",
    "<br>\n",
    "</div>"
   ]
  }
 ],
 "metadata": {
  "kernelspec": {
   "display_name": "Python 3",
   "language": "python",
   "name": "python3"
  },
  "language_info": {
   "codemirror_mode": {
    "name": "ipython",
    "version": 3
   },
   "file_extension": ".py",
   "mimetype": "text/x-python",
   "name": "python",
   "nbconvert_exporter": "python",
   "pygments_lexer": "ipython3",
   "version": "3.12.3"
  }
 },
 "nbformat": 4,
 "nbformat_minor": 2
}
