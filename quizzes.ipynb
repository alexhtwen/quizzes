{
 "cells": [
  {
   "cell_type": "markdown",
   "metadata": {},
   "source": [
    "<div style=\"font-family: 'Gen Jyuu Gothic Monospace Medium', 'Noto Sans TC', 'Inconsolata'; font-size: 260%; font-weight: 700; text-align: left; color: #BFD8AF;\">\n",
    "<br><br>\n",
    "人生識字憂患始，姓名粗記可以休。\n",
    "<br>\n",
    "</div>\n",
    "<div style=\"font-family: 'Ubuntu Mono', 'Noto Sans TC', 'Inconsolata'; font-size: 130%; font-weight: 900; text-align: right; color: gray;\">\n",
    "中國最偉大文人--蘇東坡　\n",
    "</div>\n",
    "<br><br><br><br><br>\n",
    "<div style=\"font-family: 'Ubuntu Mono', 'Noto Sans TC', 'Inconsolata'; font-size: 250%; font-weight: 900; text-align: center; color: #FFFDCB;\">\n",
    "Python Quizzes-3\n",
    "</div>\n",
    "<br><br>"
   ]
  },
  {
   "cell_type": "code",
   "execution_count": null,
   "metadata": {},
   "outputs": [],
   "source": [
    "%%javascript\n",
    "// 設定output文字顏色\n",
    "document.styleSheets[0].addRule('body', 'color: Plum !important;')"
   ]
  },
  {
   "cell_type": "code",
   "execution_count": null,
   "metadata": {},
   "outputs": [],
   "source": [
    "print('Scribo, ergo sum.')   # 我code故我在\n",
    "print('Sum, ergo scribo.')   # 我在故我code"
   ]
  },
  {
   "cell_type": "code",
   "execution_count": null,
   "metadata": {},
   "outputs": [],
   "source": [
    "from answers import get_ans\n",
    "\n",
    "print('get_ans() imported.')"
   ]
  },
  {
   "cell_type": "code",
   "execution_count": null,
   "metadata": {},
   "outputs": [],
   "source": [
    "qid = 1   # indexing-1\n",
    "nums = (1, 3, 5, 7, 9)   # 注意型別\n",
    "print(nums[0])\n",
    "\n",
    "# A) 1\n",
    "# B) 3\n",
    "# C) 5\n",
    "# D) 7\n",
    "# E) 9\n",
    "# F) Exception\n",
    "print(f'正確答案：{get_ans(qid)}')"
   ]
  },
  {
   "cell_type": "code",
   "execution_count": null,
   "metadata": {},
   "outputs": [],
   "source": [
    "qid = 2   # indexing-2\n",
    "nums = [1, 3, 5, 7, 9]   # 注意型別\n",
    "print(nums[2])\n",
    "\n",
    "# A) 1\n",
    "# B) 3\n",
    "# C) 5\n",
    "# D) 7\n",
    "# E) 9\n",
    "# F) Exception\n",
    "print(f'正確答案：{get_ans(qid)}')"
   ]
  },
  {
   "cell_type": "code",
   "execution_count": null,
   "metadata": {},
   "outputs": [],
   "source": [
    "qid = 3   # indexing-3\n",
    "chars = 'Pythonista'\n",
    "chars[7]\n",
    "\n",
    "# A) 'P'\n",
    "# B) 'y'\n",
    "# C) 'h'\n",
    "# D) 'n'\n",
    "# E) 's'\n",
    "# F) Exception\n",
    "print(f'正確答案：{get_ans(qid)}')"
   ]
  },
  {
   "cell_type": "code",
   "execution_count": null,
   "metadata": {},
   "outputs": [],
   "source": [
    "qid = 4   # indexing-4\n",
    "nums = (1, 3, 5, 7, 9)\n",
    "print(nums[5])\n",
    "\n",
    "# A) 1\n",
    "# B) 3\n",
    "# C) 5\n",
    "# D) 7\n",
    "# E) 9\n",
    "# F) Exception\n",
    "print(f'正確答案：{get_ans(qid)}')"
   ]
  },
  {
   "cell_type": "code",
   "execution_count": null,
   "metadata": {},
   "outputs": [],
   "source": [
    "qid = 5   # indexing-5\n",
    "nums = [1, 3, 5, 7, 9]\n",
    "print(nums[-0])\n",
    "\n",
    "# A) 1\n",
    "# B) 3\n",
    "# C) 5\n",
    "# D) 7\n",
    "# E) 9\n",
    "# F) Exception\n",
    "print(f'正確答案：{get_ans(qid)}')"
   ]
  },
  {
   "cell_type": "code",
   "execution_count": null,
   "metadata": {},
   "outputs": [],
   "source": [
    "qid = 6   # indexing-6\n",
    "chars = 'Pythonista'\n",
    "chars[-1]\n",
    "\n",
    "# A) 'P'\n",
    "# B) 'h'\n",
    "# C) 'i'\n",
    "# D) 'a'\n",
    "# E) ''\n",
    "# F) Exception\n",
    "print(f'正確答案：{get_ans(qid)}')"
   ]
  },
  {
   "cell_type": "code",
   "execution_count": null,
   "metadata": {},
   "outputs": [],
   "source": [
    "qid = 7   # indexing-7\n",
    "nums = (1, 3, 5, 7, 9)\n",
    "print(nums[-3])\n",
    "# A) 1\n",
    "# B) 3\n",
    "# C) 5\n",
    "# D) 7\n",
    "# E) 9\n",
    "# F) Exception\n",
    "print(f'正確答案：{get_ans(qid)}')"
   ]
  },
  {
   "cell_type": "code",
   "execution_count": null,
   "metadata": {},
   "outputs": [],
   "source": [
    "qid = 8   # indexing-8\n",
    "nums = [1, 3, 5, 7, 9]\n",
    "print(nums[-6])\n",
    "\n",
    "# A) 1\n",
    "# B) -6\n",
    "# C) 9\n",
    "# D) None\n",
    "# E) Exception\n",
    "# F) 以上皆非\n",
    "print(f'正確答案：{get_ans(qid)}')"
   ]
  },
  {
   "cell_type": "code",
   "execution_count": null,
   "metadata": {},
   "outputs": [],
   "source": [
    "qid = 9   # indexing-9\n",
    "chars = 'Pythonista'\n",
    "chars[len(chars)]\n",
    "\n",
    "# A) 'P'\n",
    "# B) 't'\n",
    "# C) 'a'\n",
    "# D) ''\n",
    "# E) Exception\n",
    "# F) 以上皆非\n",
    "print(f'正確答案：{get_ans(qid)}')"
   ]
  },
  {
   "cell_type": "code",
   "execution_count": null,
   "metadata": {},
   "outputs": [],
   "source": [
    "qid = 10   # indexing-10\n",
    "nums = {1, 3, 5, 7, 9}\n",
    "print(nums[3])\n",
    "\n",
    "# A) 1\n",
    "# B) 3\n",
    "# C) 5\n",
    "# D) 7\n",
    "# E) 9\n",
    "# F) 以上皆非\n",
    "print(f'正確答案：{get_ans(qid)}')"
   ]
  },
  {
   "cell_type": "code",
   "execution_count": null,
   "metadata": {},
   "outputs": [],
   "source": [
    "qid = 11   # indexing-11\n",
    "nums = {0: 1, 1: 3, 2: 5, -3: 7, 4: 0}   # dict\n",
    "print(nums[-3])\n",
    "\n",
    "# A) 3\n",
    "# B) 5\n",
    "# C) 7\n",
    "# D) 9\n",
    "# E) Exception\n",
    "# F) 以上皆非\n",
    "print(f'正確答案：{get_ans(qid)}')"
   ]
  },
  {
   "cell_type": "code",
   "execution_count": null,
   "metadata": {},
   "outputs": [],
   "source": [
    "qid = 12   # indexing-12\n",
    "s_id = 12_3_4567_89   # int  12,345,678\n",
    "print(s_id[3])\n",
    "\n",
    "# A) 4\n",
    "# B) 2\n",
    "# C) 3\n",
    "# D) _\n",
    "# E) 789\n",
    "# F) 以上皆非\n",
    "print(f'正確答案：{get_ans(qid)}')"
   ]
  },
  {
   "cell_type": "code",
   "execution_count": null,
   "metadata": {},
   "outputs": [],
   "source": [
    "qid = 13   # slicing-1\n",
    "nums = (1, 2, 3, 4, 5, 6)\n",
    "print(nums[0::1])\n",
    "\n",
    "# A) ()\n",
    "# B) (1, 2, 3)\n",
    "# C) (4, 5, 6)\n",
    "# D) (1, 2, 3, 4, 5, 6)\n",
    "# E) Exception\n",
    "# F) 以上皆非\n",
    "print(f'正確答案：{get_ans(qid)}')"
   ]
  },
  {
   "cell_type": "code",
   "execution_count": null,
   "metadata": {},
   "outputs": [],
   "source": [
    "qid = 14   # slicing-2\n",
    "nums = [1, 2, 3, 4, 5, 6]\n",
    "print(nums[0::])\n",
    "\n",
    "# A) []\n",
    "# B) [1, 2, 3]\n",
    "# C) [4, 5, 6]\n",
    "# D) [1, 2, 3, 4, 5, 6]\n",
    "# E) Exception\n",
    "# F) 以上皆非\n",
    "print(f'正確答案：{get_ans(qid)}')"
   ]
  },
  {
   "cell_type": "code",
   "execution_count": null,
   "metadata": {},
   "outputs": [],
   "source": [
    "qid = 15   # slicing-3\n",
    "chars = 'Pythonista'\n",
    "chars[::1]\n",
    "\n",
    "# A) 'Pythonista'\n",
    "# B) 'Pyt'\n",
    "# C) 'sta'\n",
    "# D) ''\n",
    "# E) Exception\n",
    "# F) 以上皆非\n",
    "print(f'正確答案：{get_ans(qid)}')"
   ]
  },
  {
   "cell_type": "code",
   "execution_count": null,
   "metadata": {},
   "outputs": [],
   "source": [
    "qid = 16   # slicing-4\n",
    "nums = (1, 2, 3, 4, 5, 6)\n",
    "print(nums[::])\n",
    "\n",
    "# A) ()\n",
    "# B) (1, 2, 3)\n",
    "# C) (4, 5, 6)\n",
    "# D) (1, 2, 3, 4, 5, 6)\n",
    "# E) Exception\n",
    "# F) 以上皆非\n",
    "print(f'正確答案：{get_ans(qid)}')"
   ]
  },
  {
   "cell_type": "code",
   "execution_count": null,
   "metadata": {},
   "outputs": [],
   "source": [
    "qid = 17   # slicing-5\n",
    "nums = [1, 2, 3, 4, 5, 6]\n",
    "# print(nums[0:len(nums):1])  # 最完整\n",
    "print(nums[:])              # 最精簡\n",
    "\n",
    "# A) []\n",
    "# B) [1, 2, 3]\n",
    "# C) [4, 5, 6]\n",
    "# D) [1, 2, 3, 4, 5, 6]\n",
    "# E) Exception\n",
    "# F) 以上皆非\n",
    "print(f'正確答案：{get_ans(qid)}')"
   ]
  },
  {
   "cell_type": "code",
   "execution_count": null,
   "metadata": {},
   "outputs": [],
   "source": [
    "qid = 18   # slicing-6\n",
    "chars = 'Pythonista'\n",
    "chars[1:4]\n",
    "\n",
    "# A) 'Pyth'\n",
    "# B) 'Pyt'\n",
    "# C) 'ytho'\n",
    "# D) 'yth'\n",
    "# E) Exception\n",
    "# F) 以上皆非\n",
    "print(f'正確答案：{get_ans(qid)}')"
   ]
  },
  {
   "cell_type": "code",
   "execution_count": null,
   "metadata": {},
   "outputs": [],
   "source": [
    "qid = 19   # slicing-7\n",
    "nums = (1, 3, 5, 7, 9)\n",
    "print(nums[1:4:2])   # start:stop:step\n",
    "\n",
    "# A) (1, 5, 9)\n",
    "# B) (3, 5, 7)\n",
    "# C) (1, 5)\n",
    "# D) (3, 7)\n",
    "# E) Exception\n",
    "# F) 以上皆非\n",
    "print(f'正確答案：{get_ans(qid)}')"
   ]
  },
  {
   "cell_type": "code",
   "execution_count": null,
   "metadata": {},
   "outputs": [],
   "source": [
    "qid = 20   # slicing-8\n",
    "nums = [1, 3, 5, 7, 9]   # list\n",
    "print(nums[-2::-2])\n",
    "\n",
    "# A) (7, 3)\n",
    "# B) [3, 7]\n",
    "# C) [7, 3]\n",
    "# D) (3, 7)\n",
    "# E) Exception\n",
    "# F) 以上皆非\n",
    "print(f'正確答案：{get_ans(qid)}')"
   ]
  },
  {
   "cell_type": "code",
   "execution_count": null,
   "metadata": {},
   "outputs": [],
   "source": [
    "qid = 21   # slicing-9\n",
    "nums = (1, 2, 3, 4, 5, 6)\n",
    "print(nums[-2:-7:-2])\n",
    "\n",
    "# A) (5, 3)\n",
    "# B) (5, 2)\n",
    "# C) (5, 4, 3, 2, 1)\n",
    "# D) (1, 3, 5)\n",
    "# E) Exception\n",
    "# F) 以上皆非\n",
    "print(f'正確答案：{get_ans(qid)}')"
   ]
  },
  {
   "cell_type": "code",
   "execution_count": null,
   "metadata": {},
   "outputs": [],
   "source": [
    "qid = 22   # slicing-10\n",
    "nums = [1, 2, 3, 4, 5, 6]\n",
    "print(nums[-2:-100:-2])   # slice 切片\n",
    "# print(nums[-100])         # index 索引\n",
    "\n",
    "# A) [5, 3]\n",
    "# B) [5, 4, 3, 2]\n",
    "# C) [5, 4, 3, 2, 1]\n",
    "# D) [1, 3, 5]\n",
    "# E) Exception\n",
    "# F) 以上皆非\n",
    "print(f'正確答案：{get_ans(qid)}')"
   ]
  },
  {
   "cell_type": "code",
   "execution_count": null,
   "metadata": {},
   "outputs": [],
   "source": [
    "qid = 23   # slicing-11\n",
    "nums = [10, 20, 30, 40, 50]\n",
    "nums[1:4] = [15, 25, 35]\n",
    "print(nums)\n",
    "\n",
    "# A) [10, 20, 30, 40, 50]\n",
    "# B) [15, 25, 35, 40, 50]\n",
    "# C) [10, 15, 25, 35, 50]\n",
    "# D) [10, 20, 15, 25, 35]\n",
    "# E) Exception\n",
    "# F) 以上皆非\n",
    "print(f'正確答案：{get_ans(qid)}')"
   ]
  },
  {
   "cell_type": "code",
   "execution_count": null,
   "metadata": {},
   "outputs": [],
   "source": [
    "qid = 24   # slicing-12\n",
    "nums = [10, 20, 30, 40, 50]\n",
    "nums[1:4] = []\n",
    "print(nums)\n",
    "\n",
    "# A) [10, 20, 30, 40, 50]\n",
    "# B) [10, [], 50]\n",
    "# C) [10, []]\n",
    "# D) []\n",
    "# E) Exception\n",
    "# F) 以上皆非\n",
    "print(f'正確答案：{get_ans(qid)}')"
   ]
  },
  {
   "cell_type": "code",
   "execution_count": null,
   "metadata": {},
   "outputs": [],
   "source": [
    "qid = 25   # slicing-13\n",
    "nums = [1, 3, 5, 7, 9]\n",
    "nums[1:4] = 0\n",
    "print(nums)\n",
    "\n",
    "# A) [1, 3, 5, 7, 9]\n",
    "# B) [0, 1, 3, 5, 7, 9]\n",
    "# C) [1, 0, 3, 5, 7, 9]\n",
    "# D) [1, 0, 5, 7, 9]\n",
    "# E) Exception\n",
    "# F) 以上皆非\n",
    "print(f'正確答案：{get_ans(qid)}')"
   ]
  },
  {
   "cell_type": "code",
   "execution_count": null,
   "metadata": {},
   "outputs": [],
   "source": [
    "qid = 26   # slice assignment-14\n",
    "nums = [1, 3, 5, 7, 9]\n",
    "nums[1:2] = [0, 2]\n",
    "print(nums)\n",
    "\n",
    "# A) [1, 3, 5, 7, 9]\n",
    "# B) [0, 2, 1, 3, 5, 7, 9]\n",
    "# C) [1, 0, 2, 3, 5, 7, 9]\n",
    "# D) [1, 0, 2, 5, 7, 9]\n",
    "# E) Exception\n",
    "# F) 以上皆非\n",
    "print(f'正確答案：{get_ans(qid)}')"
   ]
  },
  {
   "cell_type": "code",
   "execution_count": null,
   "metadata": {},
   "outputs": [],
   "source": [
    "qid = 27   # slice assignment-15\n",
    "nums = [1, 3, 5, 7, 9]\n",
    "nums[1:4] = []\n",
    "print(nums)\n",
    "\n",
    "# A) [0, 1, 3, 5, 7, 9]\n",
    "# B) [1, 0, 5, 7, 9]\n",
    "# C) [1, 3, 0, 7, 9]\n",
    "# D) [1, 3, 5, 7, 9]\n",
    "# E) Exception\n",
    "# F) 以上皆非\n",
    "print(f'正確答案：{get_ans(qid)}')"
   ]
  },
  {
   "cell_type": "code",
   "execution_count": null,
   "metadata": {},
   "outputs": [],
   "source": [
    "qid = 28   # slice assignment-16\n",
    "nums = [1, 3, 5, 7, 9]\n",
    "nums[:100] = []\n",
    "print(nums)\n",
    "\n",
    "# A) [1, 3, 5, 7, 9]\n",
    "# B) [[1], [3], [5], [7], [9]]\n",
    "# C) [[100]]\n",
    "# D) [[]]\n",
    "# E) Exception\n",
    "# F) 以上皆非\n",
    "print(f'正確答案：{get_ans(qid)}')"
   ]
  },
  {
   "cell_type": "code",
   "execution_count": null,
   "metadata": {},
   "outputs": [],
   "source": [
    "qid = 29   # indexing and slicing\n",
    "nums = [1, 2, 3, 4, 5, 6]\n",
    "print(f'{nums[3]}\\t\\t{nums[3:4]}')\n",
    "# print(f'{type(nums[3])}\\t{type(nums[3:4])}')\n",
    "\n",
    "# A) 4    4\n",
    "# B) 4    [4]\n",
    "# C) [4]    4\n",
    "# D) [4]    [4]\n",
    "# E) Exception\n",
    "# F) 以上皆非\n",
    "print(f'正確答案：{get_ans(qid)}')"
   ]
  },
  {
   "cell_type": "code",
   "execution_count": null,
   "metadata": {},
   "outputs": [],
   "source": [
    "qid = 30   # element assignment-1\n",
    "nums = [1, 2, 3, 4, 5, 6]\n",
    "nums[-2] = 99\n",
    "print(nums)\n",
    "\n",
    "# A) [1, 2, 3, 4, 99, 6]\n",
    "# B) [1, 2, 3, 99, 5, 6]\n",
    "# C) [1, 2, 99, 4, 5, 6]\n",
    "# D) [1, 99, 3, 4, 5, 6]\n",
    "# E) Exception\n",
    "# F) 以上皆非\n",
    "print(f'正確答案：{get_ans(qid)}')"
   ]
  },
  {
   "cell_type": "code",
   "execution_count": null,
   "metadata": {},
   "outputs": [],
   "source": [
    "qid = 31   # element assignment-2\n",
    "nums = (1, 2, 3, 4, 5, 6)\n",
    "nums[2] = 99\n",
    "print(nums)\n",
    "\n",
    "# A) (1, 2, 3, 4, 99, 6)\n",
    "# B) (1, 2, 3, 99, 5, 6)\n",
    "# C) (1, 2, 99, 4, 5, 6)\n",
    "# D) (1, 99, 3, 4, 5, 6)\n",
    "# E) Exception\n",
    "# F) 以上皆非\n",
    "print(f'正確答案：{get_ans(qid)}')"
   ]
  },
  {
   "cell_type": "code",
   "execution_count": null,
   "metadata": {},
   "outputs": [],
   "source": [
    "qid = 32   # list comparison-1\n",
    "scores1 = [68, 71, 53, 98, 85]\n",
    "scores2 = [68, 71, 53, 98, 85]\n",
    "print(scores1 == scores2, scores1 is scores2)\n",
    "\n",
    "# A) True True\n",
    "# B) True False\n",
    "# C) False True\n",
    "# D) False False\n",
    "# E) Exception\n",
    "# F) 以上皆非\n",
    "print(f'正確答案：{get_ans(qid)}')"
   ]
  },
  {
   "cell_type": "code",
   "execution_count": null,
   "metadata": {},
   "outputs": [],
   "source": [
    "qid = 33   # list comparison-2\n",
    "scores1 = [68, 71, 53, 98, 85]\n",
    "scores2 = scores1   # assignment operator\n",
    "print(scores1 == scores2, scores1 is scores2)\n",
    "\n",
    "# A) True True\n",
    "# B) True False\n",
    "# C) False True\n",
    "# D) False False\n",
    "# E) Exception\n",
    "# F) 以上皆非\n",
    "print(f'正確答案：{get_ans(qid)}')"
   ]
  },
  {
   "cell_type": "code",
   "execution_count": null,
   "metadata": {},
   "outputs": [],
   "source": [
    "qid = 34   # list assignment\n",
    "i = j = [3, 5]\n",
    "i += j\n",
    "print(i)\n",
    "\n",
    "# A) [[3, 5], [3, 5]]\n",
    "# B) [3, 5, 3, 5]\n",
    "# C) [[3, 5, 3, 5]]\n",
    "# D) [3, 5, [3, 5]]\n",
    "# E) Exception\n",
    "# F) 以上皆非\n",
    "print(f'正確答案：{get_ans(qid)}')"
   ]
  },
  {
   "cell_type": "code",
   "execution_count": null,
   "metadata": {},
   "outputs": [],
   "source": [
    "qid = 35   # boolean arithmetics\n",
    "print(True * 3, False + 2)\n",
    "\n",
    "# A) [True, True, True], [False, False]\n",
    "# B) (True, True, True), (False, False)\n",
    "# C) True, True, True, False, False\n",
    "# D) [True, True, True, False, False]\n",
    "# E) Exception\n",
    "# F) 以上皆非\n",
    "print(f'正確答案：{get_ans(qid)}')"
   ]
  },
  {
   "cell_type": "code",
   "execution_count": null,
   "metadata": {},
   "outputs": [],
   "source": [
    "qid = 36   # list append\n",
    "nums = [1, 2, 3]\n",
    "nums.append([4, 5])\n",
    "print(len(nums))\n",
    "\n",
    "# A) 2\n",
    "# B) 3\n",
    "# C) 4\n",
    "# D) 5\n",
    "# E) Exception\n",
    "# F) 以上皆非\n",
    "print(f'正確答案：{get_ans(qid)}')"
   ]
  },
  {
   "cell_type": "code",
   "execution_count": null,
   "metadata": {},
   "outputs": [],
   "source": [
    "qid = 37   # str.find()\n",
    "chars = 'Pythonista'\n",
    "index = chars.find('t', -1)\n",
    "print(index)\n",
    "\n",
    "# A) -2\n",
    "# B) -1\n",
    "# C) 2\n",
    "# D) 3\n",
    "# E) 8\n",
    "# F) Exception\n",
    "print(f'正確答案：{get_ans(qid)}')"
   ]
  },
  {
   "cell_type": "code",
   "execution_count": null,
   "metadata": {},
   "outputs": [],
   "source": [
    "qid = 38   # logical `and/or` and walrus operator-1\n",
    "score = 59\n",
    "if True and (score = score + 1):    # expression and statement\n",
    "# if False and (score = score + 1):\n",
    "# if True or (score = score + 1):\n",
    "# if False or (score = score + 1):\n",
    "    score += 1\n",
    "print(score)\n",
    "\n",
    "# A) 59\n",
    "# B) 60\n",
    "# C) 61\n",
    "# D) 0\n",
    "# E) 1\n",
    "# F) Exception\n",
    "print(f'正確答案：{get_ans(qid)}')"
   ]
  },
  {
   "cell_type": "code",
   "execution_count": null,
   "metadata": {},
   "outputs": [],
   "source": [
    "qid = 39     # logical `and/or` and walrus operator-2\n",
    "score = 59\n",
    "if True and (score += 1):   # score = score + 1\n",
    "# if False and (score += 1):\n",
    "# if True or (score += 1):\n",
    "# if False or (score += 1):\n",
    "    score += 1\n",
    "print(score)\n",
    "\n",
    "# A) 59\n",
    "# B) 60\n",
    "# C) 61\n",
    "# D) 0\n",
    "# E) 1\n",
    "# F) Exception\n",
    "print(f'正確答案：{get_ans(qid)}')"
   ]
  },
  {
   "cell_type": "code",
   "execution_count": null,
   "metadata": {},
   "outputs": [],
   "source": [
    "qid = 40   # logical `and/or` and walrus operator-3\n",
    "score = 59\n",
    "if True and (score = 0):   # expression 運算式\n",
    "# if False and (score = 0):\n",
    "# if True or (score = 0):\n",
    "# if False or (score = 0):\n",
    "    score += 1\n",
    "print(score)\n",
    "\n",
    "# A) 59\n",
    "# B) 60\n",
    "# C) 61\n",
    "# D) 0\n",
    "# E) 1\n",
    "# F) Exception\n",
    "print(f'正確答案：{get_ans(qid)}')"
   ]
  },
  {
   "cell_type": "code",
   "execution_count": null,
   "metadata": {},
   "outputs": [],
   "source": [
    "qid = 41   # logical `and/or` and walrus operator-4\n",
    "score = 59\n",
    "if True and (score := score + 1):\n",
    "# if False and (score := score + 1):\n",
    "# if True or (score := score + 1):   # short circuit\n",
    "# if False or (score := score + 1):\n",
    "    score += 1\n",
    "print(score)\n",
    "\n",
    "# A) 59\n",
    "# B) 60\n",
    "# C) 61\n",
    "# D) 0\n",
    "# E) 1\n",
    "# F) Exception\n",
    "print(f'正確答案：{get_ans(qid)}')"
   ]
  },
  {
   "cell_type": "code",
   "execution_count": null,
   "metadata": {},
   "outputs": [],
   "source": [
    "qid = 42   # logical `and/or` and walrus operator-5\n",
    "score = 59\n",
    "if True and (score := 0):\n",
    "# if False and (score := 0):\n",
    "# if True or (score := 0):\n",
    "# if False or (score := 0):\n",
    "    score += 1\n",
    "print(score)\n",
    "\n",
    "# A) 59\n",
    "# B) 60\n",
    "# C) 61\n",
    "# D) 0\n",
    "# E) 1\n",
    "# F) Exception\n",
    "print(f'正確答案：{get_ans(qid)}')"
   ]
  },
  {
   "cell_type": "code",
   "execution_count": null,
   "metadata": {},
   "outputs": [],
   "source": [
    "qid = 43   # logical `and/or` and walrus operator-6\n",
    "score = 59\n",
    "if (score := score + 1) and True:\n",
    "# if (score := score + 1) and False:\n",
    "# if (score := score + 1) or True:\n",
    "# if (score := score + 1) or False:\n",
    "    score += 1\n",
    "print(score)\n",
    "\n",
    "# A) 59\n",
    "# B) 60\n",
    "# C) 61\n",
    "# D) 0\n",
    "# E) 1\n",
    "# F) Exception\n",
    "print(f'正確答案：{get_ans(qid)}')"
   ]
  },
  {
   "cell_type": "code",
   "execution_count": null,
   "metadata": {},
   "outputs": [],
   "source": [
    "qid = 44   # logical `and/or` and walrus operator-7\n",
    "score = 59\n",
    "if (score := 0) and True:\n",
    "# if (score := 0) and False:\n",
    "# if (score := 0) or True:\n",
    "# if (score := 0) or False:\n",
    "    score += 1\n",
    "print(score)\n",
    "\n",
    "# A) 59\n",
    "# B) 60\n",
    "# C) 61\n",
    "# D) 0\n",
    "# E) 1\n",
    "# F) Exception\n",
    "print(f'正確答案：{get_ans(qid)}')"
   ]
  },
  {
   "cell_type": "code",
   "execution_count": null,
   "metadata": {},
   "outputs": [],
   "source": [
    "qid = 45   # bool arithmetics\n",
    "print(True / False)\n",
    "\n",
    "# A) 1\n",
    "# B) 2\n",
    "# C) True\n",
    "# D) False\n",
    "# E) Exception\n",
    "# F) 以上皆非\n",
    "print(f'正確答案：{get_ans(qid)}')"
   ]
  },
  {
   "cell_type": "code",
   "execution_count": null,
   "metadata": {},
   "outputs": [],
   "source": [
    "qid = 46   # multiply an empty tuple\n",
    "print(()*3)\n",
    "\n",
    "# A) ()()()\n",
    "# B) (()()())\n",
    "# C) (()())\n",
    "# D) ()\n",
    "# E) ((()))\n",
    "# F) Exception\n",
    "print(f'正確答案：{get_ans(qid)}')"
   ]
  },
  {
   "cell_type": "code",
   "execution_count": null,
   "metadata": {},
   "outputs": [],
   "source": [
    "qid = 47   # an empty list as default parameter\n",
    "def foo(x, y=[]):\n",
    "    y.append(x)\n",
    "    return y\n",
    "\n",
    "print(f'{foo('Alex')}   {foo('Van')}')\n",
    "\n",
    "# A) ['Alex', 'Van']\n",
    "# B) 'Alex   Van'\n",
    "# C) ['Alex']   ['Alex', 'Van']\n",
    "# D) 'Alex'   'AlexVan'\n",
    "# E) ['Alex']   ['Van']\n",
    "# F) 'Alex'   'Van'\n",
    "print(f'正確答案：{get_ans(qid)}')"
   ]
  },
  {
   "cell_type": "code",
   "execution_count": null,
   "metadata": {},
   "outputs": [],
   "source": [
    "qid = 48   # string interning\n",
    "a = 'Alex'\n",
    "b = 'Alex'\n",
    "print(f'{(a == b) = }\\t\\t{(a is b) = }')\n",
    "\n",
    "# A) (a == b) = True        (a is b) = True\n",
    "# B) (a == b) = True        (a is b) = False\n",
    "# C) (a == b) = False       (a is b) = True\n",
    "# D) (a == b) = False       (a is b) = False\n",
    "# E) Exception\n",
    "# F) 以上皆非\n",
    "print(f'正確答案：{get_ans(qid)}')"
   ]
  },
  {
   "cell_type": "code",
   "execution_count": null,
   "metadata": {},
   "outputs": [],
   "source": [
    "qid = 49   # tuple interning?\n",
    "a = ('Alex', )\n",
    "b = ('Alex', )\n",
    "print(f'{(a == b) = }\\t\\t{(a is b) = }')\n",
    "\n",
    "# A) (a == b) = True        (a is b) = True\n",
    "# B) (a == b) = True        (a is b) = False\n",
    "# C) (a == b) = False       (a is b) = True\n",
    "# D) (a == b) = False       (a is b) = False\n",
    "# E) Exception\n",
    "# F) 以上皆非\n",
    "print(f'正確答案：{get_ans(qid)}')"
   ]
  },
  {
   "cell_type": "code",
   "execution_count": null,
   "metadata": {},
   "outputs": [],
   "source": [
    "qid = 50   # ceil and floor\n",
    "import math\n",
    "a = -3.75\n",
    "print(f'{math.ceil(a)}\\t{math.floor(a)}')\n",
    "\n",
    "# A) -3     -4\n",
    "# B) -3     -3\n",
    "# C) -4     -4\n",
    "# D) -4     -3\n",
    "# E) Exception\n",
    "# F) 以上皆非\n",
    "print(f'正確答案：{get_ans(qid)}')"
   ]
  },
  {
   "cell_type": "code",
   "execution_count": null,
   "metadata": {},
   "outputs": [],
   "source": [
    "qid = 51   # logical and/or + comparison\n",
    "a = -1 and 0\n",
    "b = -1 or 0\n",
    "if a > b:\n",
    "    print('a > b')\n",
    "else:\n",
    "    print('a <= b')\n",
    "\n",
    "# A) a > b\n",
    "# B) a >= b\n",
    "# C) a < b\n",
    "# D) a <= b\n",
    "# E) a == b\n",
    "# F) a != b\n",
    "print(f'正確答案：{get_ans(qid)}')"
   ]
  },
  {
   "cell_type": "code",
   "execution_count": null,
   "metadata": {},
   "outputs": [],
   "source": [
    "qid = 52   # * operator\n",
    "nums = (1, 2, 3)\n",
    "x, y, z, *rest = nums\n",
    "print(x, y, z, rest)\n",
    "\n",
    "# A) 1 2 3\n",
    "# B) 1 2 3 None\n",
    "# C) 1 2 3 []\n",
    "# D) []\n",
    "# E) Exception\n",
    "# F) 以上皆非\n",
    "print(f'正確答案：{get_ans(qid)}')"
   ]
  },
  {
   "cell_type": "code",
   "execution_count": null,
   "metadata": {},
   "outputs": [],
   "source": [
    "qid = 53   # comparison of tuples-1\n",
    "tuple1 = (1, 2, 3, 4)\n",
    "tuple2 = (1, 2, 4)\n",
    "print(tuple2 > tuple1)\n",
    "\n",
    "# A) True\n",
    "# B) False\n",
    "# C) 4\n",
    "# D) None\n",
    "# E) Exception\n",
    "# F) 以上皆非\n",
    "print(f'正確答案：{get_ans(qid)}')"
   ]
  },
  {
   "cell_type": "code",
   "execution_count": null,
   "metadata": {},
   "outputs": [],
   "source": [
    "qid = 54   # comparison of tuples-2\n",
    "tuple1 = (1, 4, 3, 2)\n",
    "tuple2 = (1, 2)\n",
    "print(tuple2 > tuple1)\n",
    "\n",
    "# A) True\n",
    "# B) False\n",
    "# C) 3\n",
    "# D) None\n",
    "# E) Exception\n",
    "# F) 以上皆非\n",
    "print(f'正確答案：{get_ans(qid)}')"
   ]
  },
  {
   "cell_type": "code",
   "execution_count": null,
   "metadata": {},
   "outputs": [],
   "source": [
    "qid = 55   # comparison of tuples-3\n",
    "tuple1 = (3, 2, 1)\n",
    "tuple2 = (1)\n",
    "print(tuple2 > tuple1)\n",
    "\n",
    "# A) True\n",
    "# B) False\n",
    "# C) 3\n",
    "# D) None\n",
    "# E) Exception\n",
    "# F) 以上皆非\n",
    "print(f'正確答案：{get_ans(qid)}')"
   ]
  },
  {
   "cell_type": "code",
   "execution_count": null,
   "metadata": {},
   "outputs": [],
   "source": [
    "qid = 56   # access of dict element-1\n",
    "d = {'name': 'Alex', 'gender': 'M', 'age': 39}\n",
    "print(d['height'])\n",
    "\n",
    "# A) 169\n",
    "# B) False\n",
    "# C) True\n",
    "# D) None\n",
    "# E) Exception\n",
    "# F) 以上皆非\n",
    "print(f'正確答案：{get_ans(qid)}')"
   ]
  },
  {
   "cell_type": "code",
   "execution_count": null,
   "metadata": {},
   "outputs": [],
   "source": [
    "qid = 57   # access of dict element-2\n",
    "d = {'name': 'Alex', 'gender': 'M', 'age': 39}\n",
    "print(d.get('height'))\n",
    "\n",
    "# A) 169\n",
    "# B) False\n",
    "# C) True\n",
    "# D) None\n",
    "# E) Exception\n",
    "# F) 以上皆非\n",
    "print(f'正確答案：{get_ans(qid)}')"
   ]
  },
  {
   "cell_type": "code",
   "execution_count": null,
   "metadata": {},
   "outputs": [],
   "source": [
    "qid = 58   # del and slice\n",
    "signs = ['鼠', '牛', '虎', '兔', '龍', '蛇', '馬', '羊', '猴',\n",
    "         '雞', '狗', '豬']\n",
    "del(signs[4:8])\n",
    "print(signs)\n",
    "\n",
    "# A) ['兔', '龍', '蛇', '馬', '羊']\n",
    "# B) [龍', '蛇', '馬', '羊', '猴']\n",
    "# C) ['龍', '蛇', '馬', '羊']\n",
    "# D) ['兔', '龍', '蛇', '馬']\n",
    "# E) Exception\n",
    "# F) 以上皆非\n",
    "print(f'正確答案：{get_ans(qid)}')"
   ]
  },
  {
   "cell_type": "code",
   "execution_count": null,
   "metadata": {},
   "outputs": [],
   "source": [
    "qid = 59   # escape sequence\n",
    "x = '2\\\\t4'\n",
    "print(x)\n",
    "\n",
    "# A) 2    4\n",
    "# B) 2\\t4\n",
    "# C) 2\\\\t4\n",
    "# D) 2    t    4\n",
    "# E) 2t4\n",
    "# F) 2\\    4\n",
    "print(f'正確答案：{get_ans(qid)}')"
   ]
  },
  {
   "cell_type": "code",
   "execution_count": null,
   "metadata": {},
   "outputs": [],
   "source": [
    "qid = 60   # list assignment\n",
    "a = [1, 2, 3, 4]\n",
    "b = a\n",
    "a[-1] = 0\n",
    "print(f'{a}    {b}')\n",
    "\n",
    "# A) [1, 2, 3, 4]    [1, 2, 3, 4]\n",
    "# B) [1, 2, 3, 0]    [1, 2, 3, 4]\n",
    "# C) [1, 2, 3, 4]    [1, 2, 3, 0]\n",
    "# D) [1, 2, 3, 0]    [1, 2, 3, 0]\n",
    "# E) Exception\n",
    "# F) 以上皆非\n",
    "print(f'正確答案：{get_ans(qid)}')"
   ]
  },
  {
   "cell_type": "code",
   "execution_count": null,
   "metadata": {},
   "outputs": [],
   "source": [
    "qid = 61   # list.copy()-1\n",
    "a = [1, 2, 3, 4]\n",
    "b = a.copy()    # shalow copy\n",
    "a[-1] = 0\n",
    "print(f'{a}    {b}')\n",
    "\n",
    "# A) [1, 2, 3, 4]    [1, 2, 3, 4]\n",
    "# B) [1, 2, 3, 0]    [1, 2, 3, 4]\n",
    "# C) [1, 2, 3, 4]    [1, 2, 3, 0]\n",
    "# D) [1, 2, 3, 0]    [1, 2, 3, 0]\n",
    "# E) Exception\n",
    "# F) 以上皆非\n",
    "print(f'正確答案：{get_ans(qid)}')"
   ]
  },
  {
   "cell_type": "code",
   "execution_count": null,
   "metadata": {},
   "outputs": [],
   "source": [
    "qid = 62   # list.copy()-2\n",
    "a = [1, 2, 3, [4]]\n",
    "b = a.copy()\n",
    "a[-1] = [0]\n",
    "print(f'{a}    {b}')\n",
    "\n",
    "# A) [1, 2, 3, 4]    [1, 2, 3, 4]\n",
    "# B) [1, 2, 3, 0]    [1, 2, 3, 4]\n",
    "# C) [1, 2, 3, 4]    [1, 2, 3, 0]\n",
    "# D) [1, 2, 3, 0]    [1, 2, 3, 0]\n",
    "# E) Exception\n",
    "# F) 以上皆非\n",
    "print(f'正確答案：{get_ans(qid)}')"
   ]
  },
  {
   "cell_type": "code",
   "execution_count": null,
   "metadata": {},
   "outputs": [],
   "source": [
    "qid = 63   # list.copy()-3\n",
    "a = [1, 2, {'a': [3, 4]}]\n",
    "b = a.copy()   # shallow copy\n",
    "a[-1]['a'][-1] = 0\n",
    "print(f'{a}    {b}')\n",
    "\n",
    "# A) [1, 2, {'a': [3, 4]}]    [1, 2, {'a': [3, 4]}]\n",
    "# B) [1, 2, {'a': [3, 0]}]    [1, 2, {'a': [3, 4]}]\n",
    "# C) [1, 2, {'a': [3, 4]}]    [1, 2, {'a': [3, 0]}]\n",
    "# D) [1, 2, {'a': [3, 0]}]    [1, 2, {'a': [3, 0]}]\n",
    "# E) Exception\n",
    "# F) 以上皆非\n",
    "print(f'正確答案：{get_ans(qid)}')"
   ]
  },
  {
   "cell_type": "code",
   "execution_count": null,
   "metadata": {},
   "outputs": [],
   "source": [
    "qid = 64   # shallow copy\n",
    "import copy\n",
    "\n",
    "a = [1, 2, {'a': [3, 4]}]\n",
    "b = copy.copy(a)    # shallow copy\n",
    "a[-1]['a'][-1] = 0\n",
    "print(f'{a}    {b}')\n",
    "\n",
    "# A) [1, 2, {'a': [3, 4]}]    [1, 2, {'a': [3, 4]}]\n",
    "# B) [1, 2, {'a': [3, 0]}]    [1, 2, {'a': [3, 4]}]\n",
    "# C) [1, 2, {'a': [3, 4]}]    [1, 2, {'a': [3, 0]}]\n",
    "# D) [1, 2, {'a': [3, 0]}]    [1, 2, {'a': [3, 0]}]\n",
    "# E) Exception\n",
    "# F) 以上皆非\n",
    "print(f'正確答案：{get_ans(qid)}')"
   ]
  },
  {
   "cell_type": "code",
   "execution_count": null,
   "metadata": {},
   "outputs": [],
   "source": [
    "qid = 65   # deep copy\n",
    "import copy\n",
    "\n",
    "a = [1, 2, {'a': [3, 4]}]\n",
    "b = copy.deepcopy(a)\n",
    "a[-1]['a'][-1] = 0\n",
    "print(f'{a}    {b}')\n",
    "\n",
    "# A) [1, 2, {'a': [3, 4]}]    [1, 2, {'a': [3, 4]}]\n",
    "# B) [1, 2, {'a': [3, 0]}]    [1, 2, {'a': [3, 4]}]\n",
    "# C) [1, 2, {'a': [3, 4]}]    [1, 2, {'a': [3, 0]}]\n",
    "# D) [1, 2, {'a': [3, 0]}]    [1, 2, {'a': [3, 0]}]\n",
    "# E) Exception\n",
    "# F) 以上皆非\n",
    "print(f'正確答案：{get_ans(qid)}')"
   ]
  },
  {
   "cell_type": "code",
   "execution_count": null,
   "metadata": {},
   "outputs": [],
   "source": [
    "qid = 66   # `in` operator\n",
    "day = 'Friday'\n",
    "print('Fri' in day)\n",
    "\n",
    "# A) 'Fri' in day\n",
    "# B) 'Friday' in day\n",
    "# C) 'Fri'\n",
    "# D) True\n",
    "# E) False\n",
    "# F) 以上皆非\n",
    "print(f'正確答案：{get_ans(qid)}')"
   ]
  },
  {
   "cell_type": "code",
   "execution_count": null,
   "metadata": {},
   "outputs": [],
   "source": [
    "qid = 67   # list comprehension-1\n",
    "nums = [num**2 for num in [-4, 1, -3, 2]]\n",
    "print(nums)\n",
    "\n",
    "# A) [-4, 1, -3, 2]\n",
    "# B) [-8, 2, -6, 4]\n",
    "# C) [16, 1, 9, 4]\n",
    "# D) [-16, 1, -9, 4]\n",
    "# E) Exception\n",
    "# F) 以上皆非\n",
    "print(f'正確答案：{get_ans(qid)}')"
   ]
  },
  {
   "cell_type": "code",
   "execution_count": null,
   "metadata": {},
   "outputs": [],
   "source": [
    "qid = 68   # list comprehension-2\n",
    "nums = [num*2 if num % 2 == 0 else num*3 for num in [-4, 1, -3, 2]]\n",
    "print(nums)\n",
    "\n",
    "# A) [-8, 3, -9, 4]\n",
    "# B) [-12, 2, -6, 6]\n",
    "# C) [16, 1, -27, 4]\n",
    "# D) [-64, 1, 9, 8]\n",
    "# E) Exception\n",
    "# F) 以上皆非\n",
    "print(f'正確答案：{get_ans(qid)}')"
   ]
  },
  {
   "cell_type": "code",
   "execution_count": null,
   "metadata": {},
   "outputs": [],
   "source": [
    "qid = 69   # list comprehension-3\n",
    "nums = [num for num in [-4, 1, -3, 2] if num > 1]\n",
    "print(nums)\n",
    "\n",
    "# A) [-4, 1, -3, 2]\n",
    "# B) [1, 2]\n",
    "# C) [-4, -3]\n",
    "# D) [1]\n",
    "# E) Exception\n",
    "# F) 以上皆非\n",
    "print(f'正確答案：{get_ans(qid)}')"
   ]
  },
  {
   "cell_type": "code",
   "execution_count": null,
   "metadata": {},
   "outputs": [],
   "source": [
    "if while True:\n",
    "    ..."
   ]
  },
  {
   "cell_type": "code",
   "execution_count": null,
   "metadata": {},
   "outputs": [],
   "source": [
    "qid = 70   # list comprehension-4\n",
    "nums = [n for num in [-4, 1, -3, 2] if (n = num > 0)]\n",
    "# expression運算式    statement敘述\n",
    "print(nums)\n",
    "\n",
    "# A) [-4, 1, -3, 2]\n",
    "# B) [1, 2]\n",
    "# C) [False, True, False, True]\n",
    "# D) [True, True]\n",
    "# E) Exception\n",
    "# F) 以上皆非\n",
    "print(f'正確答案：{get_ans(qid)}')"
   ]
  },
  {
   "cell_type": "code",
   "execution_count": 10,
   "metadata": {},
   "outputs": [
    {
     "name": "stdout",
     "output_type": "stream",
     "text": [
      "[True, True]\n",
      "正確答案：D\n"
     ]
    }
   ],
   "source": [
    "qid = 71   # list comprehension-5\n",
    "nums = [n for num in [-4, 1, -3, 2] if (n := num > 0)]\n",
    "print(nums)\n",
    "\n",
    "# A) [-4, 1, -3, 2]\n",
    "# B) [1, 2]\n",
    "# C) [False, True, False, True]\n",
    "# D) [True, True]\n",
    "# E) Exception\n",
    "# F) 以上皆非\n",
    "print(f'正確答案：{get_ans(qid)}')"
   ]
  },
  {
   "cell_type": "code",
   "execution_count": 12,
   "metadata": {},
   "outputs": [
    {
     "name": "stdout",
     "output_type": "stream",
     "text": [
      "nums=[2, 3]\tm=3\n",
      "正確答案：C\n"
     ]
    }
   ],
   "source": [
    "qid = 72   # list comprehension-6\n",
    "nums = [(m := n + num) for num in [-4, 1, -3, 2] if (n := num > 0)]\n",
    "print(f'{nums=}\\t{m=}')\n",
    "\n",
    "# A) nums=[True, True]    m=True\n",
    "# B) nums=[False, True, False, True]    m=False\n",
    "# C) nums=[2, 3]    m=3\n",
    "# D) nums=[-4, 1, -3, 2]    m=-4\n",
    "# E) Exception\n",
    "# F) 以上皆非\n",
    "print(f'正確答案：{get_ans(qid)}')"
   ]
  },
  {
   "cell_type": "code",
   "execution_count": 13,
   "metadata": {},
   "outputs": [
    {
     "name": "stdout",
     "output_type": "stream",
     "text": [
      "{6: 4}\n",
      "正確答案：A\n"
     ]
    }
   ],
   "source": [
    "qid = 73   # mutable objects as default parameter values-1\n",
    "def foo(x, d={}):\n",
    "    d[x + 1] = x - 1\n",
    "    return d\n",
    "\n",
    "print(foo(5))\n",
    "\n",
    "# A) {6: 4}\n",
    "# B) {4: 6}\n",
    "# C) {5: 5}\n",
    "# D) {x + 1: x - 1}\n",
    "# E) Exception\n",
    "# F) 以上皆非\n",
    "print(f'正確答案：{get_ans(qid)}')"
   ]
  },
  {
   "cell_type": "code",
   "execution_count": null,
   "metadata": {},
   "outputs": [],
   "source": [
    "qid = 74   # mutable objects as default parameter values-2\n",
    "def foo(x, d={}):\n",
    "    d[x] = d\n",
    "    return d\n",
    "\n",
    "print(foo('id'))\n",
    "\n",
    "# A) {'x': {d}}\n",
    "# B) {'d': {x}}\n",
    "# C) {'id': {}}\n",
    "# D) {}\n",
    "# E) Exception\n",
    "# F) 以上皆非\n",
    "print(f'正確答案：{get_ans(qid)}')"
   ]
  },
  {
   "cell_type": "code",
   "execution_count": 14,
   "metadata": {},
   "outputs": [
    {
     "name": "stdout",
     "output_type": "stream",
     "text": [
      "10\n",
      "正確答案：F\n"
     ]
    }
   ],
   "source": [
    "qid = 75   # logical and/or and arithmetic operations\n",
    "a = 5 and 0\n",
    "b = 5 or 0\n",
    "c = 2*a + b\n",
    "print(2*c + a)\n",
    "\n",
    "# A) 0\n",
    "# B) 15\n",
    "# C) 25\n",
    "# D) 35\n",
    "# E) Exception\n",
    "# F) 以上皆非\n",
    "print(f'正確答案：{get_ans(qid)}')"
   ]
  },
  {
   "cell_type": "code",
   "execution_count": 15,
   "metadata": {},
   "outputs": [
    {
     "ename": "SyntaxError",
     "evalue": "invalid syntax. Maybe you meant '==' or ':=' instead of '='? (766657968.py, line 4)",
     "output_type": "error",
     "traceback": [
      "\u001b[0;36m  Cell \u001b[0;32mIn[15], line 4\u001b[0;36m\u001b[0m\n\u001b[0;31m    while ((s = x + y) < 10):\u001b[0m\n\u001b[0m            ^\u001b[0m\n\u001b[0;31mSyntaxError\u001b[0m\u001b[0;31m:\u001b[0m invalid syntax. Maybe you meant '==' or ':=' instead of '='?\n"
     ]
    }
   ],
   "source": [
    "qid = 76   # accumulation-1\n",
    "x = 1\n",
    "y = 5\n",
    "while ((s = x + y) < 10):\n",
    "    x += 1\n",
    "    print((x, y, s), end=' ')\n",
    "\n",
    "# A) (1, 5, 6) (2, 5, 7) (3, 5, 8) (4, 5, 9)\n",
    "# B) (1, 5, 5) (2, 5, 6) (3, 5, 7) (4, 5, 8) (5, 5, 9)\n",
    "# C) (2, 5, 6) (3, 5, 7) (4, 5, 8) (5, 5, 9)\n",
    "# D) (2, 5, 5) (3, 5, 6) (4, 5, 7) (5, 5, 8) (6, 5, 9)\n",
    "# E) Exception\n",
    "# F) 以上皆非\n",
    "print(f'正確答案：{get_ans(qid)}')"
   ]
  },
  {
   "cell_type": "code",
   "execution_count": 16,
   "metadata": {},
   "outputs": [
    {
     "name": "stdout",
     "output_type": "stream",
     "text": [
      "(2, 5, 6) (3, 5, 7) (4, 5, 8) (5, 5, 9) \n",
      "正確答案：C\n"
     ]
    }
   ],
   "source": [
    "qid = 77   # accumulation-2\n",
    "x = 1\n",
    "y = 5\n",
    "while ((s := x + y) < 10):\n",
    "    x += 1\n",
    "    print((x, y, s), end=' ')\n",
    "print()\n",
    "\n",
    "# A) (1, 5, 6) (2, 5, 7) (3, 5, 8) (4, 5, 9)\n",
    "# B) (1, 5, 5) (2, 5, 6) (3, 5, 7) (4, 5, 8) (5, 5, 9)\n",
    "# C) (2, 5, 6) (3, 5, 7) (4, 5, 8) (5, 5, 9)\n",
    "# D) (2, 5, 5) (3, 5, 6) (4, 5, 7) (5, 5, 8) (6, 5, 9)\n",
    "# E) Exception\n",
    "# F) 以上皆非\n",
    "print(f'正確答案：{get_ans(qid)}')"
   ]
  },
  {
   "cell_type": "code",
   "execution_count": 18,
   "metadata": {},
   "outputs": [
    {
     "name": "stdout",
     "output_type": "stream",
     "text": [
      "3\t7\t\n",
      "正確答案：F\n"
     ]
    }
   ],
   "source": [
    "qid = 78   # two-dimensional list\n",
    "l = [[1, 2], (3, 4)]\n",
    "for a, b in l:\n",
    "    print(a + b, end='\\t')\n",
    "print()\n",
    "\n",
    "# A) 1  2\n",
    "# B) 3  4\n",
    "# C) 1  3\n",
    "# D) 2  4\n",
    "# E) Exception\n",
    "# F) 以上皆非\n",
    "print(f'正確答案：{get_ans(qid)}')"
   ]
  },
  {
   "cell_type": "code",
   "execution_count": 19,
   "metadata": {},
   "outputs": [
    {
     "name": "stdout",
     "output_type": "stream",
     "text": [
      "t\n",
      "正確答案：F\n"
     ]
    }
   ],
   "source": [
    "qid = 79   # chained index\n",
    "a = ['Alex', 'Van', 'Pythonista']\n",
    "print(a[2][-2])\n",
    "\n",
    "# A) Alex\n",
    "# B) Van\n",
    "# C) Pythonista\n",
    "# D) e\n",
    "# E) a\n",
    "# F) 以上皆非\n",
    "print(f'正確答案：{get_ans(qid)}')"
   ]
  },
  {
   "cell_type": "code",
   "execution_count": 20,
   "metadata": {},
   "outputs": [
    {
     "name": "stdout",
     "output_type": "stream",
     "text": [
      "False\n",
      "正確答案：A\n"
     ]
    }
   ],
   "source": [
    "qid = 80   # min() and max()\n",
    "print(min(max(False, -2, -4), 3, 5))\n",
    "\n",
    "# A) False\n",
    "# B) -2\n",
    "# C) -4\n",
    "# D) 3\n",
    "# E) 0\n",
    "# F) Exception\n",
    "print(f'正確答案：{get_ans(qid)}')"
   ]
  },
  {
   "cell_type": "code",
   "execution_count": 21,
   "metadata": {},
   "outputs": [
    {
     "name": "stdout",
     "output_type": "stream",
     "text": [
      "5 $  \n",
      "正確答案：D\n"
     ]
    }
   ],
   "source": [
    "qid = 81   # *args\n",
    "def foo(a, *args, s='$'):\n",
    "    print(a, s, end='  ')\n",
    "    for i in args:\n",
    "        print(i, end=' ')\n",
    "    print()\n",
    "\n",
    "foo(5)\n",
    "\n",
    "# A) 5 $  0 1 2 3 4\n",
    "# B) 5 $  5\n",
    "# C) 5 5\n",
    "# D) 5 $\n",
    "# E) Exception\n",
    "# F) 以上皆非\n",
    "print(f'正確答案：{get_ans(qid)}')"
   ]
  },
  {
   "cell_type": "code",
   "execution_count": 25,
   "metadata": {},
   "outputs": [
    {
     "name": "stdout",
     "output_type": "stream",
     "text": [
      "3 4 4 4 4 5\n",
      "正確答案：B\n"
     ]
    }
   ],
   "source": [
    "qid = 82   # round()\n",
    "print(round(3.49), round(3.50), round(3.51),\n",
    "      round(4.49), round(4.50), round(4.51))\n",
    "\n",
    "# A) 3 3 4 4 4 5\n",
    "# B) 3 4 4 4 4 5\n",
    "# C) 3 3 4 4 5 5\n",
    "# D) 3 4 4 4 5 5\n",
    "# E) Exception\n",
    "# F) 以上皆非\n",
    "print(f'正確答案：{get_ans(qid)}')"
   ]
  },
  {
   "cell_type": "code",
   "execution_count": 26,
   "metadata": {},
   "outputs": [
    {
     "name": "stdout",
     "output_type": "stream",
     "text": [
      "8\n",
      "正確答案：A\n"
     ]
    }
   ],
   "source": [
    "qid = 83   # iterator-1\n",
    "tpl = (8, 3, 0, 1)\n",
    "my_iterator = iter(tpl)\n",
    "print(next(my_iterator))\n",
    "\n",
    "# A) 8\n",
    "# B) 3\n",
    "# C) 0\n",
    "# D) 1\n",
    "# E) Exception\n",
    "# F) 以上皆非\n",
    "print(f'正確答案：{get_ans(qid)}')"
   ]
  },
  {
   "cell_type": "code",
   "execution_count": 27,
   "metadata": {},
   "outputs": [
    {
     "name": "stdout",
     "output_type": "stream",
     "text": [
      "1\n",
      "正確答案：D\n"
     ]
    }
   ],
   "source": [
    "qid = 84   # iterator-2\n",
    "tpl = (8, 3, 0, 1)\n",
    "my_iterator = iter(tpl)\n",
    "for _ in range(len(tpl)):\n",
    "    item = next(my_iterator)\n",
    "print(item)\n",
    "\n",
    "# A) 8\n",
    "# B) 3\n",
    "# C) 0\n",
    "# D) 1\n",
    "# E) Exception\n",
    "# F) 以上皆非\n",
    "print(f'正確答案：{get_ans(qid)}')"
   ]
  },
  {
   "cell_type": "code",
   "execution_count": 29,
   "metadata": {},
   "outputs": [
    {
     "ename": "StopIteration",
     "evalue": "",
     "output_type": "error",
     "traceback": [
      "\u001b[0;31m---------------------------------------------------------------------------\u001b[0m",
      "\u001b[0;31mStopIteration\u001b[0m                             Traceback (most recent call last)",
      "Cell \u001b[0;32mIn[29], line 6\u001b[0m\n\u001b[1;32m      4\u001b[0m \u001b[38;5;28;01mfor\u001b[39;00m _ \u001b[38;5;129;01min\u001b[39;00m \u001b[38;5;28mrange\u001b[39m(\u001b[38;5;28mlen\u001b[39m(tpl)):\n\u001b[1;32m      5\u001b[0m     item \u001b[38;5;241m=\u001b[39m \u001b[38;5;28mnext\u001b[39m(my_iterator)\n\u001b[0;32m----> 6\u001b[0m \u001b[38;5;28mprint\u001b[39m(\u001b[38;5;28;43mnext\u001b[39;49m\u001b[43m(\u001b[49m\u001b[43mmy_iterator\u001b[49m\u001b[43m)\u001b[49m)\n\u001b[1;32m      8\u001b[0m \u001b[38;5;66;03m# A) 8\u001b[39;00m\n\u001b[1;32m      9\u001b[0m \u001b[38;5;66;03m# B) 3\u001b[39;00m\n\u001b[1;32m     10\u001b[0m \u001b[38;5;66;03m# C) 0\u001b[39;00m\n\u001b[1;32m     11\u001b[0m \u001b[38;5;66;03m# D) 1\u001b[39;00m\n\u001b[1;32m     12\u001b[0m \u001b[38;5;66;03m# E) Exception\u001b[39;00m\n\u001b[1;32m     13\u001b[0m \u001b[38;5;66;03m# F) 以上皆非\u001b[39;00m\n\u001b[1;32m     14\u001b[0m \u001b[38;5;28mprint\u001b[39m(\u001b[38;5;124mf\u001b[39m\u001b[38;5;124m'\u001b[39m\u001b[38;5;124m正確答案：\u001b[39m\u001b[38;5;132;01m{\u001b[39;00mget_ans(qid)\u001b[38;5;132;01m}\u001b[39;00m\u001b[38;5;124m'\u001b[39m)\n",
      "\u001b[0;31mStopIteration\u001b[0m: "
     ]
    }
   ],
   "source": [
    "qid = 85   # iterator-3\n",
    "tpl = (8, 3, 0, 1)\n",
    "my_iterator = iter(tpl)\n",
    "for _ in range(len(tpl)):\n",
    "    item = next(my_iterator)\n",
    "print(next(my_iterator))\n",
    "\n",
    "# A) 8\n",
    "# B) 3\n",
    "# C) 0\n",
    "# D) 1\n",
    "# E) Exception\n",
    "# F) 以上皆非\n",
    "print(f'正確答案：{get_ans(qid)}')"
   ]
  },
  {
   "cell_type": "code",
   "execution_count": 30,
   "metadata": {},
   "outputs": [
    {
     "ename": "KeyError",
     "evalue": "'weight'",
     "output_type": "error",
     "traceback": [
      "\u001b[0;31m---------------------------------------------------------------------------\u001b[0m",
      "\u001b[0;31mKeyError\u001b[0m                                  Traceback (most recent call last)",
      "Cell \u001b[0;32mIn[30], line 3\u001b[0m\n\u001b[1;32m      1\u001b[0m qid \u001b[38;5;241m=\u001b[39m \u001b[38;5;241m86\u001b[39m   \u001b[38;5;66;03m# dict[...]\u001b[39;00m\n\u001b[1;32m      2\u001b[0m d \u001b[38;5;241m=\u001b[39m {\u001b[38;5;124m'\u001b[39m\u001b[38;5;124mname\u001b[39m\u001b[38;5;124m'\u001b[39m: \u001b[38;5;124m'\u001b[39m\u001b[38;5;124mAlex\u001b[39m\u001b[38;5;124m'\u001b[39m, \u001b[38;5;124m'\u001b[39m\u001b[38;5;124mage\u001b[39m\u001b[38;5;124m'\u001b[39m: \u001b[38;5;241m39\u001b[39m, \u001b[38;5;124m'\u001b[39m\u001b[38;5;124mgender\u001b[39m\u001b[38;5;124m'\u001b[39m: \u001b[38;5;124m'\u001b[39m\u001b[38;5;124mM\u001b[39m\u001b[38;5;124m'\u001b[39m}\n\u001b[0;32m----> 3\u001b[0m \u001b[38;5;28mprint\u001b[39m(\u001b[43md\u001b[49m\u001b[43m[\u001b[49m\u001b[38;5;124;43m'\u001b[39;49m\u001b[38;5;124;43mweight\u001b[39;49m\u001b[38;5;124;43m'\u001b[39;49m\u001b[43m]\u001b[49m)\n\u001b[1;32m      5\u001b[0m \u001b[38;5;66;03m# A) Alex\u001b[39;00m\n\u001b[1;32m      6\u001b[0m \u001b[38;5;66;03m# B) 39\u001b[39;00m\n\u001b[1;32m      7\u001b[0m \u001b[38;5;66;03m# C) M\u001b[39;00m\n\u001b[1;32m      8\u001b[0m \u001b[38;5;66;03m# D) None\u001b[39;00m\n\u001b[1;32m      9\u001b[0m \u001b[38;5;66;03m# E) Exception\u001b[39;00m\n\u001b[1;32m     10\u001b[0m \u001b[38;5;66;03m# F) 以上皆非\u001b[39;00m\n\u001b[1;32m     11\u001b[0m \u001b[38;5;28mprint\u001b[39m(\u001b[38;5;124mf\u001b[39m\u001b[38;5;124m'\u001b[39m\u001b[38;5;124m正確答案：\u001b[39m\u001b[38;5;132;01m{\u001b[39;00mget_ans(qid)\u001b[38;5;132;01m}\u001b[39;00m\u001b[38;5;124m'\u001b[39m)\n",
      "\u001b[0;31mKeyError\u001b[0m: 'weight'"
     ]
    }
   ],
   "source": [
    "qid = 86   # dict[...]\n",
    "d = {'name': 'Alex', 'age': 39, 'gender': 'M'}\n",
    "print(d['weight'])\n",
    "\n",
    "# A) Alex\n",
    "# B) 39\n",
    "# C) M\n",
    "# D) None\n",
    "# E) Exception\n",
    "# F) 以上皆非\n",
    "print(f'正確答案：{get_ans(qid)}')"
   ]
  },
  {
   "cell_type": "code",
   "execution_count": 31,
   "metadata": {},
   "outputs": [
    {
     "name": "stdout",
     "output_type": "stream",
     "text": [
      "None\n",
      "正確答案：D\n"
     ]
    }
   ],
   "source": [
    "qid = 87   # dict.get()-1\n",
    "d = {'name': 'Alex', 'weight': 68.3, 'gender': 'M'}\n",
    "print(d.get('age'))\n",
    "\n",
    "# A) Alex\n",
    "# B) 68.3\n",
    "# C) M\n",
    "# D) None\n",
    "# E) Exception\n",
    "# F) 以上皆非\n",
    "print(f'正確答案：{get_ans(qid)}')"
   ]
  },
  {
   "cell_type": "code",
   "execution_count": 32,
   "metadata": {},
   "outputs": [
    {
     "name": "stdout",
     "output_type": "stream",
     "text": [
      "20\n",
      "正確答案：B\n"
     ]
    }
   ],
   "source": [
    "qid = 88   # dict.get()-2\n",
    "d = {'name': 'Alex', 'weight': 68.3, 'gender': 'M'}\n",
    "d['age'] = d.get('age', 20)\n",
    "d['age'] = d.get('age', 30)\n",
    "print(d['age'])\n",
    "\n",
    "# A) age\n",
    "# B) 20\n",
    "# C) 30\n",
    "# D) 50\n",
    "# E) None\n",
    "# F) Exception\n",
    "print(f'正確答案：{get_ans(qid)}')"
   ]
  },
  {
   "cell_type": "code",
   "execution_count": 35,
   "metadata": {},
   "outputs": [
    {
     "name": "stdout",
     "output_type": "stream",
     "text": [
      "[1, 3, 5, [2, 4]]\n",
      "正確答案：B\n"
     ]
    }
   ],
   "source": [
    "qid = 89   # append()-1\n",
    "x = [1, 3, 5]\n",
    "x.append([2, 4])\n",
    "print(x)\n",
    "\n",
    "# A) [1, 3, 5, 2, 4]\n",
    "# B) [1, 3, 5, [2, 4]]\n",
    "# C) [1, 3, 5, [2], [4]]\n",
    "# D) [1, 3, 5][2, 4]\n",
    "# E) Exception\n",
    "# F) 以上皆非\n",
    "print(f'正確答案：{get_ans(qid)}')"
   ]
  },
  {
   "cell_type": "code",
   "execution_count": 36,
   "metadata": {},
   "outputs": [
    {
     "ename": "AttributeError",
     "evalue": "'tuple' object has no attribute 'append'",
     "output_type": "error",
     "traceback": [
      "\u001b[0;31m---------------------------------------------------------------------------\u001b[0m",
      "\u001b[0;31mAttributeError\u001b[0m                            Traceback (most recent call last)",
      "Cell \u001b[0;32mIn[36], line 3\u001b[0m\n\u001b[1;32m      1\u001b[0m qid \u001b[38;5;241m=\u001b[39m \u001b[38;5;241m90\u001b[39m   \u001b[38;5;66;03m# append()-2\u001b[39;00m\n\u001b[1;32m      2\u001b[0m x \u001b[38;5;241m=\u001b[39m (\u001b[38;5;241m1\u001b[39m, \u001b[38;5;241m3\u001b[39m, \u001b[38;5;241m5\u001b[39m)\n\u001b[0;32m----> 3\u001b[0m \u001b[43mx\u001b[49m\u001b[38;5;241;43m.\u001b[39;49m\u001b[43mappend\u001b[49m((\u001b[38;5;241m2\u001b[39m, \u001b[38;5;241m4\u001b[39m))\n\u001b[1;32m      4\u001b[0m \u001b[38;5;28mprint\u001b[39m(x)\n\u001b[1;32m      6\u001b[0m \u001b[38;5;66;03m# A) (1, 3, 5, 2, 4)\u001b[39;00m\n\u001b[1;32m      7\u001b[0m \u001b[38;5;66;03m# B) (1, 3, 5, (2, 4))\u001b[39;00m\n\u001b[1;32m      8\u001b[0m \u001b[38;5;66;03m# C) (1, 3, 5, (2), (4))\u001b[39;00m\n\u001b[1;32m      9\u001b[0m \u001b[38;5;66;03m# D) (1, 3, 5)(2, 4)\u001b[39;00m\n\u001b[1;32m     10\u001b[0m \u001b[38;5;66;03m# E) Exception\u001b[39;00m\n\u001b[1;32m     11\u001b[0m \u001b[38;5;66;03m# F) 以上皆非\u001b[39;00m\n",
      "\u001b[0;31mAttributeError\u001b[0m: 'tuple' object has no attribute 'append'"
     ]
    }
   ],
   "source": [
    "qid = 90   # append()-2\n",
    "x = (1, 3, 5)\n",
    "x.append((2, 4))\n",
    "print(x)\n",
    "\n",
    "# A) (1, 3, 5, 2, 4)\n",
    "# B) (1, 3, 5, (2, 4))\n",
    "# C) (1, 3, 5, (2), (4))\n",
    "# D) (1, 3, 5)(2, 4)\n",
    "# E) Exception\n",
    "# F) 以上皆非\n",
    "print(f'正確答案：{get_ans(qid)}')"
   ]
  },
  {
   "cell_type": "code",
   "execution_count": null,
   "metadata": {},
   "outputs": [],
   "source": [
    "qid = 91  # extend()-1\n",
    "x = [1, 3, 5]\n",
    "x.extend([2, 4])\n",
    "print(x)\n",
    "\n",
    "# A) [1, 3, 5, 2, 4]\n",
    "# B) [1, 3, 5, [2, 4]]\n",
    "# C) [1, 3, 5, [2], [4]]\n",
    "# D) [1, 3, 5][2, 4]\n",
    "# E) Exception\n",
    "# F) 以上皆非\n",
    "print(f'正確答案：{get_ans(qid)}')"
   ]
  },
  {
   "cell_type": "code",
   "execution_count": null,
   "metadata": {},
   "outputs": [],
   "source": [
    "qid = 92  # extend()-2\n",
    "x = (1, 3, 5)\n",
    "x.extend((2, 4))\n",
    "print(x)\n",
    "\n",
    "# A) (1, 3, 5, 2, 4)\n",
    "# B) (1, 3, 5, (2, 4))\n",
    "# C) (1, 3, 5, (2), (4))\n",
    "# D) (1, 3, 5)(2, 4)\n",
    "# E) Exception\n",
    "# F) 以上皆非\n",
    "print(f'正確答案：{get_ans(qid)}')"
   ]
  },
  {
   "cell_type": "code",
   "execution_count": null,
   "metadata": {},
   "outputs": [],
   "source": [
    "qid = 93   # tuple + tuple-1\n",
    "t = (1, 3, 5) + (2, 4)\n",
    "print(t)\n",
    "\n",
    "# A) ((1, 3, 5), (2, 4))\n",
    "# B) (1, 3, 5, (2, 4))\n",
    "# C) (1, 3, 5, 2, 4)\n",
    "# D) ((1, 3, 5), 2, 4)\n",
    "# E) Exception\n",
    "# F) 以上皆非\n",
    "print(f'正確答案：{get_ans(qid)}')"
   ]
  },
  {
   "cell_type": "code",
   "execution_count": null,
   "metadata": {},
   "outputs": [],
   "source": [
    "qid = 94   # tuple + tuple-2\n",
    "t = (1) + (4)\n",
    "print(t)\n",
    "\n",
    "# A) (1, 4)\n",
    "# B) ((1), (4))\n",
    "# C) (1, (4))\n",
    "# D) ((1), 4)\n",
    "# E) Exception\n",
    "# F) 以上皆非\n",
    "print(f'正確答案：{get_ans(qid)}')"
   ]
  },
  {
   "cell_type": "code",
   "execution_count": null,
   "metadata": {},
   "outputs": [],
   "source": [
    "qid = 95   # chanining\n",
    "print('localhost/proj/1/'[4:-6][-6:4])\n",
    "\n",
    "# A) cal\n",
    "# B) alh\n",
    "# C) lho\n",
    "# D) hos\n",
    "# E) Exception\n",
    "# F) 以上皆非\n",
    "print(f'正確答案：{get_ans(qid)}')"
   ]
  },
  {
   "cell_type": "code",
   "execution_count": null,
   "metadata": {},
   "outputs": [],
   "source": [
    "qid = 96   # any() and all()\n",
    "d = {():1, 0:[], False:True, None:'', '':None, (0):{}}\n",
    "print(any(d), '\\t', all(d))\n",
    "\n",
    "# A) True   True\n",
    "# B) True   False\n",
    "# C) False  True\n",
    "# D) False  False\n",
    "# E) Exception\n",
    "# F) 以上皆非\n",
    "print(f'正確答案：{get_ans(qid)}')"
   ]
  },
  {
   "cell_type": "code",
   "execution_count": null,
   "metadata": {},
   "outputs": [],
   "source": [
    "qid = 97   # slice: zero step\n",
    "chars = 'Pythonista'\n",
    "print(chars[::0])\n",
    "\n",
    "# A) Pythonista\n",
    "# B) P\n",
    "# C) a\n",
    "# D) PPPPPPPPPP\n",
    "# E) Exception\n",
    "# F) 以上皆非\n",
    "print(f'正確答案：{get_ans(qid)}')"
   ]
  },
  {
   "cell_type": "code",
   "execution_count": null,
   "metadata": {},
   "outputs": [],
   "source": [
    "qid = 98   # assignment then addition assignment-1\n",
    "s1 = 'Cati'\n",
    "s2 = s1\n",
    "s1 += 'Meta'\n",
    "print(f'{s1=:20}{s2=:20}')\n",
    "\n",
    "# A) s1=Cati                s2=Cati\n",
    "# B) s1=CatiMeta            s2=Cati\n",
    "# C) s1=Cati                s2=CatiMeta\n",
    "# D) s1=CatiMeta            s2=CatiMeta\n",
    "# E) Exception\n",
    "# F) 以上皆非\n",
    "print(f'正確答案：{get_ans(qid)}')"
   ]
  },
  {
   "cell_type": "code",
   "execution_count": null,
   "metadata": {},
   "outputs": [],
   "source": [
    "qid = 99   # assignment then addition assignment-2\n",
    "a = b = [3, 7]\n",
    "a += b\n",
    "print(f'{a=}\\t\\t{b=}')\n",
    "\n",
    "# A) a=[3, 7]              b=[3, 7]\n",
    "# B) a=[3, 7, 3, 7]        b=[3, 7]\n",
    "# C) a=[3, 7]              b=[3, 7, 3, 7]\n",
    "# D) a=[3, 7, 3, 7]        b=[3, 7, 3, 7]\n",
    "# E) Exception\n",
    "# F) 以上皆非\n",
    "print(f'正確答案：{get_ans(qid)}')"
   ]
  },
  {
   "cell_type": "code",
   "execution_count": null,
   "metadata": {},
   "outputs": [],
   "source": [
    "qid = 100   # assignment then addition assignment-3\n",
    "a = b = (3)\n",
    "a += b\n",
    "print(f'{a=}\\t\\t{b=}')\n",
    "\n",
    "# A) a=(3)         b=(3)\n",
    "# B) a=(3, 3)      b=(3)\n",
    "# C) a=(3)         b=(3, 3)\n",
    "# D) a=(3, 3)      b=(3, 3)\n",
    "# E) Exception\n",
    "# F) 以上皆非\n",
    "print(f'正確答案：{get_ans(qid)}')"
   ]
  },
  {
   "cell_type": "code",
   "execution_count": null,
   "metadata": {},
   "outputs": [],
   "source": [
    "qid = 101   # append()\n",
    "lst = [7, 2, [5, 0], 6]\n",
    "lst[2].append(9)\n",
    "print(len(lst))\n",
    "\n",
    "# A) 4\n",
    "# B) 5\n",
    "# C) 6\n",
    "# D) 7\n",
    "# E) Exception\n",
    "# F) 以上皆非\n",
    "print(f'正確答案：{get_ans(qid)}')"
   ]
  },
  {
   "cell_type": "code",
   "execution_count": null,
   "metadata": {},
   "outputs": [],
   "source": [
    "qid = 102   # iterator-4\n",
    "my_lst = [7, 2, [5, 0], 6]\n",
    "my_iter = iter(my_lst)\n",
    "for _ in range(len(my_lst)):\n",
    "    item = next(my_iter)\n",
    "print(item)\n",
    "\n",
    "# A) 7\n",
    "# B) 2\n",
    "# C) 5\n",
    "# D) 0\n",
    "# E) Exception\n",
    "# F) 以上皆非\n",
    "print(f'正確答案：{get_ans(qid)}')"
   ]
  },
  {
   "cell_type": "code",
   "execution_count": null,
   "metadata": {},
   "outputs": [],
   "source": [
    "qid = 103   # iterator-5\n",
    "my_iter = iter([7, 2, 5, 0, 6])\n",
    "my_lst = list(my_iter)\n",
    "print(my_lst[next(my_iter)] + next(my_iter))\n",
    "\n",
    "# A) 14\n",
    "# B) 9\n",
    "# C) 13\n",
    "# D) 7\n",
    "# E) Exception\n",
    "# F) 以上皆非\n",
    "print(f'正確答案：{get_ans(qid)}')"
   ]
  },
  {
   "cell_type": "code",
   "execution_count": null,
   "metadata": {},
   "outputs": [],
   "source": [
    "qid = 104   # pattern matching-1\n",
    "http_code = '404'\n",
    "match http_code:\n",
    "    case '200':\n",
    "        print ('OK')\n",
    "    case '401' | '403' | '404':\n",
    "        print('Not allowed')\n",
    "    case '500':\n",
    "        print('Internal Server Error')\n",
    "    case _:\n",
    "        print('Alex is a Pythonista.')\n",
    "\n",
    "# A) OK\n",
    "# B) Not allowed\n",
    "# C) Internal Server Error\n",
    "# D) Alex is a Pythonista.\n",
    "# E) Exception\n",
    "# F) 以上皆非\n",
    "print(f'正確答案：{get_ans(qid)}')"
   ]
  },
  {
   "cell_type": "code",
   "execution_count": null,
   "metadata": {},
   "outputs": [],
   "source": [
    "qid = 105   # pattern matching-2\n",
    "dict_to_match = {'name': 'Becca', 'age': 28}\n",
    "match dict_to_match:\n",
    "    case {'name': name, 'age': age}:\n",
    "        print('Aphrodite')\n",
    "    case {'name': 'Becca', 'age': 38}:\n",
    "        print('Artemis')\n",
    "    case {'name': 'Becca', 'age': 28}:\n",
    "        print('Leto')\n",
    "    case _:\n",
    "        print('Hades')\n",
    "\n",
    "# A) Aphrodite\n",
    "# B) Artemis\n",
    "# C) Leto\n",
    "# D) Hades\n",
    "# E) Exception\n",
    "# F) 以上皆非\n",
    "print(f'正確答案：{get_ans(qid)}')"
   ]
  },
  {
   "cell_type": "code",
   "execution_count": null,
   "metadata": {},
   "outputs": [],
   "source": [
    "qid = 106   # pattern matching-3\n",
    "match (3.1416,):\n",
    "    case (item1, item2):\n",
    "        print('Venus')\n",
    "    case [item1, item2, item3]:\n",
    "        print('Diana')\n",
    "    case ('pi',):\n",
    "        print('Latona')\n",
    "    case _:\n",
    "        print('Pluto')\n",
    "\n",
    "# A) Venus\n",
    "# B) Diana\n",
    "# C) Latona\n",
    "# D) Pluto\n",
    "# E) Exception\n",
    "# F) 以上皆非\n",
    "print(f'正確答案：{get_ans(qid)}')"
   ]
  },
  {
   "cell_type": "code",
   "execution_count": null,
   "metadata": {},
   "outputs": [],
   "source": [
    "qid = 107   # pattern matching-4\n",
    "match ('Σ', 'Φ', 'Θ', 'Ψ', 'Ω'):\n",
    "    case (item1, item2):\n",
    "        print('青龍')\n",
    "    case [item1, item2, item3, item4]:\n",
    "        print('白虎')\n",
    "    case (item1, item2, *_):\n",
    "        print('朱雀')\n",
    "    case {\"name\": name, **others}:\n",
    "        print('玄武')\n",
    "\n",
    "# A) 青龍\n",
    "# B) 白虎\n",
    "# C) 朱雀\n",
    "# D) 玄武\n",
    "# E) Exception\n",
    "# F) 以上皆非\n",
    "print(f'正確答案：{get_ans(qid)}')"
   ]
  },
  {
   "cell_type": "code",
   "execution_count": null,
   "metadata": {},
   "outputs": [],
   "source": [
    "qid = 108   # pattern matching-5\n",
    "mythical_beast = '獓狠'\n",
    "match ('神農', '軒轅'):\n",
    "    case [bool(item1), str(item2)]:\n",
    "        mythical_beast = '麒麟'\n",
    "    case (int(item1), float(item2)):\n",
    "        mythical_beast = '鳳凰'\n",
    "    case [str(item1), int(item2)]:\n",
    "        mythical_beast = '貔貅'\n",
    "    case (float(item1), bool(item2)):\n",
    "        mythical_beast = '靈龜'\n",
    "print(mythical_beast)\n",
    "\n",
    "# A) 麒麟\n",
    "# B) 鳳凰\n",
    "# C) 貔貅\n",
    "# D) 靈龜\n",
    "# E) Exception\n",
    "# F) 以上皆非\n",
    "print(f'正確答案：{get_ans(qid)}')"
   ]
  },
  {
   "cell_type": "code",
   "execution_count": null,
   "metadata": {},
   "outputs": [],
   "source": [
    "qid = 109   # function arguments-1\n",
    "\n",
    "def foo(x: int, y: int, /):\n",
    "    return x ** y\n",
    "\n",
    "print(foo(2, y=3))\n",
    "\n",
    "# A) 5\n",
    "# B) 6\n",
    "# C) 8\n",
    "# D) 9\n",
    "# E) Exception\n",
    "# F) 以上皆非\n",
    "print(f'正確答案：{get_ans(qid)}')"
   ]
  },
  {
   "cell_type": "code",
   "execution_count": null,
   "metadata": {},
   "outputs": [],
   "source": [
    "qid = 110   # function arguments-2\n",
    "\n",
    "def foo(*, x: int, y: int):\n",
    "    return x ** y\n",
    "\n",
    "foo(2, y=3)\n",
    "\n",
    "# A) 5\n",
    "# B) 6\n",
    "# C) 8\n",
    "# D) 9\n",
    "# E) Exception\n",
    "# F) 以上皆非\n",
    "print(f'正確答案：{get_ans(qid)}')"
   ]
  },
  {
   "cell_type": "code",
   "execution_count": null,
   "metadata": {},
   "outputs": [],
   "source": [
    "qid = 111   # function arguments-3\n",
    "def foo(id: int, name: str, /, *, score1: int, score2: int) -> int:\n",
    "    return f'{id}\\t{name}\\t{score1 + score2}'\n",
    "\n",
    "print(foo(2, 'Alex', score1=4, score2=3))\n",
    "\n",
    "# A) id    name    7\n",
    "# B) 2     Alex    7\n",
    "# C) id    name    4\n",
    "# D) 2     Alex    3\n",
    "# E) Exception\n",
    "# F) 以上皆非\n",
    "print(f'正確答案：{get_ans(qid)}')"
   ]
  },
  {
   "cell_type": "markdown",
   "metadata": {},
   "source": [
    "<div style=\"font-family: 'Gen Jyuu Gothic Monospace Medium', 'Noto Sans TC', 'Inconsolata'; font-size: 500%; font-weight: 700; text-align: center; color: #BFD8AF;\">\n",
    "<br>\n",
    "The End\n",
    "<br>\n",
    "</div>"
   ]
  }
 ],
 "metadata": {
  "kernelspec": {
   "display_name": "Python 3",
   "language": "python",
   "name": "python3"
  },
  "language_info": {
   "codemirror_mode": {
    "name": "ipython",
    "version": 3
   },
   "file_extension": ".py",
   "mimetype": "text/x-python",
   "name": "python",
   "nbconvert_exporter": "python",
   "pygments_lexer": "ipython3",
   "version": "3.12.4"
  }
 },
 "nbformat": 4,
 "nbformat_minor": 2
}
