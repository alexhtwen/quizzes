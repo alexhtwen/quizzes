{
 "cells": [
  {
   "cell_type": "markdown",
   "metadata": {},
   "source": [
    "<div style=\"font-family: 'Gen Jyuu Gothic Monospace Medium', 'Noto Sans TC', 'Inconsolata'; font-size: 600%; font-weight: 700; text-align: center; color: #BFD8AF;\">\n",
    "Quizzes\n",
    "</div>\n",
    "<br><br><br>\n",
    "<div style=\"font-family: 'Ubuntu Mono', 'Noto Sans TC', 'Inconsolata'; font-size: 300%; font-weight: 900; text-align: center; color: #FFFDCB;\">\n",
    "Solving Syntax Puzzles\n",
    "</div>\n",
    "<br><br>"
   ]
  },
  {
   "cell_type": "code",
   "execution_count": null,
   "metadata": {},
   "outputs": [],
   "source": [
    "%%javascript\n",
    "// 設定output文字顏色\n",
    "document.styleSheets[0].addRule('body', 'color: #BFD8AF !important;')"
   ]
  },
  {
   "cell_type": "code",
   "execution_count": null,
   "metadata": {},
   "outputs": [],
   "source": [
    "print('Hello, world!')"
   ]
  },
  {
   "cell_type": "code",
   "execution_count": null,
   "metadata": {},
   "outputs": [],
   "source": [
    "# Q: * operator\n",
    "my_tuple = (1, 2, 3)\n",
    "x, y, z, *rest = my_tuple\n",
    "print(x, y, z, rest)\n",
    "\n",
    "# 1) 1 2 3\n",
    "# 2) 1 2 3 None\n",
    "# 3) 1 2 3 []\n",
    "# 4) []\n",
    "# 5) Exception\n",
    "# 6) 以上皆非"
   ]
  },
  {
   "cell_type": "code",
   "execution_count": null,
   "metadata": {},
   "outputs": [],
   "source": [
    "# Q. str.find()\n",
    "sentence = 'Pythonista.'\n",
    "index = sentence.find('t', -1)\n",
    "print(index)\n",
    "\n",
    "# 1) -3\n",
    "# 2) -1\n",
    "# 3) 2\n",
    "# 4) 3\n",
    "# 5) 8\n",
    "# 6) Exception"
   ]
  },
  {
   "cell_type": "code",
   "execution_count": null,
   "metadata": {},
   "outputs": [],
   "source": [
    "# Q. inner function and nonlocal-1\n",
    "def outer():\n",
    "    x = 10\n",
    "    def inner():\n",
    "        nonlocal x\n",
    "        x += 5\n",
    "        print(f'inner: {x=}', end='\\t')\n",
    "    inner()\n",
    "    print(f'outer: {x=}')\n",
    "\n",
    "outer()\n",
    "\n",
    "# 1) inner: x=10    outer: x=10\n",
    "# 2) inner: x=15    outer: x=15\n",
    "# 3) inner: x=10    outer: x=15\n",
    "# 4) inner: x=15    outer: x=10\n",
    "# 5) Exception\n",
    "# 6) 以上皆非"
   ]
  },
  {
   "cell_type": "code",
   "execution_count": null,
   "metadata": {},
   "outputs": [],
   "source": [
    "# Q. inner function and nonlocal-2\n",
    "def outer(x: int) -> int:\n",
    "    def inner():\n",
    "        nonlocal x\n",
    "        x -= 5\n",
    "        return x\n",
    "    print(f'{inner()=}', end='\\t')\n",
    "    return x\n",
    "\n",
    "print(f'{outer(15)=}')\n",
    "\n",
    "# 1) inner()=10     outer(10)=10\n",
    "# 2) inner()=15     outer(10)=15\n",
    "# 3) inner()=10     outer(10)=15\n",
    "# 4) inner()=15     outer(10)=10\n",
    "# 5) Exception\n",
    "# 6) 以上皆非"
   ]
  },
  {
   "cell_type": "code",
   "execution_count": null,
   "metadata": {},
   "outputs": [],
   "source": [
    "# Q. logical `and/or` and walrus operator-1\n",
    "score = 59\n",
    "if True and (score = score + 1):\n",
    "# if False and (score = score + 1):\n",
    "# if True or (score = score + 1):\n",
    "# if False or (score = score + 1):\n",
    "    score += 1\n",
    "print(score)\n",
    "\n",
    "# 1) 59\n",
    "# 2) 60\n",
    "# 3) 61\n",
    "# 4) 0\n",
    "# 5) 1\n",
    "# 6) Exception"
   ]
  },
  {
   "cell_type": "code",
   "execution_count": null,
   "metadata": {},
   "outputs": [],
   "source": [
    "# Q. logical `and/or` and walrus operator-2\n",
    "score = 59\n",
    "if True and (score += 1):\n",
    "# if False and (score += 1):\n",
    "# if True or (score += 1):\n",
    "# if False or (score += 1):\n",
    "    score += 1\n",
    "print(score)\n",
    "\n",
    "# 1) 59\n",
    "# 2) 60\n",
    "# 3) 61\n",
    "# 4) 0\n",
    "# 5) 1\n",
    "# 6) Exception"
   ]
  },
  {
   "cell_type": "code",
   "execution_count": null,
   "metadata": {},
   "outputs": [],
   "source": [
    "# Q. logical `and/or` and walrus operator-3\n",
    "score = 59\n",
    "if True and (score = 0):\n",
    "# if False and (score = 0):\n",
    "# if True or (score = 0):\n",
    "# if False or (score = 0):\n",
    "    score += 1\n",
    "print(score)\n",
    "\n",
    "# 1) 59\n",
    "# 2) 60\n",
    "# 3) 61\n",
    "# 4) 0\n",
    "# 5) 1\n",
    "# 6) Exception"
   ]
  },
  {
   "cell_type": "code",
   "execution_count": null,
   "metadata": {},
   "outputs": [],
   "source": [
    "# Q. logical `and/or` and walrus operator-4\n",
    "score = 59\n",
    "if True and (score := score + 1):\n",
    "# if False and (score := score + 1):\n",
    "# if True or (score := score + 1):\n",
    "# if False or (score := score + 1):\n",
    "    score += 1\n",
    "print(score)\n",
    "\n",
    "# 1) 59\n",
    "# 2) 60\n",
    "# 3) 61\n",
    "# 4) 0\n",
    "# 5) 1\n",
    "# 6) Exception"
   ]
  },
  {
   "cell_type": "code",
   "execution_count": null,
   "metadata": {},
   "outputs": [],
   "source": [
    "# Q. logical `and/or` and walrus operator-5\n",
    "score = 59\n",
    "if True and (score := 0):\n",
    "# if False and (score := 0):\n",
    "# if True or (score := 0):\n",
    "# if False or (score := 0):\n",
    "    score += 1\n",
    "print(score)\n",
    "\n",
    "# 1) 59\n",
    "# 2) 60\n",
    "# 3) 61\n",
    "# 4) 0\n",
    "# 5) 1\n",
    "# 6) Exception"
   ]
  },
  {
   "cell_type": "code",
   "execution_count": null,
   "metadata": {},
   "outputs": [],
   "source": [
    "# Q. logical `and/or` and walrus operator-6\n",
    "score = 59\n",
    "if (score := score + 1) and True:\n",
    "# if (score := score + 1) and False:\n",
    "# if (score := score + 1) or True:\n",
    "# if (score := score + 1) or False:\n",
    "    score += 1\n",
    "print(score)\n",
    "\n",
    "# 1) 59\n",
    "# 2) 60\n",
    "# 3) 61\n",
    "# 4) 0\n",
    "# 5) 1\n",
    "# 6) Exception"
   ]
  },
  {
   "cell_type": "code",
   "execution_count": null,
   "metadata": {},
   "outputs": [],
   "source": [
    "# Q. logical `and/or` and walrus operator-7\n",
    "score = 59\n",
    "if (score := 0) and True:\n",
    "# if (score := 0) and False:\n",
    "# if (score := 0) or True:\n",
    "# if (score := 0) or False:\n",
    "    score += 1\n",
    "print(score)\n",
    "\n",
    "# 1) 59\n",
    "# 2) 60\n",
    "# 3) 61\n",
    "# 4) 0\n",
    "# 5) 1\n",
    "# 6) Exception"
   ]
  },
  {
   "cell_type": "code",
   "execution_count": null,
   "metadata": {},
   "outputs": [],
   "source": [
    "# Q. multiply an empty tuple.\n",
    "print(()*3)\n",
    "\n",
    "# 1) ()()()\n",
    "# 2) (()()())\n",
    "# 3) (()())\n",
    "# 4) ()\n",
    "# 5) ((()))\n",
    "# 6) Exception"
   ]
  },
  {
   "cell_type": "code",
   "execution_count": null,
   "metadata": {},
   "outputs": [],
   "source": [
    "# Q. an empty list as default parameter.\n",
    "def foo(x, y=[]):\n",
    "    y.append(x)\n",
    "    return y\n",
    "\n",
    "print(f'{foo('Alex')}   {foo('Van')}')\n",
    "\n",
    "# 1) ['Alex'   'Van']\n",
    "# 2) 'Alex   Van'\n",
    "# 3) ['Alex']   ['Alex', 'Van']\n",
    "# 4) 'Alex'   'AlexVan'\n",
    "# 5) ['Alex']   ['Van']\n",
    "# 6) 'Alex'   'Van'"
   ]
  },
  {
   "cell_type": "code",
   "execution_count": null,
   "metadata": {},
   "outputs": [],
   "source": [
    "# Q. string interning\n",
    "a = 'Alex'\n",
    "b = 'Alex'\n",
    "print(f'{(a == b) = }\\t\\t{(a is b) = }')\n",
    "\n",
    "# 1) (a == b) = True        (a is b) = True\n",
    "# 2) (a == b) = True        (a is b) = False\n",
    "# 3) (a == b) = False       (a is b) = True\n",
    "# 4) (a == b) = False       (a is b) = False\n",
    "# 5) Exception\n",
    "# 6) 以上皆非"
   ]
  },
  {
   "cell_type": "code",
   "execution_count": null,
   "metadata": {},
   "outputs": [],
   "source": [
    "# Q. tuple interning?\n",
    "a = ('Alex', )\n",
    "b = ('Alex', )\n",
    "print(f'{(a == b) = }\\t\\t{(a is b) = }')\n",
    "\n",
    "# 1) (a == b) = True        (a is b) = True\n",
    "# 2) (a == b) = True        (a is b) = False\n",
    "# 3) (a == b) = False       (a is b) = True\n",
    "# 4) (a == b) = False       (a is b) = False\n",
    "# 5) Exception\n",
    "# 6) 以上皆非"
   ]
  },
  {
   "cell_type": "code",
   "execution_count": null,
   "metadata": {},
   "outputs": [],
   "source": [
    "# Q. logical and/or + comparison\n",
    "a = -1 and 0\n",
    "b = -1 or 0\n",
    "if a > b:\n",
    "    print('a > b')\n",
    "else:\n",
    "    print('a <= b')\n",
    "\n",
    "# 1) a > b\n",
    "# 2) a >= b\n",
    "# 3) a < b\n",
    "# 4) a <= b\n",
    "# 5) a == b\n",
    "# 6) a != b\n"
   ]
  },
  {
   "cell_type": "code",
   "execution_count": null,
   "metadata": {},
   "outputs": [],
   "source": [
    "# Q. comparison of tuples-1\n",
    "tuple1 = (1, 2, 3, 4)\n",
    "tuple2 = (1, 2, 4)\n",
    "print(tuple2 > tuple1)\n",
    "\n",
    "# 1) True\n",
    "# 2) False\n",
    "# 3) 4\n",
    "# 4) None\n",
    "# 5) Exception\n",
    "# 6) 以上皆非"
   ]
  },
  {
   "cell_type": "code",
   "execution_count": null,
   "metadata": {},
   "outputs": [],
   "source": [
    "# Q. comparison of tuples-2\n",
    "tuple1 = (1, 4, 3, 2)\n",
    "tuple2 = (1, 2)\n",
    "print(tuple2 > tuple1)\n",
    "\n",
    "# 1) True\n",
    "# 2) False\n",
    "# 3) 3\n",
    "# 4) None\n",
    "# 5) Exception\n",
    "# 6) 以上皆非"
   ]
  },
  {
   "cell_type": "code",
   "execution_count": null,
   "metadata": {},
   "outputs": [],
   "source": [
    "# Q. comparison of tuples-3\n",
    "tuple1 = (3, 2, 1)\n",
    "tuple2 = (1)\n",
    "print(tuple2 > tuple1)\n",
    "\n",
    "# 1) True\n",
    "# 2) False\n",
    "# 3) 3\n",
    "# 4) None\n",
    "# 5) Exception\n",
    "# 6) 以上皆非"
   ]
  },
  {
   "cell_type": "code",
   "execution_count": null,
   "metadata": {},
   "outputs": [],
   "source": [
    "# Q. access of dict element-1\n",
    "d = {'name': 'Alex', 'gender': 'M', 'age': 39}\n",
    "print(d['height'])\n",
    "\n",
    "# 1) 169\n",
    "# 2) False\n",
    "# 3) True\n",
    "# 4) None\n",
    "# 5) Exception\n",
    "# 6) 以上皆非"
   ]
  },
  {
   "cell_type": "code",
   "execution_count": null,
   "metadata": {},
   "outputs": [],
   "source": [
    "# Q. access of dict element-2\n",
    "d = {'name': 'Alex', 'gender': 'M', 'age': 39}\n",
    "print(d.get('height'))\n",
    "\n",
    "# 1) 169\n",
    "# 2) False\n",
    "# 3) True\n",
    "# 4) None\n",
    "# 5) Exception\n",
    "# 6) 以上皆非"
   ]
  },
  {
   "cell_type": "code",
   "execution_count": null,
   "metadata": {},
   "outputs": [],
   "source": [
    "# Q. del and slice\n",
    "signs = ['鼠', '牛', '虎', '兔', '龍', '蛇', '馬', '羊', '猴', '雞', '狗', '豬']\n",
    "del(signs[4:8])\n",
    "print(signs)\n",
    "\n",
    "# 1) ['兔', '龍', '蛇', '馬', '羊']\n",
    "# 2) [龍', '蛇', '馬', '羊', '猴']\n",
    "# 3) ['龍', '蛇', '馬', '羊']\n",
    "# 4) ['兔', '龍', '蛇', '馬']\n",
    "# 5) Exception\n",
    "# 6) 以上皆非"
   ]
  },
  {
   "cell_type": "code",
   "execution_count": null,
   "metadata": {},
   "outputs": [],
   "source": [
    "# Q. escape sequence\n",
    "x = '2\\\\t4'\n",
    "print(x)\n",
    "\n",
    "# 1) 2    4\n",
    "# 2) 2\\t4\n",
    "# 3) 2\\\\t4\n",
    "# 4) 2    t    4\n",
    "# 5) 2t4\n",
    "# 6) 2\\    4"
   ]
  },
  {
   "cell_type": "code",
   "execution_count": 18,
   "metadata": {},
   "outputs": [
    {
     "name": "stdout",
     "output_type": "stream",
     "text": [
      "[1, 2, 3, 0]    [1, 2, 3, 0]\n"
     ]
    }
   ],
   "source": [
    "# Q. list assignment\n",
    "a = [1, 2, 3, 4]\n",
    "b = a\n",
    "a[-1] = 0\n",
    "print(f'{a}    {b}')\n",
    "\n",
    "# 1) [1, 2, 3, 4]    [1, 2, 3, 4]\n",
    "# 2) [1, 2, 3, 0]    [1, 2, 3, 4]\n",
    "# 3) [1, 2, 3, 4]    [1, 2, 3, 0]\n",
    "# 4) [1, 2, 3, 0]    [1, 2, 3, 0]\n",
    "# 5) Exception\n",
    "# 6) 以上皆非"
   ]
  },
  {
   "cell_type": "code",
   "execution_count": 19,
   "metadata": {},
   "outputs": [
    {
     "name": "stdout",
     "output_type": "stream",
     "text": [
      "[1, 2, 3, 0]    [1, 2, 3, 4]\n"
     ]
    }
   ],
   "source": [
    "# Q. list.copy()-1\n",
    "a = [1, 2, 3, 4]\n",
    "b = a.copy()\n",
    "a[-1] = 0\n",
    "print(f'{a}    {b}')\n",
    "\n",
    "# 1) [1, 2, 3, 4]    [1, 2, 3, 4]\n",
    "# 2) [1, 2, 3, 0]    [1, 2, 3, 4]\n",
    "# 3) [1, 2, 3, 4]    [1, 2, 3, 0]\n",
    "# 4) [1, 2, 3, 0]    [1, 2, 3, 0]\n",
    "# 5) Exception\n",
    "# 6) 以上皆非"
   ]
  },
  {
   "cell_type": "code",
   "execution_count": 20,
   "metadata": {},
   "outputs": [
    {
     "name": "stdout",
     "output_type": "stream",
     "text": [
      "[1, 2, 3, [0]]    [1, 2, 3, [4]]\n"
     ]
    }
   ],
   "source": [
    "# Q. list.copy()-2\n",
    "a = [1, 2, 3, [4]]\n",
    "b = a.copy()\n",
    "a[-1] = [0]\n",
    "print(f'{a}    {b}')\n",
    "\n",
    "# 1) [1, 2, 3, 4]    [1, 2, 3, 4]\n",
    "# 2) [1, 2, 3, 0]    [1, 2, 3, 4]\n",
    "# 3) [1, 2, 3, 4]    [1, 2, 3, 0]\n",
    "# 4) [1, 2, 3, 0]    [1, 2, 3, 0]\n",
    "# 5) Exception\n",
    "# 6) 以上皆非"
   ]
  },
  {
   "cell_type": "code",
   "execution_count": 22,
   "metadata": {},
   "outputs": [
    {
     "name": "stdout",
     "output_type": "stream",
     "text": [
      "[1, 2, {'a': [3, 0]}]    [1, 2, {'a': [3, 0]}]\n"
     ]
    }
   ],
   "source": [
    "# Q. list.copy()-3\n",
    "a = [1, 2, {'a': [3, 4]}]\n",
    "b = a.copy()\n",
    "a[-1]['a'][-1] = 0\n",
    "print(f'{a}    {b}')\n",
    "\n",
    "# 1) [1, 2, {'a': [3, 4]}]    [1, 2, {'a': [3, 4]}]\n",
    "# 2) [1, 2, {'a': [3, 0]}]    [1, 2, {'a': [3, 4]}]\n",
    "# 3) [1, 2, {'a': [3, 4]}]    [1, 2, {'a': [3, 0]}]\n",
    "# 4) [1, 2, {'a': [3, 0]}]    [1, 2, {'a': [3, 0]}]\n",
    "# 5) Exception\n",
    "# 6) 以上皆非"
   ]
  },
  {
   "cell_type": "code",
   "execution_count": 23,
   "metadata": {},
   "outputs": [
    {
     "name": "stdout",
     "output_type": "stream",
     "text": [
      "[1, 2, {'a': [3, 0]}]    [1, 2, {'a': [3, 0]}]\n"
     ]
    }
   ],
   "source": [
    "# Q. shallow copy\n",
    "import copy\n",
    "\n",
    "a = [1, 2, {'a': [3, 4]}]\n",
    "b = copy.copy(a)\n",
    "a[-1]['a'][-1] = 0\n",
    "print(f'{a}    {b}')\n",
    "\n",
    "# 1) [1, 2, {'a': [3, 4]}]    [1, 2, {'a': [3, 4]}]\n",
    "# 2) [1, 2, {'a': [3, 0]}]    [1, 2, {'a': [3, 4]}]\n",
    "# 3) [1, 2, {'a': [3, 4]}]    [1, 2, {'a': [3, 0]}]\n",
    "# 4) [1, 2, {'a': [3, 0]}]    [1, 2, {'a': [3, 0]}]\n",
    "# 5) Exception\n",
    "# 6) 以上皆非"
   ]
  },
  {
   "cell_type": "code",
   "execution_count": 24,
   "metadata": {},
   "outputs": [
    {
     "name": "stdout",
     "output_type": "stream",
     "text": [
      "[1, 2, {'a': [3, 0]}]    [1, 2, {'a': [3, 4]}]\n"
     ]
    }
   ],
   "source": [
    "# Q. deep copy\n",
    "import copy\n",
    "\n",
    "a = [1, 2, {'a': [3, 4]}]\n",
    "b = copy.deepcopy(a)\n",
    "a[-1]['a'][-1] = 0\n",
    "print(f'{a}    {b}')\n",
    "\n",
    "# 1) [1, 2, {'a': [3, 4]}]    [1, 2, {'a': [3, 4]}]\n",
    "# 2) [1, 2, {'a': [3, 0]}]    [1, 2, {'a': [3, 4]}]\n",
    "# 3) [1, 2, {'a': [3, 4]}]    [1, 2, {'a': [3, 0]}]\n",
    "# 4) [1, 2, {'a': [3, 0]}]    [1, 2, {'a': [3, 0]}]\n",
    "# 5) Exception\n",
    "# 6) 以上皆非"
   ]
  },
  {
   "cell_type": "code",
   "execution_count": null,
   "metadata": {},
   "outputs": [],
   "source": [
    "# Q. in operator\n",
    "day = 'Friday'\n",
    "print('Fri' in day)\n",
    "\n",
    "# 1) 'Fri' in day\n",
    "# 2) 'Friday' in day\n",
    "# 3) 'Fri'\n",
    "# 4) True\n",
    "# 5) False\n",
    "# 6) 以上皆非"
   ]
  },
  {
   "cell_type": "code",
   "execution_count": null,
   "metadata": {},
   "outputs": [],
   "source": [
    "# Q.\n",
    "\n",
    "# 1)\n",
    "# 2)\n",
    "# 3)\n",
    "# 4)\n",
    "# 5) Exception\n",
    "# 6) 以上皆非"
   ]
  },
  {
   "cell_type": "code",
   "execution_count": null,
   "metadata": {},
   "outputs": [],
   "source": [
    "# Q.\n",
    "\n",
    "# 1)\n",
    "# 2)\n",
    "# 3)\n",
    "# 4)\n",
    "# 5) Exception\n",
    "# 6) 以上皆非"
   ]
  },
  {
   "cell_type": "code",
   "execution_count": null,
   "metadata": {},
   "outputs": [],
   "source": [
    "# Q.\n",
    "def foo(x, d={}):\n",
    "    d[x] = d\n",
    "    return d\n",
    "\n",
    "print(foo('name'))\n",
    "\n",
    "# 1) {'x': {d}}\n",
    "# 2) {'d': {x}}\n",
    "# 3) {'name': {}}\n",
    "# 4) {}\n",
    "# 5) Exception\n",
    "# 6) 以上皆非"
   ]
  },
  {
   "cell_type": "code",
   "execution_count": null,
   "metadata": {},
   "outputs": [],
   "source": [
    "# Q.\n",
    "\n",
    "# 1)\n",
    "# 2)\n",
    "# 3)\n",
    "# 4)\n",
    "# 5) Exception\n",
    "# 6) 以上皆非"
   ]
  },
  {
   "cell_type": "code",
   "execution_count": null,
   "metadata": {},
   "outputs": [],
   "source": [
    "# Q.\n",
    "\n",
    "# 1)\n",
    "# 2)\n",
    "# 3)\n",
    "# 4)\n",
    "# 5) Exception\n",
    "# 6) 以上皆非"
   ]
  },
  {
   "cell_type": "code",
   "execution_count": null,
   "metadata": {},
   "outputs": [],
   "source": [
    "# Q.\n",
    "\n",
    "# 1)\n",
    "# 2)\n",
    "# 3)\n",
    "# 4)\n",
    "# 5) Exception\n",
    "# 6) 以上皆非"
   ]
  },
  {
   "cell_type": "code",
   "execution_count": null,
   "metadata": {},
   "outputs": [],
   "source": [
    "# Q.\n",
    "\n",
    "# 1)\n",
    "# 2)\n",
    "# 3)\n",
    "# 4)\n",
    "# 5) Exception\n",
    "# 6) 以上皆非"
   ]
  },
  {
   "cell_type": "code",
   "execution_count": null,
   "metadata": {},
   "outputs": [],
   "source": [
    "# Q.\n",
    "\n",
    "# 1)\n",
    "# 2)\n",
    "# 3)\n",
    "# 4)\n",
    "# 5) Exception\n",
    "# 6) 以上皆非"
   ]
  },
  {
   "cell_type": "code",
   "execution_count": null,
   "metadata": {},
   "outputs": [],
   "source": [
    "# Q.\n",
    "\n",
    "# 1)\n",
    "# 2)\n",
    "# 3)\n",
    "# 4)\n",
    "# 5) Exception\n",
    "# 6) 以上皆非"
   ]
  },
  {
   "cell_type": "code",
   "execution_count": null,
   "metadata": {},
   "outputs": [],
   "source": [
    "# Q.\n",
    "\n",
    "# 1)\n",
    "# 2)\n",
    "# 3)\n",
    "# 4)\n",
    "# 5) Exception\n",
    "# 6) 以上皆非"
   ]
  },
  {
   "cell_type": "code",
   "execution_count": null,
   "metadata": {},
   "outputs": [],
   "source": [
    "# Q.\n",
    "\n",
    "# 1)\n",
    "# 2)\n",
    "# 3)\n",
    "# 4)\n",
    "# 5) Exception\n",
    "# 6) 以上皆非"
   ]
  },
  {
   "cell_type": "code",
   "execution_count": null,
   "metadata": {},
   "outputs": [],
   "source": [
    "# Q.\n",
    "\n",
    "# 1)\n",
    "# 2)\n",
    "# 3)\n",
    "# 4)\n",
    "# 5) Exception\n",
    "# 6) 以上皆非"
   ]
  },
  {
   "cell_type": "code",
   "execution_count": null,
   "metadata": {},
   "outputs": [],
   "source": [
    "# Q.\n",
    "\n",
    "# 1)\n",
    "# 2)\n",
    "# 3)\n",
    "# 4)\n",
    "# 5) Exception\n",
    "# 6) 以上皆非"
   ]
  },
  {
   "cell_type": "code",
   "execution_count": null,
   "metadata": {},
   "outputs": [],
   "source": [
    "# Q.\n",
    "\n",
    "# 1)\n",
    "# 2)\n",
    "# 3)\n",
    "# 4)\n",
    "# 5) Exception\n",
    "# 6) 以上皆非"
   ]
  },
  {
   "cell_type": "code",
   "execution_count": null,
   "metadata": {},
   "outputs": [],
   "source": [
    "# Q.\n",
    "\n",
    "# 1)\n",
    "# 2)\n",
    "# 3)\n",
    "# 4)\n",
    "# 5) Exception\n",
    "# 6) 以上皆非"
   ]
  },
  {
   "cell_type": "code",
   "execution_count": null,
   "metadata": {},
   "outputs": [],
   "source": [
    "# Q.\n",
    "\n",
    "# 1)\n",
    "# 2)\n",
    "# 3)\n",
    "# 4)\n",
    "# 5) Exception\n",
    "# 6) 以上皆非"
   ]
  },
  {
   "cell_type": "code",
   "execution_count": null,
   "metadata": {},
   "outputs": [],
   "source": [
    "# Q.\n",
    "\n",
    "# 1)\n",
    "# 2)\n",
    "# 3)\n",
    "# 4)\n",
    "# 5) Exception\n",
    "# 6) 以上皆非"
   ]
  },
  {
   "cell_type": "code",
   "execution_count": null,
   "metadata": {},
   "outputs": [],
   "source": [
    "# Q.\n",
    "\n",
    "# 1)\n",
    "# 2)\n",
    "# 3)\n",
    "# 4)\n",
    "# 5) Exception\n",
    "# 6) 以上皆非"
   ]
  },
  {
   "cell_type": "code",
   "execution_count": null,
   "metadata": {},
   "outputs": [],
   "source": [
    "# Q.\n",
    "\n",
    "# 1)\n",
    "# 2)\n",
    "# 3)\n",
    "# 4)\n",
    "# 5) Exception\n",
    "# 6) 以上皆非"
   ]
  },
  {
   "cell_type": "code",
   "execution_count": null,
   "metadata": {},
   "outputs": [],
   "source": [
    "# Q.\n",
    "\n",
    "# 1)\n",
    "# 2)\n",
    "# 3)\n",
    "# 4)\n",
    "# 5) Exception\n",
    "# 6) 以上皆非"
   ]
  },
  {
   "cell_type": "code",
   "execution_count": null,
   "metadata": {},
   "outputs": [],
   "source": [
    "# Q.\n",
    "\n",
    "# 1)\n",
    "# 2)\n",
    "# 3)\n",
    "# 4)\n",
    "# 5) Exception\n",
    "# 6) 以上皆非"
   ]
  },
  {
   "cell_type": "code",
   "execution_count": null,
   "metadata": {},
   "outputs": [],
   "source": [
    "# Q.\n",
    "\n",
    "# 1)\n",
    "# 2)\n",
    "# 3)\n",
    "# 4)\n",
    "# 5) Exception\n",
    "# 6) 以上皆非"
   ]
  },
  {
   "cell_type": "code",
   "execution_count": null,
   "metadata": {},
   "outputs": [],
   "source": [
    "# Q.\n",
    "\n",
    "# 1)\n",
    "# 2)\n",
    "# 3)\n",
    "# 4)\n",
    "# 5) Exception\n",
    "# 6) 以上皆非"
   ]
  },
  {
   "cell_type": "code",
   "execution_count": null,
   "metadata": {},
   "outputs": [],
   "source": [
    "# Q.\n",
    "\n",
    "# 1)\n",
    "# 2)\n",
    "# 3)\n",
    "# 4)\n",
    "# 5) Exception\n",
    "# 6) 以上皆非"
   ]
  },
  {
   "cell_type": "code",
   "execution_count": null,
   "metadata": {},
   "outputs": [],
   "source": [
    "# Q.\n",
    "\n",
    "# 1)\n",
    "# 2)\n",
    "# 3)\n",
    "# 4)\n",
    "# 5) Exception\n",
    "# 6) 以上皆非"
   ]
  },
  {
   "cell_type": "code",
   "execution_count": null,
   "metadata": {},
   "outputs": [],
   "source": [
    "# Q.\n",
    "\n",
    "# 1)\n",
    "# 2)\n",
    "# 3)\n",
    "# 4)\n",
    "# 5) Exception\n",
    "# 6) 以上皆非"
   ]
  },
  {
   "cell_type": "code",
   "execution_count": null,
   "metadata": {},
   "outputs": [],
   "source": [
    "# Q.\n",
    "\n",
    "# 1)\n",
    "# 2)\n",
    "# 3)\n",
    "# 4)\n",
    "# 5) Exception\n",
    "# 6) 以上皆非"
   ]
  },
  {
   "cell_type": "code",
   "execution_count": null,
   "metadata": {},
   "outputs": [],
   "source": [
    "# Q.\n",
    "\n",
    "# 1)\n",
    "# 2)\n",
    "# 3)\n",
    "# 4)\n",
    "# 5) Exception\n",
    "# 6) 以上皆非"
   ]
  },
  {
   "cell_type": "code",
   "execution_count": null,
   "metadata": {},
   "outputs": [],
   "source": [
    "# Q.\n",
    "\n",
    "# 1)\n",
    "# 2)\n",
    "# 3)\n",
    "# 4)\n",
    "# 5) Exception\n",
    "# 6) 以上皆非"
   ]
  },
  {
   "cell_type": "code",
   "execution_count": null,
   "metadata": {},
   "outputs": [],
   "source": [
    "# Q.\n",
    "\n",
    "# 1)\n",
    "# 2)\n",
    "# 3)\n",
    "# 4)\n",
    "# 5) Exception\n",
    "# 6) 以上皆非"
   ]
  },
  {
   "cell_type": "code",
   "execution_count": null,
   "metadata": {},
   "outputs": [],
   "source": [
    "# Q.\n",
    "\n",
    "# 1)\n",
    "# 2)\n",
    "# 3)\n",
    "# 4)\n",
    "# 5) Exception\n",
    "# 6) 以上皆非"
   ]
  },
  {
   "cell_type": "code",
   "execution_count": null,
   "metadata": {},
   "outputs": [],
   "source": [
    "# Q.\n",
    "\n",
    "# 1)\n",
    "# 2)\n",
    "# 3)\n",
    "# 4)\n",
    "# 5) Exception\n",
    "# 6) 以上皆非"
   ]
  },
  {
   "cell_type": "code",
   "execution_count": null,
   "metadata": {},
   "outputs": [],
   "source": [
    "# Q.\n",
    "\n",
    "# 1)\n",
    "# 2)\n",
    "# 3)\n",
    "# 4)\n",
    "# 5) Exception\n",
    "# 6) 以上皆非"
   ]
  },
  {
   "cell_type": "code",
   "execution_count": null,
   "metadata": {},
   "outputs": [],
   "source": [
    "# Q.\n",
    "\n",
    "# 1)\n",
    "# 2)\n",
    "# 3)\n",
    "# 4)\n",
    "# 5) Exception\n",
    "# 6) 以上皆非"
   ]
  },
  {
   "cell_type": "code",
   "execution_count": null,
   "metadata": {},
   "outputs": [],
   "source": [
    "# Q.\n",
    "\n",
    "# 1)\n",
    "# 2)\n",
    "# 3)\n",
    "# 4)\n",
    "# 5) Exception\n",
    "# 6) 以上皆非"
   ]
  },
  {
   "cell_type": "code",
   "execution_count": null,
   "metadata": {},
   "outputs": [],
   "source": [
    "# Q.\n",
    "\n",
    "# 1)\n",
    "# 2)\n",
    "# 3)\n",
    "# 4)\n",
    "# 5) Exception\n",
    "# 6) 以上皆非"
   ]
  },
  {
   "cell_type": "code",
   "execution_count": null,
   "metadata": {},
   "outputs": [],
   "source": [
    "# Q.\n",
    "\n",
    "# 1)\n",
    "# 2)\n",
    "# 3)\n",
    "# 4)\n",
    "# 5) Exception\n",
    "# 6) 以上皆非"
   ]
  },
  {
   "cell_type": "code",
   "execution_count": null,
   "metadata": {},
   "outputs": [],
   "source": [
    "# Q.\n",
    "\n",
    "# 1)\n",
    "# 2)\n",
    "# 3)\n",
    "# 4)\n",
    "# 5) Exception\n",
    "# 6) 以上皆非"
   ]
  }
 ],
 "metadata": {
  "kernelspec": {
   "display_name": "Python 3",
   "language": "python",
   "name": "python3"
  },
  "language_info": {
   "codemirror_mode": {
    "name": "ipython",
    "version": 3
   },
   "file_extension": ".py",
   "mimetype": "text/x-python",
   "name": "python",
   "nbconvert_exporter": "python",
   "pygments_lexer": "ipython3",
   "version": "3.12.2"
  }
 },
 "nbformat": 4,
 "nbformat_minor": 2
}
