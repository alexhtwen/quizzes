{
 "cells": [
  {
   "cell_type": "markdown",
   "metadata": {},
   "source": [
    "<div style=\"font-family: 'Gen Jyuu Gothic Monospace Medium', 'Noto Sans TC', 'Inconsolata'; font-size: 600%; font-weight: 700; text-align: center; color: #BFD8AF;\">\n",
    "Quizzes\n",
    "</div>\n",
    "<br><br><br>\n",
    "<div style=\"font-family: 'Ubuntu Mono', 'Noto Sans TC', 'Inconsolata'; font-size: 300%; font-weight: 900; text-align: center; color: #FFFDCB;\">\n",
    "Solving Syntax Puzzles\n",
    "</div>\n",
    "<br><br>"
   ]
  },
  {
   "cell_type": "code",
   "execution_count": null,
   "metadata": {},
   "outputs": [],
   "source": [
    "%%javascript\n",
    "// 設定output文字顏色\n",
    "document.styleSheets[0].addRule('body', 'color: #BFD8AF !important;')"
   ]
  },
  {
   "cell_type": "code",
   "execution_count": null,
   "metadata": {},
   "outputs": [],
   "source": [
    "print('Hello, world!')"
   ]
  },
  {
   "cell_type": "code",
   "execution_count": null,
   "metadata": {},
   "outputs": [],
   "source": [
    "# Q: * operator\n",
    "my_tuple = (1, 2, 3)\n",
    "x, y, z, *rest = my_tuple\n",
    "print(x, y, z, rest)\n",
    "\n",
    "# 1) 1 2 3\n",
    "# 2) 1 2 3 None\n",
    "# 3) 1 2 3 []\n",
    "# 4) []\n",
    "# 5) Exception\n",
    "# 6) 以上皆非"
   ]
  },
  {
   "cell_type": "code",
   "execution_count": null,
   "metadata": {},
   "outputs": [],
   "source": [
    "# Q. str.find()\n",
    "sentence = 'Pythonista.'\n",
    "index = sentence.find('t', -1)\n",
    "print(index)\n",
    "\n",
    "# 1) -3\n",
    "# 2) -1\n",
    "# 3) 2\n",
    "# 4) 3\n",
    "# 5) 8\n",
    "# 6) Exception"
   ]
  },
  {
   "cell_type": "code",
   "execution_count": null,
   "metadata": {},
   "outputs": [],
   "source": [
    "# Q. inner function and nonlocal-1\n",
    "def outer():\n",
    "    x = 10\n",
    "    def inner():\n",
    "        nonlocal x\n",
    "        x += 5\n",
    "        print(f'inner: {x=}', end='\\t')\n",
    "    inner()\n",
    "    print(f'outer: {x=}')\n",
    "\n",
    "outer()\n",
    "\n",
    "# 1) inner: x=10    outer: x=10\n",
    "# 2) inner: x=15    outer: x=15\n",
    "# 3) inner: x=10    outer: x=15\n",
    "# 4) inner: x=15    outer: x=10\n",
    "# 5) Exception\n",
    "# 6) 以上皆非"
   ]
  },
  {
   "cell_type": "code",
   "execution_count": null,
   "metadata": {},
   "outputs": [],
   "source": [
    "# Q. inner function and nonlocal-2\n",
    "def outer(x: int) -> int:\n",
    "    def inner():\n",
    "        nonlocal x\n",
    "        x -= 5\n",
    "        return x\n",
    "    print(f'{inner()=}', end='\\t')\n",
    "    return x\n",
    "\n",
    "print(f'{outer(15)=}')\n",
    "\n",
    "# 1) inner()=10     outer(10)=10\n",
    "# 2) inner()=15     outer(10)=15\n",
    "# 3) inner()=10     outer(10)=15\n",
    "# 4) inner()=15     outer(10)=10\n",
    "# 5) Exception\n",
    "# 6) 以上皆非"
   ]
  },
  {
   "cell_type": "code",
   "execution_count": null,
   "metadata": {},
   "outputs": [],
   "source": [
    "# Q. logical `and/or` and walrus operator-1\n",
    "score = 59\n",
    "if True and (score = score + 1):\n",
    "# if False and (score = score + 1):\n",
    "# if True or (score = score + 1):\n",
    "# if False or (score = score + 1):\n",
    "    score += 1\n",
    "print(score)\n",
    "\n",
    "# 1) 59\n",
    "# 2) 60\n",
    "# 3) 61\n",
    "# 4) 0\n",
    "# 5) 1\n",
    "# 6) Exception"
   ]
  },
  {
   "cell_type": "code",
   "execution_count": null,
   "metadata": {},
   "outputs": [],
   "source": [
    "# Q. logical `and/or` and walrus operator-2\n",
    "score = 59\n",
    "if True and (score += 1):\n",
    "# if False and (score += 1):\n",
    "# if True or (score += 1):\n",
    "# if False or (score += 1):\n",
    "    score += 1\n",
    "print(score)\n",
    "\n",
    "# 1) 59\n",
    "# 2) 60\n",
    "# 3) 61\n",
    "# 4) 0\n",
    "# 5) 1\n",
    "# 6) Exception"
   ]
  },
  {
   "cell_type": "code",
   "execution_count": null,
   "metadata": {},
   "outputs": [],
   "source": [
    "# Q. logical `and/or` and walrus operator-3\n",
    "score = 59\n",
    "if True and (score = 0):\n",
    "# if False and (score = 0):\n",
    "# if True or (score = 0):\n",
    "# if False or (score = 0):\n",
    "    score += 1\n",
    "print(score)\n",
    "\n",
    "# 1) 59\n",
    "# 2) 60\n",
    "# 3) 61\n",
    "# 4) 0\n",
    "# 5) 1\n",
    "# 6) Exception"
   ]
  },
  {
   "cell_type": "code",
   "execution_count": null,
   "metadata": {},
   "outputs": [],
   "source": [
    "# Q. logical `and/or` and walrus operator-4\n",
    "score = 59\n",
    "if True and (score := score + 1):\n",
    "# if False and (score := score + 1):\n",
    "# if True or (score := score + 1):\n",
    "# if False or (score := score + 1):\n",
    "    score += 1\n",
    "print(score)\n",
    "\n",
    "# 1) 59\n",
    "# 2) 60\n",
    "# 3) 61\n",
    "# 4) 0\n",
    "# 5) 1\n",
    "# 6) Exception"
   ]
  },
  {
   "cell_type": "code",
   "execution_count": null,
   "metadata": {},
   "outputs": [],
   "source": [
    "# Q. logical `and/or` and walrus operator-5\n",
    "score = 59\n",
    "if True and (score := 0):\n",
    "# if False and (score := 0):\n",
    "# if True or (score := 0):\n",
    "# if False or (score := 0):\n",
    "    score += 1\n",
    "print(score)\n",
    "\n",
    "# 1) 59\n",
    "# 2) 60\n",
    "# 3) 61\n",
    "# 4) 0\n",
    "# 5) 1\n",
    "# 6) Exception"
   ]
  },
  {
   "cell_type": "code",
   "execution_count": null,
   "metadata": {},
   "outputs": [],
   "source": [
    "# Q. logical `and/or` and walrus operator-6\n",
    "score = 59\n",
    "if (score := score + 1) and True:\n",
    "# if (score := score + 1) and False:\n",
    "# if (score := score + 1) or True:\n",
    "# if (score := score + 1) or False:\n",
    "    score += 1\n",
    "print(score)\n",
    "\n",
    "# 1) 59\n",
    "# 2) 60\n",
    "# 3) 61\n",
    "# 4) 0\n",
    "# 5) 1\n",
    "# 6) Exception"
   ]
  },
  {
   "cell_type": "code",
   "execution_count": null,
   "metadata": {},
   "outputs": [],
   "source": [
    "# Q. logical `and/or` and walrus operator-7\n",
    "score = 59\n",
    "if (score := 0) and True:\n",
    "# if (score := 0) and False:\n",
    "# if (score := 0) or True:\n",
    "# if (score := 0) or False:\n",
    "    score += 1\n",
    "print(score)\n",
    "\n",
    "# 1) 59\n",
    "# 2) 60\n",
    "# 3) 61\n",
    "# 4) 0\n",
    "# 5) 1\n",
    "# 6) Exception"
   ]
  },
  {
   "cell_type": "code",
   "execution_count": null,
   "metadata": {},
   "outputs": [],
   "source": [
    "# Q. multiply an empty tuple\n",
    "print(()*3)\n",
    "\n",
    "# 1) ()()()\n",
    "# 2) (()()())\n",
    "# 3) (()())\n",
    "# 4) ()\n",
    "# 5) ((()))\n",
    "# 6) Exception"
   ]
  },
  {
   "cell_type": "code",
   "execution_count": null,
   "metadata": {},
   "outputs": [],
   "source": [
    "# Q. an empty list as default parameter\n",
    "def foo(x, y=[]):\n",
    "    y.append(x)\n",
    "    return y\n",
    "\n",
    "print(f'{foo('Alex')}   {foo('Van')}')\n",
    "\n",
    "# 1) ['Alex'   'Van']\n",
    "# 2) 'Alex   Van'\n",
    "# 3) ['Alex']   ['Alex', 'Van']\n",
    "# 4) 'Alex'   'AlexVan'\n",
    "# 5) ['Alex']   ['Van']\n",
    "# 6) 'Alex'   'Van'"
   ]
  },
  {
   "cell_type": "code",
   "execution_count": null,
   "metadata": {},
   "outputs": [],
   "source": [
    "# Q. string interning\n",
    "a = 'Alex'\n",
    "b = 'Alex'\n",
    "print(f'{(a == b) = }\\t\\t{(a is b) = }')\n",
    "\n",
    "# 1) (a == b) = True        (a is b) = True\n",
    "# 2) (a == b) = True        (a is b) = False\n",
    "# 3) (a == b) = False       (a is b) = True\n",
    "# 4) (a == b) = False       (a is b) = False\n",
    "# 5) Exception\n",
    "# 6) 以上皆非"
   ]
  },
  {
   "cell_type": "code",
   "execution_count": null,
   "metadata": {},
   "outputs": [],
   "source": [
    "# Q. tuple interning?\n",
    "a = ('Alex', )\n",
    "b = ('Alex', )\n",
    "print(f'{(a == b) = }\\t\\t{(a is b) = }')\n",
    "\n",
    "# 1) (a == b) = True        (a is b) = True\n",
    "# 2) (a == b) = True        (a is b) = False\n",
    "# 3) (a == b) = False       (a is b) = True\n",
    "# 4) (a == b) = False       (a is b) = False\n",
    "# 5) Exception\n",
    "# 6) 以上皆非"
   ]
  },
  {
   "cell_type": "code",
   "execution_count": null,
   "metadata": {},
   "outputs": [],
   "source": [
    "# Q. logical and/or + comparison\n",
    "a = -1 and 0\n",
    "b = -1 or 0\n",
    "if a > b:\n",
    "    print('a > b')\n",
    "else:\n",
    "    print('a <= b')\n",
    "\n",
    "# 1) a > b\n",
    "# 2) a >= b\n",
    "# 3) a < b\n",
    "# 4) a <= b\n",
    "# 5) a == b\n",
    "# 6) a != b\n"
   ]
  },
  {
   "cell_type": "code",
   "execution_count": null,
   "metadata": {},
   "outputs": [],
   "source": [
    "# Q. comparison of tuples-1\n",
    "tuple1 = (1, 2, 3, 4)\n",
    "tuple2 = (1, 2, 4)\n",
    "print(tuple2 > tuple1)\n",
    "\n",
    "# 1) True\n",
    "# 2) False\n",
    "# 3) 4\n",
    "# 4) None\n",
    "# 5) Exception\n",
    "# 6) 以上皆非"
   ]
  },
  {
   "cell_type": "code",
   "execution_count": null,
   "metadata": {},
   "outputs": [],
   "source": [
    "# Q. comparison of tuples-2\n",
    "tuple1 = (1, 4, 3, 2)\n",
    "tuple2 = (1, 2)\n",
    "print(tuple2 > tuple1)\n",
    "\n",
    "# 1) True\n",
    "# 2) False\n",
    "# 3) 3\n",
    "# 4) None\n",
    "# 5) Exception\n",
    "# 6) 以上皆非"
   ]
  },
  {
   "cell_type": "code",
   "execution_count": null,
   "metadata": {},
   "outputs": [],
   "source": [
    "# Q. comparison of tuples-3\n",
    "tuple1 = (3, 2, 1)\n",
    "tuple2 = (1)\n",
    "print(tuple2 > tuple1)\n",
    "\n",
    "# 1) True\n",
    "# 2) False\n",
    "# 3) 3\n",
    "# 4) None\n",
    "# 5) Exception\n",
    "# 6) 以上皆非"
   ]
  },
  {
   "cell_type": "code",
   "execution_count": null,
   "metadata": {},
   "outputs": [],
   "source": [
    "# Q. access of dict element-1\n",
    "d = {'name': 'Alex', 'gender': 'M', 'age': 39}\n",
    "print(d['height'])\n",
    "\n",
    "# 1) 169\n",
    "# 2) False\n",
    "# 3) True\n",
    "# 4) None\n",
    "# 5) Exception\n",
    "# 6) 以上皆非"
   ]
  },
  {
   "cell_type": "code",
   "execution_count": null,
   "metadata": {},
   "outputs": [],
   "source": [
    "# Q. access of dict element-2\n",
    "d = {'name': 'Alex', 'gender': 'M', 'age': 39}\n",
    "print(d.get('height'))\n",
    "\n",
    "# 1) 169\n",
    "# 2) False\n",
    "# 3) True\n",
    "# 4) None\n",
    "# 5) Exception\n",
    "# 6) 以上皆非"
   ]
  },
  {
   "cell_type": "code",
   "execution_count": null,
   "metadata": {},
   "outputs": [],
   "source": [
    "# Q. del and slice\n",
    "signs = ['鼠', '牛', '虎', '兔', '龍', '蛇', '馬', '羊', '猴', '雞', '狗', '豬']\n",
    "del(signs[4:8])\n",
    "print(signs)\n",
    "\n",
    "# 1) ['兔', '龍', '蛇', '馬', '羊']\n",
    "# 2) [龍', '蛇', '馬', '羊', '猴']\n",
    "# 3) ['龍', '蛇', '馬', '羊']\n",
    "# 4) ['兔', '龍', '蛇', '馬']\n",
    "# 5) Exception\n",
    "# 6) 以上皆非"
   ]
  },
  {
   "cell_type": "code",
   "execution_count": null,
   "metadata": {},
   "outputs": [],
   "source": [
    "# Q. escape sequence\n",
    "x = '2\\\\t4'\n",
    "print(x)\n",
    "\n",
    "# 1) 2    4\n",
    "# 2) 2\\t4\n",
    "# 3) 2\\\\t4\n",
    "# 4) 2    t    4\n",
    "# 5) 2t4\n",
    "# 6) 2\\    4"
   ]
  },
  {
   "cell_type": "code",
   "execution_count": null,
   "metadata": {},
   "outputs": [],
   "source": [
    "# Q. list assignment\n",
    "a = [1, 2, 3, 4]\n",
    "b = a\n",
    "a[-1] = 0\n",
    "print(f'{a}    {b}')\n",
    "\n",
    "# 1) [1, 2, 3, 4]    [1, 2, 3, 4]\n",
    "# 2) [1, 2, 3, 0]    [1, 2, 3, 4]\n",
    "# 3) [1, 2, 3, 4]    [1, 2, 3, 0]\n",
    "# 4) [1, 2, 3, 0]    [1, 2, 3, 0]\n",
    "# 5) Exception\n",
    "# 6) 以上皆非"
   ]
  },
  {
   "cell_type": "code",
   "execution_count": null,
   "metadata": {},
   "outputs": [],
   "source": [
    "# Q. list.copy()-1\n",
    "a = [1, 2, 3, 4]\n",
    "b = a.copy()\n",
    "a[-1] = 0\n",
    "print(f'{a}    {b}')\n",
    "\n",
    "# 1) [1, 2, 3, 4]    [1, 2, 3, 4]\n",
    "# 2) [1, 2, 3, 0]    [1, 2, 3, 4]\n",
    "# 3) [1, 2, 3, 4]    [1, 2, 3, 0]\n",
    "# 4) [1, 2, 3, 0]    [1, 2, 3, 0]\n",
    "# 5) Exception\n",
    "# 6) 以上皆非"
   ]
  },
  {
   "cell_type": "code",
   "execution_count": null,
   "metadata": {},
   "outputs": [],
   "source": [
    "# Q. list.copy()-2\n",
    "a = [1, 2, 3, [4]]\n",
    "b = a.copy()\n",
    "a[-1] = [0]\n",
    "print(f'{a}    {b}')\n",
    "\n",
    "# 1) [1, 2, 3, 4]    [1, 2, 3, 4]\n",
    "# 2) [1, 2, 3, 0]    [1, 2, 3, 4]\n",
    "# 3) [1, 2, 3, 4]    [1, 2, 3, 0]\n",
    "# 4) [1, 2, 3, 0]    [1, 2, 3, 0]\n",
    "# 5) Exception\n",
    "# 6) 以上皆非"
   ]
  },
  {
   "cell_type": "code",
   "execution_count": null,
   "metadata": {},
   "outputs": [],
   "source": [
    "# Q. list.copy()-3\n",
    "a = [1, 2, {'a': [3, 4]}]\n",
    "b = a.copy()\n",
    "a[-1]['a'][-1] = 0\n",
    "print(f'{a}    {b}')\n",
    "\n",
    "# 1) [1, 2, {'a': [3, 4]}]    [1, 2, {'a': [3, 4]}]\n",
    "# 2) [1, 2, {'a': [3, 0]}]    [1, 2, {'a': [3, 4]}]\n",
    "# 3) [1, 2, {'a': [3, 4]}]    [1, 2, {'a': [3, 0]}]\n",
    "# 4) [1, 2, {'a': [3, 0]}]    [1, 2, {'a': [3, 0]}]\n",
    "# 5) Exception\n",
    "# 6) 以上皆非"
   ]
  },
  {
   "cell_type": "code",
   "execution_count": null,
   "metadata": {},
   "outputs": [],
   "source": [
    "# Q. shallow copy\n",
    "import copy\n",
    "\n",
    "a = [1, 2, {'a': [3, 4]}]\n",
    "b = copy.copy(a)\n",
    "a[-1]['a'][-1] = 0\n",
    "print(f'{a}    {b}')\n",
    "\n",
    "# 1) [1, 2, {'a': [3, 4]}]    [1, 2, {'a': [3, 4]}]\n",
    "# 2) [1, 2, {'a': [3, 0]}]    [1, 2, {'a': [3, 4]}]\n",
    "# 3) [1, 2, {'a': [3, 4]}]    [1, 2, {'a': [3, 0]}]\n",
    "# 4) [1, 2, {'a': [3, 0]}]    [1, 2, {'a': [3, 0]}]\n",
    "# 5) Exception\n",
    "# 6) 以上皆非"
   ]
  },
  {
   "cell_type": "code",
   "execution_count": null,
   "metadata": {},
   "outputs": [],
   "source": [
    "# Q. deep copy\n",
    "import copy\n",
    "\n",
    "a = [1, 2, {'a': [3, 4]}]\n",
    "b = copy.deepcopy(a)\n",
    "a[-1]['a'][-1] = 0\n",
    "print(f'{a}    {b}')\n",
    "\n",
    "# 1) [1, 2, {'a': [3, 4]}]    [1, 2, {'a': [3, 4]}]\n",
    "# 2) [1, 2, {'a': [3, 0]}]    [1, 2, {'a': [3, 4]}]\n",
    "# 3) [1, 2, {'a': [3, 4]}]    [1, 2, {'a': [3, 0]}]\n",
    "# 4) [1, 2, {'a': [3, 0]}]    [1, 2, {'a': [3, 0]}]\n",
    "# 5) Exception\n",
    "# 6) 以上皆非"
   ]
  },
  {
   "cell_type": "code",
   "execution_count": null,
   "metadata": {},
   "outputs": [],
   "source": [
    "# Q. in operator\n",
    "day = 'Friday'\n",
    "print('Fri' in day)\n",
    "\n",
    "# 1) 'Fri' in day\n",
    "# 2) 'Friday' in day\n",
    "# 3) 'Fri'\n",
    "# 4) True\n",
    "# 5) False\n",
    "# 6) 以上皆非"
   ]
  },
  {
   "cell_type": "code",
   "execution_count": null,
   "metadata": {},
   "outputs": [],
   "source": [
    "# Q. list comprehension-1\n",
    "nums = [num**2 for num in [-4, 1, -3, 2]]\n",
    "print(nums)\n",
    "\n",
    "# 1) [-4, 1, -3, 2]\n",
    "# 2) [-8, 2, -6, 4]\n",
    "# 3) [16, 1, 9, 4]\n",
    "# 4) [-16, 1, -9, 4]\n",
    "# 5) Exception\n",
    "# 6) 以上皆非"
   ]
  },
  {
   "cell_type": "code",
   "execution_count": null,
   "metadata": {},
   "outputs": [],
   "source": [
    "# Q. list comprehension-2\n",
    "nums = [num*2 if num % 2 == 0 else num*3 for num in [-4, 1, -3, 2]]\n",
    "print(nums)\n",
    "\n",
    "# 1) [-8, 3, -9, 4]\n",
    "# 2) [-12, 2, -6, 6]\n",
    "# 3) [16, 1, -27, 4]\n",
    "# 4) [-64, 1, 9, 8]\n",
    "# 5) Exception\n",
    "# 6) 以上皆非"
   ]
  },
  {
   "cell_type": "code",
   "execution_count": null,
   "metadata": {},
   "outputs": [],
   "source": [
    "# Q. list comprehension-3\n",
    "nums = [num for num in [-4, 1, -3, 2] if num > 1]\n",
    "print(nums)\n",
    "\n",
    "# 1) [-4, 1, -3, 2]\n",
    "# 2) [1, 2]\n",
    "# 3) [-4, -3]\n",
    "# 4) [1]\n",
    "# 5) Exception\n",
    "# 6) 以上皆非"
   ]
  },
  {
   "cell_type": "code",
   "execution_count": null,
   "metadata": {},
   "outputs": [],
   "source": [
    "# Q. list comprehension-4\n",
    "nums = [n for num in [-4, 1, -3, 2] if (n = num > 0)]\n",
    "print(nums)\n",
    "\n",
    "# 1) [-4, 1, -3, 2]\n",
    "# 2) [1, 2]\n",
    "# 3) [False, True, False, True]\n",
    "# 4) [True, True]\n",
    "# 5) []\n",
    "# 6) Exception"
   ]
  },
  {
   "cell_type": "code",
   "execution_count": null,
   "metadata": {},
   "outputs": [],
   "source": [
    "# Q. list comprehension-5\n",
    "nums = [n for num in [-4, 1, -3, 2] if (n := num > 0)]\n",
    "print(nums)\n",
    "\n",
    "# 1) [-4, 1, -3, 2]\n",
    "# 2) [1, 2]\n",
    "# 3) [False, True, False, True]\n",
    "# 4) [True, True]\n",
    "# 5) []\n",
    "# 6) Exception"
   ]
  },
  {
   "cell_type": "code",
   "execution_count": null,
   "metadata": {},
   "outputs": [],
   "source": [
    "# Q. list comprehension-6\n",
    "nums = [(m := n + num) for num in [-4, 1, -3, 2] if (n := num > 0)]\n",
    "print(f'{nums=}\\t{m=}')\n",
    "\n",
    "# 1) nums=[True, True]    m=True\n",
    "# 2) nums=[False, True, False, True]    m=True\n",
    "# 3) nums=[2, 3]    m=3\n",
    "# 4) nums=[-4, 1, -3, 2]    m=2\n",
    "# 5) nums=[1, 2]    m=2\n",
    "# 6) Exception"
   ]
  },
  {
   "cell_type": "code",
   "execution_count": null,
   "metadata": {},
   "outputs": [],
   "source": [
    "# Q. mutable objects as default parameter values-1\n",
    "def foo(x, d={}):\n",
    "    d[x + 1] = x - 1\n",
    "    return d\n",
    "\n",
    "print(foo(5))\n",
    "\n",
    "# 1) {6: 4}\n",
    "# 2) {4: 6}\n",
    "# 3) {5: 5}\n",
    "# 4) {x + 1: x - 1}\n",
    "# 5) Exception\n",
    "# 6) 以上皆非"
   ]
  },
  {
   "cell_type": "code",
   "execution_count": null,
   "metadata": {},
   "outputs": [],
   "source": [
    "# Q. mutable objects as default parameter values-2\n",
    "def foo(x, d={}):\n",
    "    d[x] = d\n",
    "    return d\n",
    "\n",
    "print(foo('id'))\n",
    "\n",
    "# 1) {'x': {d}}\n",
    "# 2) {'d': {x}}\n",
    "# 3) {'id': {}}\n",
    "# 4) {}\n",
    "# 5) Exception\n",
    "# 6) 以上皆非"
   ]
  },
  {
   "cell_type": "code",
   "execution_count": null,
   "metadata": {},
   "outputs": [],
   "source": [
    "# Q. indexing-1\n",
    "t1 = (1, 3, 5, 7, 9)\n",
    "t2 = t1[-4]\n",
    "print(t2)\n",
    "\n",
    "# 1) 1\n",
    "# 2) 3\n",
    "# 3) 5\n",
    "# 4) 7\n",
    "# 5) 9\n",
    "# 6) Exception"
   ]
  },
  {
   "cell_type": "code",
   "execution_count": null,
   "metadata": {},
   "outputs": [],
   "source": [
    "# Q. indexing-2\n",
    "t1 = (1, 3, 5, 7, 9)\n",
    "t2 = t1[5]\n",
    "print(t2)\n",
    "\n",
    "# 1) 1\n",
    "# 2) 3\n",
    "# 3) 5\n",
    "# 4) 7\n",
    "# 5) 9\n",
    "# 6) Exception"
   ]
  },
  {
   "cell_type": "code",
   "execution_count": null,
   "metadata": {},
   "outputs": [],
   "source": [
    "# Q. slicing-1\n",
    "t1 = (1, 3, 5, 7, 9)\n",
    "t2 = t1[-2::-2]\n",
    "print(t2)\n",
    "\n",
    "# 1) [7, 3]\n",
    "# 2) (3, 5, 7)\n",
    "# 3) [3, 7]\n",
    "# 4) (7, 5, 3)\n",
    "# 5) Exception\n",
    "# 6) 以上皆非"
   ]
  },
  {
   "cell_type": "code",
   "execution_count": null,
   "metadata": {},
   "outputs": [],
   "source": [
    "# Q. slicing-2\n",
    "t1 = (1, 3, 5, 7, 9)\n",
    "t2 = t1[5:]\n",
    "print(t2)\n",
    "\n",
    "# 1) ()\n",
    "# 2) (9)\n",
    "# 3) (5, 7, 9)\n",
    "# 4) (1, 3, 5, 7, 9)\n",
    "# 5) Exception\n",
    "# 6) 以上皆非"
   ]
  },
  {
   "cell_type": "code",
   "execution_count": null,
   "metadata": {},
   "outputs": [],
   "source": [
    "# Q. logical and/or and arithmetic operations\n",
    "a = 5 and 0\n",
    "b = 5 or 0\n",
    "c = 2*a + b\n",
    "print(2*c + a)\n",
    "\n",
    "# 1) 0\n",
    "# 2) 15\n",
    "# 3) 25\n",
    "# 4) 35\n",
    "# 5) Exception\n",
    "# 6) 以上皆非"
   ]
  },
  {
   "cell_type": "code",
   "execution_count": null,
   "metadata": {},
   "outputs": [],
   "source": [
    "# Q. accumulation-1\n",
    "x = 1\n",
    "y = 5\n",
    "while ((sum = x + y) < 10):\n",
    "    x += 1\n",
    "    print((x, y, sum), end=' ')\n",
    "\n",
    "# 1) (1, 5, 6) (2, 5, 7) (3, 5, 8) (4, 5, 9)\n",
    "# 2) (1, 5, 5) (2, 5, 6) (3, 5, 7) (4, 5, 8) (5, 5, 9)\n",
    "# 3) (2, 5, 6) (3, 5, 7) (4, 5, 8) (5, 5, 9)\n",
    "# 4) (2, 5, 5) (3, 5, 6) (4, 5, 7) (5, 5, 8) (6, 5, 9)\n",
    "# 5) Exception\n",
    "# 6) 以上皆非"
   ]
  },
  {
   "cell_type": "code",
   "execution_count": null,
   "metadata": {},
   "outputs": [],
   "source": [
    "# Q. accumulation-2\n",
    "x = 1\n",
    "y = 5\n",
    "while ((sum := x + y) < 10):\n",
    "    x += 1\n",
    "    print((x, y, sum), end=' ')\n",
    "\n",
    "# 1) (1, 5, 6) (2, 5, 7) (3, 5, 8) (4, 5, 9)\n",
    "# 2) (1, 5, 5) (2, 5, 6) (3, 5, 7) (4, 5, 8) (5, 5, 9)\n",
    "# 3) (2, 5, 6) (3, 5, 7) (4, 5, 8) (5, 5, 9)\n",
    "# 4) (2, 5, 5) (3, 5, 6) (4, 5, 7) (5, 5, 8) (6, 5, 9)\n",
    "# 5) Exception\n",
    "# 6) 以上皆非"
   ]
  },
  {
   "cell_type": "code",
   "execution_count": null,
   "metadata": {},
   "outputs": [],
   "source": [
    "# Q. two-dimensional list-1\n",
    "l = [[1, 2], [3, 4]]\n",
    "for a, b in l:\n",
    "    print(a + b, end='\\t')\n",
    "\n",
    "# 2) 1  2\n",
    "# 3) 3  4\n",
    "# 4) 1  3\n",
    "# 6) 2  4\n",
    "# 1) 4  6\n",
    "# 5) 3  7"
   ]
  },
  {
   "cell_type": "code",
   "execution_count": null,
   "metadata": {},
   "outputs": [],
   "source": [
    "# Q. two-dimensional list-2\n",
    "a = ['Alex', 'Van', 'Pythonista']\n",
    "print(a[2][-2])\n",
    "\n",
    "# 1) Alex\n",
    "# 2) Van\n",
    "# 3) Pythonista\n",
    "# 4) e\n",
    "# 5) a\n",
    "# 6) 以上皆非"
   ]
  },
  {
   "cell_type": "code",
   "execution_count": null,
   "metadata": {},
   "outputs": [],
   "source": [
    "# Q. min()/max()\n",
    "print(min(max(False, -2, -4), 3, 5))\n",
    "\n",
    "# 1) False\n",
    "# 2) -2\n",
    "# 3) -4\n",
    "# 4) 3\n",
    "# 5) 5\n",
    "# 6) Exception"
   ]
  },
  {
   "cell_type": "code",
   "execution_count": null,
   "metadata": {},
   "outputs": [],
   "source": [
    "# Q. *args\n",
    "def foo(a, *args, s='$'):\n",
    "    print(a, s, end='  ')\n",
    "    for i in args:\n",
    "        print(i, end=' ')\n",
    "\n",
    "foo(5)\n",
    "\n",
    "# 1) 5 $  0 1 2 3 4\n",
    "# 2) 5 $  5\n",
    "# 3) 5 5\n",
    "# 4) 5 $\n",
    "# 5) Exception\n",
    "# 6) 以上皆非"
   ]
  },
  {
   "cell_type": "code",
   "execution_count": null,
   "metadata": {},
   "outputs": [],
   "source": [
    "# Q. round-1\n",
    "print(round(3.5))\n",
    "\n",
    "# 1) 3\n",
    "# 2) 3.5\n",
    "# 3) 4\n",
    "# 4) 4.0\n",
    "# 5) Exception\n",
    "# 6) 以上皆非"
   ]
  },
  {
   "cell_type": "code",
   "execution_count": null,
   "metadata": {},
   "outputs": [],
   "source": [
    "# Q. round-2\n",
    "print(round(2.5))\n",
    "\n",
    "# 1) 2\n",
    "# 2) 2.5\n",
    "# 3) 3\n",
    "# 4) 3.0\n",
    "# 5) Exception\n",
    "# 6) 以上皆非"
   ]
  },
  {
   "cell_type": "code",
   "execution_count": null,
   "metadata": {},
   "outputs": [],
   "source": [
    "# Q.\n",
    "\n",
    "# 1)\n",
    "# 2)\n",
    "# 3)\n",
    "# 4)\n",
    "# 5) Exception\n",
    "# 6) 以上皆非"
   ]
  },
  {
   "cell_type": "code",
   "execution_count": null,
   "metadata": {},
   "outputs": [],
   "source": [
    "# Q.\n",
    "\n",
    "# 1)\n",
    "# 2)\n",
    "# 3)\n",
    "# 4)\n",
    "# 5) Exception\n",
    "# 6) 以上皆非"
   ]
  },
  {
   "cell_type": "code",
   "execution_count": null,
   "metadata": {},
   "outputs": [],
   "source": [
    "# Q.\n",
    "\n",
    "# 1)\n",
    "# 2)\n",
    "# 3)\n",
    "# 4)\n",
    "# 5) Exception\n",
    "# 6) 以上皆非"
   ]
  },
  {
   "cell_type": "code",
   "execution_count": null,
   "metadata": {},
   "outputs": [],
   "source": [
    "# Q.\n",
    "\n",
    "# 1)\n",
    "# 2)\n",
    "# 3)\n",
    "# 4)\n",
    "# 5) Exception\n",
    "# 6) 以上皆非"
   ]
  },
  {
   "cell_type": "code",
   "execution_count": null,
   "metadata": {},
   "outputs": [],
   "source": [
    "# Q.\n",
    "\n",
    "# 1)\n",
    "# 2)\n",
    "# 3)\n",
    "# 4)\n",
    "# 5) Exception\n",
    "# 6) 以上皆非"
   ]
  },
  {
   "cell_type": "code",
   "execution_count": null,
   "metadata": {},
   "outputs": [],
   "source": [
    "# Q.\n",
    "\n",
    "# 1)\n",
    "# 2)\n",
    "# 3)\n",
    "# 4)\n",
    "# 5) Exception\n",
    "# 6) 以上皆非"
   ]
  },
  {
   "cell_type": "code",
   "execution_count": null,
   "metadata": {},
   "outputs": [],
   "source": [
    "# Q.\n",
    "\n",
    "# 1)\n",
    "# 2)\n",
    "# 3)\n",
    "# 4)\n",
    "# 5) Exception\n",
    "# 6) 以上皆非"
   ]
  },
  {
   "cell_type": "code",
   "execution_count": null,
   "metadata": {},
   "outputs": [],
   "source": [
    "# Q.\n",
    "\n",
    "# 1)\n",
    "# 2)\n",
    "# 3)\n",
    "# 4)\n",
    "# 5) Exception\n",
    "# 6) 以上皆非"
   ]
  },
  {
   "cell_type": "code",
   "execution_count": null,
   "metadata": {},
   "outputs": [],
   "source": [
    "# Q.\n",
    "\n",
    "# 1)\n",
    "# 2)\n",
    "# 3)\n",
    "# 4)\n",
    "# 5) Exception\n",
    "# 6) 以上皆非"
   ]
  },
  {
   "cell_type": "code",
   "execution_count": null,
   "metadata": {},
   "outputs": [],
   "source": [
    "# Q.\n",
    "\n",
    "# 1)\n",
    "# 2)\n",
    "# 3)\n",
    "# 4)\n",
    "# 5) Exception\n",
    "# 6) 以上皆非"
   ]
  },
  {
   "cell_type": "code",
   "execution_count": null,
   "metadata": {},
   "outputs": [],
   "source": [
    "# Q.\n",
    "\n",
    "# 1)\n",
    "# 2)\n",
    "# 3)\n",
    "# 4)\n",
    "# 5) Exception\n",
    "# 6) 以上皆非"
   ]
  },
  {
   "cell_type": "code",
   "execution_count": null,
   "metadata": {},
   "outputs": [],
   "source": [
    "# Q.\n",
    "\n",
    "# 1)\n",
    "# 2)\n",
    "# 3)\n",
    "# 4)\n",
    "# 5) Exception\n",
    "# 6) 以上皆非"
   ]
  },
  {
   "cell_type": "code",
   "execution_count": null,
   "metadata": {},
   "outputs": [],
   "source": [
    "# Q.\n",
    "\n",
    "# 1)\n",
    "# 2)\n",
    "# 3)\n",
    "# 4)\n",
    "# 5) Exception\n",
    "# 6) 以上皆非"
   ]
  },
  {
   "cell_type": "code",
   "execution_count": null,
   "metadata": {},
   "outputs": [],
   "source": [
    "# Q.\n",
    "\n",
    "# 1)\n",
    "# 2)\n",
    "# 3)\n",
    "# 4)\n",
    "# 5) Exception\n",
    "# 6) 以上皆非"
   ]
  },
  {
   "cell_type": "code",
   "execution_count": null,
   "metadata": {},
   "outputs": [],
   "source": [
    "# Q.\n",
    "\n",
    "# 1)\n",
    "# 2)\n",
    "# 3)\n",
    "# 4)\n",
    "# 5) Exception\n",
    "# 6) 以上皆非"
   ]
  },
  {
   "cell_type": "code",
   "execution_count": null,
   "metadata": {},
   "outputs": [],
   "source": [
    "# Q.\n",
    "\n",
    "# 1)\n",
    "# 2)\n",
    "# 3)\n",
    "# 4)\n",
    "# 5) Exception\n",
    "# 6) 以上皆非"
   ]
  },
  {
   "cell_type": "code",
   "execution_count": null,
   "metadata": {},
   "outputs": [],
   "source": [
    "# Q.\n",
    "\n",
    "# 1)\n",
    "# 2)\n",
    "# 3)\n",
    "# 4)\n",
    "# 5) Exception\n",
    "# 6) 以上皆非"
   ]
  },
  {
   "cell_type": "code",
   "execution_count": null,
   "metadata": {},
   "outputs": [],
   "source": [
    "# Q.\n",
    "\n",
    "# 1)\n",
    "# 2)\n",
    "# 3)\n",
    "# 4)\n",
    "# 5) Exception\n",
    "# 6) 以上皆非"
   ]
  },
  {
   "cell_type": "code",
   "execution_count": null,
   "metadata": {},
   "outputs": [],
   "source": [
    "# Q.\n",
    "\n",
    "# 1)\n",
    "# 2)\n",
    "# 3)\n",
    "# 4)\n",
    "# 5) Exception\n",
    "# 6) 以上皆非"
   ]
  },
  {
   "cell_type": "code",
   "execution_count": null,
   "metadata": {},
   "outputs": [],
   "source": [
    "# Q.\n",
    "\n",
    "# 1)\n",
    "# 2)\n",
    "# 3)\n",
    "# 4)\n",
    "# 5) Exception\n",
    "# 6) 以上皆非"
   ]
  },
  {
   "cell_type": "code",
   "execution_count": null,
   "metadata": {},
   "outputs": [],
   "source": [
    "# Q.\n",
    "\n",
    "# 1)\n",
    "# 2)\n",
    "# 3)\n",
    "# 4)\n",
    "# 5) Exception\n",
    "# 6) 以上皆非"
   ]
  },
  {
   "cell_type": "code",
   "execution_count": null,
   "metadata": {},
   "outputs": [],
   "source": [
    "# Q.\n",
    "\n",
    "# 1)\n",
    "# 2)\n",
    "# 3)\n",
    "# 4)\n",
    "# 5) Exception\n",
    "# 6) 以上皆非"
   ]
  },
  {
   "cell_type": "code",
   "execution_count": null,
   "metadata": {},
   "outputs": [],
   "source": [
    "# Q.\n",
    "\n",
    "# 1)\n",
    "# 2)\n",
    "# 3)\n",
    "# 4)\n",
    "# 5) Exception\n",
    "# 6) 以上皆非"
   ]
  },
  {
   "cell_type": "code",
   "execution_count": null,
   "metadata": {},
   "outputs": [],
   "source": [
    "# Q.\n",
    "\n",
    "# 1)\n",
    "# 2)\n",
    "# 3)\n",
    "# 4)\n",
    "# 5) Exception\n",
    "# 6) 以上皆非"
   ]
  }
 ],
 "metadata": {
  "kernelspec": {
   "display_name": "Python 3",
   "language": "python",
   "name": "python3"
  },
  "language_info": {
   "codemirror_mode": {
    "name": "ipython",
    "version": 3
   },
   "file_extension": ".py",
   "mimetype": "text/x-python",
   "name": "python",
   "nbconvert_exporter": "python",
   "pygments_lexer": "ipython3",
   "version": "3.12.2"
  }
 },
 "nbformat": 4,
 "nbformat_minor": 2
}
